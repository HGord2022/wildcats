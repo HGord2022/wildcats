{
 "cells": [
  {
   "cell_type": "code",
   "execution_count": 10,
   "id": "efa90d42-1580-41ac-a4ab-fa7307349adc",
   "metadata": {
    "tags": []
   },
   "outputs": [],
   "source": [
    "import scipy.stats\n",
    "import seaborn as sns\n",
    "import numpy as np\n",
    "import math\n",
    "import matplotlib.pyplot as plt\n",
    "from flowjax.distributions import LogNormal\n",
    "import jax.random as jr"
   ]
  },
  {
   "cell_type": "code",
   "execution_count": 2,
   "id": "5272f686-0de8-4e17-9d0b-3d83098d7a76",
   "metadata": {},
   "outputs": [],
   "source": [
    "#old\n",
    "priors1 = {\n",
    "    \"captive_time\": scipy.stats.lognorm(s=0.7, loc=0, scale=np.exp(3)),\n",
    "    \"div_time\": scipy.stats.lognorm(s=0.7, loc=10000, scale=60000),\n",
    "    \"div_time_dom\": scipy.stats.lognorm(s=0.5, loc=500, scale=3000),\n",
    "    \"div_time_scot\": scipy.stats.lognorm(s=0.3, loc=0, scale=3000),\n",
    "    \"mig_rate_captive\": scipy.stats.lognorm(s=1, loc=0, scale=0.07),\n",
    "    \"mig_rate_scot\": scipy.stats.lognorm(s=1, loc=0, scale=0.07),\n",
    "    \"mig_length_scot\": scipy.stats.lognorm(s=0.7, loc=0, scale=np.exp(3)),\n",
    "    \"pop_size_captive\": scipy.stats.lognorm(s=0.6, loc=0, scale=100),\n",
    "    \"pop_size_domestic_1\": scipy.stats.lognorm(s=1, loc=0, scale=60000),\n",
    "    \"pop_size_lyb_1\": scipy.stats.lognorm(s=1, loc=0, scale=20000),\n",
    "    \"pop_size_lyb_2\": scipy.stats.lognorm(s=1.5, loc=5000, scale=100000),\n",
    "    \"pop_size_scot_1\": scipy.stats.lognorm(s=1, loc=0, scale=4000),\n",
    "    \"pop_size_eu_1\": scipy.stats.lognorm(s=1.3, loc=0, scale=20000),\n",
    "    \"pop_size_eu_2\": scipy.stats.lognorm(s=1, loc=0, scale=60000),\n",
    "    \"mutation_rate\": scipy.stats.lognorm(s=1, loc=0, scale=1e-8),\n",
    "    \"recombination_rate\": scipy.stats.lognorm(s=0.5, loc=0.4e-8, scale=9e-9)\n",
    "}"
   ]
  },
  {
   "cell_type": "code",
   "execution_count": 22,
   "id": "78f27a56-62f7-4653-afe8-9d9bf54dbf49",
   "metadata": {
    "tags": []
   },
   "outputs": [],
   "source": [
    "dist1 = scipy.stats.lognorm(s=0.5, loc=1e-8, scale=5.0e-9)\n",
    "x = dist1.rvs(10000)\n",
    "dist2 = scipy.stats.lognorm(s=0.5, loc=0.4e-8, scale=9e-9)\n",
    "y = dist2.rvs(10000)"
   ]
  },
  {
   "cell_type": "code",
   "execution_count": 23,
   "id": "522193e5-a0cb-4896-b2bf-4ddab189aa1a",
   "metadata": {
    "tags": []
   },
   "outputs": [
    {
     "data": {
      "image/png": "[encoded data removed]",
      "text/plain": [
       "<Figure size 640x480 with 1 Axes>"
      ]
     },
     "metadata": {},
     "output_type": "display_data"
    }
   ],
   "source": [
    "import matplotlib.pyplot as plt\n",
    "plt.hist(x, bins=np.arange(0.1e-8, 3.5e-8, 3e-10), color = \"skyblue\", ec=\"skyblue\",density=True, histtype='step')\n",
    "plt.hist(y, bins=np.arange(0.1e-8, 3.5e-8, 3e-10), color = \"red\", ec=\"red\",density=True, histtype='step')\n",
    "plt.xlim([0.1e-8, 3.5e-8])\n",
    "plt.title(\"div_time (g)\")\n",
    "plt.show()"
   ]
  },
  {
   "cell_type": "code",
   "execution_count": 3,
   "id": "2c56a7fc-d6b5-4b06-88f1-7e67f01303d3",
   "metadata": {},
   "outputs": [],
   "source": [
    "#new\n",
    "priors2 = {\n",
    "    \"captive_time\": LogNormal(loc=0, scale=np.exp(3)),\n",
    "    \"div_time\": LogNormal(loc=10000, scale=60000),\n",
    "    \"div_time_dom\": LogNormal(loc=500, scale=3000),\n",
    "    \"div_time_scot\": LogNormal(loc=0, scale=3000),\n",
    "    \"mig_rate_captive\": LogNormal(loc=0, scale=0.07),\n",
    "    \"mig_rate_scot\": LogNormal(loc=0, scale=0.07),\n",
    "    \"mig_length_scot\": LogNormal(loc=0, scale=np.exp(3)),\n",
    "    \"pop_size_captive\": LogNormal(loc=0, scale=100),\n",
    "    \"pop_size_domestic_1\": LogNormal(loc=0, scale=60000),\n",
    "    \"pop_size_lyb_1\": LogNormal(loc=0, scale=20000),\n",
    "    \"pop_size_lyb_2\": LogNormal(loc=5000, scale=100000),\n",
    "    \"pop_size_scot_1\": LogNormal(loc=0, scale=4000),\n",
    "    \"pop_size_eu_1\": LogNormal(loc=0, scale=20000),\n",
    "    \"pop_size_eu_2\": LogNormal(loc=0, scale=60000),\n",
    "    \"mutation_rate\": LogNormal(loc=0, scale=1e-8),\n",
    "    \"recombination_rate\": LogNormal(loc=0.4e-8, scale=9e-9)\n",
    "}"
   ]
  },
  {
   "cell_type": "code",
   "execution_count": 4,
   "id": "bdcc0b70-979a-4221-986d-1157c6c520af",
   "metadata": {},
   "outputs": [
    {
     "name": "stdout",
     "output_type": "stream",
     "text": [
      "(160000,)\n",
      "(16, 10000)\n"
     ]
    }
   ],
   "source": [
    "theta1 = []\n",
    "for key, prior in priors1.items():\n",
    "    theta1.append(prior.rvs(10000))\n",
    "theta1 = np.concatenate(theta1, axis=0)\n",
    "print(np.shape(theta1))\n",
    "theta1 = np.reshape(theta1, (16,10000))\n",
    "print(np.shape(theta1))"
   ]
  },
  {
   "cell_type": "code",
   "execution_count": 12,
   "id": "a3722333-1bea-4304-9bc9-7b0a486987c1",
   "metadata": {},
   "outputs": [
    {
     "name": "stdout",
     "output_type": "stream",
     "text": [
      "(160000,)\n",
      "(16, 10000)\n"
     ]
    }
   ],
   "source": [
    "key, subkey = jr.split(jr.PRNGKey(2))\n",
    "theta2 = []\n",
    "for key, prior in priors2.items():\n",
    "    theta2.append(prior.sample(subkey,(10000,)))\n",
    "theta2 = np.concatenate(theta2, axis=0)\n",
    "print(np.shape(theta2))\n",
    "theta2 = np.reshape(theta2, (16,10000))\n",
    "print(np.shape(theta2))"
   ]
  },
  {
   "cell_type": "code",
   "execution_count": 14,
   "id": "478cc7ea",
   "metadata": {},
   "outputs": [
    {
     "data": {
      "text/plain": [
       "array([[4.7857706e-02, 6.3659411e+12, 1.7310840e-06, ..., 5.6056865e-04,\n",
       "        4.8305119e+10, 1.8052423e-02],\n",
       "       [          inf,           inf, 0.0000000e+00, ..., 0.0000000e+00,\n",
       "                  inf, 0.0000000e+00],\n",
       "       [9.6218474e+19,           inf, 0.0000000e+00, ..., 0.0000000e+00,\n",
       "                  inf, 0.0000000e+00],\n",
       "       ...,\n",
       "       [0.0000000e+00,           inf, 0.0000000e+00, ..., 0.0000000e+00,\n",
       "                  inf, 0.0000000e+00],\n",
       "       [1.0000000e+00, 1.0000000e+00, 1.0000000e+00, ..., 1.0000000e+00,\n",
       "        1.0000000e+00, 1.0000000e+00],\n",
       "       [1.0000000e+00, 1.0000000e+00, 1.0000000e+00, ..., 1.0000000e+00,\n",
       "        1.0000000e+00, 1.0000000e+00]], dtype=float32)"
      ]
     },
     "execution_count": 14,
     "metadata": {},
     "output_type": "execute_result"
    }
   ],
   "source": [
    "theta2"
   ]
  },
  {
   "cell_type": "code",
   "execution_count": 6,
   "id": "2f489cbf-40eb-467c-a6aa-7cbd5ca360f6",
   "metadata": {},
   "outputs": [],
   "source": [
    "lims = [[0, 100],\n",
    "        [0, 500000],\n",
    "        [500, 11000],\n",
    "        [1000, 6000],\n",
    "        [0, 0.4],\n",
    "        [0, 0.3],\n",
    "        [0, 80],\n",
    "        [0, 500],\n",
    "        [0, 500000],\n",
    "        [0, 100000],\n",
    "        [0, 750000],\n",
    "        [0, 20000],\n",
    "        [0, 100000],\n",
    "        [0, 300000],\n",
    "        [0, 1e-7],\n",
    "        [0.5e-8, 3.5e-8]]\n",
    "\n",
    "bins = [[120,100],\n",
    "        [400,300],\n",
    "        [100,100],\n",
    "        [100,100],\n",
    "        [100,500],\n",
    "        [100,500],\n",
    "        [200,100],\n",
    "        [100,100],\n",
    "        [300,400],\n",
    "        [500,600],\n",
    "        [400,1000],\n",
    "        [500,600],\n",
    "        [500,600],\n",
    "        [300,400],\n",
    "        [200,300],\n",
    "        [100,200]]\n",
    "\n",
    "names = [\"captive_time\",\n",
    "        \"div_time\",\n",
    "        \"div_time_dom\",\n",
    "        \"div_time_scot\",\n",
    "        \"mig_rate_captive\",\n",
    "        \"mig_rate_scot\",\n",
    "        \"mig_length_scot\",\n",
    "        \"pop_size_captive\",\n",
    "        \"pop_size_domestic_1\",\n",
    "        \"pop_size_lyb_1\",\n",
    "        \"pop_size_lyb_2\",\n",
    "        \"pop_size_scot_1\",\n",
    "        \"pop_size_eu_1\",\n",
    "        \"pop_size_eu_2\",\n",
    "        \"mutation_rate\",\n",
    "        \"recombination_rate\"\n",
    "        ]"
   ]
  },
  {
   "cell_type": "code",
   "execution_count": 13,
   "id": "0132048d-c1c3-412f-9367-0d83b4be1d82",
   "metadata": {},
   "outputs": [
    {
     "data": {
      "image/png": "[encoded data removed]",
      "text/plain": [
       "<Figure size 640x480 with 1 Axes>"
      ]
     },
     "metadata": {},
     "output_type": "display_data"
    },
    {
     "ename": "ValueError",
     "evalue": "supplied range of [0.0, inf] is not finite",
     "output_type": "error",
     "traceback": [
      "\u001b[1;31m---------------------------------------------------------------------------\u001b[0m",
      "\u001b[1;31mValueError\u001b[0m                                Traceback (most recent call last)",
      "Cell \u001b[1;32mIn[13], line 6\u001b[0m\n\u001b[0;32m      1\u001b[0m \u001b[38;5;28;01mfor\u001b[39;00m num \u001b[38;5;129;01min\u001b[39;00m \u001b[38;5;28mrange\u001b[39m(\u001b[38;5;241m0\u001b[39m,\u001b[38;5;241m16\u001b[39m):  \n\u001b[0;32m      2\u001b[0m     plt\u001b[38;5;241m.\u001b[39mhist(theta1[num][:],\n\u001b[0;32m      3\u001b[0m              alpha\u001b[38;5;241m=\u001b[39m\u001b[38;5;241m0.5\u001b[39m,\n\u001b[0;32m      4\u001b[0m              label\u001b[38;5;241m=\u001b[39m\u001b[38;5;124m'\u001b[39m\u001b[38;5;124moriginal prior\u001b[39m\u001b[38;5;124m'\u001b[39m, bins\u001b[38;5;241m=\u001b[39mbins[num][\u001b[38;5;241m0\u001b[39m], density\u001b[38;5;241m=\u001b[39m\u001b[38;5;28;01mTrue\u001b[39;00m, histtype\u001b[38;5;241m=\u001b[39m\u001b[38;5;124m'\u001b[39m\u001b[38;5;124mstep\u001b[39m\u001b[38;5;124m'\u001b[39m)\n\u001b[1;32m----> 6\u001b[0m     \u001b[43mplt\u001b[49m\u001b[38;5;241;43m.\u001b[39;49m\u001b[43mhist\u001b[49m\u001b[43m(\u001b[49m\u001b[43mtheta2\u001b[49m\u001b[43m[\u001b[49m\u001b[43mnum\u001b[49m\u001b[43m]\u001b[49m\u001b[43m[\u001b[49m\u001b[43m:\u001b[49m\u001b[43m]\u001b[49m\u001b[43m,\u001b[49m\n\u001b[0;32m      7\u001b[0m \u001b[43m             \u001b[49m\u001b[43malpha\u001b[49m\u001b[38;5;241;43m=\u001b[39;49m\u001b[38;5;241;43m0.5\u001b[39;49m\u001b[43m,\u001b[49m\n\u001b[0;32m      8\u001b[0m \u001b[43m             \u001b[49m\u001b[43mlabel\u001b[49m\u001b[38;5;241;43m=\u001b[39;49m\u001b[38;5;124;43m'\u001b[39;49m\u001b[38;5;124;43mnew prior\u001b[39;49m\u001b[38;5;124;43m'\u001b[39;49m\u001b[43m,\u001b[49m\u001b[43m \u001b[49m\u001b[43mbins\u001b[49m\u001b[38;5;241;43m=\u001b[39;49m\u001b[43mbins\u001b[49m\u001b[43m[\u001b[49m\u001b[43mnum\u001b[49m\u001b[43m]\u001b[49m\u001b[43m[\u001b[49m\u001b[38;5;241;43m1\u001b[39;49m\u001b[43m]\u001b[49m\u001b[43m,\u001b[49m\u001b[43m \u001b[49m\u001b[43mdensity\u001b[49m\u001b[38;5;241;43m=\u001b[39;49m\u001b[38;5;28;43;01mTrue\u001b[39;49;00m\u001b[43m,\u001b[49m\u001b[43m \u001b[49m\u001b[43mhisttype\u001b[49m\u001b[38;5;241;43m=\u001b[39;49m\u001b[38;5;124;43m'\u001b[39;49m\u001b[38;5;124;43mstep\u001b[39;49m\u001b[38;5;124;43m'\u001b[39;49m\u001b[43m)\u001b[49m\n\u001b[0;32m     10\u001b[0m     plt\u001b[38;5;241m.\u001b[39mlegend(loc\u001b[38;5;241m=\u001b[39m\u001b[38;5;124m'\u001b[39m\u001b[38;5;124mupper right\u001b[39m\u001b[38;5;124m'\u001b[39m)\n\u001b[0;32m     11\u001b[0m     plt\u001b[38;5;241m.\u001b[39mtitle(names[num])\n",
      "File \u001b[1;32mc:\\Users\\harrg\\AppData\\Local\\anaconda3\\envs\\wildcats\\Lib\\site-packages\\matplotlib\\pyplot.py:3236\u001b[0m, in \u001b[0;36mhist\u001b[1;34m(x, bins, range, density, weights, cumulative, bottom, histtype, align, orientation, rwidth, log, color, label, stacked, data, **kwargs)\u001b[0m\n\u001b[0;32m   3211\u001b[0m \u001b[38;5;129m@_copy_docstring_and_deprecators\u001b[39m(Axes\u001b[38;5;241m.\u001b[39mhist)\n\u001b[0;32m   3212\u001b[0m \u001b[38;5;28;01mdef\u001b[39;00m \u001b[38;5;21mhist\u001b[39m(\n\u001b[0;32m   3213\u001b[0m     x: ArrayLike \u001b[38;5;241m|\u001b[39m Sequence[ArrayLike],\n\u001b[1;32m   (...)\u001b[0m\n\u001b[0;32m   3234\u001b[0m     BarContainer \u001b[38;5;241m|\u001b[39m Polygon \u001b[38;5;241m|\u001b[39m \u001b[38;5;28mlist\u001b[39m[BarContainer \u001b[38;5;241m|\u001b[39m Polygon],\n\u001b[0;32m   3235\u001b[0m ]:\n\u001b[1;32m-> 3236\u001b[0m     \u001b[38;5;28;01mreturn\u001b[39;00m \u001b[43mgca\u001b[49m\u001b[43m(\u001b[49m\u001b[43m)\u001b[49m\u001b[38;5;241;43m.\u001b[39;49m\u001b[43mhist\u001b[49m\u001b[43m(\u001b[49m\n\u001b[0;32m   3237\u001b[0m \u001b[43m        \u001b[49m\u001b[43mx\u001b[49m\u001b[43m,\u001b[49m\n\u001b[0;32m   3238\u001b[0m \u001b[43m        \u001b[49m\u001b[43mbins\u001b[49m\u001b[38;5;241;43m=\u001b[39;49m\u001b[43mbins\u001b[49m\u001b[43m,\u001b[49m\n\u001b[0;32m   3239\u001b[0m \u001b[43m        \u001b[49m\u001b[38;5;28;43mrange\u001b[39;49m\u001b[38;5;241;43m=\u001b[39;49m\u001b[38;5;28;43mrange\u001b[39;49m\u001b[43m,\u001b[49m\n\u001b[0;32m   3240\u001b[0m \u001b[43m        \u001b[49m\u001b[43mdensity\u001b[49m\u001b[38;5;241;43m=\u001b[39;49m\u001b[43mdensity\u001b[49m\u001b[43m,\u001b[49m\n\u001b[0;32m   3241\u001b[0m \u001b[43m        \u001b[49m\u001b[43mweights\u001b[49m\u001b[38;5;241;43m=\u001b[39;49m\u001b[43mweights\u001b[49m\u001b[43m,\u001b[49m\n\u001b[0;32m   3242\u001b[0m \u001b[43m        \u001b[49m\u001b[43mcumulative\u001b[49m\u001b[38;5;241;43m=\u001b[39;49m\u001b[43mcumulative\u001b[49m\u001b[43m,\u001b[49m\n\u001b[0;32m   3243\u001b[0m \u001b[43m        \u001b[49m\u001b[43mbottom\u001b[49m\u001b[38;5;241;43m=\u001b[39;49m\u001b[43mbottom\u001b[49m\u001b[43m,\u001b[49m\n\u001b[0;32m   3244\u001b[0m \u001b[43m        \u001b[49m\u001b[43mhisttype\u001b[49m\u001b[38;5;241;43m=\u001b[39;49m\u001b[43mhisttype\u001b[49m\u001b[43m,\u001b[49m\n\u001b[0;32m   3245\u001b[0m \u001b[43m        \u001b[49m\u001b[43malign\u001b[49m\u001b[38;5;241;43m=\u001b[39;49m\u001b[43malign\u001b[49m\u001b[43m,\u001b[49m\n\u001b[0;32m   3246\u001b[0m \u001b[43m        \u001b[49m\u001b[43morientation\u001b[49m\u001b[38;5;241;43m=\u001b[39;49m\u001b[43morientation\u001b[49m\u001b[43m,\u001b[49m\n\u001b[0;32m   3247\u001b[0m \u001b[43m        \u001b[49m\u001b[43mrwidth\u001b[49m\u001b[38;5;241;43m=\u001b[39;49m\u001b[43mrwidth\u001b[49m\u001b[43m,\u001b[49m\n\u001b[0;32m   3248\u001b[0m \u001b[43m        \u001b[49m\u001b[43mlog\u001b[49m\u001b[38;5;241;43m=\u001b[39;49m\u001b[43mlog\u001b[49m\u001b[43m,\u001b[49m\n\u001b[0;32m   3249\u001b[0m \u001b[43m        \u001b[49m\u001b[43mcolor\u001b[49m\u001b[38;5;241;43m=\u001b[39;49m\u001b[43mcolor\u001b[49m\u001b[43m,\u001b[49m\n\u001b[0;32m   3250\u001b[0m \u001b[43m        \u001b[49m\u001b[43mlabel\u001b[49m\u001b[38;5;241;43m=\u001b[39;49m\u001b[43mlabel\u001b[49m\u001b[43m,\u001b[49m\n\u001b[0;32m   3251\u001b[0m \u001b[43m        \u001b[49m\u001b[43mstacked\u001b[49m\u001b[38;5;241;43m=\u001b[39;49m\u001b[43mstacked\u001b[49m\u001b[43m,\u001b[49m\n\u001b[0;32m   3252\u001b[0m \u001b[43m        \u001b[49m\u001b[38;5;241;43m*\u001b[39;49m\u001b[38;5;241;43m*\u001b[39;49m\u001b[43m(\u001b[49m\u001b[43m{\u001b[49m\u001b[38;5;124;43m\"\u001b[39;49m\u001b[38;5;124;43mdata\u001b[39;49m\u001b[38;5;124;43m\"\u001b[39;49m\u001b[43m:\u001b[49m\u001b[43m \u001b[49m\u001b[43mdata\u001b[49m\u001b[43m}\u001b[49m\u001b[43m \u001b[49m\u001b[38;5;28;43;01mif\u001b[39;49;00m\u001b[43m \u001b[49m\u001b[43mdata\u001b[49m\u001b[43m \u001b[49m\u001b[38;5;129;43;01mis\u001b[39;49;00m\u001b[43m \u001b[49m\u001b[38;5;129;43;01mnot\u001b[39;49;00m\u001b[43m \u001b[49m\u001b[38;5;28;43;01mNone\u001b[39;49;00m\u001b[43m \u001b[49m\u001b[38;5;28;43;01melse\u001b[39;49;00m\u001b[43m \u001b[49m\u001b[43m{\u001b[49m\u001b[43m}\u001b[49m\u001b[43m)\u001b[49m\u001b[43m,\u001b[49m\n\u001b[0;32m   3253\u001b[0m \u001b[43m        \u001b[49m\u001b[38;5;241;43m*\u001b[39;49m\u001b[38;5;241;43m*\u001b[39;49m\u001b[43mkwargs\u001b[49m\u001b[43m,\u001b[49m\n\u001b[0;32m   3254\u001b[0m \u001b[43m    \u001b[49m\u001b[43m)\u001b[49m\n",
      "File \u001b[1;32mc:\\Users\\harrg\\AppData\\Local\\anaconda3\\envs\\wildcats\\Lib\\site-packages\\matplotlib\\__init__.py:1465\u001b[0m, in \u001b[0;36m_preprocess_data.<locals>.inner\u001b[1;34m(ax, data, *args, **kwargs)\u001b[0m\n\u001b[0;32m   1462\u001b[0m \u001b[38;5;129m@functools\u001b[39m\u001b[38;5;241m.\u001b[39mwraps(func)\n\u001b[0;32m   1463\u001b[0m \u001b[38;5;28;01mdef\u001b[39;00m \u001b[38;5;21minner\u001b[39m(ax, \u001b[38;5;241m*\u001b[39margs, data\u001b[38;5;241m=\u001b[39m\u001b[38;5;28;01mNone\u001b[39;00m, \u001b[38;5;241m*\u001b[39m\u001b[38;5;241m*\u001b[39mkwargs):\n\u001b[0;32m   1464\u001b[0m     \u001b[38;5;28;01mif\u001b[39;00m data \u001b[38;5;129;01mis\u001b[39;00m \u001b[38;5;28;01mNone\u001b[39;00m:\n\u001b[1;32m-> 1465\u001b[0m         \u001b[38;5;28;01mreturn\u001b[39;00m \u001b[43mfunc\u001b[49m\u001b[43m(\u001b[49m\u001b[43max\u001b[49m\u001b[43m,\u001b[49m\u001b[43m \u001b[49m\u001b[38;5;241;43m*\u001b[39;49m\u001b[38;5;28;43mmap\u001b[39;49m\u001b[43m(\u001b[49m\u001b[43msanitize_sequence\u001b[49m\u001b[43m,\u001b[49m\u001b[43m \u001b[49m\u001b[43margs\u001b[49m\u001b[43m)\u001b[49m\u001b[43m,\u001b[49m\u001b[43m \u001b[49m\u001b[38;5;241;43m*\u001b[39;49m\u001b[38;5;241;43m*\u001b[39;49m\u001b[43mkwargs\u001b[49m\u001b[43m)\u001b[49m\n\u001b[0;32m   1467\u001b[0m     bound \u001b[38;5;241m=\u001b[39m new_sig\u001b[38;5;241m.\u001b[39mbind(ax, \u001b[38;5;241m*\u001b[39margs, \u001b[38;5;241m*\u001b[39m\u001b[38;5;241m*\u001b[39mkwargs)\n\u001b[0;32m   1468\u001b[0m     auto_label \u001b[38;5;241m=\u001b[39m (bound\u001b[38;5;241m.\u001b[39marguments\u001b[38;5;241m.\u001b[39mget(label_namer)\n\u001b[0;32m   1469\u001b[0m                   \u001b[38;5;129;01mor\u001b[39;00m bound\u001b[38;5;241m.\u001b[39mkwargs\u001b[38;5;241m.\u001b[39mget(label_namer))\n",
      "File \u001b[1;32mc:\\Users\\harrg\\AppData\\Local\\anaconda3\\envs\\wildcats\\Lib\\site-packages\\matplotlib\\axes\\_axes.py:6862\u001b[0m, in \u001b[0;36mAxes.hist\u001b[1;34m(self, x, bins, range, density, weights, cumulative, bottom, histtype, align, orientation, rwidth, log, color, label, stacked, **kwargs)\u001b[0m\n\u001b[0;32m   6858\u001b[0m \u001b[38;5;66;03m# Loop through datasets\u001b[39;00m\n\u001b[0;32m   6859\u001b[0m \u001b[38;5;28;01mfor\u001b[39;00m i \u001b[38;5;129;01min\u001b[39;00m \u001b[38;5;28mrange\u001b[39m(nx):\n\u001b[0;32m   6860\u001b[0m     \u001b[38;5;66;03m# this will automatically overwrite bins,\u001b[39;00m\n\u001b[0;32m   6861\u001b[0m     \u001b[38;5;66;03m# so that each histogram uses the same bins\u001b[39;00m\n\u001b[1;32m-> 6862\u001b[0m     m, bins \u001b[38;5;241m=\u001b[39m \u001b[43mnp\u001b[49m\u001b[38;5;241;43m.\u001b[39;49m\u001b[43mhistogram\u001b[49m\u001b[43m(\u001b[49m\u001b[43mx\u001b[49m\u001b[43m[\u001b[49m\u001b[43mi\u001b[49m\u001b[43m]\u001b[49m\u001b[43m,\u001b[49m\u001b[43m \u001b[49m\u001b[43mbins\u001b[49m\u001b[43m,\u001b[49m\u001b[43m \u001b[49m\u001b[43mweights\u001b[49m\u001b[38;5;241;43m=\u001b[39;49m\u001b[43mw\u001b[49m\u001b[43m[\u001b[49m\u001b[43mi\u001b[49m\u001b[43m]\u001b[49m\u001b[43m,\u001b[49m\u001b[43m \u001b[49m\u001b[38;5;241;43m*\u001b[39;49m\u001b[38;5;241;43m*\u001b[39;49m\u001b[43mhist_kwargs\u001b[49m\u001b[43m)\u001b[49m\n\u001b[0;32m   6863\u001b[0m     tops\u001b[38;5;241m.\u001b[39mappend(m)\n\u001b[0;32m   6864\u001b[0m tops \u001b[38;5;241m=\u001b[39m np\u001b[38;5;241m.\u001b[39marray(tops, \u001b[38;5;28mfloat\u001b[39m)  \u001b[38;5;66;03m# causes problems later if it's an int\u001b[39;00m\n",
      "File \u001b[1;32mc:\\Users\\harrg\\AppData\\Local\\anaconda3\\envs\\wildcats\\Lib\\site-packages\\numpy\\lib\\histograms.py:780\u001b[0m, in \u001b[0;36mhistogram\u001b[1;34m(a, bins, range, density, weights)\u001b[0m\n\u001b[0;32m    680\u001b[0m \u001b[38;5;250m\u001b[39m\u001b[38;5;124mr\u001b[39m\u001b[38;5;124;03m\"\"\"\u001b[39;00m\n\u001b[0;32m    681\u001b[0m \u001b[38;5;124;03mCompute the histogram of a dataset.\u001b[39;00m\n\u001b[0;32m    682\u001b[0m \n\u001b[1;32m   (...)\u001b[0m\n\u001b[0;32m    776\u001b[0m \n\u001b[0;32m    777\u001b[0m \u001b[38;5;124;03m\"\"\"\u001b[39;00m\n\u001b[0;32m    778\u001b[0m a, weights \u001b[38;5;241m=\u001b[39m _ravel_and_check_weights(a, weights)\n\u001b[1;32m--> 780\u001b[0m bin_edges, uniform_bins \u001b[38;5;241m=\u001b[39m \u001b[43m_get_bin_edges\u001b[49m\u001b[43m(\u001b[49m\u001b[43ma\u001b[49m\u001b[43m,\u001b[49m\u001b[43m \u001b[49m\u001b[43mbins\u001b[49m\u001b[43m,\u001b[49m\u001b[43m \u001b[49m\u001b[38;5;28;43mrange\u001b[39;49m\u001b[43m,\u001b[49m\u001b[43m \u001b[49m\u001b[43mweights\u001b[49m\u001b[43m)\u001b[49m\n\u001b[0;32m    782\u001b[0m \u001b[38;5;66;03m# Histogram is an integer or a float array depending on the weights.\u001b[39;00m\n\u001b[0;32m    783\u001b[0m \u001b[38;5;28;01mif\u001b[39;00m weights \u001b[38;5;129;01mis\u001b[39;00m \u001b[38;5;28;01mNone\u001b[39;00m:\n",
      "File \u001b[1;32mc:\\Users\\harrg\\AppData\\Local\\anaconda3\\envs\\wildcats\\Lib\\site-packages\\numpy\\lib\\histograms.py:426\u001b[0m, in \u001b[0;36m_get_bin_edges\u001b[1;34m(a, bins, range, weights)\u001b[0m\n\u001b[0;32m    423\u001b[0m     \u001b[38;5;28;01mif\u001b[39;00m n_equal_bins \u001b[38;5;241m<\u001b[39m \u001b[38;5;241m1\u001b[39m:\n\u001b[0;32m    424\u001b[0m         \u001b[38;5;28;01mraise\u001b[39;00m \u001b[38;5;167;01mValueError\u001b[39;00m(\u001b[38;5;124m'\u001b[39m\u001b[38;5;124m`bins` must be positive, when an integer\u001b[39m\u001b[38;5;124m'\u001b[39m)\n\u001b[1;32m--> 426\u001b[0m     first_edge, last_edge \u001b[38;5;241m=\u001b[39m \u001b[43m_get_outer_edges\u001b[49m\u001b[43m(\u001b[49m\u001b[43ma\u001b[49m\u001b[43m,\u001b[49m\u001b[43m \u001b[49m\u001b[38;5;28;43mrange\u001b[39;49m\u001b[43m)\u001b[49m\n\u001b[0;32m    428\u001b[0m \u001b[38;5;28;01melif\u001b[39;00m np\u001b[38;5;241m.\u001b[39mndim(bins) \u001b[38;5;241m==\u001b[39m \u001b[38;5;241m1\u001b[39m:\n\u001b[0;32m    429\u001b[0m     bin_edges \u001b[38;5;241m=\u001b[39m np\u001b[38;5;241m.\u001b[39masarray(bins)\n",
      "File \u001b[1;32mc:\\Users\\harrg\\AppData\\Local\\anaconda3\\envs\\wildcats\\Lib\\site-packages\\numpy\\lib\\histograms.py:315\u001b[0m, in \u001b[0;36m_get_outer_edges\u001b[1;34m(a, range)\u001b[0m\n\u001b[0;32m    312\u001b[0m         \u001b[38;5;28;01mraise\u001b[39;00m \u001b[38;5;167;01mValueError\u001b[39;00m(\n\u001b[0;32m    313\u001b[0m             \u001b[38;5;124m'\u001b[39m\u001b[38;5;124mmax must be larger than min in range parameter.\u001b[39m\u001b[38;5;124m'\u001b[39m)\n\u001b[0;32m    314\u001b[0m     \u001b[38;5;28;01mif\u001b[39;00m \u001b[38;5;129;01mnot\u001b[39;00m (np\u001b[38;5;241m.\u001b[39misfinite(first_edge) \u001b[38;5;129;01mand\u001b[39;00m np\u001b[38;5;241m.\u001b[39misfinite(last_edge)):\n\u001b[1;32m--> 315\u001b[0m         \u001b[38;5;28;01mraise\u001b[39;00m \u001b[38;5;167;01mValueError\u001b[39;00m(\n\u001b[0;32m    316\u001b[0m             \u001b[38;5;124m\"\u001b[39m\u001b[38;5;124msupplied range of [\u001b[39m\u001b[38;5;132;01m{}\u001b[39;00m\u001b[38;5;124m, \u001b[39m\u001b[38;5;132;01m{}\u001b[39;00m\u001b[38;5;124m] is not finite\u001b[39m\u001b[38;5;124m\"\u001b[39m\u001b[38;5;241m.\u001b[39mformat(first_edge, last_edge))\n\u001b[0;32m    317\u001b[0m \u001b[38;5;28;01melif\u001b[39;00m a\u001b[38;5;241m.\u001b[39msize \u001b[38;5;241m==\u001b[39m \u001b[38;5;241m0\u001b[39m:\n\u001b[0;32m    318\u001b[0m     \u001b[38;5;66;03m# handle empty arrays. Can't determine range, so use 0-1.\u001b[39;00m\n\u001b[0;32m    319\u001b[0m     first_edge, last_edge \u001b[38;5;241m=\u001b[39m \u001b[38;5;241m0\u001b[39m, \u001b[38;5;241m1\u001b[39m\n",
      "\u001b[1;31mValueError\u001b[0m: supplied range of [0.0, inf] is not finite"
     ]
    },
    {
     "data": {
      "image/png": "[encoded data removed]",
      "text/plain": [
       "<Figure size 640x480 with 1 Axes>"
      ]
     },
     "metadata": {},
     "output_type": "display_data"
    }
   ],
   "source": [
    "for num in range(0,16):  \n",
    "    plt.hist(theta1[num][:],\n",
    "             alpha=0.5,\n",
    "             label='original prior', bins=bins[num][0], density=True, histtype='step')\n",
    "    \n",
    "    plt.hist(theta2[num][:],\n",
    "             alpha=0.5,\n",
    "             label='new prior', bins=bins[num][1], density=True, histtype='step')\n",
    "\n",
    "    plt.legend(loc='upper right')\n",
    "    plt.title(names[num])\n",
    "    #plt.yticks([])\n",
    "    plt.xlim(lims[num])\n",
    "    plt.show()"
   ]
  },
  {
   "cell_type": "code",
   "execution_count": null,
   "id": "385055d9-762f-4b2c-a1a9-9155a40f2d98",
   "metadata": {},
   "outputs": [],
   "source": []
  },
  {
   "cell_type": "code",
   "execution_count": null,
   "id": "84f87349-e7f0-4e35-9759-60b0bcf6b022",
   "metadata": {},
   "outputs": [],
   "source": []
  },
  {
   "cell_type": "code",
   "execution_count": 19,
   "id": "8abdd088-9b4e-44cd-8636-ff4ffd960019",
   "metadata": {
    "tags": []
   },
   "outputs": [],
   "source": [
    "prior_dict= {\n",
    "    \"div_time_scot\":5,\n",
    "    \"captive_time\":6,\n",
    "    \"div_time\":7,\n",
    "    \"div_time_dom\":6}"
   ]
  },
  {
   "cell_type": "code",
   "execution_count": 14,
   "id": "dd53c1ef-233b-464c-97ff-8a5fbf3e2dc8",
   "metadata": {
    "tags": []
   },
   "outputs": [],
   "source": [
    "from utils import check_priors\n",
    "\n",
    "def check_priors(prior_dict):\n",
    "    \n",
    "    if (prior_dict[\"div_time_scot\"] > prior_dict[\"captive_time\"] and\n",
    "    prior_dict[\"div_time\"] > prior_dict[\"div_time_scot\"] and\n",
    "    prior_dict[\"div_time\"] > prior_dict[\"div_time_dom\"]):\n",
    "        return True\n",
    "    else:\n",
    "        return False"
   ]
  },
  {
   "cell_type": "code",
   "execution_count": null,
   "id": "c5898095-0893-45f5-9e72-2c7f23aebb94",
   "metadata": {},
   "outputs": [],
   "source": [
    "while check_priors(prior_dict) == False:\n",
    "    samples = []\n",
    "    for key, prior in priors.items():\n",
    "        samples.append(float(prior.rvs(1)))\n",
    "\n",
    "    prior_dict = dict(zip(priors.keys(),samples))\n",
    "    "
   ]
  },
  {
   "cell_type": "code",
   "execution_count": 20,
   "id": "95ea7b07-8160-4205-b979-3ab08e192bcd",
   "metadata": {
    "tags": []
   },
   "outputs": [
    {
     "data": {
      "text/plain": [
       "False"
      ]
     },
     "execution_count": 20,
     "metadata": {},
     "output_type": "execute_result"
    }
   ],
   "source": [
    "check_priors(prior_dict)"
   ]
  },
  {
   "cell_type": "code",
   "execution_count": 29,
   "id": "b5bb1273-2b47-42d7-bc8e-d0c612aa6c63",
   "metadata": {
    "tags": []
   },
   "outputs": [
    {
     "data": {
      "text/plain": [
       "tensor([0.])"
      ]
     },
     "execution_count": 29,
     "metadata": {},
     "output_type": "execute_result"
    }
   ],
   "source": [
    "torch.zeros(1)*16"
   ]
  },
  {
   "cell_type": "code",
   "execution_count": 31,
   "id": "db648c69-ca9c-4359-9748-6e640c2b5365",
   "metadata": {
    "tags": []
   },
   "outputs": [],
   "source": [
    "from torch.distributions import Normal\n",
    "from sbi.utils import process_prior\n",
    "from torch.distributions import MultivariateNormal\n",
    "#norm_prior = MultivariateNormal(loc=torch.zeros(16), scale_tril=torch.diag(torch.ones(16)))\n",
    "norm_prior = Normal(torch.zeros(1), torch.ones(1))\n",
    "prior, *_ = process_prior(norm_prior)  # Keeping only the first return."
   ]
  },
  {
   "cell_type": "code",
   "execution_count": 30,
   "id": "e8206ac9-ff64-4ed6-bd86-c3b89f8002c5",
   "metadata": {
    "tags": []
   },
   "outputs": [
    {
     "data": {
      "text/plain": [
       "tensor([16.])"
      ]
     },
     "execution_count": 30,
     "metadata": {},
     "output_type": "execute_result"
    }
   ],
   "source": [
    "torch.ones(1)*16"
   ]
  },
  {
   "cell_type": "code",
   "execution_count": null,
   "id": "eb9dc638-2fd5-43d2-bfa4-3482488b3a22",
   "metadata": {
    "tags": []
   },
   "outputs": [],
   "source": [
    "norm"
   ]
  },
  {
   "cell_type": "code",
   "execution_count": 27,
   "id": "7897d4eb-8ef5-463a-a16a-4c23dd3e8e84",
   "metadata": {
    "tags": []
   },
   "outputs": [],
   "source": [
    "norm = norm_prior.sample((100,))\n",
    "mult = dist2.sample((100000,))"
   ]
  },
  {
   "cell_type": "code",
   "execution_count": null,
   "id": "ad29b1a5-4683-43e8-9393-c68cc9a4fb10",
   "metadata": {},
   "outputs": [],
   "source": [
    "import matplotlib.pyplot as plt\n",
    "plt.hist(norm, \n",
    "         alpha=0.5, # the transaparency parameter\n",
    "         label='1', bins=300)\n",
    "  \n",
    "plt.hist(mult[:,15], alpha=0.5, label='2', bins=300)\n",
    "  \n",
    "plt.legend(loc='upper right')\n",
    "#plt.xlim([0, 9e-8])\n",
    "plt.show()"
   ]
  },
  {
   "cell_type": "code",
   "execution_count": null,
   "id": "53f18c70-75f8-4a6a-a510-4bf1c79ade05",
   "metadata": {},
   "outputs": [],
   "source": []
  }
 ],
 "metadata": {
  "kernelspec": {
   "display_name": "wildcats",
   "language": "python",
   "name": "python3"
  },
  "language_info": {
   "codemirror_mode": {
    "name": "ipython",
    "version": 3
   },
   "file_extension": ".py",
   "mimetype": "text/x-python",
   "name": "python",
   "nbconvert_exporter": "python",
   "pygments_lexer": "ipython3",
   "version": "3.12.2"
  }
 },
 "nbformat": 4,
 "nbformat_minor": 5
}
