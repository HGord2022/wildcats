{
 "cells": [
  {
   "cell_type": "markdown",
   "metadata": {},
   "source": [
    "### Introduction\n",
    "Script plots a PCA for the observed data, alongside a PCA using simulated data, utilising the medians of the priors."
   ]
  },
  {
   "cell_type": "markdown",
   "metadata": {},
   "source": [
    "### Imports\n",
    "All imports occur here"
   ]
  },
  {
   "cell_type": "code",
   "execution_count": 1,
   "metadata": {},
   "outputs": [],
   "source": [
    "import pandas as pd\n",
    "from sim.model import SeqFeatures, WildcatSimulation\n",
    "from sim import sum_stats as ss\n",
    "import time\n",
    "import tskit\n",
    "import allel\n",
    "import numpy as np\n",
    "import matplotlib\n",
    "import matplotlib.pyplot as plt\n",
    "import seaborn as sns"
   ]
  },
  {
   "cell_type": "markdown",
   "metadata": {},
   "source": [
    "### Choose parameters\n",
    "Choose some parameters so it runs relatively quickly:"
   ]
  },
  {
   "cell_type": "code",
   "execution_count": 2,
   "metadata": {},
   "outputs": [],
   "source": [
    "seq_features = SeqFeatures(length=int(20e6), recombination_rate=1.8e-8, mutation_rate=6e-8)\n",
    "\n",
    "slim_parameters = {\n",
    "        'pop_size_domestic_1': 500,  # Population sizes are diploid.\n",
    "        'pop_size_wild_1': 500,\n",
    "        'pop_size_captive': 46,\n",
    "        'mig_length_wild': 30,\n",
    "        'mig_rate_wild': 0.008,  # Rate of migration from domestic -> wildcats\n",
    "        'captive_time': 28,  # Time captive population established in SLiM\n",
    "    }\n",
    "\n",
    "recapitate_parameters = {\n",
    "        'pop_size_domestic_2': 1000,\n",
    "        'pop_size_wild_2': 1000,\n",
    "        'div_time': 40000,\n",
    "        'mig_rate_post_split': 0.005,\n",
    "        'mig_length_post_split': 5000,\n",
    "        'bottleneck_time_wild': 3000,\n",
    "        'bottleneck_strength_wild': 20000,\n",
    "        'bottleneck_time_domestic': 3000,\n",
    "        'bottleneck_strength_domestic': 20000,\n",
    "    }"
   ]
  },
  {
   "cell_type": "code",
   "execution_count": 3,
   "metadata": {},
   "outputs": [
    {
     "data": {
      "text/plain": [
       "'slim -d pop_size_domestic_1=500 -d pop_size_wild_1=500 -d pop_size_captive=46 -d length=20000000 -d recombination_rate=1.8e-08 -d mig_length_wild=30 -d mig_rate_wild=0.008 -d captive_time=28 -d decap_trees_filename=\\'\"../output/decap_40.trees\"\\' -s 40 ./slim_model.slim'"
      ]
     },
     "execution_count": 3,
     "metadata": {},
     "output_type": "execute_result"
    }
   ],
   "source": [
    "sim = WildcatSimulation(seq_features=seq_features, random_seed=40)\n",
    "sim.slim_command(**slim_parameters)"
   ]
  },
  {
   "cell_type": "markdown",
   "metadata": {},
   "source": [
    "### Run simulation"
   ]
  },
  {
   "cell_type": "code",
   "execution_count": 8,
   "metadata": {},
   "outputs": [
    {
     "name": "stdout",
     "output_type": "stream",
     "text": [
      "Simulation finished in 1.90 s\n",
      "Command ran: slim -d pop_size_domestic_1=500 -d pop_size_wild_1=500 -d pop_size_captive=46 -d length=20000000 -d recombination_rate=1.8e-08 -d mig_length_wild=30 -d mig_rate_wild=0.008 -d captive_time=28 -d decap_trees_filename='\"../output/decap_40.trees\"' -s 40 ./slim_model.slim\n"
     ]
    }
   ],
   "source": [
    "start_time = time.time()\n",
    "\n",
    "# Run model\n",
    "sim = WildcatSimulation(seq_features=seq_features, random_seed=40)\n",
    "command = sim.slim_command(**slim_parameters)\n",
    "decap_trees = sim.run_slim(command)\n",
    "demographic_events = sim.demographic_model(**recapitate_parameters)\n",
    "tree_seq = sim.recapitate(decap_trees, demographic_events)\n",
    "\n",
    "# Print out useful bits and bobs\n",
    "print(\"Simulation finished in {:.2f} s\".format(time.time()-start_time))\n",
    "print(\"Command ran: {}\".format(command))\n"
   ]
  },
  {
   "cell_type": "markdown",
   "metadata": {},
   "source": [
    "### Sample population"
   ]
  },
  {
   "cell_type": "code",
   "execution_count": 9,
   "metadata": {},
   "outputs": [],
   "source": [
    "samples = sim.sample_nodes(tree_seq, [5, 30, 10])  # Match number of samples to the WGS data\n",
    "tree_seq = tree_seq.simplify(samples=np.concatenate(samples))"
   ]
  },
  {
   "cell_type": "code",
   "execution_count": 6,
   "metadata": {},
   "outputs": [],
   "source": [
    "tree_seq = tskit.load(\"tree_seq.trees\")\n",
    "genotypes = tree_seq.genotype_matrix()\n",
    "pop_list = 5*[\"domestic\"] + 30*[\"wild\"] + 10*[\"captive\"]"
   ]
  },
  {
   "cell_type": "code",
   "execution_count": 10,
   "metadata": {},
   "outputs": [],
   "source": [
    "genotypes = ss.genotypes(tree_seq)\n",
    "pos = ss.positions(tree_seq)\n",
    "pop_list = ss.pop_list(tree_seq)\n",
    "samples = ss.sampled_nodes(tree_seq)"
   ]
  },
  {
   "cell_type": "markdown",
   "metadata": {},
   "source": [
    "### Check tsinfer ancestral state irrelevant toy example"
   ]
  },
  {
   "cell_type": "code",
   "execution_count": 10,
   "metadata": {},
   "outputs": [
    {
     "data": {
      "text/plain": [
       "['test_pos.joblib']"
      ]
     },
     "execution_count": 10,
     "metadata": {},
     "output_type": "execute_result"
    }
   ],
   "source": [
    "import joblib\n",
    "joblib.dump(np.array(genotypes), \"../output/test_genotypes.joblib\")\n",
    "joblib.dump(pos, \"../output/test_pos.joblib\")"
   ]
  },
  {
   "cell_type": "markdown",
   "metadata": {},
   "source": [
    "### Check tsinfer ancestral state irrelevant"
   ]
  },
  {
   "cell_type": "code",
   "execution_count": 6,
   "metadata": {},
   "outputs": [],
   "source": [
    "positions = np.loadtxt(\"../data/e3.012.pos\", delimiter=\"\\t\", usecols=1)\n",
    "genotypes = np.loadtxt(\"../data/e3.012\", delimiter=\"\\t\", usecols=range(1, len(positions)+1))\n",
    "genotypes = genotypes.T\n",
    "assert len(positions) == genotypes.shape[0]\n",
    "\n",
    "# For now just assume that missings are ancestral\n",
    "genotypes[genotypes == -1] = 0\n"
   ]
  },
  {
   "cell_type": "code",
   "execution_count": 7,
   "metadata": {},
   "outputs": [],
   "source": [
    "# Cam read in with scikit allel but genotypes looks dodge\n",
    "callset = allel.read_vcf(\"../data/e3.vcf\")\n",
    "pos = callset[\"variants/POS\"]\n",
    "genotypes = allel.GenotypeArray(callset[\"calldata/GT\"])"
   ]
  },
  {
   "cell_type": "code",
   "execution_count": 8,
   "metadata": {},
   "outputs": [
    {
     "data": {
      "text/plain": [
       "array(['WCQ047', 'WCQ052', 'WCQ099', 'WCQ100', 'WCQ1135', 'WCQ1136',\n",
       "       'WCQ1137', 'WCQ1138', 'WCQ158', 'WCQ165', 'WCQ168', 'WCQ209',\n",
       "       'WCQ211', 'WCQ212', 'WCQ213', 'WCQ214', 'WCQ216', 'WCQ218',\n",
       "       'WCQ224', 'WCQ227', 'WCQ230', 'WCQ231', 'WCQ234', 'WCQ236',\n",
       "       'WCQ243', 'WCQ246', 'WCQ248', 'WCQ249', 'WCQ252', 'WCQ255',\n",
       "       'WCQ340', 'WCQ343', 'WCQ344', 'WCQ402', 'WCQ427', 'WCQ428',\n",
       "       'WCQ443', 'WCQ515', 'WCQ550', 'WCQ553', 'WCQ564', 'WCQ613',\n",
       "       'WCQ903', 'WCQ904', 'WCQ915'], dtype=object)"
      ]
     },
     "execution_count": 8,
     "metadata": {},
     "output_type": "execute_result"
    }
   ],
   "source": [
    "callset[\"samples\"][0:3]"
   ]
  },
  {
   "cell_type": "code",
   "execution_count": 9,
   "metadata": {},
   "outputs": [],
   "source": []
  },
  {
   "cell_type": "code",
   "execution_count": 10,
   "metadata": {},
   "outputs": [],
   "source": [
    "def pca_pipeline(genotypes, pos, pop_list):\n",
    "    genotypes, pos = ss.maf_filter(genotypes, pos)\n",
    "    genotypes = genotypes.to_n_alt()  # 012 with ind as cols\n",
    "    genotypes, pos = ss.ld_prune(genotypes, pos)\n",
    "    pca_stats = ss.pca_stats(genotypes, pop_list)\n",
    "    return pca_stats"
   ]
  },
  {
   "cell_type": "code",
   "execution_count": 11,
   "metadata": {
    "collapsed": true,
    "jupyter": {
     "outputs_hidden": true
    }
   },
   "outputs": [
    {
     "name": "stdout",
     "output_type": "stream",
     "text": [
      "ld_prune: Retaining: 1  out of 1 variants\n",
      "[[-1.2402341 ]\n",
      " [-1.2402344 ]\n",
      " [-1.2402344 ]\n",
      " [ 0.99218744]\n",
      " [ 0.99218744]\n",
      " [ 3.2246094 ]\n",
      " [ 0.99218744]\n",
      " [ 3.2246094 ]\n",
      " [-1.2402344 ]\n",
      " [ 3.2246094 ]\n",
      " [-1.2402344 ]\n",
      " [-1.2402344 ]\n",
      " [ 0.99218744]\n",
      " [-1.2402344 ]\n",
      " [-1.2402344 ]\n",
      " [-1.2402344 ]\n",
      " [ 3.2246094 ]\n",
      " [ 0.99218744]\n",
      " [-1.2402344 ]\n",
      " [ 0.99218744]\n",
      " [-1.2402344 ]\n",
      " [ 3.2246094 ]\n",
      " [-1.2402344 ]\n",
      " [-1.2402344 ]\n",
      " [-1.2402344 ]\n",
      " [ 0.99218744]\n",
      " [-1.2402344 ]\n",
      " [-1.2402344 ]\n",
      " [ 0.99218744]\n",
      " [ 0.99218744]\n",
      " [-1.2402344 ]\n",
      " [-1.2402344 ]\n",
      " [-1.2402344 ]\n",
      " [-1.2402344 ]\n",
      " [ 3.2246094 ]\n",
      " [-1.2402344 ]\n",
      " [ 3.2246094 ]\n",
      " [-1.2402344 ]\n",
      " [-1.2402344 ]\n",
      " [-1.2402344 ]\n",
      " [ 0.99218744]\n",
      " [-1.2402344 ]\n",
      " [ 0.99218744]\n",
      " [-1.2402344 ]\n",
      " [-1.2402344 ]]\n"
     ]
    },
    {
     "ename": "IndexError",
     "evalue": "index 1 is out of bounds for axis 1 with size 1",
     "output_type": "error",
     "traceback": [
      "\u001b[1;31m---------------------------------------------------------------------------\u001b[0m",
      "\u001b[1;31mIndexError\u001b[0m                                Traceback (most recent call last)",
      "\u001b[1;32m<ipython-input-11-e58b1de89dfa>\u001b[0m in \u001b[0;36m<module>\u001b[1;34m\u001b[0m\n\u001b[0;32m      4\u001b[0m \u001b[1;32massert\u001b[0m \u001b[0mnp\u001b[0m\u001b[1;33m.\u001b[0m\u001b[0mall\u001b[0m\u001b[1;33m(\u001b[0m\u001b[0msample_info\u001b[0m\u001b[1;33m[\u001b[0m\u001b[1;34m\"NAME\"\u001b[0m\u001b[1;33m]\u001b[0m \u001b[1;33m==\u001b[0m \u001b[0mnp\u001b[0m\u001b[1;33m.\u001b[0m\u001b[0mloadtxt\u001b[0m\u001b[1;33m(\u001b[0m\u001b[1;34m\"../data/e3.012.indv\"\u001b[0m\u001b[1;33m,\u001b[0m \u001b[0mdtype\u001b[0m\u001b[1;33m=\u001b[0m\u001b[0mstr\u001b[0m\u001b[1;33m)\u001b[0m\u001b[1;33m)\u001b[0m\u001b[1;33m\u001b[0m\u001b[1;33m\u001b[0m\u001b[0m\n\u001b[0;32m      5\u001b[0m \u001b[1;33m\u001b[0m\u001b[0m\n\u001b[1;32m----> 6\u001b[1;33m \u001b[0mpca_pipeline\u001b[0m\u001b[1;33m(\u001b[0m\u001b[0mgenotypes\u001b[0m\u001b[1;33m,\u001b[0m \u001b[0mpos\u001b[0m\u001b[1;33m,\u001b[0m \u001b[0msample_info\u001b[0m\u001b[1;33m[\u001b[0m\u001b[1;34m\"SOURCE\"\u001b[0m\u001b[1;33m]\u001b[0m\u001b[1;33m.\u001b[0m\u001b[0mto_list\u001b[0m\u001b[1;33m(\u001b[0m\u001b[1;33m)\u001b[0m\u001b[1;33m)\u001b[0m\u001b[1;33m\u001b[0m\u001b[1;33m\u001b[0m\u001b[0m\n\u001b[0m",
      "\u001b[1;32m<ipython-input-10-f980b445fdb1>\u001b[0m in \u001b[0;36mpca_pipeline\u001b[1;34m(genotypes, pos, pop_list)\u001b[0m\n\u001b[0;32m      3\u001b[0m     \u001b[0mgenotypes\u001b[0m \u001b[1;33m=\u001b[0m \u001b[0mgenotypes\u001b[0m\u001b[1;33m.\u001b[0m\u001b[0mto_n_alt\u001b[0m\u001b[1;33m(\u001b[0m\u001b[1;33m)\u001b[0m  \u001b[1;31m# 012 with ind as cols\u001b[0m\u001b[1;33m\u001b[0m\u001b[1;33m\u001b[0m\u001b[0m\n\u001b[0;32m      4\u001b[0m     \u001b[0mgenotypes\u001b[0m\u001b[1;33m,\u001b[0m \u001b[0mpos\u001b[0m \u001b[1;33m=\u001b[0m \u001b[0mss\u001b[0m\u001b[1;33m.\u001b[0m\u001b[0mld_prune\u001b[0m\u001b[1;33m(\u001b[0m\u001b[0mgenotypes\u001b[0m\u001b[1;33m,\u001b[0m \u001b[0mpos\u001b[0m\u001b[1;33m)\u001b[0m\u001b[1;33m\u001b[0m\u001b[1;33m\u001b[0m\u001b[0m\n\u001b[1;32m----> 5\u001b[1;33m     \u001b[0mpca_stats\u001b[0m \u001b[1;33m=\u001b[0m \u001b[0mss\u001b[0m\u001b[1;33m.\u001b[0m\u001b[0mpca_stats\u001b[0m\u001b[1;33m(\u001b[0m\u001b[0mgenotypes\u001b[0m\u001b[1;33m,\u001b[0m \u001b[0mpop_list\u001b[0m\u001b[1;33m)\u001b[0m\u001b[1;33m\u001b[0m\u001b[1;33m\u001b[0m\u001b[0m\n\u001b[0m\u001b[0;32m      6\u001b[0m     \u001b[1;32mreturn\u001b[0m \u001b[0mpca_stats\u001b[0m\u001b[1;33m\u001b[0m\u001b[1;33m\u001b[0m\u001b[0m\n",
      "\u001b[1;32m~\\OneDrive\\Documents\\wildcats_summer_2\\scripts\\sim\\sum_stats.py\u001b[0m in \u001b[0;36mpca_stats\u001b[1;34m(genotypes_012, pop_list)\u001b[0m\n\u001b[0;32m    291\u001b[0m \u001b[1;32mdef\u001b[0m \u001b[0mpca_stats\u001b[0m\u001b[1;33m(\u001b[0m\u001b[0mgenotypes_012\u001b[0m\u001b[1;33m,\u001b[0m \u001b[0mpop_list\u001b[0m\u001b[1;33m)\u001b[0m\u001b[1;33m:\u001b[0m\u001b[1;33m\u001b[0m\u001b[1;33m\u001b[0m\u001b[0m\n\u001b[0;32m    292\u001b[0m     \u001b[1;34m\"\"\"Calculates pca summary stats (iqrs and pairwise distances).\"\"\"\u001b[0m\u001b[1;33m\u001b[0m\u001b[1;33m\u001b[0m\u001b[0m\n\u001b[1;32m--> 293\u001b[1;33m     \u001b[0mpca_df\u001b[0m \u001b[1;33m=\u001b[0m \u001b[0mpca\u001b[0m\u001b[1;33m(\u001b[0m\u001b[0mgenotypes_012\u001b[0m\u001b[1;33m,\u001b[0m \u001b[0mpop_list\u001b[0m\u001b[1;33m)\u001b[0m\u001b[1;33m\u001b[0m\u001b[1;33m\u001b[0m\u001b[0m\n\u001b[0m\u001b[0;32m    294\u001b[0m     \u001b[0miqr_dict\u001b[0m \u001b[1;33m=\u001b[0m \u001b[0mpca_iqr\u001b[0m\u001b[1;33m(\u001b[0m\u001b[0mpca_df\u001b[0m\u001b[1;33m)\u001b[0m\u001b[1;33m\u001b[0m\u001b[1;33m\u001b[0m\u001b[0m\n\u001b[0;32m    295\u001b[0m     \u001b[0mmedians_dict\u001b[0m \u001b[1;33m=\u001b[0m \u001b[0mpca_pairwise_medians\u001b[0m\u001b[1;33m(\u001b[0m\u001b[0mpca_df\u001b[0m\u001b[1;33m)\u001b[0m\u001b[1;33m\u001b[0m\u001b[1;33m\u001b[0m\u001b[0m\n",
      "\u001b[1;32m~\\OneDrive\\Documents\\wildcats_summer_2\\scripts\\sim\\sum_stats.py\u001b[0m in \u001b[0;36mpca\u001b[1;34m(genotypes_012, pop_list)\u001b[0m\n\u001b[0;32m    252\u001b[0m     \u001b[0mprint\u001b[0m\u001b[1;33m(\u001b[0m\u001b[0mcoords\u001b[0m\u001b[1;33m)\u001b[0m\u001b[1;33m\u001b[0m\u001b[1;33m\u001b[0m\u001b[0m\n\u001b[0;32m    253\u001b[0m     df = pd.DataFrame({\"pc1\": coords[:, 0],\n\u001b[1;32m--> 254\u001b[1;33m                        \u001b[1;34m\"pc2\"\u001b[0m\u001b[1;33m:\u001b[0m \u001b[0mcoords\u001b[0m\u001b[1;33m[\u001b[0m\u001b[1;33m:\u001b[0m\u001b[1;33m,\u001b[0m \u001b[1;36m1\u001b[0m\u001b[1;33m]\u001b[0m\u001b[1;33m,\u001b[0m\u001b[1;33m\u001b[0m\u001b[1;33m\u001b[0m\u001b[0m\n\u001b[0m\u001b[0;32m    255\u001b[0m                        \"population\": pop_list})\n\u001b[0;32m    256\u001b[0m     \u001b[0mdf\u001b[0m \u001b[1;33m=\u001b[0m \u001b[0mdf\u001b[0m\u001b[1;33m.\u001b[0m\u001b[0mmelt\u001b[0m\u001b[1;33m(\u001b[0m\u001b[0mid_vars\u001b[0m\u001b[1;33m=\u001b[0m\u001b[1;34m\"population\"\u001b[0m\u001b[1;33m,\u001b[0m \u001b[0mvar_name\u001b[0m\u001b[1;33m=\u001b[0m\u001b[1;34m\"pc\"\u001b[0m\u001b[1;33m)\u001b[0m\u001b[1;33m\u001b[0m\u001b[1;33m\u001b[0m\u001b[0m\n",
      "\u001b[1;31mIndexError\u001b[0m: index 1 is out of bounds for axis 1 with size 1"
     ]
    }
   ],
   "source": [
    "sample_info = pd.read_csv(\"../data/e3_sample_info.csv\", usecols=[\"NAME\", \"SOURCE\"])\n",
    "\n",
    "# Ensure that individuals are in same order (after 012 conversion)\n",
    "assert np.all(sample_info[\"NAME\"] == np.loadtxt(\"../data/e3.012.indv\", dtype=str))\n",
    "\n",
    "pca_pipeline(genotypes, pos, sample_info[\"SOURCE\"].to_list())"
   ]
  },
  {
   "cell_type": "code",
   "execution_count": 9,
   "metadata": {},
   "outputs": [
    {
     "ename": "ModuleNotFoundError",
     "evalue": "No module named 'tsinfer'",
     "output_type": "error",
     "traceback": [
      "\u001b[1;31m---------------------------------------------------------------------------\u001b[0m",
      "\u001b[1;31mModuleNotFoundError\u001b[0m                       Traceback (most recent call last)",
      "\u001b[1;32m<ipython-input-9-eea4f74fd848>\u001b[0m in \u001b[0;36m<module>\u001b[1;34m\u001b[0m\n\u001b[1;32m----> 1\u001b[1;33m \u001b[1;32mimport\u001b[0m \u001b[0mtsinfer\u001b[0m\u001b[1;33m\u001b[0m\u001b[1;33m\u001b[0m\u001b[0m\n\u001b[0m\u001b[0;32m      2\u001b[0m \u001b[1;32mwith\u001b[0m \u001b[0mtsinfer\u001b[0m\u001b[1;33m.\u001b[0m\u001b[0mSampleData\u001b[0m\u001b[1;33m(\u001b[0m\u001b[0msequence_length\u001b[0m\u001b[1;33m=\u001b[0m\u001b[1;36m6\u001b[0m\u001b[1;33m)\u001b[0m \u001b[1;32mas\u001b[0m \u001b[0msample_data\u001b[0m\u001b[1;33m:\u001b[0m\u001b[1;33m\u001b[0m\u001b[1;33m\u001b[0m\u001b[0m\n\u001b[0;32m      3\u001b[0m     \u001b[0msample_data\u001b[0m\u001b[1;33m.\u001b[0m\u001b[0madd_site\u001b[0m\u001b[1;33m(\u001b[0m\u001b[1;36m0\u001b[0m\u001b[1;33m,\u001b[0m \u001b[1;33m[\u001b[0m\u001b[1;36m0\u001b[0m\u001b[1;33m,\u001b[0m \u001b[1;36m1\u001b[0m\u001b[1;33m,\u001b[0m \u001b[1;36m0\u001b[0m\u001b[1;33m,\u001b[0m \u001b[1;36m0\u001b[0m\u001b[1;33m,\u001b[0m \u001b[1;36m0\u001b[0m\u001b[1;33m]\u001b[0m\u001b[1;33m,\u001b[0m \u001b[1;33m[\u001b[0m\u001b[1;34m\"A\"\u001b[0m\u001b[1;33m,\u001b[0m \u001b[1;34m\"T\"\u001b[0m\u001b[1;33m]\u001b[0m\u001b[1;33m)\u001b[0m\u001b[1;33m\u001b[0m\u001b[1;33m\u001b[0m\u001b[0m\n\u001b[0;32m      4\u001b[0m     \u001b[0msample_data\u001b[0m\u001b[1;33m.\u001b[0m\u001b[0madd_site\u001b[0m\u001b[1;33m(\u001b[0m\u001b[1;36m1\u001b[0m\u001b[1;33m,\u001b[0m \u001b[1;33m[\u001b[0m\u001b[1;36m0\u001b[0m\u001b[1;33m,\u001b[0m \u001b[1;36m0\u001b[0m\u001b[1;33m,\u001b[0m \u001b[1;36m0\u001b[0m\u001b[1;33m,\u001b[0m \u001b[1;36m1\u001b[0m\u001b[1;33m,\u001b[0m \u001b[1;36m1\u001b[0m\u001b[1;33m]\u001b[0m\u001b[1;33m,\u001b[0m \u001b[1;33m[\u001b[0m\u001b[1;34m\"G\"\u001b[0m\u001b[1;33m,\u001b[0m \u001b[1;34m\"C\"\u001b[0m\u001b[1;33m]\u001b[0m\u001b[1;33m)\u001b[0m\u001b[1;33m\u001b[0m\u001b[1;33m\u001b[0m\u001b[0m\n\u001b[0;32m      5\u001b[0m     \u001b[0msample_data\u001b[0m\u001b[1;33m.\u001b[0m\u001b[0madd_site\u001b[0m\u001b[1;33m(\u001b[0m\u001b[1;36m2\u001b[0m\u001b[1;33m,\u001b[0m \u001b[1;33m[\u001b[0m\u001b[1;36m0\u001b[0m\u001b[1;33m,\u001b[0m \u001b[1;36m1\u001b[0m\u001b[1;33m,\u001b[0m \u001b[1;36m1\u001b[0m\u001b[1;33m,\u001b[0m \u001b[1;36m0\u001b[0m\u001b[1;33m,\u001b[0m \u001b[1;36m0\u001b[0m\u001b[1;33m]\u001b[0m\u001b[1;33m,\u001b[0m \u001b[1;33m[\u001b[0m\u001b[1;34m\"C\"\u001b[0m\u001b[1;33m,\u001b[0m \u001b[1;34m\"A\"\u001b[0m\u001b[1;33m]\u001b[0m\u001b[1;33m)\u001b[0m\u001b[1;33m\u001b[0m\u001b[1;33m\u001b[0m\u001b[0m\n",
      "\u001b[1;31mModuleNotFoundError\u001b[0m: No module named 'tsinfer'"
     ]
    }
   ],
   "source": [
    "import tsinfer\n",
    "\n",
    "with tsinfer.SampleData(sequence_length=6) as sample_data:\n",
    "    sample_data.add_site(0, [0, 1, 0, 0, 0], [\"A\", \"T\"])\n",
    "    sample_data.add_site(1, [0, 0, 0, 1, 1], [\"G\", \"C\"])\n",
    "    sample_data.add_site(2, [0, 1, 1, 0, 0], [\"C\", \"A\"])\n",
    "    sample_data.add_site(3, [0, 1, 1, 0, 0], [\"G\", \"C\"])\n",
    "    sample_data.add_site(4, [0, 0, 0, 1, 1], [\"A\", \"C\"])\n",
    "    sample_data.add_site(5, [0, 1, 2, 0, 0], [\"T\", \"G\", \"C\"])"
   ]
  },
  {
   "cell_type": "markdown",
   "metadata": {},
   "source": [
    "### Calculate summary statistics"
   ]
  },
  {
   "cell_type": "code",
   "execution_count": 11,
   "metadata": {},
   "outputs": [],
   "source": [
    "def pca_pipeline(genotypes, pos, pop_list):\n",
    "    genotypes, pos = ss.maf_filter(genotypes, pos)\n",
    "    genotypes = genotypes.to_n_alt()  # 012 with ind as cols\n",
    "    genotypes, pos = ss.ld_prune(genotypes, pos)\n",
    "    pca_stats = ss.pca_stats(genotypes, pop_list)\n",
    "    return pca_stats"
   ]
  },
  {
   "cell_type": "code",
   "execution_count": 12,
   "metadata": {},
   "outputs": [
    {
     "name": "stdout",
     "output_type": "stream",
     "text": [
      "ld_prune: Retaining: 4675  out of 104768 variants\n",
      "[[-94.76569     12.389448  ]\n",
      " [-95.3477      12.772695  ]\n",
      " [-94.43463     11.640673  ]\n",
      " [-95.45361     10.423411  ]\n",
      " [-95.31889     11.257632  ]\n",
      " [-93.64758     10.191983  ]\n",
      " [ 33.328747   -16.739653  ]\n",
      " [ 14.0510845  -19.388983  ]\n",
      " [-30.315884    -0.4825961 ]\n",
      " [-13.604401   -13.329091  ]\n",
      " [ 16.666996   -19.434633  ]\n",
      " [ 26.073038   -45.152912  ]\n",
      " [ 19.83546    -16.888266  ]\n",
      " [ 40.95768    -22.619717  ]\n",
      " [-54.235783    10.057721  ]\n",
      " [ -3.0648098   -5.554636  ]\n",
      " [ 40.068623   -19.63472   ]\n",
      " [-54.503536    -0.83496934]\n",
      " [-26.412983    -9.815467  ]\n",
      " [ 24.588512    -4.4835534 ]\n",
      " [-16.812393   -10.886819  ]\n",
      " [  0.6142031  -41.757656  ]\n",
      " [ 28.43798    -18.03693   ]\n",
      " [-11.437587   -13.157456  ]\n",
      " [ 40.172977   -20.565279  ]\n",
      " [ 40.43329    -14.394998  ]\n",
      " [ 40.661674   -19.893684  ]\n",
      " [-92.541084    10.183984  ]\n",
      " [ -9.633197   -10.46928   ]\n",
      " [ 32.140594   -54.817345  ]\n",
      " [ 17.829697   -22.587662  ]\n",
      " [  0.85433435  -4.5438366 ]\n",
      " [-13.806366    -9.560278  ]\n",
      " [  8.556616    -1.2723478 ]\n",
      " [ 21.711277   -29.932728  ]\n",
      " [ 44.07323     31.900156  ]\n",
      " [ 44.917904    40.35878   ]\n",
      " [ 45.500114    45.424114  ]\n",
      " [ 45.07291     37.88572   ]\n",
      " [ 42.812267    27.350964  ]\n",
      " [ 44.7186      38.51528   ]\n",
      " [ 45.10276     39.136715  ]\n",
      " [ 48.13561     49.06598   ]\n",
      " [ 43.741047    29.441141  ]\n",
      " [ 44.275883    38.194748  ]]\n"
     ]
    }
   ],
   "source": [
    "summary_functions = [\n",
    "    ss.tskit_stats(tree_seq, samples),\n",
    "    ss.afs_stats(tree_seq, samples),\n",
    "    ss.r2_stats(tree_seq, samples, [0, 1e6, 2e6, 4e6], labels=[\"0_1Mb\", \"1_2Mb\", \"2_4MB\"]),\n",
    "    ss.roh_stats(genotypes, pos, pop_list, seq_features.length),\n",
    "    pca_pipeline(genotypes, pos, pop_list),\n",
    "]\n",
    "\n",
    "stats_dict = {\"random_seed\": sim.random_seed}  # Random seed acts as ID\n",
    "\n",
    "for func in summary_functions:\n",
    "    stat = func\n",
    "    stats_dict = {**stats_dict, **stat}"
   ]
  },
  {
   "cell_type": "code",
   "execution_count": 13,
   "metadata": {},
   "outputs": [
    {
     "data": {
      "text/plain": [
       "{'random_seed': 40,\n",
       " 'domestic_diversity': 0.00010026222222223005,\n",
       " 'wild_diversity': 0.002056811892655066,\n",
       " 'captive_diversity': 8.390236842105024e-05,\n",
       " 'domestic_segregating_sites': 0.0002877,\n",
       " 'wild_segregating_sites': 0.00535675,\n",
       " 'captive_segregating_sites': 0.00024195,\n",
       " 'domestic_tajimas_d': -0.0709153109026183,\n",
       " 'wild_tajimas_d': 2.8408826450267255,\n",
       " 'captive_tajimas_d': 0.9662237399542725,\n",
       " 'dom_wild_f2': 0.002266519442561076,\n",
       " 'dom_cap_f2': 0.004634285204678298,\n",
       " 'wild_cap_f2': 0.0004236245361283825,\n",
       " 'dom_wild_divergence': 0.003345056500000762,\n",
       " 'dom_cap_divergence': 0.004726367500000013,\n",
       " 'wild_cap_divergence': 0.0014939816666651208,\n",
       " 'domestic_f3': 0.0032385900555555644,\n",
       " 'wild_f3': -0.0009720706129941292,\n",
       " 'captive_f3': 0.0013956951491217414,\n",
       " 'domestic_y3': 0.0032887211666667395,\n",
       " 'wild_y3': 5.6335333333329074e-05,\n",
       " 'captive_y3': 0.001437646333332099,\n",
       " 'dom_wild_fst': 0.512370635577579,\n",
       " 'dom_cap_fst': 0.9617792861882487,\n",
       " 'wild_cap_fst': 0.1651983492154362,\n",
       " 'all_pops_diversity': 0.0020989002996246097,\n",
       " 'all_pops_segregating_sites': 0.00546465,\n",
       " 'all_pops_tajimas_d': 3.2718241999903386,\n",
       " 'domestic_afs_median': 461.0,\n",
       " 'domestic_afs_iqr': 1183.5,\n",
       " 'wild_afs_median': 48.0,\n",
       " 'wild_afs_iqr': 1488.0,\n",
       " 'captive_afs_median': 191.0,\n",
       " 'captive_afs_iqr': 484.0,\n",
       " 'all_pops_afs_median': 0.0,\n",
       " 'all_pops_afs_iqr': 467.5,\n",
       " 'all_pops_r2_median_0_1Mb': 0.8090185676392574,\n",
       " 'all_pops_r2_median_1_2Mb': 0.6293081706309515,\n",
       " 'all_pops_r2_median_2_4MB': 0.45503574011131454,\n",
       " 'captive_r2_median_0_1Mb': 0.10714285714285719,\n",
       " 'captive_r2_median_1_2Mb': 0.07407407407407407,\n",
       " 'captive_r2_median_2_4MB': 0.052631578947368425,\n",
       " 'domestic_r2_median_0_1Mb': 0.062499999999999986,\n",
       " 'domestic_r2_median_1_2Mb': 0.04761904761904762,\n",
       " 'domestic_r2_median_2_4MB': 0.04761904761904762,\n",
       " 'wild_r2_median_0_1Mb': 0.7474120082815734,\n",
       " 'wild_r2_median_1_2Mb': 0.48484848484848475,\n",
       " 'wild_r2_median_2_4MB': 0.27272727272727276,\n",
       " 'all_pops_r2_iqr_0_1Mb': 0.692867915051981,\n",
       " 'all_pops_r2_iqr_1_2Mb': 0.5846265242151492,\n",
       " 'all_pops_r2_iqr_2_4MB': 0.4032826989816236,\n",
       " 'captive_r2_iqr_0_1Mb': 0.32193732193732194,\n",
       " 'captive_r2_iqr_1_2Mb': 0.18278018278018276,\n",
       " 'captive_r2_iqr_2_4MB': 0.123249299719888,\n",
       " 'domestic_r2_iqr_0_1Mb': 0.1388888888888889,\n",
       " 'domestic_r2_iqr_1_2Mb': 0.11284722222222228,\n",
       " 'domestic_r2_iqr_2_4MB': 0.11284722222222217,\n",
       " 'wild_r2_iqr_0_1Mb': 0.5438596491228075,\n",
       " 'wild_r2_iqr_1_2Mb': 0.4110593033509703,\n",
       " 'wild_r2_iqr_2_4MB': 0.24846253037742413,\n",
       " 'captive_roh_length_median': 17109499.0,\n",
       " 'domestic_roh_length_median': 15481999.0,\n",
       " 'wild_roh_length_median': 2717999.0,\n",
       " 'all_pops_roh_length_median': 3522999.0,\n",
       " 'captive_roh_length_iqr': 16477000.0,\n",
       " 'domestic_roh_length_iqr': 10001000.0,\n",
       " 'wild_roh_length_iqr': 4229500.0,\n",
       " 'all_pops_roh_length_iqr': 6281750.0,\n",
       " 'domestic_roh_cov_median': 0.99999995,\n",
       " 'domestic_roh_cov_iqr': 0.00010005000000001818,\n",
       " 'wild_roh_cov_median': 0.6865247999999999,\n",
       " 'wild_roh_cov_iqr': 0.33869998749999997,\n",
       " 'captive_roh_cov_median': 0.99999995,\n",
       " 'captive_roh_cov_iqr': 7.503750000004139e-05,\n",
       " 'all_pops_roh_cov_median': 0.88149985,\n",
       " 'all_pops_roh_cov_iqr': 0.37280004999999994,\n",
       " 'captive_pc1_iqr': 0.9714040756225586,\n",
       " 'captive_pc2_iqr': 6.656716823577881,\n",
       " 'domestic_pc1_iqr': 0.5820083618164062,\n",
       " 'domestic_pc2_iqr': 1.1318159103393555,\n",
       " 'wild_pc1_iqr': 41.60261917114258,\n",
       " 'wild_pc2_iqr': 15.0324068069458,\n",
       " 'all_pops_pc1_iqr': 57.47406768798828,\n",
       " 'all_pops_pc2_iqr': 30.42637825012207,\n",
       " 'pc1_pairwise_medians_dom_wild': 106.62274169921875,\n",
       " 'pc2_pairwise_medians_dom_wild': 25.502716064453125,\n",
       " 'pc1_pairwise_medians_dom_cap': 140.13714599609375,\n",
       " 'pc2_pairwise_medians_dom_cap': 26.71434211730957,\n",
       " 'pc1_pairwise_medians_wild_cap': 33.514404296875,\n",
       " 'pc2_pairwise_medians_wild_cap': 52.21706008911133}"
      ]
     },
     "execution_count": 13,
     "metadata": {},
     "output_type": "execute_result"
    }
   ],
   "source": [
    "stats_dict"
   ]
  },
  {
   "cell_type": "markdown",
   "metadata": {},
   "source": [
    "### Caluculate summary statistics"
   ]
  },
  {
   "cell_type": "code",
   "execution_count": null,
   "metadata": {},
   "outputs": [],
   "source": [
    "samples = sim.sample_nodes(tree_seq, [4, 45, 46])  # Match number of samples to the WGS data\n",
    "tree_seq = tree_seq.simplify(samples=np.concatenate(samples))\n",
    "\n",
    "# Calculate summary statistics\n",
    "def pca_pipeline(genotypes, pos):\n",
    "    genotypes, pos = ss.maf_filter(genotypes, pos)\n",
    "    genotypes = genotypes.to_n_alt()  # 012 with ind as cols\n",
    "    genotypes, pos = ss.ld_prune(genotypes, pos)\n",
    "    pca_stats = ss.pca_stats(genotypes)\n",
    "    return pca_stats\n",
    "\n",
    "genotypes = ss.sampled_genotypes(tree_seq)  # scikit-allel format\n",
    "pos = ss.positions(tree_seq)\n",
    "\n",
    "# Using a list to call function in for loop so we can use try/except (in case any functions fail)\n",
    "summary_functions = [\n",
    "    sum_stats.tskit_stats(),\n",
    "    sum_stats.afs_stats(),\n",
    "    sum_stats.r2_stats(),\n",
    "    sum_stats.roh_stats(genotypes, pos),\n",
    "    pca_pipeline(genotypes, pos),\n",
    "]\n",
    "\n",
    "stats_dict = {\"random_seed\": sim.random_seed}  # Random seed acts as ID\n",
    "\n",
    "for func in summary_functions:\n",
    "    stat = func\n",
    "    stats_dict = {**stats_dict, **stat}"
   ]
  },
  {
   "cell_type": "code",
   "execution_count": null,
   "metadata": {},
   "outputs": [],
   "source": [
    "coverage_stats = {'domestic_roh_cov_median': 0.9996666, 'domestic_roh_cov_iqr': 0.00022224444444440827, 'wild_roh_cov_median': 0.6211887222222223, 'wild_roh_cov_iqr': 0.19288330555555555, 'captive_roh_cov_median': 0.8555888222222222, 'captive_roh_cov_iqr': 0.10507222222222223}\n",
    "coverage_stats[\"all_pops_roh_cov_median\"] = np.median()"
   ]
  },
  {
   "cell_type": "code",
   "execution_count": null,
   "metadata": {},
   "outputs": [],
   "source": [
    "np.all(prior_df[[\"mig_rate_wild\", \"mig_rate_post_split\"]]<=1) & np.all(prior_df[[\"mig_rate_wild\", \"mig_rate_post_split\"]]>=0)"
   ]
  },
  {
   "cell_type": "markdown",
   "metadata": {},
   "source": [
    "### Calculate ROH"
   ]
  },
  {
   "cell_type": "markdown",
   "metadata": {},
   "source": [
    "Below seems fine but we should probably filter minor alleles. With this a single mutation breaks a ROH... I think that is ok? Presumably v. informative for PODs?"
   ]
  },
  {
   "cell_type": "code",
   "execution_count": null,
   "metadata": {},
   "outputs": [],
   "source": [
    "samples = sim.sample_nodes(tree_seq, [4, 45, 46])  # Match number of samples to the SNP data\n",
    "tree_seq = tree_seq.simplify(samples=np.concatenate(samples))\n",
    "sum_stats = SummaryStatistics(tree_seq, sim)\n",
    "genotypes = sum_stats.sampled_genotypes()\n",
    "is_homo = genotypes[:,:,0] == genotypes[:,:,1]"
   ]
  },
  {
   "cell_type": "code",
   "execution_count": null,
   "metadata": {},
   "outputs": [],
   "source": [
    "roh_id = pd.DataFrame(np.cumsum(is_homo == False, axis=0))  # Increment ID with each heterozygote\n",
    "roh_id[\"position\"] = sim_tools.positions(tree_seq)\n",
    "df = roh_id.melt(id_vars=\"position\", var_name=\"individual\", value_name=\"roh_id\")\n",
    "df = df.groupby([\"individual\", \"roh_id\"])[\"position\"].max().reset_index()\n",
    "df[\"roh_length\"] = df.groupby('individual')['position'].diff(1)\n",
    "df = df.dropna()  # Drops first \"ROH\" (as no previous heterozygote)\n",
    "df = df.drop(columns = [\"position\", \"roh_id\"])\n",
    "# pd.DataFrame({\"population\": sum_stats.individual_pop_list, \"id\": range(0, len(sum_stats.individual_pop_list))})"
   ]
  },
  {
   "cell_type": "markdown",
   "metadata": {},
   "source": [
    "### PCA"
   ]
  },
  {
   "cell_type": "markdown",
   "metadata": {},
   "source": [
    "#### Take a sample and get the genotypes"
   ]
  },
  {
   "cell_type": "code",
   "execution_count": null,
   "metadata": {},
   "outputs": [],
   "source": [
    "samples = sim.sample_nodes(tree_seq, [4, 45, 46])  # Match number of samples to the SNP data\n",
    "tree_seq = tree_seq.simplify(samples=np.concatenate(samples))"
   ]
  },
  {
   "cell_type": "code",
   "execution_count": null,
   "metadata": {},
   "outputs": [],
   "source": [
    "genotypes = ss.genotypes(tree_seq)\n",
    "pos = ss.positions(tree_seq)\n",
    "pop_list = ss.pop_list(tree_seq)\n",
    "samples = ss.sampled_nodes(tree_seq)"
   ]
  },
  {
   "cell_type": "markdown",
   "metadata": {},
   "source": [
    "#### Check for LD"
   ]
  },
  {
   "cell_type": "code",
   "execution_count": null,
   "metadata": {},
   "outputs": [],
   "source": [
    "def plot_ld(gn, title):\n",
    "    m = allel.rogers_huff_r(gn) ** 2\n",
    "    ax = allel.plot_pairwise_ld(m)\n",
    "    ax.set_title(title)"
   ]
  },
  {
   "cell_type": "code",
   "execution_count": null,
   "metadata": {},
   "outputs": [],
   "source": [
    "plot_ld(genotypes[:1000].to_n_alt(), 'Pairwise LD.')"
   ]
  },
  {
   "cell_type": "markdown",
   "metadata": {},
   "source": [
    "#### Filter singletons and SNPs in LD\n",
    "SNPs in LD can bias PCA."
   ]
  },
  {
   "cell_type": "code",
   "execution_count": null,
   "metadata": {},
   "outputs": [],
   "source": [
    "genotypes, pos = ss.maf_filter(genotypes, pos)\n",
    "genotypes, pos = ss.ld_prune(genotypes.to_n_alt(), pos)"
   ]
  },
  {
   "cell_type": "code",
   "execution_count": null,
   "metadata": {},
   "outputs": [],
   "source": [
    "plot_ld(genotypes[:1000], 'Pairwise LD after pruning')"
   ]
  },
  {
   "cell_type": "markdown",
   "metadata": {},
   "source": [
    "### Plot both"
   ]
  },
  {
   "cell_type": "code",
   "execution_count": null,
   "metadata": {},
   "outputs": [],
   "source": [
    "sample_population = np.asarray([\"domestic\"]*4 + [\"wild\"]*45 + [\"captive\"]*46)\n",
    "populations = [\"domestic\", \"wild\", \"captive\"]\n",
    "pop_colours = [\"#FF0000\", \"#FFA500\", \"#0000FF\"]\n",
    "\n",
    "# Simulated data pca\n",
    "coords, model = allel.pca(genotypes, n_components=10, scaler='patterson')\n",
    "sim_df = pd.DataFrame({\"pc1\": coords[:, 0], \"pc2\": coords[:, 1],\n",
    "                       \"population\": sample_population, \"simulated_or_observed\": \"simulated\"})\n",
    "\n",
    "# Real data pca\n",
    "real_genotypes = np.loadtxt(\"../data/allsnps_obs.012\", delimiter=\" \", skiprows=1)\n",
    "real_genotypes = real_genotypes[:,1:].transpose()  # Get rid of index and convert individuals to columns\n",
    "coords, model = allel.pca(real_genotypes, n_components=2, scaler='patterson')\n",
    "real_df = pd.DataFrame({\"pc1\": coords[:, 0], \"pc2\": coords[:, 1],\n",
    "                   \"population\": sample_population, \"simulated_or_observed\": \"observed\"})\n",
    "\n",
    "# Combined data\n",
    "combined_df = sim_df.append(real_df)"
   ]
  },
  {
   "cell_type": "code",
   "execution_count": null,
   "metadata": {},
   "outputs": [],
   "source": [
    "sns.set(style='darkgrid', font_scale=1.3)\n",
    "\n",
    "g = sns.relplot(x=\"pc1\", y=\"pc2\",\n",
    "                row=\"simulated_or_observed\", hue=\"population\",\n",
    "                kind=\"scatter\", data=combined_df,\n",
    "                facet_kws=dict(sharex=False, sharey=False),\n",
    "                aspect=1.4)\n",
    "\n",
    "axes = g.axes.flatten()\n",
    "axes[0].set_title(\"Simulated\")\n",
    "axes[1].set_title(\"Observed\")\n",
    "\n",
    "g.savefig(\"../plots/simulated_vs_observed_pca.png\", dpi=600)"
   ]
  }
 ],
 "metadata": {
  "kernelspec": {
   "display_name": "Python 3",
   "language": "python",
   "name": "python3"
  },
  "language_info": {
   "codemirror_mode": {
    "name": "ipython",
    "version": 3
   },
   "file_extension": ".py",
   "mimetype": "text/x-python",
   "name": "python",
   "nbconvert_exporter": "python",
   "pygments_lexer": "ipython3",
   "version": "3.7.7"
  }
 },
 "nbformat": 4,
 "nbformat_minor": 4
}
