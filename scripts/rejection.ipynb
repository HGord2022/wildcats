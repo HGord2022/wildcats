{
 "cells": [
  {
   "cell_type": "code",
   "execution_count": 1,
   "metadata": {},
   "outputs": [
    {
     "data": {
      "text/plain": [
       "<Figure size 432x288 with 0 Axes>"
      ]
     },
     "metadata": {},
     "output_type": "display_data"
    }
   ],
   "source": [
    "from sim.model import simple_sim\n",
    "from sim.sum_stats import simple_sum\n",
    "import logging\n",
    "import time\n",
    "import pandas as pd\n",
    "import numpy as np\n",
    "import os\n",
    "import pickle\n",
    "import priors # This runs priors.py so we can read in the priors\n",
    "\n",
    "logging.basicConfig()\n",
    "logging.getLogger().setLevel(logging.INFO)"
   ]
  },
  {
   "cell_type": "code",
   "execution_count": 2,
   "metadata": {},
   "outputs": [
    {
     "name": "stdout",
     "output_type": "stream",
     "text": [
      "WARNING NEED TO REPLACE ARRAY ID\n"
     ]
    }
   ],
   "source": [
    "start_time = time.time()\n",
    "# array_id = int(os.environ['PBS_ARRAYID'])\n",
    "array_id = 1\n",
    "print(\"WARNING NEED TO REPLACE ARRAY ID\")"
   ]
  },
  {
   "cell_type": "code",
   "execution_count": 3,
   "metadata": {},
   "outputs": [],
   "source": [
    "runs_per_task = 3    # Jobs in an array are referred to as tasks\n",
    "start_index = array_id*runs_per_task\n",
    "end_index = start_index+runs_per_task"
   ]
  },
  {
   "cell_type": "code",
   "execution_count": 4,
   "metadata": {},
   "outputs": [],
   "source": [
    "prior_df = pd.read_feather(\"../output/rejection/priors.feather\")"
   ]
  },
  {
   "cell_type": "code",
   "execution_count": 5,
   "metadata": {},
   "outputs": [
    {
     "name": "stderr",
     "output_type": "stream",
     "text": [
      "INFO:root:Param bottleneck_strength_domestic = 8162\n",
      "INFO:root:Param bottleneck_strength_wild = 9239\n",
      "INFO:root:Param bottleneck_time_domestic = 3754\n",
      "INFO:root:Param bottleneck_time_wild = 3756\n",
      "INFO:root:Param captive_time = 15\n",
      "INFO:root:Param div_time = 36737\n",
      "INFO:root:Param mig_length_post_split = 2063\n",
      "INFO:root:Param mig_length_wild = 10\n",
      "INFO:root:Param mig_rate_captive = 0.1840646910664301\n",
      "INFO:root:Param mig_rate_post_split = 0.19540467068879347\n",
      "INFO:root:Param mig_rate_wild = 0.09669319125962743\n",
      "INFO:root:Param pop_size_captive = 152\n",
      "INFO:root:Param pop_size_domestic_1 = 8792\n",
      "INFO:root:Param pop_size_domestic_2 = 10340\n",
      "INFO:root:Param pop_size_wild_1 = 5950\n",
      "INFO:root:Param pop_size_wild_2 = 5669\n",
      "INFO:root:Running command: slim -d captive_time=15 -d mig_length_wild=10 -d mig_rate_captive=0.1840646910664301 -d mig_rate_wild=0.09669319125962743 -d pop_size_captive=152 -d pop_size_domestic_1=8792 -d pop_size_wild_1=5950 -d length=5000000 -d recombination_rate=1.8e-08  -d decap_trees_filename='\"../output/decap_3.trees\"' -s 40 slim_model.slim\n",
      " /home/dw16200/miniconda3/envs/wildcats_env/lib/python3.8/site-packages/pyslim/slim_tree_sequence.py:571: UserWarning:It looks like the tree sequence was not saved to file during remembered_stage=late. This may cause inaccuracies in deciding which individuals are alive at what times.\n",
      "WARNING:root:Focal mutations are drawn from a small proportion (0.20) of the genome. A large maximum bin value may have reserved too much space for mutations for comparison. It may be worth using a smaller maximum bin width. \n",
      "WARNING:root:Focal mutations are drawn from a small proportion (0.20) of the genome. A large maximum bin value may have reserved too much space for mutations for comparison. It may be worth using a smaller maximum bin width. \n",
      "WARNING:root:Focal mutations are drawn from a small proportion (0.20) of the genome. A large maximum bin value may have reserved too much space for mutations for comparison. It may be worth using a smaller maximum bin width. \n",
      "WARNING:root:Focal mutations are drawn from a small proportion (0.20) of the genome. A large maximum bin value may have reserved too much space for mutations for comparison. It may be worth using a smaller maximum bin width. \n",
      "INFO:root:Calculating summary stats finished in 31.04 s\n",
      "INFO:root:Param bottleneck_strength_domestic = 4087\n",
      "INFO:root:Param bottleneck_strength_wild = 21418\n",
      "INFO:root:Param bottleneck_time_domestic = 4059\n",
      "INFO:root:Param bottleneck_time_wild = 2303\n",
      "INFO:root:Param captive_time = 28\n",
      "INFO:root:Param div_time = 43950\n",
      "INFO:root:Param mig_length_post_split = 5090\n",
      "INFO:root:Param mig_length_wild = 15\n",
      "INFO:root:Param mig_rate_captive = 0.06724644265155974\n",
      "INFO:root:Param mig_rate_post_split = 0.003630462285263529\n",
      "INFO:root:Param mig_rate_wild = 0.04186708612308481\n",
      "INFO:root:Param pop_size_captive = 51\n",
      "INFO:root:Param pop_size_domestic_1 = 7052\n",
      "INFO:root:Param pop_size_domestic_2 = 8566\n",
      "INFO:root:Param pop_size_wild_1 = 7566\n",
      "INFO:root:Param pop_size_wild_2 = 8117\n",
      "INFO:root:Running command: slim -d captive_time=28 -d mig_length_wild=15 -d mig_rate_captive=0.06724644265155974 -d mig_rate_wild=0.04186708612308481 -d pop_size_captive=51 -d pop_size_domestic_1=7052 -d pop_size_wild_1=7566 -d length=5000000 -d recombination_rate=1.8e-08  -d decap_trees_filename='\"../output/decap_4.trees\"' -s 40 slim_model.slim\n",
      " /home/dw16200/miniconda3/envs/wildcats_env/lib/python3.8/site-packages/pyslim/slim_tree_sequence.py:571: UserWarning:It looks like the tree sequence was not saved to file during remembered_stage=late. This may cause inaccuracies in deciding which individuals are alive at what times.\n",
      "WARNING:root:Focal mutations are drawn from a small proportion (0.20) of the genome. A large maximum bin value may have reserved too much space for mutations for comparison. It may be worth using a smaller maximum bin width. \n",
      "WARNING:root:Focal mutations are drawn from a small proportion (0.20) of the genome. A large maximum bin value may have reserved too much space for mutations for comparison. It may be worth using a smaller maximum bin width. \n",
      "WARNING:root:Focal mutations are drawn from a small proportion (0.20) of the genome. A large maximum bin value may have reserved too much space for mutations for comparison. It may be worth using a smaller maximum bin width. \n",
      "WARNING:root:Focal mutations are drawn from a small proportion (0.20) of the genome. A large maximum bin value may have reserved too much space for mutations for comparison. It may be worth using a smaller maximum bin width. \n",
      "INFO:root:Calculating summary stats finished in 59.24 s\n",
      "INFO:root:Param bottleneck_strength_domestic = 2617\n",
      "INFO:root:Param bottleneck_strength_wild = 22952\n",
      "INFO:root:Param bottleneck_time_domestic = 3562\n",
      "INFO:root:Param bottleneck_time_wild = 3624\n",
      "INFO:root:Param captive_time = 17\n",
      "INFO:root:Param div_time = 38530\n",
      "INFO:root:Param mig_length_post_split = 3992\n",
      "INFO:root:Param mig_length_wild = 15\n",
      "INFO:root:Param mig_rate_captive = 0.11245430754998287\n",
      "INFO:root:Param mig_rate_post_split = 0.27084073497728905\n",
      "INFO:root:Param mig_rate_wild = 0.08352756222507912\n",
      "INFO:root:Param pop_size_captive = 52\n",
      "INFO:root:Param pop_size_domestic_1 = 8032\n",
      "INFO:root:Param pop_size_domestic_2 = 13132\n",
      "INFO:root:Param pop_size_wild_1 = 4901\n",
      "INFO:root:Param pop_size_wild_2 = 5745\n",
      "INFO:root:Running command: slim -d captive_time=17 -d mig_length_wild=15 -d mig_rate_captive=0.11245430754998287 -d mig_rate_wild=0.08352756222507912 -d pop_size_captive=52 -d pop_size_domestic_1=8032 -d pop_size_wild_1=4901 -d length=5000000 -d recombination_rate=1.8e-08  -d decap_trees_filename='\"../output/decap_5.trees\"' -s 40 slim_model.slim\n",
      " /home/dw16200/miniconda3/envs/wildcats_env/lib/python3.8/site-packages/pyslim/slim_tree_sequence.py:571: UserWarning:It looks like the tree sequence was not saved to file during remembered_stage=late. This may cause inaccuracies in deciding which individuals are alive at what times.\n",
      "WARNING:root:Focal mutations are drawn from a small proportion (0.20) of the genome. A large maximum bin value may have reserved too much space for mutations for comparison. It may be worth using a smaller maximum bin width. \n",
      "WARNING:root:Focal mutations are drawn from a small proportion (0.20) of the genome. A large maximum bin value may have reserved too much space for mutations for comparison. It may be worth using a smaller maximum bin width. \n",
      "WARNING:root:Focal mutations are drawn from a small proportion (0.20) of the genome. A large maximum bin value may have reserved too much space for mutations for comparison. It may be worth using a smaller maximum bin width. \n",
      "WARNING:root:Focal mutations are drawn from a small proportion (0.20) of the genome. A large maximum bin value may have reserved too much space for mutations for comparison. It may be worth using a smaller maximum bin width. \n",
      "INFO:root:Calculating summary stats finished in 93.31 s\n"
     ]
    }
   ],
   "source": [
    "failed_runs = 0\n",
    "\n",
    "# Run the model runs_per_task times\n",
    "for i in range(start_index, end_index):\n",
    "    np.random.seed(i)\n",
    "    params = prior_df.astype(object).iloc[i].to_dict()  # Row of parameters\n",
    "    \n",
    "\n",
    "    try:  # Just to make sure results end up being NA instead of breaking the run.\n",
    "        data = simple_sim(**params, length = int(5e6),\n",
    "                      recombination_rate = 1.8e-8,\n",
    "                      mutation_rate = 6e-8, seed=i)  # Run model with params\n",
    "\n",
    "    except Exception:\n",
    "        logging.warning(\"The simulation failed to run on parameter index {}\".format(i))\n",
    "        failed_runs += 1\n",
    "        if failed_runs == 2:\n",
    "            raise ValueError('The number of failed runs in this batch reached 3!')\n",
    "        continue  # If something goes wrong go to next iteration (row will be np.nan)\n",
    "\n",
    "    stats_dict = simple_sum(data)\n",
    "\n",
    "    logging.info(\"Calculating summary stats finished in {:.2f} s\".format(time.time() - start_time))\n",
    "\n",
    "    if i == start_index:  # Saves writing out all the parameter names to initiate the df beforehand\n",
    "        stats_df = pd.DataFrame(np.nan, index=range(start_index, end_index), columns=stats_dict.keys())\n",
    "        stats_df.loc[i] = list(stats_dict.values())\n",
    "    else:\n",
    "        for col, value in stats_dict.items():\n",
    "            stats_df.loc[i, col] = value\n",
    "\n",
    "stats_df = stats_df.reset_index(drop=True)\n",
    "output_filepath = \"../output/rejection/summary_stats/summary_stats_{}.feather\".format(array_id)\n",
    "stats_df.to_feather(output_filepath)\n"
   ]
  }
 ],
 "metadata": {
  "kernelspec": {
   "display_name": "Python 3",
   "language": "python",
   "name": "python3"
  },
  "language_info": {
   "codemirror_mode": {
    "name": "ipython",
    "version": 3
   },
   "file_extension": ".py",
   "mimetype": "text/x-python",
   "name": "python",
   "nbconvert_exporter": "python",
   "pygments_lexer": "ipython3",
   "version": "3.8.5"
  }
 },
 "nbformat": 4,
 "nbformat_minor": 4
}
