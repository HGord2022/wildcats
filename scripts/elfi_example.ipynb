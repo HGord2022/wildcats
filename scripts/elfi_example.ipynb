{
 "cells": [
  {
   "cell_type": "markdown",
   "metadata": {},
   "source": [
    "### Imports and cluster environment"
   ]
  },
  {
   "cell_type": "code",
   "execution_count": 1,
   "metadata": {},
   "outputs": [],
   "source": [
    "import multiprocessing\n",
    "import pandas as pd\n",
    "from sim.model import elfi_sim\n",
    "from sim.sum_stats import elfi_summary\n",
    "import tskit\n",
    "import allel\n",
    "import numpy as np\n",
    "import matplotlib\n",
    "import matplotlib.pyplot as plt\n",
    "import seaborn as sns\n",
    "import elfi\n",
    "import scipy.stats\n",
    "from sklearn.preprocessing import StandardScaler\n",
    "import graphviz\n",
    "\n",
    "import logging\n",
    "logging.basicConfig()\n",
    "logging.getLogger().setLevel(logging.WARNING)\n",
    "\n",
    "#multiprocessing.freeze_support()\n",
    "#elfi.set_client('multiprocessing')\n",
    "\n"
   ]
  },
  {
   "cell_type": "markdown",
   "metadata": {},
   "source": [
    "### Create pseudo-observed data"
   ]
  },
  {
   "cell_type": "code",
   "execution_count": 2,
   "metadata": {},
   "outputs": [],
   "source": [
    "y_obs = elfi_sim(length=int(5e6),\n",
    "            recombination_rate=1.8e-8,\n",
    "            mutation_rate=6e-8,\n",
    "            pop_size_domestic_1=[100],\n",
    "            pop_size_wild_1=[100],\n",
    "            pop_size_captive=[100],\n",
    "            captive_time=[20],\n",
    "            mig_rate_captive=[0.01],\n",
    "            mig_length_wild=[20],\n",
    "            mig_rate_wild=[0.01],\n",
    "            pop_size_domestic_2=[100],\n",
    "            pop_size_wild_2=[100],\n",
    "            div_time=[20000],\n",
    "            mig_rate_post_split=[0.1],\n",
    "            mig_length_post_split=[1000],\n",
    "            bottleneck_time_wild=[3000],\n",
    "            bottleneck_strength_wild=[10000],\n",
    "            bottleneck_time_domestic=[3000],\n",
    "            bottleneck_strength_domestic=[3000],\n",
    "            random_state=np.random.RandomState(3),\n",
    "            batch_size=1)"
   ]
  },
  {
   "cell_type": "markdown",
   "metadata": {},
   "source": [
    "### Set up prior and constants"
   ]
  },
  {
   "cell_type": "code",
   "execution_count": 3,
   "metadata": {},
   "outputs": [],
   "source": [
    "\"\"\"\n",
    "length = elfi.Constant(int(5e6))\n",
    "recombination_rate = elfi.Constant(1.8e-8)\n",
    "mutation_rate = elfi.Constant(6e-8)\n",
    "pop_size_domestic_1 = elfi.Prior(scipy.stats.uniform, 100, 10000-100)  # scipy.stats.uniform(100, 15000),\n",
    "pop_size_wild_1 = elfi.Prior(scipy.stats.lognorm, 0.4, 0, np.exp(8))  # scipy.stats.lognorm(0.4, scale=np.exp(8.5)),\n",
    "pop_size_captive = elfi.Prior(scipy.stats.lognorm, 0.3, 0, np.exp(4.5))\n",
    "mig_rate_captive = elfi.Prior(scipy.stats.beta, 1.2, 40)\n",
    "captive_time = elfi.Prior(scipy.stats.lognorm, 0.7, 0, np.exp(3))\n",
    "mig_length_wild = elfi.Prior(scipy.stats.lognorm, 0.7, 0, np.exp(3))\n",
    "mig_rate_wild = elfi.Prior(scipy.stats.beta(2, 50))              \n",
    "pop_size_domestic_2 = elfi.Prior(scipy.stats.uniform, 1000, 20000-1000)  # scipy.stats.uniform(1000, 25000),\n",
    "pop_size_wild_2 = elfi.Prior(scipy.stats.lognorm, 0.2, 0, np.exp(8.8))  # scipy.stats.lognorm(0.2, scale=np.exp(9.2)),\n",
    "bottleneck_strength_domestic = elfi.Prior(scipy.stats.uniform, 0, 40000-0)\n",
    "bottleneck_time_domestic = elfi.Prior(scipy.stats.norm, 3500, 600)\n",
    "bottleneck_strength_wild = elfi.Prior(scipy.stats.uniform, 0, 40000-0)\n",
    "bottleneck_time_wild = elfi.Prior(scipy.stats.norm, 3500, 600)\n",
    "mig_length_post_split = elfi.Prior(scipy.stats.uniform, 0, 10000-0)\n",
    "mig_rate_post_split = elfi.Prior(scipy.stats.truncnorm, 0, 1, 0, 0.1)\n",
    "div_time = elfi.Prior(scipy.stats.norm, 40000, 5000)\n",
    "\"\"\"\n",
    "pass"
   ]
  },
  {
   "cell_type": "code",
   "execution_count": 4,
   "metadata": {},
   "outputs": [],
   "source": [
    "# Test priors\n",
    "length = elfi.Constant(int(5e6))\n",
    "recombination_rate = elfi.Constant(1.8e-8)\n",
    "mutation_rate = elfi.Constant(6e-8)\n",
    "pop_size_domestic_1 = elfi.Prior(scipy.stats.truncnorm(-2, np.inf, 60, 10))  # scipy.stats.uniform(100, 15000),\n",
    "pop_size_wild_1 = elfi.Prior(scipy.stats.truncnorm(-2, np.inf, 60, 10))  # scipy.stats.lognorm(0.4, scale=np.exp(8.5)),\n",
    "pop_size_captive = elfi.Prior(scipy.stats.truncnorm(-2, np.inf, 60, 10))\n",
    "mig_rate_captive = elfi.Prior(scipy.stats.beta, 1.2, 40)\n",
    "captive_time = elfi.Prior(scipy.stats.lognorm, 0.7, 0, np.exp(3))\n",
    "mig_length_wild = elfi.Prior(scipy.stats.lognorm, 0.7, 0, np.exp(3))\n",
    "mig_rate_wild = elfi.Prior(scipy.stats.beta(2, 50))              \n",
    "pop_size_domestic_2 = elfi.Prior(scipy.stats.truncnorm(-2, np.inf, 60, 10))  # scipy.stats.uniform(1000, 25000),\n",
    "pop_size_wild_2 = elfi.Prior(scipy.stats.truncnorm(-2, np.inf, 60, 10))  # scipy.stats.lognorm(0.2, scale=np.exp(9.2)),\n",
    "bottleneck_strength_domestic = elfi.Prior(scipy.stats.uniform, 0, 3000-0)\n",
    "bottleneck_time_domestic = elfi.Prior(scipy.stats.norm, 3500, 300)\n",
    "bottleneck_strength_wild = elfi.Prior(scipy.stats.uniform, 0, 3000-0)\n",
    "bottleneck_time_wild = elfi.Prior(scipy.stats.norm, 3500, 300)\n",
    "mig_length_post_split = elfi.Prior(scipy.stats.uniform, 0, 10000-0)\n",
    "mig_rate_post_split = elfi.Prior(scipy.stats.truncnorm, 0, 1, 0, 0.1)\n",
    "div_time = elfi.Prior(scipy.stats.norm, 20000, 1000)"
   ]
  },
  {
   "cell_type": "markdown",
   "metadata": {},
   "source": [
    "### Initiate simulator node"
   ]
  },
  {
   "cell_type": "code",
   "execution_count": 5,
   "metadata": {},
   "outputs": [],
   "source": [
    "y = elfi.Simulator(elfi_sim,\n",
    "                   length, recombination_rate, mutation_rate, pop_size_domestic_1, pop_size_wild_1,\n",
    "                   pop_size_captive, mig_rate_captive, mig_length_wild, mig_rate_wild,\n",
    "                   captive_time, pop_size_domestic_2, pop_size_wild_2, div_time, mig_rate_post_split,\n",
    "                   mig_length_post_split, bottleneck_time_wild, bottleneck_strength_wild,\n",
    "                   bottleneck_time_domestic, bottleneck_strength_domestic, name=\"simulator\", observed=y_obs)\n",
    "s = elfi.Summary(elfi_summary, y, True, name='s')\n",
    "\n",
    "d = elfi.Distance('euclidean', s, name='d')\n"
   ]
  },
  {
   "cell_type": "code",
   "execution_count": 6,
   "metadata": {},
   "outputs": [
    {
     "name": "stderr",
     "output_type": "stream",
     "text": [
      "DEBUG:elfi.compiler:OutputCompiler compiling...\n",
      "DEBUG:elfi.compiler:ObservedCompiler compiling...\n",
      "DEBUG:elfi.compiler:AdditionalNodesCompiler compiling...\n",
      "DEBUG:elfi.compiler:RandomStateCompiler compiling...\n",
      "DEBUG:elfi.compiler:ReduceCompiler compiling...\n",
      "DEBUG:elfi.executor:Executing _random_state\n",
      "DEBUG:elfi.executor:Executing bottleneck_strength_domestic\n",
      "DEBUG:elfi.executor:Executing bottleneck_strength_wild\n",
      "DEBUG:elfi.executor:Executing bottleneck_time_domestic\n",
      "DEBUG:elfi.executor:Executing bottleneck_time_wild\n",
      "DEBUG:elfi.executor:Executing captive_time\n",
      "DEBUG:elfi.executor:Executing div_time\n",
      "DEBUG:elfi.executor:Executing mig_length_post_split\n",
      "DEBUG:elfi.executor:Executing mig_length_wild\n",
      "DEBUG:elfi.executor:Executing mig_rate_captive\n",
      "DEBUG:elfi.executor:Executing mig_rate_post_split\n",
      "DEBUG:elfi.executor:Executing mig_rate_wild\n",
      "DEBUG:elfi.executor:Executing pop_size_captive\n",
      "DEBUG:elfi.executor:Executing pop_size_domestic_1\n",
      "DEBUG:elfi.executor:Executing pop_size_domestic_2\n",
      "DEBUG:elfi.executor:Executing pop_size_wild_1\n",
      "DEBUG:elfi.executor:Executing pop_size_wild_2\n",
      "DEBUG:elfi.executor:Executing simulator\n",
      "DEBUG:root:slim -d pop_size_domestic_1=19375 -d pop_size_wild_1=1913 -d pop_size_captive=51 -d mig_rate_captive=0.04443623367509481 -d mig_length_wild=71 -d mig_rate_wild=66.92639668940781 -d captive_time=48 -d length=[556.47575924] -d recombination_rate=[3765.96754057]  -d decap_trees_filename='\"../output/decap_1044358133.trees\"' -s 40 slim_model.slim\n"
     ]
    },
    {
     "ename": "FileNotFoundError",
     "evalue": "In executing node 'simulator': [WinError 2] The system cannot find the file specified: '../output/decap_1044358133.trees'.",
     "output_type": "error",
     "traceback": [
      "\u001b[1;31m---------------------------------------------------------------------------\u001b[0m",
      "\u001b[1;31mCalledProcessError\u001b[0m                        Traceback (most recent call last)",
      "\u001b[1;32m~\\OneDrive\\Documents\\wildcats_summer\\scripts\\sim\\model.py\u001b[0m in \u001b[0;36mrun_slim\u001b[1;34m(self, command)\u001b[0m\n\u001b[0;32m     99\u001b[0m             subprocess.check_output(['bash', command_f], stderr=subprocess.STDOUT,\n\u001b[1;32m--> 100\u001b[1;33m                                     stdin=subprocess.DEVNULL)  # See https://bit.ly/3fMIWcE\n\u001b[0m\u001b[0;32m    101\u001b[0m             \u001b[0mtree_seq\u001b[0m \u001b[1;33m=\u001b[0m \u001b[0mpyslim\u001b[0m\u001b[1;33m.\u001b[0m\u001b[0mload\u001b[0m\u001b[1;33m(\u001b[0m\u001b[0mself\u001b[0m\u001b[1;33m.\u001b[0m\u001b[0m_decap_trees_filename\u001b[0m\u001b[1;33m)\u001b[0m\u001b[1;33m\u001b[0m\u001b[1;33m\u001b[0m\u001b[0m\n",
      "\u001b[1;32m~\\miniconda3\\envs\\wildcats_summer_env\\lib\\subprocess.py\u001b[0m in \u001b[0;36mcheck_output\u001b[1;34m(timeout, *popenargs, **kwargs)\u001b[0m\n\u001b[0;32m    410\u001b[0m     return run(*popenargs, stdout=PIPE, timeout=timeout, check=True,\n\u001b[1;32m--> 411\u001b[1;33m                **kwargs).stdout\n\u001b[0m\u001b[0;32m    412\u001b[0m \u001b[1;33m\u001b[0m\u001b[0m\n",
      "\u001b[1;32m~\\miniconda3\\envs\\wildcats_summer_env\\lib\\subprocess.py\u001b[0m in \u001b[0;36mrun\u001b[1;34m(input, capture_output, timeout, check, *popenargs, **kwargs)\u001b[0m\n\u001b[0;32m    511\u001b[0m             raise CalledProcessError(retcode, process.args,\n\u001b[1;32m--> 512\u001b[1;33m                                      output=stdout, stderr=stderr)\n\u001b[0m\u001b[0;32m    513\u001b[0m     \u001b[1;32mreturn\u001b[0m \u001b[0mCompletedProcess\u001b[0m\u001b[1;33m(\u001b[0m\u001b[0mprocess\u001b[0m\u001b[1;33m.\u001b[0m\u001b[0margs\u001b[0m\u001b[1;33m,\u001b[0m \u001b[0mretcode\u001b[0m\u001b[1;33m,\u001b[0m \u001b[0mstdout\u001b[0m\u001b[1;33m,\u001b[0m \u001b[0mstderr\u001b[0m\u001b[1;33m)\u001b[0m\u001b[1;33m\u001b[0m\u001b[1;33m\u001b[0m\u001b[0m\n",
      "\u001b[1;31mCalledProcessError\u001b[0m: Command '['bash', '_temporary_command_1044358133.txt']' returned non-zero exit status 1.",
      "\nDuring handling of the above exception, another exception occurred:\n",
      "\u001b[1;31mFileNotFoundError\u001b[0m                         Traceback (most recent call last)",
      "\u001b[1;32m~\\miniconda3\\envs\\wildcats_summer_env\\lib\\site-packages\\elfi\\executor.py\u001b[0m in \u001b[0;36mexecute\u001b[1;34m(cls, G)\u001b[0m\n\u001b[0;32m     69\u001b[0m                 \u001b[1;32mtry\u001b[0m\u001b[1;33m:\u001b[0m\u001b[1;33m\u001b[0m\u001b[1;33m\u001b[0m\u001b[0m\n\u001b[1;32m---> 70\u001b[1;33m                     \u001b[0mG\u001b[0m\u001b[1;33m.\u001b[0m\u001b[0mnode\u001b[0m\u001b[1;33m[\u001b[0m\u001b[0mnode\u001b[0m\u001b[1;33m]\u001b[0m \u001b[1;33m=\u001b[0m \u001b[0mcls\u001b[0m\u001b[1;33m.\u001b[0m\u001b[0m_run\u001b[0m\u001b[1;33m(\u001b[0m\u001b[0mop\u001b[0m\u001b[1;33m,\u001b[0m \u001b[0mnode\u001b[0m\u001b[1;33m,\u001b[0m \u001b[0mG\u001b[0m\u001b[1;33m)\u001b[0m\u001b[1;33m\u001b[0m\u001b[1;33m\u001b[0m\u001b[0m\n\u001b[0m\u001b[0;32m     71\u001b[0m                 \u001b[1;32mexcept\u001b[0m \u001b[0mException\u001b[0m \u001b[1;32mas\u001b[0m \u001b[0mexc\u001b[0m\u001b[1;33m:\u001b[0m\u001b[1;33m\u001b[0m\u001b[1;33m\u001b[0m\u001b[0m\n",
      "\u001b[1;32m~\\miniconda3\\envs\\wildcats_summer_env\\lib\\site-packages\\elfi\\executor.py\u001b[0m in \u001b[0;36m_run\u001b[1;34m(fn, node, G)\u001b[0m\n\u001b[0;32m    153\u001b[0m \u001b[1;33m\u001b[0m\u001b[0m\n\u001b[1;32m--> 154\u001b[1;33m         \u001b[0moutput_dict\u001b[0m \u001b[1;33m=\u001b[0m \u001b[1;33m{\u001b[0m\u001b[1;34m'output'\u001b[0m\u001b[1;33m:\u001b[0m \u001b[0mfn\u001b[0m\u001b[1;33m(\u001b[0m\u001b[1;33m*\u001b[0m\u001b[0margs\u001b[0m\u001b[1;33m,\u001b[0m \u001b[1;33m**\u001b[0m\u001b[0mkwargs\u001b[0m\u001b[1;33m)\u001b[0m\u001b[1;33m}\u001b[0m\u001b[1;33m\u001b[0m\u001b[1;33m\u001b[0m\u001b[0m\n\u001b[0m\u001b[0;32m    155\u001b[0m         \u001b[1;32mreturn\u001b[0m \u001b[0moutput_dict\u001b[0m\u001b[1;33m\u001b[0m\u001b[1;33m\u001b[0m\u001b[0m\n",
      "\u001b[1;32m~\\OneDrive\\Documents\\wildcats_summer\\scripts\\sim\\model.py\u001b[0m in \u001b[0;36melfi_sim\u001b[1;34m(bottleneck_strength_domestic, bottleneck_strength_wild, bottleneck_time_domestic, bottleneck_time_wild, captive_time, div_time, mig_length_post_split, mig_length_wild, mig_rate_captive, mig_rate_post_split, mig_rate_wild, pop_size_captive, pop_size_domestic_1, pop_size_domestic_2, pop_size_wild_1, pop_size_wild_2, length, recombination_rate, mutation_rate, random_state, batch_size)\u001b[0m\n\u001b[0;32m    377\u001b[0m         \u001b[0mcommand\u001b[0m \u001b[1;33m=\u001b[0m \u001b[0msim\u001b[0m\u001b[1;33m.\u001b[0m\u001b[0mslim_command\u001b[0m\u001b[1;33m(\u001b[0m\u001b[0mslim_param_dict\u001b[0m\u001b[1;33m)\u001b[0m\u001b[1;33m\u001b[0m\u001b[1;33m\u001b[0m\u001b[0m\n\u001b[1;32m--> 378\u001b[1;33m         \u001b[0mdecap_trees\u001b[0m \u001b[1;33m=\u001b[0m \u001b[0msim\u001b[0m\u001b[1;33m.\u001b[0m\u001b[0mrun_slim\u001b[0m\u001b[1;33m(\u001b[0m\u001b[0mcommand\u001b[0m\u001b[1;33m)\u001b[0m\u001b[1;33m\u001b[0m\u001b[1;33m\u001b[0m\u001b[0m\n\u001b[0m\u001b[0;32m    379\u001b[0m \u001b[1;33m\u001b[0m\u001b[0m\n",
      "\u001b[1;32m~\\OneDrive\\Documents\\wildcats_summer\\scripts\\sim\\model.py\u001b[0m in \u001b[0;36mrun_slim\u001b[1;34m(self, command)\u001b[0m\n\u001b[0;32m    104\u001b[0m             \u001b[0mos\u001b[0m\u001b[1;33m.\u001b[0m\u001b[0mremove\u001b[0m\u001b[1;33m(\u001b[0m\u001b[0mcommand_f\u001b[0m\u001b[1;33m)\u001b[0m\u001b[1;33m\u001b[0m\u001b[1;33m\u001b[0m\u001b[0m\n\u001b[1;32m--> 105\u001b[1;33m             \u001b[0mos\u001b[0m\u001b[1;33m.\u001b[0m\u001b[0mremove\u001b[0m\u001b[1;33m(\u001b[0m\u001b[0mself\u001b[0m\u001b[1;33m.\u001b[0m\u001b[0m_decap_trees_filename\u001b[0m\u001b[1;33m)\u001b[0m\u001b[1;33m\u001b[0m\u001b[1;33m\u001b[0m\u001b[0m\n\u001b[0m\u001b[0;32m    106\u001b[0m         \u001b[1;32mreturn\u001b[0m \u001b[0mtree_seq\u001b[0m\u001b[1;33m\u001b[0m\u001b[1;33m\u001b[0m\u001b[0m\n",
      "\u001b[1;31mFileNotFoundError\u001b[0m: [WinError 2] The system cannot find the file specified: '../output/decap_1044358133.trees'",
      "\nDuring handling of the above exception, another exception occurred:\n",
      "\u001b[1;31mFileNotFoundError\u001b[0m                         Traceback (most recent call last)",
      "\u001b[1;32m<ipython-input-6-6710894decdc>\u001b[0m in \u001b[0;36m<module>\u001b[1;34m\u001b[0m\n\u001b[0;32m      1\u001b[0m \u001b[0mlogging\u001b[0m\u001b[1;33m.\u001b[0m\u001b[0mgetLogger\u001b[0m\u001b[1;33m(\u001b[0m\u001b[1;33m)\u001b[0m\u001b[1;33m.\u001b[0m\u001b[0msetLevel\u001b[0m\u001b[1;33m(\u001b[0m\u001b[0mlogging\u001b[0m\u001b[1;33m.\u001b[0m\u001b[0mDEBUG\u001b[0m\u001b[1;33m)\u001b[0m\u001b[1;33m\u001b[0m\u001b[1;33m\u001b[0m\u001b[0m\n\u001b[1;32m----> 2\u001b[1;33m \u001b[0ms\u001b[0m\u001b[1;33m.\u001b[0m\u001b[0mgenerate\u001b[0m\u001b[1;33m(\u001b[0m\u001b[1;36m1\u001b[0m\u001b[1;33m)\u001b[0m\u001b[1;33m.\u001b[0m\u001b[0mshape\u001b[0m\u001b[1;33m\u001b[0m\u001b[1;33m\u001b[0m\u001b[0m\n\u001b[0m",
      "\u001b[1;32m~\\miniconda3\\envs\\wildcats_summer_env\\lib\\site-packages\\elfi\\model\\elfi_model.py\u001b[0m in \u001b[0;36mgenerate\u001b[1;34m(self, batch_size, with_values)\u001b[0m\n\u001b[0;32m    619\u001b[0m \u001b[1;33m\u001b[0m\u001b[0m\n\u001b[0;32m    620\u001b[0m         \"\"\"\n\u001b[1;32m--> 621\u001b[1;33m         \u001b[0mresult\u001b[0m \u001b[1;33m=\u001b[0m \u001b[0mself\u001b[0m\u001b[1;33m.\u001b[0m\u001b[0mmodel\u001b[0m\u001b[1;33m.\u001b[0m\u001b[0mgenerate\u001b[0m\u001b[1;33m(\u001b[0m\u001b[0mbatch_size\u001b[0m\u001b[1;33m,\u001b[0m \u001b[0mself\u001b[0m\u001b[1;33m.\u001b[0m\u001b[0mname\u001b[0m\u001b[1;33m,\u001b[0m \u001b[0mwith_values\u001b[0m\u001b[1;33m=\u001b[0m\u001b[0mwith_values\u001b[0m\u001b[1;33m)\u001b[0m\u001b[1;33m\u001b[0m\u001b[1;33m\u001b[0m\u001b[0m\n\u001b[0m\u001b[0;32m    622\u001b[0m         \u001b[1;32mreturn\u001b[0m \u001b[0mresult\u001b[0m\u001b[1;33m[\u001b[0m\u001b[0mself\u001b[0m\u001b[1;33m.\u001b[0m\u001b[0mname\u001b[0m\u001b[1;33m]\u001b[0m\u001b[1;33m\u001b[0m\u001b[1;33m\u001b[0m\u001b[0m\n\u001b[0;32m    623\u001b[0m \u001b[1;33m\u001b[0m\u001b[0m\n",
      "\u001b[1;32m~\\miniconda3\\envs\\wildcats_summer_env\\lib\\site-packages\\elfi\\model\\elfi_model.py\u001b[0m in \u001b[0;36mgenerate\u001b[1;34m(self, batch_size, outputs, with_values, seed)\u001b[0m\n\u001b[0;32m    295\u001b[0m         \u001b[0mcompiled_net\u001b[0m \u001b[1;33m=\u001b[0m \u001b[0mclient\u001b[0m\u001b[1;33m.\u001b[0m\u001b[0mcompile\u001b[0m\u001b[1;33m(\u001b[0m\u001b[0mself\u001b[0m\u001b[1;33m.\u001b[0m\u001b[0msource_net\u001b[0m\u001b[1;33m,\u001b[0m \u001b[0moutputs\u001b[0m\u001b[1;33m)\u001b[0m\u001b[1;33m\u001b[0m\u001b[1;33m\u001b[0m\u001b[0m\n\u001b[0;32m    296\u001b[0m         \u001b[0mloaded_net\u001b[0m \u001b[1;33m=\u001b[0m \u001b[0mclient\u001b[0m\u001b[1;33m.\u001b[0m\u001b[0mload_data\u001b[0m\u001b[1;33m(\u001b[0m\u001b[0mcompiled_net\u001b[0m\u001b[1;33m,\u001b[0m \u001b[0mcontext\u001b[0m\u001b[1;33m,\u001b[0m \u001b[0mbatch_index\u001b[0m\u001b[1;33m=\u001b[0m\u001b[1;36m0\u001b[0m\u001b[1;33m)\u001b[0m\u001b[1;33m\u001b[0m\u001b[1;33m\u001b[0m\u001b[0m\n\u001b[1;32m--> 297\u001b[1;33m         \u001b[1;32mreturn\u001b[0m \u001b[0mclient\u001b[0m\u001b[1;33m.\u001b[0m\u001b[0mcompute\u001b[0m\u001b[1;33m(\u001b[0m\u001b[0mloaded_net\u001b[0m\u001b[1;33m)\u001b[0m\u001b[1;33m\u001b[0m\u001b[1;33m\u001b[0m\u001b[0m\n\u001b[0m\u001b[0;32m    298\u001b[0m \u001b[1;33m\u001b[0m\u001b[0m\n\u001b[0;32m    299\u001b[0m     \u001b[1;32mdef\u001b[0m \u001b[0mget_reference\u001b[0m\u001b[1;33m(\u001b[0m\u001b[0mself\u001b[0m\u001b[1;33m,\u001b[0m \u001b[0mname\u001b[0m\u001b[1;33m)\u001b[0m\u001b[1;33m:\u001b[0m\u001b[1;33m\u001b[0m\u001b[1;33m\u001b[0m\u001b[0m\n",
      "\u001b[1;32m~\\miniconda3\\envs\\wildcats_summer_env\\lib\\site-packages\\elfi\\client.py\u001b[0m in \u001b[0;36mcompute\u001b[1;34m(self, loaded_net)\u001b[0m\n\u001b[0;32m    271\u001b[0m     \u001b[1;32mdef\u001b[0m \u001b[0mcompute\u001b[0m\u001b[1;33m(\u001b[0m\u001b[0mself\u001b[0m\u001b[1;33m,\u001b[0m \u001b[0mloaded_net\u001b[0m\u001b[1;33m)\u001b[0m\u001b[1;33m:\u001b[0m\u001b[1;33m\u001b[0m\u001b[1;33m\u001b[0m\u001b[0m\n\u001b[0;32m    272\u001b[0m         \u001b[1;34m\"\"\"Request evaluation of `loaded_net` and wait for result.\"\"\"\u001b[0m\u001b[1;33m\u001b[0m\u001b[1;33m\u001b[0m\u001b[0m\n\u001b[1;32m--> 273\u001b[1;33m         \u001b[1;32mreturn\u001b[0m \u001b[0mself\u001b[0m\u001b[1;33m.\u001b[0m\u001b[0mapply_sync\u001b[0m\u001b[1;33m(\u001b[0m\u001b[0mExecutor\u001b[0m\u001b[1;33m.\u001b[0m\u001b[0mexecute\u001b[0m\u001b[1;33m,\u001b[0m \u001b[0mloaded_net\u001b[0m\u001b[1;33m)\u001b[0m\u001b[1;33m\u001b[0m\u001b[1;33m\u001b[0m\u001b[0m\n\u001b[0m\u001b[0;32m    274\u001b[0m \u001b[1;33m\u001b[0m\u001b[0m\n\u001b[0;32m    275\u001b[0m     \u001b[1;33m@\u001b[0m\u001b[0mproperty\u001b[0m\u001b[1;33m\u001b[0m\u001b[1;33m\u001b[0m\u001b[0m\n",
      "\u001b[1;32m~\\miniconda3\\envs\\wildcats_summer_env\\lib\\site-packages\\elfi\\clients\\native.py\u001b[0m in \u001b[0;36mapply_sync\u001b[1;34m(self, kallable, *args, **kwargs)\u001b[0m\n\u001b[0;32m     51\u001b[0m \u001b[1;33m\u001b[0m\u001b[0m\n\u001b[0;32m     52\u001b[0m         \"\"\"\n\u001b[1;32m---> 53\u001b[1;33m         \u001b[1;32mreturn\u001b[0m \u001b[0mkallable\u001b[0m\u001b[1;33m(\u001b[0m\u001b[1;33m*\u001b[0m\u001b[0margs\u001b[0m\u001b[1;33m,\u001b[0m \u001b[1;33m**\u001b[0m\u001b[0mkwargs\u001b[0m\u001b[1;33m)\u001b[0m\u001b[1;33m\u001b[0m\u001b[1;33m\u001b[0m\u001b[0m\n\u001b[0m\u001b[0;32m     54\u001b[0m \u001b[1;33m\u001b[0m\u001b[0m\n\u001b[0;32m     55\u001b[0m     \u001b[1;32mdef\u001b[0m \u001b[0mget_result\u001b[0m\u001b[1;33m(\u001b[0m\u001b[0mself\u001b[0m\u001b[1;33m,\u001b[0m \u001b[0mtask_id\u001b[0m\u001b[1;33m)\u001b[0m\u001b[1;33m:\u001b[0m\u001b[1;33m\u001b[0m\u001b[1;33m\u001b[0m\u001b[0m\n",
      "\u001b[1;32m~\\miniconda3\\envs\\wildcats_summer_env\\lib\\site-packages\\elfi\\executor.py\u001b[0m in \u001b[0;36mexecute\u001b[1;34m(cls, G)\u001b[0m\n\u001b[0;32m     71\u001b[0m                 \u001b[1;32mexcept\u001b[0m \u001b[0mException\u001b[0m \u001b[1;32mas\u001b[0m \u001b[0mexc\u001b[0m\u001b[1;33m:\u001b[0m\u001b[1;33m\u001b[0m\u001b[1;33m\u001b[0m\u001b[0m\n\u001b[0;32m     72\u001b[0m                     raise exc.__class__(\"In executing node '{}': {}.\"\n\u001b[1;32m---> 73\u001b[1;33m                                         .format(node, exc)).with_traceback(exc.__traceback__)\n\u001b[0m\u001b[0;32m     74\u001b[0m \u001b[1;33m\u001b[0m\u001b[0m\n\u001b[0;32m     75\u001b[0m             \u001b[1;32melif\u001b[0m \u001b[1;34m'output'\u001b[0m \u001b[1;32mnot\u001b[0m \u001b[1;32min\u001b[0m \u001b[0mattr\u001b[0m\u001b[1;33m:\u001b[0m\u001b[1;33m\u001b[0m\u001b[1;33m\u001b[0m\u001b[0m\n",
      "\u001b[1;32m~\\miniconda3\\envs\\wildcats_summer_env\\lib\\site-packages\\elfi\\executor.py\u001b[0m in \u001b[0;36mexecute\u001b[1;34m(cls, G)\u001b[0m\n\u001b[0;32m     68\u001b[0m                 \u001b[0mop\u001b[0m \u001b[1;33m=\u001b[0m \u001b[0mattr\u001b[0m\u001b[1;33m[\u001b[0m\u001b[1;34m'operation'\u001b[0m\u001b[1;33m]\u001b[0m\u001b[1;33m\u001b[0m\u001b[1;33m\u001b[0m\u001b[0m\n\u001b[0;32m     69\u001b[0m                 \u001b[1;32mtry\u001b[0m\u001b[1;33m:\u001b[0m\u001b[1;33m\u001b[0m\u001b[1;33m\u001b[0m\u001b[0m\n\u001b[1;32m---> 70\u001b[1;33m                     \u001b[0mG\u001b[0m\u001b[1;33m.\u001b[0m\u001b[0mnode\u001b[0m\u001b[1;33m[\u001b[0m\u001b[0mnode\u001b[0m\u001b[1;33m]\u001b[0m \u001b[1;33m=\u001b[0m \u001b[0mcls\u001b[0m\u001b[1;33m.\u001b[0m\u001b[0m_run\u001b[0m\u001b[1;33m(\u001b[0m\u001b[0mop\u001b[0m\u001b[1;33m,\u001b[0m \u001b[0mnode\u001b[0m\u001b[1;33m,\u001b[0m \u001b[0mG\u001b[0m\u001b[1;33m)\u001b[0m\u001b[1;33m\u001b[0m\u001b[1;33m\u001b[0m\u001b[0m\n\u001b[0m\u001b[0;32m     71\u001b[0m                 \u001b[1;32mexcept\u001b[0m \u001b[0mException\u001b[0m \u001b[1;32mas\u001b[0m \u001b[0mexc\u001b[0m\u001b[1;33m:\u001b[0m\u001b[1;33m\u001b[0m\u001b[1;33m\u001b[0m\u001b[0m\n\u001b[0;32m     72\u001b[0m                     raise exc.__class__(\"In executing node '{}': {}.\"\n",
      "\u001b[1;32m~\\miniconda3\\envs\\wildcats_summer_env\\lib\\site-packages\\elfi\\executor.py\u001b[0m in \u001b[0;36m_run\u001b[1;34m(fn, node, G)\u001b[0m\n\u001b[0;32m    152\u001b[0m         \u001b[0margs\u001b[0m \u001b[1;33m=\u001b[0m \u001b[1;33m[\u001b[0m\u001b[0ma\u001b[0m\u001b[1;33m[\u001b[0m\u001b[1;36m1\u001b[0m\u001b[1;33m]\u001b[0m \u001b[1;32mfor\u001b[0m \u001b[0ma\u001b[0m \u001b[1;32min\u001b[0m \u001b[0msorted\u001b[0m\u001b[1;33m(\u001b[0m\u001b[0margs\u001b[0m\u001b[1;33m,\u001b[0m \u001b[0mkey\u001b[0m\u001b[1;33m=\u001b[0m\u001b[0mitemgetter\u001b[0m\u001b[1;33m(\u001b[0m\u001b[1;36m0\u001b[0m\u001b[1;33m)\u001b[0m\u001b[1;33m)\u001b[0m\u001b[1;33m]\u001b[0m\u001b[1;33m\u001b[0m\u001b[1;33m\u001b[0m\u001b[0m\n\u001b[0;32m    153\u001b[0m \u001b[1;33m\u001b[0m\u001b[0m\n\u001b[1;32m--> 154\u001b[1;33m         \u001b[0moutput_dict\u001b[0m \u001b[1;33m=\u001b[0m \u001b[1;33m{\u001b[0m\u001b[1;34m'output'\u001b[0m\u001b[1;33m:\u001b[0m \u001b[0mfn\u001b[0m\u001b[1;33m(\u001b[0m\u001b[1;33m*\u001b[0m\u001b[0margs\u001b[0m\u001b[1;33m,\u001b[0m \u001b[1;33m**\u001b[0m\u001b[0mkwargs\u001b[0m\u001b[1;33m)\u001b[0m\u001b[1;33m}\u001b[0m\u001b[1;33m\u001b[0m\u001b[1;33m\u001b[0m\u001b[0m\n\u001b[0m\u001b[0;32m    155\u001b[0m         \u001b[1;32mreturn\u001b[0m \u001b[0moutput_dict\u001b[0m\u001b[1;33m\u001b[0m\u001b[1;33m\u001b[0m\u001b[0m\n\u001b[0;32m    156\u001b[0m \u001b[1;33m\u001b[0m\u001b[0m\n",
      "\u001b[1;32m~\\OneDrive\\Documents\\wildcats_summer\\scripts\\sim\\model.py\u001b[0m in \u001b[0;36melfi_sim\u001b[1;34m(bottleneck_strength_domestic, bottleneck_strength_wild, bottleneck_time_domestic, bottleneck_time_wild, captive_time, div_time, mig_length_post_split, mig_length_wild, mig_rate_captive, mig_rate_post_split, mig_rate_wild, pop_size_captive, pop_size_domestic_1, pop_size_domestic_2, pop_size_wild_1, pop_size_wild_2, length, recombination_rate, mutation_rate, random_state, batch_size)\u001b[0m\n\u001b[0;32m    376\u001b[0m \u001b[1;33m\u001b[0m\u001b[0m\n\u001b[0;32m    377\u001b[0m         \u001b[0mcommand\u001b[0m \u001b[1;33m=\u001b[0m \u001b[0msim\u001b[0m\u001b[1;33m.\u001b[0m\u001b[0mslim_command\u001b[0m\u001b[1;33m(\u001b[0m\u001b[0mslim_param_dict\u001b[0m\u001b[1;33m)\u001b[0m\u001b[1;33m\u001b[0m\u001b[1;33m\u001b[0m\u001b[0m\n\u001b[1;32m--> 378\u001b[1;33m         \u001b[0mdecap_trees\u001b[0m \u001b[1;33m=\u001b[0m \u001b[0msim\u001b[0m\u001b[1;33m.\u001b[0m\u001b[0mrun_slim\u001b[0m\u001b[1;33m(\u001b[0m\u001b[0mcommand\u001b[0m\u001b[1;33m)\u001b[0m\u001b[1;33m\u001b[0m\u001b[1;33m\u001b[0m\u001b[0m\n\u001b[0m\u001b[0;32m    379\u001b[0m \u001b[1;33m\u001b[0m\u001b[0m\n\u001b[0;32m    380\u001b[0m         \u001b[1;31m# run msprime\u001b[0m\u001b[1;33m\u001b[0m\u001b[1;33m\u001b[0m\u001b[1;33m\u001b[0m\u001b[0m\n",
      "\u001b[1;32m~\\OneDrive\\Documents\\wildcats_summer\\scripts\\sim\\model.py\u001b[0m in \u001b[0;36mrun_slim\u001b[1;34m(self, command)\u001b[0m\n\u001b[0;32m    103\u001b[0m         \u001b[1;32mfinally\u001b[0m\u001b[1;33m:\u001b[0m  \u001b[1;31m# Ensure files are cleaned up even if above fails\u001b[0m\u001b[1;33m\u001b[0m\u001b[1;33m\u001b[0m\u001b[0m\n\u001b[0;32m    104\u001b[0m             \u001b[0mos\u001b[0m\u001b[1;33m.\u001b[0m\u001b[0mremove\u001b[0m\u001b[1;33m(\u001b[0m\u001b[0mcommand_f\u001b[0m\u001b[1;33m)\u001b[0m\u001b[1;33m\u001b[0m\u001b[1;33m\u001b[0m\u001b[0m\n\u001b[1;32m--> 105\u001b[1;33m             \u001b[0mos\u001b[0m\u001b[1;33m.\u001b[0m\u001b[0mremove\u001b[0m\u001b[1;33m(\u001b[0m\u001b[0mself\u001b[0m\u001b[1;33m.\u001b[0m\u001b[0m_decap_trees_filename\u001b[0m\u001b[1;33m)\u001b[0m\u001b[1;33m\u001b[0m\u001b[1;33m\u001b[0m\u001b[0m\n\u001b[0m\u001b[0;32m    106\u001b[0m         \u001b[1;32mreturn\u001b[0m \u001b[0mtree_seq\u001b[0m\u001b[1;33m\u001b[0m\u001b[1;33m\u001b[0m\u001b[0m\n\u001b[0;32m    107\u001b[0m \u001b[1;33m\u001b[0m\u001b[0m\n",
      "\u001b[1;31mFileNotFoundError\u001b[0m: In executing node 'simulator': [WinError 2] The system cannot find the file specified: '../output/decap_1044358133.trees'."
     ]
    }
   ],
   "source": [
    "logging.getLogger().setLevel(logging.DEBUG)\n",
    "s.generate(1).shape"
   ]
  },
  {
   "cell_type": "markdown",
   "metadata": {},
   "source": [
    "### Carry out simulations to \"train\" scaler"
   ]
  },
  {
   "cell_type": "code",
   "execution_count": 12,
   "metadata": {},
   "outputs": [
    {
     "name": "stdout",
     "output_type": "stream",
     "text": [
      "Progress: |--------------------------------------------------| 0.0% Complete\r"
     ]
    },
    {
     "name": "stderr",
     "output_type": "stream",
     "text": [
      " C:\\Users\\Danie\\OneDrive\\Documents\\wildcats_summer\\scripts\\sim\\sum_stats.py:293: UserWarning:Some summaries removed to keep things quick!\n"
     ]
    },
    {
     "name": "stdout",
     "output_type": "stream",
     "text": [
      "Progress: |██████████████████████████████████████████████████| 100.0% Complete\n"
     ]
    },
    {
     "data": {
      "text/plain": [
       "StandardScaler()"
      ]
     },
     "execution_count": 12,
     "metadata": {},
     "output_type": "execute_result"
    }
   ],
   "source": [
    "seed = 1\n",
    "pool = elfi.OutputPool(['s'])\n",
    "rej = elfi.Rejection(d, batch_size=4, seed=1, pool=pool)\n",
    "rej_res = rej.sample(32, quantile=1)  # Accept all\n",
    "store = pool.get_store('s')\n",
    "sum_stats = np.array(list(store.values()))\n",
    "sum_stats = sum_stats.reshape(-1, sum_stats.shape[2])  # Drop batches axis\n",
    "scaler = StandardScaler() # StandardScaler()\n",
    "scaler.fit(sum_stats)"
   ]
  },
  {
   "cell_type": "markdown",
   "metadata": {},
   "source": [
    "### Test scaling params"
   ]
  },
  {
   "cell_type": "code",
   "execution_count": 13,
   "metadata": {},
   "outputs": [],
   "source": [
    "# New priors\n",
    "length.become(elfi.Constant(int(5e6)))\n",
    "recombination_rate.become(elfi.Constant(1.8e-8))\n",
    "mutation_rate.become(elfi.Constant(6e-8))\n",
    "pop_size_domestic_1.become(elfi.Prior(scipy.stats.uniform, -1, 2))  # scipy.stats.uniform(100, 15000),\n",
    "pop_size_wild_1.become(elfi.Prior(scipy.stats.uniform, -1, 2))  # scipy.stats.lognorm(0.4, scale=np.exp(8.5)),\n",
    "pop_size_captive.become(elfi.Prior(scipy.stats.uniform, -1, 2))\n",
    "mig_rate_captive.become(elfi.Prior(scipy.stats.uniform, -1, 2))\n",
    "captive_time.become(elfi.Prior(scipy.stats.uniform, -1, 2))\n",
    "mig_length_wild.become(elfi.Prior(scipy.stats.uniform, -1, 2))\n",
    "mig_rate_wild.become(elfi.Prior(scipy.stats.uniform, -1, 2))           \n",
    "pop_size_domestic_2.become(elfi.Prior(scipy.stats.uniform, -1, 2))  # scipy.stats.uniform(1000, 25000),\n",
    "pop_size_wild_2.become(elfi.Prior(scipy.stats.uniform, -1, 2))  # scipy.stats.lognorm(0.2, scale=np.exp(9.2)),\n",
    "bottleneck_strength_domestic.become(elfi.Prior(scipy.stats.uniform, -1, 2))\n",
    "bottleneck_time_domestic.become(elfi.Prior(scipy.stats.uniform, -1, 2))\n",
    "bottleneck_strength_wild.become(elfi.Prior(scipy.stats.uniform, -1, 2))\n",
    "bottleneck_time_wild.become(elfi.Prior(scipy.stats.uniform, -1, 2))\n",
    "mig_length_post_split.become(elfi.Prior(scipy.stats.uniform, -1, 2))\n",
    "mig_rate_post_split.become(elfi.Prior(scipy.stats.uniform, -1, 2))\n",
    "div_time.become(elfi.Prior(scipy.stats.uniform, -1, 2))"
   ]
  },
  {
   "cell_type": "code",
   "execution_count": null,
   "metadata": {},
   "outputs": [],
   "source": [
    "param_scaler = StandardScaler()\n",
    "param_scaler.fit(rej_res.samples_array)\n",
    "\n",
    "def elfi_sim_scaled(*args, batch_size, random_state):\n",
    "    constants = args[:3]\n",
    "    params = np.array(args[3:]).T\n",
    "    params_with_priors = param_scaler.inverse_transform(params).T.tolist()\n",
    "\n",
    "    results = elfi_sim(*args[:3], *params_with_priors, random_state, batch_size)\n",
    "    return results\n",
    "\n",
    "\n",
    "\n",
    "y.become(elfi.Simulator(elfi_sim_scaled,\n",
    "                   length, recombination_rate, mutation_rate, pop_size_domestic_1, pop_size_wild_1,\n",
    "                   pop_size_captive, mig_rate_captive, mig_length_wild, mig_rate_wild,\n",
    "                   captive_time, pop_size_domestic_2, pop_size_wild_2, div_time, mig_rate_post_split,\n",
    "                   mig_length_post_split, bottleneck_time_wild, bottleneck_strength_wild,\n",
    "                   bottleneck_time_domestic, bottleneck_strength_domestic, name=\"simulator_scaled\", observed=y_obs))"
   ]
  },
  {
   "cell_type": "markdown",
   "metadata": {},
   "source": [
    "### Scale summaries"
   ]
  },
  {
   "cell_type": "code",
   "execution_count": 14,
   "metadata": {},
   "outputs": [],
   "source": [
    "def elfi_summary_scaled(*args):  # This function might not get pushed to workers properly?\n",
    "    sum_stats = elfi_summary(*args)\n",
    "    sum_stats = scaler.transform(sum_stats)\n",
    "    return sum_stats\n",
    "\n",
    "s.become(elfi.Summary(elfi_summary_scaled, y, name='scaled_s'))"
   ]
  },
  {
   "cell_type": "code",
   "execution_count": null,
   "metadata": {},
   "outputs": [],
   "source": [
    "''"
   ]
  },
  {
   "cell_type": "markdown",
   "metadata": {},
   "source": [
    "### Test tutorial smc scaling"
   ]
  },
  {
   "cell_type": "code",
   "execution_count": 1,
   "metadata": {},
   "outputs": [],
   "source": [
    "import elfi\n",
    "import scipy.stats\n",
    "import numpy as np"
   ]
  },
  {
   "cell_type": "code",
   "execution_count": 2,
   "metadata": {},
   "outputs": [],
   "source": [
    "from elfi.examples import ma2\n",
    "ma2_model = ma2.get_model()"
   ]
  },
  {
   "cell_type": "code",
   "execution_count": 3,
   "metadata": {},
   "outputs": [],
   "source": [
    "ma2_model['t1'].become(elfi.Prior(scipy.stats.uniform(loc=0, scale=2), model=ma2_model))\n",
    "ma2_model['t2'].become(elfi.Prior(scipy.stats.uniform(loc=0, scale=2), model=ma2_model))"
   ]
  },
  {
   "cell_type": "code",
   "execution_count": 4,
   "metadata": {},
   "outputs": [
    {
     "data": {
      "image/svg+xml": [
       "<?xml version=\"1.0\" encoding=\"UTF-8\" standalone=\"no\"?>\r\n",
       "<!DOCTYPE svg PUBLIC \"-//W3C//DTD SVG 1.1//EN\"\r\n",
       " \"http://www.w3.org/Graphics/SVG/1.1/DTD/svg11.dtd\">\r\n",
       "<!-- Generated by graphviz version 2.38.0 (20140413.2041)\r\n",
       " -->\r\n",
       "<!-- Title: %3 Pages: 1 -->\r\n",
       "<svg width=\"110pt\" height=\"288pt\"\r\n",
       " viewBox=\"0.00 0.00 109.60 288.09\" xmlns=\"http://www.w3.org/2000/svg\" xmlns:xlink=\"http://www.w3.org/1999/xlink\">\r\n",
       "<g id=\"graph0\" class=\"graph\" transform=\"scale(1 1) rotate(0) translate(4 284.091)\">\r\n",
       "<title>%3</title>\r\n",
       "<polygon fill=\"white\" stroke=\"none\" points=\"-4,4 -4,-284.091 105.596,-284.091 105.596,4 -4,4\"/>\r\n",
       "<!-- MA2 -->\r\n",
       "<g id=\"node1\" class=\"node\"><title>MA2</title>\r\n",
       "<ellipse fill=\"#cccccc\" stroke=\"black\" cx=\"50.7982\" cy=\"-178.844\" rx=\"29.4969\" ry=\"29.4969\"/>\r\n",
       "<text text-anchor=\"middle\" x=\"50.7982\" y=\"-175.144\" font-family=\"Times New Roman,serif\" font-size=\"14.00\">MA2</text>\r\n",
       "</g>\r\n",
       "<!-- S1 -->\r\n",
       "<g id=\"node2\" class=\"node\"><title>S1</title>\r\n",
       "<ellipse fill=\"#cccccc\" stroke=\"black\" cx=\"20.7982\" cy=\"-92.7982\" rx=\"20.5982\" ry=\"20.5982\"/>\r\n",
       "<text text-anchor=\"middle\" x=\"20.7982\" y=\"-89.0982\" font-family=\"Times New Roman,serif\" font-size=\"14.00\">S1</text>\r\n",
       "</g>\r\n",
       "<!-- MA2&#45;&gt;S1 -->\r\n",
       "<g id=\"edge1\" class=\"edge\"><title>MA2&#45;&gt;S1</title>\r\n",
       "<path fill=\"none\" stroke=\"black\" d=\"M41.1408,-150.789C37.8703,-141.626 34.21,-131.372 30.9054,-122.114\"/>\r\n",
       "<polygon fill=\"black\" stroke=\"black\" points=\"34.1527,-120.8 27.4946,-112.558 27.5601,-123.153 34.1527,-120.8\"/>\r\n",
       "</g>\r\n",
       "<!-- S2 -->\r\n",
       "<g id=\"node3\" class=\"node\"><title>S2</title>\r\n",
       "<ellipse fill=\"#cccccc\" stroke=\"black\" cx=\"80.7982\" cy=\"-92.7982\" rx=\"20.5982\" ry=\"20.5982\"/>\r\n",
       "<text text-anchor=\"middle\" x=\"80.7982\" y=\"-89.0982\" font-family=\"Times New Roman,serif\" font-size=\"14.00\">S2</text>\r\n",
       "</g>\r\n",
       "<!-- MA2&#45;&gt;S2 -->\r\n",
       "<g id=\"edge2\" class=\"edge\"><title>MA2&#45;&gt;S2</title>\r\n",
       "<path fill=\"none\" stroke=\"black\" d=\"M60.4555,-150.789C63.726,-141.626 67.3863,-131.372 70.6909,-122.114\"/>\r\n",
       "<polygon fill=\"black\" stroke=\"black\" points=\"74.0362,-123.153 74.1017,-112.558 67.4436,-120.8 74.0362,-123.153\"/>\r\n",
       "</g>\r\n",
       "<!-- d -->\r\n",
       "<g id=\"node4\" class=\"node\"><title>d</title>\r\n",
       "<ellipse fill=\"none\" stroke=\"black\" cx=\"50.7982\" cy=\"-18\" rx=\"18\" ry=\"18\"/>\r\n",
       "<text text-anchor=\"middle\" x=\"50.7982\" y=\"-14.3\" font-family=\"Times New Roman,serif\" font-size=\"14.00\">d</text>\r\n",
       "</g>\r\n",
       "<!-- S1&#45;&gt;d -->\r\n",
       "<g id=\"edge3\" class=\"edge\"><title>S1&#45;&gt;d</title>\r\n",
       "<path fill=\"none\" stroke=\"black\" d=\"M28.5239,-73.0508C32.1317,-64.2961 36.4803,-53.7437 40.374,-44.2953\"/>\r\n",
       "<polygon fill=\"black\" stroke=\"black\" points=\"43.6426,-45.5495 44.2168,-34.9702 37.1707,-42.8824 43.6426,-45.5495\"/>\r\n",
       "</g>\r\n",
       "<!-- S2&#45;&gt;d -->\r\n",
       "<g id=\"edge4\" class=\"edge\"><title>S2&#45;&gt;d</title>\r\n",
       "<path fill=\"none\" stroke=\"black\" d=\"M73.0724,-73.0508C69.4646,-64.2961 65.116,-53.7437 61.2223,-44.2953\"/>\r\n",
       "<polygon fill=\"black\" stroke=\"black\" points=\"64.4257,-42.8824 57.3795,-34.9702 57.9537,-45.5495 64.4257,-42.8824\"/>\r\n",
       "</g>\r\n",
       "<!-- t1 -->\r\n",
       "<g id=\"node5\" class=\"node\"><title>t1</title>\r\n",
       "<ellipse fill=\"none\" stroke=\"black\" cx=\"23.7982\" cy=\"-262.091\" rx=\"18\" ry=\"18\"/>\r\n",
       "<text text-anchor=\"middle\" x=\"23.7982\" y=\"-258.391\" font-family=\"Times New Roman,serif\" font-size=\"14.00\">t1</text>\r\n",
       "</g>\r\n",
       "<!-- t1&#45;&gt;MA2 -->\r\n",
       "<g id=\"edge5\" class=\"edge\"><title>t1&#45;&gt;MA2</title>\r\n",
       "<path fill=\"none\" stroke=\"black\" d=\"M29.262,-244.649C31.9663,-236.512 35.347,-226.339 38.6228,-216.481\"/>\r\n",
       "<polygon fill=\"black\" stroke=\"black\" points=\"42.0022,-217.41 41.8345,-206.817 35.3594,-215.203 42.0022,-217.41\"/>\r\n",
       "</g>\r\n",
       "<!-- t2 -->\r\n",
       "<g id=\"node6\" class=\"node\"><title>t2</title>\r\n",
       "<ellipse fill=\"none\" stroke=\"black\" cx=\"77.7982\" cy=\"-262.091\" rx=\"18\" ry=\"18\"/>\r\n",
       "<text text-anchor=\"middle\" x=\"77.7982\" y=\"-258.391\" font-family=\"Times New Roman,serif\" font-size=\"14.00\">t2</text>\r\n",
       "</g>\r\n",
       "<!-- t2&#45;&gt;MA2 -->\r\n",
       "<g id=\"edge6\" class=\"edge\"><title>t2&#45;&gt;MA2</title>\r\n",
       "<path fill=\"none\" stroke=\"black\" d=\"M72.3343,-244.649C69.63,-236.512 66.2493,-226.339 62.9736,-216.481\"/>\r\n",
       "<polygon fill=\"black\" stroke=\"black\" points=\"66.2369,-215.203 59.7618,-206.817 59.5941,-217.41 66.2369,-215.203\"/>\r\n",
       "</g>\r\n",
       "</g>\r\n",
       "</svg>\r\n"
      ],
      "text/plain": [
       "<graphviz.dot.Digraph at 0x234990cad88>"
      ]
     },
     "execution_count": 4,
     "metadata": {},
     "output_type": "execute_result"
    }
   ],
   "source": [
    "elfi.draw(ma2_model)"
   ]
  },
  {
   "cell_type": "code",
   "execution_count": 5,
   "metadata": {},
   "outputs": [
    {
     "name": "stdout",
     "output_type": "stream",
     "text": [
      "Progress: |██████████████████████████████████████████████████| 100.0% Complete\n",
      "Method: SMC\n",
      "Number of samples: 1000\n",
      "Number of simulations: 140000\n",
      "Threshold: 0.0482\n",
      "Sample means: t1: 0.761, t2: 0.267\n",
      "\n",
      "Population 0:\n",
      "Method: Rejection within SMC-ABC\n",
      "Number of samples: 1000\n",
      "Number of simulations: 10000\n",
      "Threshold: 0.445\n",
      "Sample means: t1: 0.735, t2: 0.347\n",
      "\n",
      "Population 1:\n",
      "Method: Rejection within SMC-ABC\n",
      "Number of samples: 1000\n",
      "Number of simulations: 20000\n",
      "Threshold: 0.162\n",
      "Sample means: t1: 0.761, t2: 0.259\n",
      "\n",
      "Population 2:\n",
      "Method: Rejection within SMC-ABC\n",
      "Number of samples: 1000\n",
      "Number of simulations: 110000\n",
      "Threshold: 0.0482\n",
      "Sample means: t1: 0.761, t2: 0.267\n"
     ]
    }
   ],
   "source": [
    "smc = elfi.SMC(ma2_model['d'], batch_size=10000, seed=1)\n",
    "N = 1000\n",
    "schedule = [0.7, 0.2, 0.05]\n",
    "result_smc = smc.sample(N, schedule)\n",
    "result_smc.summary(all=True)"
   ]
  },
  {
   "cell_type": "code",
   "execution_count": 8,
   "metadata": {},
   "outputs": [],
   "source": [
    "# Mess up scaling in prior, then scale down in simulator\n",
    "scale = 10\n",
    "ma2_model['t1'].become(elfi.Prior(scipy.stats.uniform, 0, 2*scale, model=ma2_model))\n",
    "\n",
    "\n",
    "def MA2(t1, t2, extra_kw=\"defualt\", n_obs=100, batch_size=1, random_state=None):\n",
    "    print(extra_kw)\n",
    "    t1=t1/scale\n",
    "    t1 = np.asanyarray(t1).reshape((-1, 1))\n",
    "    t2 = np.asanyarray(t2).reshape((-1, 1))\n",
    "    random_state = random_state or np.random\n",
    "\n",
    "    w = random_state.randn(batch_size, n_obs+2)  # i.i.d. sequence ~ N(0,1)\n",
    "    x = w[:, 2:] + t1*w[:, 1:-1] + t2*w[:, :-2]\n",
    "    return x\n",
    "\n",
    "ma2_model['MA2'].become(elfi.Simulator(MA2, ma2_model['t1'], ma2_model['t2'], \"NON DEFUALT\",  observed=ma2_model.observed[\"MA2\"], model=ma2_model))"
   ]
  },
  {
   "cell_type": "code",
   "execution_count": 9,
   "metadata": {},
   "outputs": [
    {
     "name": "stdout",
     "output_type": "stream",
     "text": [
      "NON DEFUALT--------------------------------------------------| 0.0% Complete\n",
      "NON DEFUALT█████████████████████████-------------------------| 50.0% Complete\n",
      "NON DEFUALT█████████████████████████████████-----------------| 66.7% Complete\n",
      "NON DEFUALT█████████████████████████████████████-------------| 75.0% Complete\n",
      "NON DEFUALT█████████████-------------------------------------| 26.7% Complete\n",
      "NON DEFUALT█████████████████---------------------------------| 35.7% Complete\n",
      "NON DEFUALT█████████████████████-----------------------------| 42.9% Complete\n",
      "NON DEFUALT█████████████████████████-------------------------| 50.0% Complete\n",
      "NON DEFUALT████████████████████████████----------------------| 57.1% Complete\n",
      "NON DEFUALT████████████████████████████████------------------| 64.3% Complete\n",
      "NON DEFUALT███████████████████████████████████---------------| 71.4% Complete\n",
      "NON DEFUALT███████████████████████████████████████-----------| 78.6% Complete\n",
      "NON DEFUALT██████████████████████████████████████████--------| 85.7% Complete\n",
      "NON DEFUALT██████████████████████████████████████████████----| 92.9% Complete\n",
      "Progress: |██████████████████████████████████████████████████| 100.0% Complete\n",
      "Method: SMC\n",
      "Number of samples: 1000\n",
      "Number of simulations: 140000\n",
      "Threshold: 0.0478\n",
      "Sample means: t1: 7.51, t2: 0.245\n"
     ]
    }
   ],
   "source": [
    "smc = elfi.SMC(ma2_model['d'], batch_size=10000, seed=3)\n",
    "N = 1000\n",
    "schedule = [0.7, 0.2, 0.05]\n",
    "result_smc = smc.sample(N, schedule)\n",
    "result_smc.summary()"
   ]
  },
  {
   "cell_type": "markdown",
   "metadata": {},
   "source": [
    "This tutorial example starts to fail when the difference in scales is around 1 million times. Perhaps we need to scale the parameters too!"
   ]
  }
 ],
 "metadata": {
  "kernelspec": {
   "display_name": "Python 3",
   "language": "python",
   "name": "python3"
  },
  "language_info": {
   "codemirror_mode": {
    "name": "ipython",
    "version": 3
   },
   "file_extension": ".py",
   "mimetype": "text/x-python",
   "name": "python",
   "nbconvert_exporter": "python",
   "pygments_lexer": "ipython3",
   "version": "3.7.7"
  }
 },
 "nbformat": 4,
 "nbformat_minor": 4
}
