{
 "cells": [
  {
   "cell_type": "code",
   "execution_count": 2,
   "metadata": {},
   "outputs": [],
   "source": [
    "import logging\n",
    "import numpy as np\n",
    "import scipy.stats\n",
    "import seaborn as sns\n",
    "import matplotlib.pyplot as plt\n",
    "import elfi\n",
    "from sim.utils import ScaledDist, plot_dist\n",
    "from sim.model import elfi_sim\n",
    "from sim.sum_stats import elfi_summary\n",
    "import scipy.stats\n",
    "from sklearn.preprocessing import StandardScaler\n",
    "import pandas as pd\n",
    "import pickle\n",
    "\n",
    "logging.basicConfig()\n",
    "logging.getLogger().setLevel(logging.WARNING)\n",
    "elfi.set_client(\"multiprocessing\")"
   ]
  },
  {
   "cell_type": "code",
   "execution_count": null,
   "metadata": {},
   "outputs": [],
   "source": [
    "with open (\"../output/priors.pkl\", \"rb\") as f:\n",
    "    priors = pickle.load(f)"
   ]
  },
  {
   "cell_type": "code",
   "execution_count": 43,
   "metadata": {},
   "outputs": [
    {
     "data": {
      "text/plain": [
       "560.6978117309978"
      ]
     },
     "execution_count": 43,
     "metadata": {},
     "output_type": "execute_result"
    }
   ],
   "source": [
    "ScaledDist(scipy.stats.lognorm(s=0.7, loc=0, scale=1),\n",
    "           scipy.stats.lognorm(s=0.7, loc=1, scale=np.exp(3))).target.ppf(1-1e-6)"
   ]
  },
  {
   "cell_type": "code",
   "execution_count": 54,
   "metadata": {},
   "outputs": [
    {
     "name": "stdout",
     "output_type": "stream",
     "text": [
      "100.62067501562166\n"
     ]
    },
    {
     "data": {
      "text/plain": [
       "[]"
      ]
     },
     "execution_count": 54,
     "metadata": {},
     "output_type": "execute_result"
    },
    {
     "data": {
      "image/png": "[encoded data removed]",
      "text/plain": [
       "<Figure size 432x288 with 1 Axes>"
      ]
     },
     "metadata": {
      "needs_background": "light"
     },
     "output_type": "display_data"
    }
   ],
   "source": [
    "dist = \n",
    "print(dist.target.ppf(1-1e-6))\n",
    "dist.plot()"
   ]
  },
  {
   "cell_type": "markdown",
   "metadata": {},
   "source": [
    "### Add priors to model and plot"
   ]
  },
  {
   "cell_type": "code",
   "execution_count": null,
   "metadata": {},
   "outputs": [],
   "source": [
    "m = elfi.ElfiModel(\"m\")\n",
    "\n",
    "elfi.Constant(int(5e6), name=\"length\", model=m)\n",
    "elfi.Constant(1.8e-8, name=\"recombination_rate\", model=m)\n",
    "elfi.Constant(6e-8, name=\"mutation_rate\", model=m)\n",
    "\n",
    "for prior_name, prior in priors.items():\n",
    "    elfi.Prior(prior.sampling, name=prior_name, model=m)\n"
   ]
  },
  {
   "cell_type": "markdown",
   "metadata": {},
   "source": [
    "### POD"
   ]
  },
  {
   "cell_type": "code",
   "execution_count": null,
   "metadata": {},
   "outputs": [],
   "source": [
    "y_obs = elfi_sim(\n",
    "        bottleneck_strength_domestic=[3000],\n",
    "        bottleneck_strength_wild=[30000],\n",
    "        bottleneck_time_domestic=[3000],\n",
    "        bottleneck_time_wild=[4000],\n",
    "        captive_time=[20],\n",
    "        div_time=[35000],\n",
    "        mig_length_post_split=[1000],\n",
    "        mig_length_wild=[20],\n",
    "        mig_rate_captive=[0.01],\n",
    "        mig_rate_post_split=[0.1],\n",
    "        mig_rate_wild=[0.01],\n",
    "        pop_size_captive=[100],\n",
    "        pop_size_domestic_1=[200],\n",
    "        pop_size_domestic_2=[200],\n",
    "        pop_size_wild_1=[200],\n",
    "        pop_size_wild_2=[200],\n",
    "        length=int(10e6),\n",
    "        recombination_rate=1.8e-8,\n",
    "        mutation_rate=6e-8,\n",
    "        random_state=np.random.RandomState(3),\n",
    "        batch_size=1\n",
    ") "
   ]
  },
  {
   "cell_type": "code",
   "execution_count": null,
   "metadata": {},
   "outputs": [],
   "source": [
    "prior_args = [m[name] for name in m.parameter_names]  # Model only contains priors and constants\n",
    "\n",
    "y = elfi.Simulator(elfi_sim, *prior_args, m[\"length\"], m[\"recombination_rate\"],\n",
    "                   m[\"mutation_rate\"], priors, name=\"simulator\", observed=y_obs)\n",
    "\n",
    "s = elfi.Summary(elfi_summary, y, None, True, name='s', model=m)\n",
    "\n",
    "d = elfi.Distance('euclidean', s, name='d', model=m)"
   ]
  },
  {
   "cell_type": "markdown",
   "metadata": {},
   "source": [
    "### Carry out simulations to \"train\" sum stat scaler"
   ]
  },
  {
   "cell_type": "code",
   "execution_count": null,
   "metadata": {},
   "outputs": [],
   "source": [
    "seed = 1\n",
    "pool = elfi.OutputPool(['s'])\n",
    "rej = elfi.Rejection(m['d'], batch_size=4, seed=1, pool=pool)\n",
    "rej_res = rej.sample(50, quantile=1, bar=False)  # Accept all\n",
    "store = pool.get_store('s')\n",
    "sum_stats = np.array(list(store.values()))\n",
    "sum_stats = sum_stats.reshape(-1, sum_stats.shape[2])  # Drop batches axis\n",
    "scaler = StandardScaler()\n",
    "scaler.fit(sum_stats)\n",
    "m[\"s\"].become(elfi.Summary(elfi_summary, y, scaler, True, name='s_scaled', model=m))  # Scaler and quick_mode"
   ]
  },
  {
   "cell_type": "markdown",
   "metadata": {},
   "source": [
    "### SMC"
   ]
  },
  {
   "cell_type": "code",
   "execution_count": null,
   "metadata": {},
   "outputs": [],
   "source": [
    "%%time\n",
    "logging.getLogger().setLevel(logging.INFO)\n",
    "smc = elfi.SMC(m['d'], batch_size=5, seed=1)\n",
    "N = 500\n",
    "schedule = [12, 11, 10, 9]\n",
    "result_smc = smc.sample(N, schedule)\n",
    "result_smc.summary(all=True)"
   ]
  },
  {
   "cell_type": "markdown",
   "metadata": {},
   "source": [
    "### Collect and write out results"
   ]
  },
  {
   "cell_type": "code",
   "execution_count": null,
   "metadata": {},
   "outputs": [],
   "source": [
    "samples = result_smc.samples_array\n",
    "weights = result_smc.weights"
   ]
  },
  {
   "cell_type": "code",
   "execution_count": null,
   "metadata": {},
   "outputs": [],
   "source": [
    "results = pd.DataFrame(samples, columns=sorted(priors.keys()))\n",
    "results[\"weights\"] = result_smc.weights\n",
    "\n",
    "# scale back up results\n",
    "for name, dist in scaled_priors.items():\n",
    "    results[name] = dist.scale_up_samples(results[name])\n",
    "    \n",
    "results.to_csv(\"../output/smc_posterior.csv\", index=False)"
   ]
  },
  {
   "cell_type": "code",
   "execution_count": null,
   "metadata": {},
   "outputs": [],
   "source": [
    "# Write out pdfs\n",
    "\n",
    "df_list = []\n",
    "\n",
    "for name, dist in priors.items():\n",
    "    if isinstance(dist, ScaledDist):\n",
    "        dist = dist.target\n",
    "    x_lims = dist.ppf([0.001, 0.999])\n",
    "    x = np.linspace(x_lims[0], x_lims[1], 1000)\n",
    "    y = dist.pdf(x)\n",
    "    df = pd.DataFrame({\"x\": x, \"parameter\": name, \"value\": y})\n",
    "    df_list.append(df)\n",
    "    \n",
    "pdf_df = pd.concat(df_list)\n",
    "pdf_df.to_csv(\"../output/prior_pdf.csv\", index=False)"
   ]
  }
 ],
 "metadata": {
  "kernelspec": {
   "display_name": "Python 3",
   "language": "python",
   "name": "python3"
  },
  "language_info": {
   "codemirror_mode": {
    "name": "ipython",
    "version": 3
   },
   "file_extension": ".py",
   "mimetype": "text/x-python",
   "name": "python",
   "nbconvert_exporter": "python",
   "pygments_lexer": "ipython3",
   "version": "3.7.7"
  }
 },
 "nbformat": 4,
 "nbformat_minor": 4
}
