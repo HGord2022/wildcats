{
 "cells": [
  {
   "cell_type": "code",
   "execution_count": 3,
   "metadata": {},
   "outputs": [],
   "source": [
    "import logging\n",
    "import numpy as np\n",
    "import scipy.stats\n",
    "import seaborn as sns\n",
    "import matplotlib.pyplot as plt\n",
    "import elfi\n",
    "from sim.utils import ScaledDist, plot_dist\n",
    "from sim.model import elfi_sim\n",
    "from sim.sum_stats import elfi_summary\n",
    "from sim.model import elfi_sim_sum\n",
    "import scipy.stats\n",
    "from sklearn.preprocessing import StandardScaler\n",
    "import pandas as pd\n",
    "import pickle\n",
    "\n",
    "logging.basicConfig()\n",
    "logging.getLogger().setLevel(logging.WARNING)\n",
    "\n",
    "elfi.set_client(\"multiprocessing\")"
   ]
  },
  {
   "cell_type": "code",
   "execution_count": 4,
   "metadata": {},
   "outputs": [],
   "source": [
    "with open (\"../output/priors.pkl\", \"rb\") as f:\n",
    "    priors = pickle.load(f)\n",
    "    \n",
    "with open (\"../data/e3_phased.pkl\", \"rb\") as f:\n",
    "    y_obs = pickle.load(f)"
   ]
  },
  {
   "cell_type": "markdown",
   "metadata": {},
   "source": [
    "### Add priors to model"
   ]
  },
  {
   "cell_type": "code",
   "execution_count": null,
   "metadata": {},
   "outputs": [],
   "source": [
    "m = elfi.ElfiModel(\"m\")\n",
    "\n",
    "elfi.Constant(44648284, name=\"length\", model=m)\n",
    "elfi.Constant(1.8e-8, name=\"recombination_rate\", model=m)\n",
    "elfi.Constant(6e-8, name=\"mutation_rate\", model=m)\n",
    "\n",
    "for prior_name, prior in priors.items():\n",
    "    elfi.Prior(prior.sampling, name=prior_name, model=m)\n"
   ]
  },
  {
   "cell_type": "markdown",
   "metadata": {},
   "source": [
    "### Run rejection to train sum stat scaler"
   ]
  },
  {
   "cell_type": "code",
   "execution_count": null,
   "metadata": {},
   "outputs": [],
   "source": [
    "prior_args = [m[name] for name in m.parameter_names]\n",
    "\n",
    "sim_sum = elfi.Simulator(elfi_sim_sum, *prior_args, m[\"length\"], m[\"recombination_rate\"],\n",
    "                   m[\"mutation_rate\"], priors, name=\"sim_sum\", model=m)\n",
    "\n",
    "sum_stats = sim_sum.generate(3)\n",
    "\n",
    "scaler = StandardScaler()\n",
    "scaler.fit(sum_stats)\n"
   ]
  },
  {
   "cell_type": "code",
   "execution_count": null,
   "metadata": {},
   "outputs": [],
   "source": [
    "def elfi_sum_scaler(sum_stats, scaler):\n",
    "    \"\"\"\n",
    "    Scales the summary statistics using standard scaler\n",
    "    \"\"\"\n",
    "    return scaler.transform(sum_stats)\n"
   ]
  },
  {
   "cell_type": "code",
   "execution_count": null,
   "metadata": {},
   "outputs": [],
   "source": [
    "sum_scaler = elfi.Summary(sum_scaler, scaler, name=\"sum_scaler\", model=m)"
   ]
  },
  {
   "cell_type": "code",
   "execution_count": 10,
   "metadata": {},
   "outputs": [],
   "source": [
    "# Sort observed data\n",
    "y_obs = "
   ]
  },
  {
   "cell_type": "code",
   "execution_count": null,
   "metadata": {},
   "outputs": [],
   "source": []
  },
  {
   "cell_type": "code",
   "execution_count": null,
   "metadata": {},
   "outputs": [],
   "source": [
    "m.observed = {\"sim_sum\": real_sum_stat_obs???}"
   ]
  },
  {
   "cell_type": "code",
   "execution_count": null,
   "metadata": {},
   "outputs": [],
   "source": [
    "%%time\n",
    "s.generate(3)"
   ]
  },
  {
   "cell_type": "code",
   "execution_count": null,
   "metadata": {},
   "outputs": [],
   "source": [
    "d = elfi.Distance('euclidean', s, name='d', model=m)"
   ]
  },
  {
   "cell_type": "code",
   "execution_count": null,
   "metadata": {},
   "outputs": [],
   "source": []
  },
  {
   "cell_type": "code",
   "execution_count": null,
   "metadata": {},
   "outputs": [],
   "source": []
  },
  {
   "cell_type": "code",
   "execution_count": null,
   "metadata": {},
   "outputs": [],
   "source": [
    "prior_args = [m[name] for name in m.parameter_names]  # Model only contains priors and constants\n",
    "\n",
    "y = elfi.Simulator(elfi_sim, *prior_args, m[\"length\"], m[\"recombination_rate\"],\n",
    "                   m[\"mutation_rate\"], priors, name=\"simulator\", observed=y_obs)\n",
    "\n",
    "s = elfi.Summary(elfi_summary, y, None, False, name='s', model=m)\n",
    "\n",
    "d = elfi.Distance('euclidean', s, name='d', model=m)"
   ]
  },
  {
   "cell_type": "code",
   "execution_count": null,
   "metadata": {},
   "outputs": [],
   "source": []
  },
  {
   "cell_type": "markdown",
   "metadata": {},
   "source": [
    "### Carry out simulations to \"train\" sum stat scaler"
   ]
  },
  {
   "cell_type": "code",
   "execution_count": null,
   "metadata": {},
   "outputs": [],
   "source": [
    "seed = 1\n",
    "pool = elfi.OutputPool(['s'])\n",
    "rej = elfi.Rejection(m['d'], batch_size=4, seed=1, pool=pool)\n",
    "rej_res = rej.sample(3, quantile=1, bar=False)  # Accept all\n",
    "store = pool.get_store('s')\n",
    "sum_stats = np.array(list(store.values()))\n",
    "sum_stats = sum_stats.reshape(-1, sum_stats.shape[2])  # Drop batches axis\n",
    "scaler = StandardScaler()\n",
    "scaler.fit(sum_stats)\n",
    "m[\"s\"].become(elfi.Summary(elfi_summary, y, scaler, False, name='s_scaled', model=m))  # Scaler and quick_mode"
   ]
  },
  {
   "cell_type": "code",
   "execution_count": null,
   "metadata": {},
   "outputs": [],
   "source": []
  },
  {
   "cell_type": "code",
   "execution_count": null,
   "metadata": {},
   "outputs": [],
   "source": [
    "%%time\n",
    "d.generate(5)"
   ]
  },
  {
   "cell_type": "markdown",
   "metadata": {},
   "source": [
    "### SMC"
   ]
  },
  {
   "cell_type": "code",
   "execution_count": null,
   "metadata": {},
   "outputs": [],
   "source": [
    "dists = m['d'].generate(20)"
   ]
  },
  {
   "cell_type": "code",
   "execution_count": null,
   "metadata": {},
   "outputs": [],
   "source": [
    "dists"
   ]
  },
  {
   "cell_type": "code",
   "execution_count": null,
   "metadata": {},
   "outputs": [],
   "source": [
    "%%time\n",
    "logging.getLogger().setLevel(logging.INFO)\n",
    "smc = elfi.SMC(m['d'], batch_size=5, seed=1)\n",
    "N = 500\n",
    "schedule = [12, 11, 10, 9]\n",
    "result_smc = smc.sample(N, schedule)\n",
    "result_smc.summary(all=True)"
   ]
  },
  {
   "cell_type": "markdown",
   "metadata": {},
   "source": [
    "### Collect and write out results"
   ]
  },
  {
   "cell_type": "code",
   "execution_count": null,
   "metadata": {},
   "outputs": [],
   "source": [
    "samples = result_smc.samples_array\n",
    "weights = result_smc.weights"
   ]
  },
  {
   "cell_type": "code",
   "execution_count": null,
   "metadata": {},
   "outputs": [],
   "source": [
    "results = pd.DataFrame(samples, columns=sorted(priors.keys()))\n",
    "results[\"weights\"] = result_smc.weights\n",
    "\n",
    "# scale back up results\n",
    "for name, dist in scaled_priors.items():\n",
    "    results[name] = dist.scale_up_samples(results[name])\n",
    "    \n",
    "results.to_csv(\"../output/smc_posterior.csv\", index=False)"
   ]
  },
  {
   "cell_type": "code",
   "execution_count": null,
   "metadata": {},
   "outputs": [],
   "source": [
    "# Write out pdfs\n",
    "\n",
    "df_list = []\n",
    "\n",
    "for name, dist in priors.items():\n",
    "    if isinstance(dist, ScaledDist):\n",
    "        dist = dist.target\n",
    "    x_lims = dist.ppf([0.001, 0.999])\n",
    "    x = np.linspace(x_lims[0], x_lims[1], 1000)\n",
    "    y = dist.pdf(x)\n",
    "    df = pd.DataFrame({\"x\": x, \"parameter\": name, \"value\": y})\n",
    "    df_list.append(df)\n",
    "    \n",
    "pdf_df = pd.concat(df_list)\n",
    "pdf_df.to_csv(\"../output/prior_pdf.csv\", index=False)"
   ]
  }
 ],
 "metadata": {
  "kernelspec": {
   "display_name": "Python 3",
   "language": "python",
   "name": "python3"
  },
  "language_info": {
   "codemirror_mode": {
    "name": "ipython",
    "version": 3
   },
   "file_extension": ".py",
   "mimetype": "text/x-python",
   "name": "python",
   "nbconvert_exporter": "python",
   "pygments_lexer": "ipython3",
   "version": "3.7.7"
  }
 },
 "nbformat": 4,
 "nbformat_minor": 4
}
