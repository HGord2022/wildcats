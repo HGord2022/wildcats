{
 "cells": [
  {
   "cell_type": "code",
   "execution_count": 2,
   "metadata": {},
   "outputs": [],
   "source": [
    "import logging\n",
    "import numpy as np\n",
    "import scipy.stats\n",
    "import seaborn as sns\n",
    "import matplotlib.pyplot as plt\n",
    "import elfi\n",
    "from sim.utils import ScaledDist, plot_dist\n",
    "from sim.model import elfi_sim\n",
    "from sim.sum_stats import elfi_sum, elfi_sum_scaler\n",
    "import scipy.stats\n",
    "from sklearn.preprocessing import StandardScaler\n",
    "import pandas as pd\n",
    "import pickle\n",
    "\n",
    "logging.basicConfig()\n",
    "logging.getLogger().setLevel(logging.WARNING)\n",
    "\n",
    "elfi.set_client(\"multiprocessing\")"
   ]
  },
  {
   "cell_type": "code",
   "execution_count": 25,
   "metadata": {},
   "outputs": [],
   "source": [
    "dist = np.load(\"../output/distances.npy\")"
   ]
  },
  {
   "cell_type": "code",
   "execution_count": 16,
   "metadata": {},
   "outputs": [],
   "source": [
    "x = np.linspace(0,0.1,20)\n",
    "y = np.quantile(dist, x)"
   ]
  },
  {
   "cell_type": "code",
   "execution_count": 36,
   "metadata": {},
   "outputs": [
    {
     "data": {
      "text/plain": [
       "12.703273291299773"
      ]
     },
     "execution_count": 36,
     "metadata": {},
     "output_type": "execute_result"
    }
   ],
   "source": [
    "np.quantile(dist, 0.001)"
   ]
  },
  {
   "cell_type": "code",
   "execution_count": 29,
   "metadata": {},
   "outputs": [
    {
     "data": {
      "text/plain": [
       "0.002"
      ]
     },
     "execution_count": 29,
     "metadata": {},
     "output_type": "execute_result"
    }
   ],
   "source": [
    "1/500"
   ]
  },
  {
   "cell_type": "code",
   "execution_count": 39,
   "metadata": {},
   "outputs": [
    {
     "data": {
      "text/plain": [
       "array([12.26847364, 13.13981562, 13.51433706, 14.08415743, 14.51698531,\n",
       "       14.52160036, 14.65530889, 14.73955439, 14.82771983, 14.86274315,\n",
       "       14.9299145 , 15.00753902, 15.04833658, 15.07687844, 15.15884383,\n",
       "       15.17575537, 15.22759793, 15.24647109, 15.30529367, 15.42727627,\n",
       "       15.47810068, 15.48577564, 15.49738441, 15.50818866, 15.51466235,\n",
       "       15.56308201, 15.57742134, 15.59213036, 15.59481576, 15.60997499,\n",
       "       15.61401535, 15.61838091, 15.62672053, 15.68244481, 15.75485875,\n",
       "       15.75863041, 15.79509722, 15.83233372, 15.87561423, 15.88057041,\n",
       "       15.94319059, 15.94979648, 15.95599259, 15.97864399, 15.98613626,\n",
       "       16.00138923, 16.00747852, 16.0205815 , 16.02836096, 16.04732545,\n",
       "       16.16150804, 16.16156695, 16.16536213, 16.18013267, 16.19798378,\n",
       "       16.2002343 , 16.21152415, 16.22205705, 16.24106333, 16.26562462,\n",
       "       16.29750389, 16.32911283, 16.3737671 , 16.37831933, 16.37867248,\n",
       "       16.40231283, 16.44773398, 16.46802304, 16.48559604, 16.48594259,\n",
       "       16.48951812, 16.49576609, 16.4985178 , 16.50044641, 16.51094194,\n",
       "       16.52285706, 16.5424322 , 16.5537202 , 16.55617816, 16.5662414 ,\n",
       "       16.58532833, 16.67193613, 16.67444253, 16.67938888, 16.7137866 ,\n",
       "       16.71498124, 16.73735476, 16.73879529, 16.74247487, 16.76619821,\n",
       "       16.77099077, 16.78673648, 16.85181283, 16.88148571, 16.90166652,\n",
       "       16.93851922, 16.9516875 , 16.96010857, 16.96057883, 16.96848243,\n",
       "       16.97164966, 16.99960137, 17.0274453 , 17.04033328, 17.04288237,\n",
       "       17.04594873, 17.04717641, 17.05466489, 17.0715217 , 17.07407046,\n",
       "       17.08262811, 17.09333368, 17.13959048, 17.14768532, 17.16704093,\n",
       "       17.17646095, 17.1776036 , 17.18130953, 17.25935815, 17.26468891,\n",
       "       17.26542041, 17.28457002, 17.31391013, 17.3356734 , 17.33794531,\n",
       "       17.35755134, 17.37326518, 17.37373482, 17.37427019, 17.3761419 ,\n",
       "       17.43025123, 17.44232403, 17.45315923, 17.47676917, 17.49243156,\n",
       "       17.49410082, 17.50330384, 17.52385677, 17.52759001, 17.53016274,\n",
       "       17.53426091, 17.53426984, 17.53836625, 17.54041545, 17.54715052,\n",
       "       17.54763605, 17.55539423, 17.56459344, 17.61236352, 17.61716861,\n",
       "       17.63403624, 17.63778565, 17.65178552, 17.67491988, 17.67609818,\n",
       "       17.68488064, 17.69287021, 17.69457711, 17.69514478, 17.6972155 ,\n",
       "       17.7149986 , 17.72768962, 17.73269507, 17.73993221, 17.74955188,\n",
       "       17.75851697, 17.77284498, 17.78369727, 17.80123449, 17.80643696,\n",
       "       17.81495132, 17.82004221, 17.82530563, 17.82817493, 17.84121032,\n",
       "       17.85999756, 17.86375267, 17.87300699, 17.87736782, 17.89759512,\n",
       "       17.94767009, 17.9533121 , 17.95775959, 17.96985516, 18.00796071,\n",
       "       18.01761544, 18.02278475, 18.02815954, 18.04114349, 18.08173252,\n",
       "       18.08211556, 18.0886607 , 18.1095837 , 18.11281484, 18.11632008,\n",
       "       18.14111175, 18.14216393, 18.14461735, 18.15120392, 18.15404322,\n",
       "       18.15425774, 18.15964253, 18.16068839, 18.16415789, 18.19316786,\n",
       "       18.1998557 , 18.20827523, 18.21350737, 18.21535266, 18.21864267,\n",
       "       18.22943053, 18.24130815, 18.24887818, 18.25446053, 18.27410614,\n",
       "       18.28293001, 18.28615934, 18.30449497, 18.31453269, 18.31597853,\n",
       "       18.34403192, 18.35191499, 18.3593989 , 18.36241447, 18.37377682,\n",
       "       18.38831336, 18.43767266, 18.44704645, 18.46746905, 18.47287695,\n",
       "       18.47616602, 18.48395801, 18.48634205, 18.50435484, 18.50910686,\n",
       "       18.54018057, 18.5432    , 18.55224867, 18.56644487, 18.56928269,\n",
       "       18.57860575, 18.58685789, 18.59661312, 18.61576059, 18.61618275,\n",
       "       18.62498717, 18.62752711, 18.64277381, 18.69669803, 18.70598222,\n",
       "       18.74762405, 18.7663741 , 18.76977067, 18.77658954, 18.78074554,\n",
       "       18.79820032, 18.8003044 , 18.81508419, 18.82204117, 18.82241802,\n",
       "       18.84421672, 18.85459577, 18.8713912 , 18.89060314, 18.90338408,\n",
       "       18.9159929 , 18.91930689, 18.91996056, 18.94303354, 18.96505634,\n",
       "       18.9669287 , 18.97521131, 18.98516417, 18.99140602, 19.0150882 ,\n",
       "       19.0203368 , 19.02870544, 19.04477512, 19.04752068, 19.05677239,\n",
       "       19.06291901, 19.07571121, 19.07837692, 19.07942423, 19.08864511,\n",
       "       19.09205599, 19.09725151, 19.09860682, 19.12541574, 19.13471303,\n",
       "       19.16665726, 19.18064654, 19.20208859, 19.2349701 , 19.25484833,\n",
       "       19.26298646, 19.29915549, 19.33358891, 19.33468617, 19.33482099,\n",
       "       19.35172955, 19.36251585, 19.36878669, 19.38515311, 19.39429414,\n",
       "       19.39657983, 19.42368359, 19.45273762, 19.46275502, 19.46929648,\n",
       "       19.47602768, 19.50248095, 19.52014959, 19.55497305, 19.55511859,\n",
       "       19.55532762, 19.56823513, 19.58301776, 19.59098237, 19.61047654,\n",
       "       19.6317445 , 19.64001485, 19.64873027, 19.64964628, 19.65263081,\n",
       "       19.65350032, 19.65730814, 19.66371237, 19.67756014, 19.72729106,\n",
       "       19.7302997 , 19.74279998, 19.74989703, 19.7574578 , 19.77060897,\n",
       "       19.81155313, 19.81879221, 19.82501741, 19.85696626, 19.87012337,\n",
       "       19.87102691, 19.87211677, 19.89263632, 19.94403831, 19.95557155,\n",
       "       19.97648711, 19.99043631, 19.9950341 , 20.04145831, 20.07882321,\n",
       "       20.07911913, 20.07968641, 20.09322692, 20.10301605, 20.11236715,\n",
       "       20.11476068, 20.1350983 , 20.13825599, 20.14286312, 20.16664101,\n",
       "       20.19030237, 20.19436928, 20.23281671, 20.23718354, 20.23724329,\n",
       "       20.2378087 , 20.25884017, 20.26305617, 20.27639471, 20.27677646,\n",
       "       20.29114287, 20.29714437, 20.30361437, 20.30796504, 20.35975905,\n",
       "       20.37427226, 20.38684247, 20.39690029, 20.41969523, 20.43043094,\n",
       "       20.43264552, 20.4383664 , 20.44753882, 20.54737053, 20.56132829,\n",
       "       20.57568104, 20.5875708 , 20.59332018, 20.62473012, 20.63664627,\n",
       "       20.64921586, 20.69857606, 20.73213047, 20.79603798, 20.81087253,\n",
       "       20.81087928, 20.82326921, 20.83294234, 20.84557562, 20.85803242,\n",
       "       20.885661  , 20.88834182, 20.99939083, 21.0570014 , 21.07404087,\n",
       "       21.07409066, 21.07740784, 21.13840071, 21.15975798, 21.17499978,\n",
       "       21.19637433, 21.21327441, 21.21432962, 21.23728022, 21.23759406,\n",
       "       21.26444465, 21.26547589, 21.27729065, 21.35194137, 21.35401794,\n",
       "       21.44220143, 21.50891867, 21.52459065, 21.53230786, 21.56401255,\n",
       "       21.56467932, 21.71002325, 21.74810315, 21.76358434, 21.93736326,\n",
       "       21.94758383, 21.9555435 , 21.96237796, 22.01089731, 22.07647345,\n",
       "       22.0846897 , 22.11369673, 22.1462259 , 22.16019912, 22.1882605 ,\n",
       "       22.23143768, 22.28084415, 22.40252106, 22.41167709, 22.41214477,\n",
       "       22.4431552 , 22.51416682, 22.59905934, 22.6027068 , 22.62228158,\n",
       "       22.63839829, 22.70234417, 22.7120239 , 22.75603289, 22.76667595,\n",
       "       22.8429618 , 22.86709719, 22.8953771 , 22.90030648, 22.92523044,\n",
       "       23.01523614, 23.26943055, 23.30138609, 23.42359817, 23.46361265,\n",
       "       23.47224949, 23.49070111, 23.51010176, 23.57856074, 23.58204408,\n",
       "       23.67165238, 23.74353638, 23.75409141, 24.07251033, 24.16762915,\n",
       "       24.18240026, 24.23072393, 24.30479554, 24.73578251, 24.87211827,\n",
       "       25.34508497, 25.65549829, 25.73061134, 25.74086683, 25.83169866,\n",
       "       26.03616137, 26.15939939, 26.21586763, 26.40955419, 26.41142236,\n",
       "       26.52370002, 26.5495895 , 26.71072652, 27.05676644, 27.27114925,\n",
       "       27.47050595, 27.92715653, 33.55816546, 37.32163288, 41.05195104])"
      ]
     },
     "execution_count": 39,
     "metadata": {},
     "output_type": "execute_result"
    }
   ],
   "source": [
    "dist"
   ]
  },
  {
   "cell_type": "code",
   "execution_count": 17,
   "metadata": {},
   "outputs": [
    {
     "data": {
      "text/plain": [
       "Text(0.5, 0, 'Quantile')"
      ]
     },
     "execution_count": 17,
     "metadata": {},
     "output_type": "execute_result"
    },
    {
     "data": {
      "image/png": "[encoded data removed]",
      "text/plain": [
       "<Figure size 432x288 with 1 Axes>"
      ]
     },
     "metadata": {
      "needs_background": "light"
     },
     "output_type": "display_data"
    }
   ],
   "source": [
    "plt.plot(x, y)\n",
    "plt.xlabel(\"Quantile\")"
   ]
  },
  {
   "cell_type": "code",
   "execution_count": 19,
   "metadata": {},
   "outputs": [
    {
     "data": {
      "text/plain": [
       "0.2861230329041488"
      ]
     },
     "execution_count": 19,
     "metadata": {},
     "output_type": "execute_result"
    }
   ],
   "source": [
    "400/1398"
   ]
  },
  {
   "cell_type": "code",
   "execution_count": 21,
   "metadata": {},
   "outputs": [
    {
     "data": {
      "text/plain": [
       "20000.0"
      ]
     },
     "execution_count": 21,
     "metadata": {},
     "output_type": "execute_result"
    }
   ],
   "source": [
    "400/0.02"
   ]
  },
  {
   "cell_type": "code",
   "execution_count": 93,
   "metadata": {},
   "outputs": [],
   "source": [
    "# Approximate needed time\n",
    "n_sim_needed = 500 * ((1/0.025) + (1/0.09) + (1/0.2))\n",
    "hours_per_sim = 17.5/60\n",
    "n_cores = 256"
   ]
  },
  {
   "cell_type": "code",
   "execution_count": 94,
   "metadata": {},
   "outputs": [],
   "source": [
    "request_time = (n_sim_needed*hours_per_sim)/n_cores"
   ]
  },
  {
   "cell_type": "code",
   "execution_count": 95,
   "metadata": {},
   "outputs": [
    {
     "data": {
      "text/plain": [
       "31.964337384259263"
      ]
     },
     "execution_count": 95,
     "metadata": {},
     "output_type": "execute_result"
    }
   ],
   "source": [
    "request_time"
   ]
  },
  {
   "cell_type": "code",
   "execution_count": 15,
   "metadata": {},
   "outputs": [
    {
     "data": {
      "text/plain": [
       "4000.0"
      ]
     },
     "execution_count": 15,
     "metadata": {},
     "output_type": "execute_result"
    }
   ],
   "source": [
    "500*(1/0.25) + 500*(1/0.2) "
   ]
  },
  {
   "cell_type": "code",
   "execution_count": 23,
   "metadata": {},
   "outputs": [],
   "source": [
    "with open(\"../data/e3_phased.pkl\", \"rb\") as f:\n",
    "    y_obs = np.atleast_2d(pickle.load(f))"
   ]
  },
  {
   "cell_type": "code",
   "execution_count": 16,
   "metadata": {},
   "outputs": [
    {
     "name": "stderr",
     "output_type": "stream",
     "text": [
      "INFO:root:Seq length is set to 44648284\n"
     ]
    },
    {
     "data": {
      "text/plain": [
       "Distance(name='d')"
      ]
     },
     "execution_count": 16,
     "metadata": {},
     "output_type": "execute_result"
    }
   ],
   "source": [
    "import time\n",
    "import logging\n",
    "import numpy as np\n",
    "import elfi\n",
    "from sim.model import elfi_sim\n",
    "from sim.sum_stats import elfi_sum, elfi_sum_scaler\n",
    "import pickle\n",
    "from sklearn.preprocessing import StandardScaler\n",
    "\n",
    "job_start_time = time.time()\n",
    "\n",
    "logging.basicConfig()\n",
    "logging.getLogger().setLevel(logging.INFO)\n",
    "\n",
    "seq_length = 44648284  # E3 length is 44648284\n",
    "train_scaler_n_sim = 60\n",
    "rej_n_sim = 60\n",
    "\n",
    "logging.info(f\"Seq length is set to {seq_length}\")\n",
    "\n",
    "#num_cores = 0\n",
    "#timeout = time.time() + 600  # seconds\n",
    "#while num_cores is 0:\n",
    "#    elfi.set_client(\"ipyparallel\", profile=\"pbs\")  # Assumes ipython profile named pbs\n",
    "#    c = elfi.client.get_client()\n",
    "#    num_cores = c.num_cores\n",
    "#    if time.time() > timeout:\n",
    "#        raise TimeoutError(\"Could not find any cores after 600 seconds\")\n",
    "#    time.sleep(10)\n",
    "\n",
    "#logging.info(f\"Ipyparallel client started with {num_cores} cores.\")\n",
    "\n",
    "with open(\"../output/priors.pkl\", \"rb\") as f:  # Priors specified in priors.py\n",
    "    priors = pickle.load(f)\n",
    "\n",
    "with open(\"../data/e3_phased.pkl\", \"rb\") as f:\n",
    "    y_obs = np.atleast_2d(pickle.load(f))\n",
    "\n",
    "# Set up elfi model\n",
    "m = elfi.ElfiModel(\"m\")\n",
    "\n",
    "elfi.Constant(seq_length, name=\"length\", model=m)\n",
    "elfi.Constant(1.8e-8, name=\"recombination_rate\", model=m)\n",
    "elfi.Constant(6e-8, name=\"mutation_rate\", model=m)\n",
    "\n",
    "for prior_name, prior in priors.items():\n",
    "    elfi.Prior(prior.sampling, name=prior_name, model=m)\n",
    "\n",
    "prior_args = [m[name] for name in m.parameter_names]\n",
    "\n",
    "elfi.Simulator(elfi_sim, *prior_args, m[\"length\"], m[\"recombination_rate\"],\n",
    "               m[\"mutation_rate\"], priors, name=\"sim\", model=m, observed=y_obs)\n",
    "\n",
    "elfi.Summary(elfi_sum, m[\"sim\"], None, name=\"sum\", model=m)\n",
    "elfi.Operation(elfi_sum_scaler, m[\"sum\"], None, name=\"sum_scaler\")  # Placeholder (no scaling yet)\n",
    "elfi.Distance('euclidean', m[\"sum_scaler\"], name='d', model=m)"
   ]
  },
  {
   "cell_type": "code",
   "execution_count": 17,
   "metadata": {},
   "outputs": [
    {
     "data": {
      "image/svg+xml": [
       "<?xml version=\"1.0\" encoding=\"UTF-8\" standalone=\"no\"?>\r\n",
       "<!DOCTYPE svg PUBLIC \"-//W3C//DTD SVG 1.1//EN\"\r\n",
       " \"http://www.w3.org/Graphics/SVG/1.1/DTD/svg11.dtd\">\r\n",
       "<!-- Generated by graphviz version 2.38.0 (20140413.2041)\r\n",
       " -->\r\n",
       "<!-- Title: %3 Pages: 1 -->\r\n",
       "<svg width=\"3274pt\" height=\"631pt\"\r\n",
       " viewBox=\"0.00 0.00 3274.49 631.26\" xmlns=\"http://www.w3.org/2000/svg\" xmlns:xlink=\"http://www.w3.org/1999/xlink\">\r\n",
       "<g id=\"graph0\" class=\"graph\" transform=\"scale(1 1) rotate(0) translate(4 627.261)\">\r\n",
       "<title>%3</title>\r\n",
       "<polygon fill=\"white\" stroke=\"none\" points=\"-4,4 -4,-627.261 3270.49,-627.261 3270.49,4 -4,4\"/>\r\n",
       "<!-- length -->\r\n",
       "<g id=\"node1\" class=\"node\"><title>length</title>\r\n",
       "<ellipse fill=\"none\" stroke=\"black\" cx=\"32.4971\" cy=\"-503.021\" rx=\"32.4942\" ry=\"32.4942\"/>\r\n",
       "<text text-anchor=\"middle\" x=\"32.4971\" y=\"-499.321\" font-family=\"Times New Roman,serif\" font-size=\"14.00\">length</text>\r\n",
       "</g>\r\n",
       "<!-- sim -->\r\n",
       "<g id=\"node20\" class=\"node\"><title>sim</title>\r\n",
       "<ellipse fill=\"#cccccc\" stroke=\"black\" cx=\"1630.5\" cy=\"-323.384\" rx=\"23.2963\" ry=\"23.2963\"/>\r\n",
       "<text text-anchor=\"middle\" x=\"1630.5\" y=\"-319.684\" font-family=\"Times New Roman,serif\" font-size=\"14.00\">sim</text>\r\n",
       "</g>\r\n",
       "<!-- length&#45;&gt;sim -->\r\n",
       "<g id=\"edge1\" class=\"edge\"><title>length&#45;&gt;sim</title>\r\n",
       "<path fill=\"none\" stroke=\"black\" d=\"M33.8845,-470.43C36.9688,-442.452 46.252,-403.006 73.4971,-382.782 136.807,-335.788 1376.58,-325.953 1597.1,-324.573\"/>\r\n",
       "<polygon fill=\"black\" stroke=\"black\" points=\"1597.13,-328.073 1607.1,-324.512 1597.08,-321.073 1597.13,-328.073\"/>\r\n",
       "</g>\r\n",
       "<!-- recombination_rate -->\r\n",
       "<g id=\"node2\" class=\"node\"><title>recombination_rate</title>\r\n",
       "<ellipse fill=\"none\" stroke=\"black\" cx=\"163.497\" cy=\"-503.021\" rx=\"80.6858\" ry=\"80.6858\"/>\r\n",
       "<text text-anchor=\"middle\" x=\"163.497\" y=\"-499.321\" font-family=\"Times New Roman,serif\" font-size=\"14.00\">recombination_rate</text>\r\n",
       "</g>\r\n",
       "<!-- recombination_rate&#45;&gt;sim -->\r\n",
       "<g id=\"edge2\" class=\"edge\"><title>recombination_rate&#45;&gt;sim</title>\r\n",
       "<path fill=\"none\" stroke=\"black\" d=\"M200.627,-431.267C214.268,-412.203 231.598,-393.822 252.497,-382.782 374.704,-318.228 1397.29,-322.613 1596.82,-324.096\"/>\r\n",
       "<polygon fill=\"black\" stroke=\"black\" points=\"1596.96,-327.597 1606.99,-324.174 1597.01,-320.597 1596.96,-327.597\"/>\r\n",
       "</g>\r\n",
       "<!-- mutation_rate -->\r\n",
       "<g id=\"node3\" class=\"node\"><title>mutation_rate</title>\r\n",
       "<ellipse fill=\"none\" stroke=\"black\" cx=\"321.497\" cy=\"-503.021\" rx=\"59.5901\" ry=\"59.5901\"/>\r\n",
       "<text text-anchor=\"middle\" x=\"321.497\" y=\"-499.321\" font-family=\"Times New Roman,serif\" font-size=\"14.00\">mutation_rate</text>\r\n",
       "</g>\r\n",
       "<!-- mutation_rate&#45;&gt;sim -->\r\n",
       "<g id=\"edge3\" class=\"edge\"><title>mutation_rate&#45;&gt;sim</title>\r\n",
       "<path fill=\"none\" stroke=\"black\" d=\"M339.992,-446.052C350.832,-422.372 367.102,-397.017 390.497,-382.782 496.151,-318.493 1409.28,-322.543 1596.89,-324.066\"/>\r\n",
       "<polygon fill=\"black\" stroke=\"black\" points=\"1596.95,-327.567 1606.98,-324.152 1597.01,-320.567 1596.95,-327.567\"/>\r\n",
       "</g>\r\n",
       "<!-- bottleneck_strength_domestic -->\r\n",
       "<g id=\"node4\" class=\"node\"><title>bottleneck_strength_domestic</title>\r\n",
       "<ellipse fill=\"none\" stroke=\"black\" cx=\"519.497\" cy=\"-503.021\" rx=\"120.479\" ry=\"120.479\"/>\r\n",
       "<text text-anchor=\"middle\" x=\"519.497\" y=\"-499.321\" font-family=\"Times New Roman,serif\" font-size=\"14.00\">bottleneck_strength_domestic</text>\r\n",
       "</g>\r\n",
       "<!-- bottleneck_strength_domestic&#45;&gt;sim -->\r\n",
       "<g id=\"edge4\" class=\"edge\"><title>bottleneck_strength_domestic&#45;&gt;sim</title>\r\n",
       "<path fill=\"none\" stroke=\"black\" d=\"M599.493,-413.145C614.565,-401.009 631.101,-390.193 648.497,-382.782 737.197,-344.993 1433.47,-328.432 1596.45,-325.052\"/>\r\n",
       "<polygon fill=\"black\" stroke=\"black\" points=\"1596.9,-328.544 1606.83,-324.84 1596.76,-321.545 1596.9,-328.544\"/>\r\n",
       "</g>\r\n",
       "<!-- bottleneck_strength_wild -->\r\n",
       "<g id=\"node5\" class=\"node\"><title>bottleneck_strength_wild</title>\r\n",
       "<ellipse fill=\"none\" stroke=\"black\" cx=\"759.497\" cy=\"-503.021\" rx=\"102.082\" ry=\"102.082\"/>\r\n",
       "<text text-anchor=\"middle\" x=\"759.497\" y=\"-499.321\" font-family=\"Times New Roman,serif\" font-size=\"14.00\">bottleneck_strength_wild</text>\r\n",
       "</g>\r\n",
       "<!-- bottleneck_strength_wild&#45;&gt;sim -->\r\n",
       "<g id=\"edge5\" class=\"edge\"><title>bottleneck_strength_wild&#45;&gt;sim</title>\r\n",
       "<path fill=\"none\" stroke=\"black\" d=\"M819.748,-420.38C834.645,-405.474 851.769,-391.804 870.497,-382.782 936.582,-350.946 1458.3,-330.45 1596.83,-325.532\"/>\r\n",
       "<polygon fill=\"black\" stroke=\"black\" points=\"1596.99,-329.029 1606.86,-325.18 1596.74,-322.033 1596.99,-329.029\"/>\r\n",
       "</g>\r\n",
       "<!-- bottleneck_time_domestic -->\r\n",
       "<g id=\"node6\" class=\"node\"><title>bottleneck_time_domestic</title>\r\n",
       "<ellipse fill=\"none\" stroke=\"black\" cx=\"986.497\" cy=\"-503.021\" rx=\"106.681\" ry=\"106.681\"/>\r\n",
       "<text text-anchor=\"middle\" x=\"986.497\" y=\"-499.321\" font-family=\"Times New Roman,serif\" font-size=\"14.00\">bottleneck_time_domestic</text>\r\n",
       "</g>\r\n",
       "<!-- bottleneck_time_domestic&#45;&gt;sim -->\r\n",
       "<g id=\"edge6\" class=\"edge\"><title>bottleneck_time_domestic&#45;&gt;sim</title>\r\n",
       "<path fill=\"none\" stroke=\"black\" d=\"M1052.14,-419.015C1067.19,-404.784 1084.2,-391.724 1102.5,-382.782 1190.32,-339.851 1494.78,-327.976 1596.85,-325.162\"/>\r\n",
       "<polygon fill=\"black\" stroke=\"black\" points=\"1597,-328.659 1606.9,-324.896 1596.81,-321.662 1597,-328.659\"/>\r\n",
       "</g>\r\n",
       "<!-- bottleneck_time_wild -->\r\n",
       "<g id=\"node7\" class=\"node\"><title>bottleneck_time_wild</title>\r\n",
       "<ellipse fill=\"none\" stroke=\"black\" cx=\"1199.5\" cy=\"-503.021\" rx=\"88.2844\" ry=\"88.2844\"/>\r\n",
       "<text text-anchor=\"middle\" x=\"1199.5\" y=\"-499.321\" font-family=\"Times New Roman,serif\" font-size=\"14.00\">bottleneck_time_wild</text>\r\n",
       "</g>\r\n",
       "<!-- bottleneck_time_wild&#45;&gt;sim -->\r\n",
       "<g id=\"edge7\" class=\"edge\"><title>bottleneck_time_wild&#45;&gt;sim</title>\r\n",
       "<path fill=\"none\" stroke=\"black\" d=\"M1246.34,-427.61C1260.48,-410.463 1277.39,-393.989 1296.5,-382.782 1347.31,-352.975 1522.84,-334.079 1597.01,-327.253\"/>\r\n",
       "<polygon fill=\"black\" stroke=\"black\" points=\"1597.54,-330.719 1607.18,-326.334 1596.91,-323.748 1597.54,-330.719\"/>\r\n",
       "</g>\r\n",
       "<!-- captive_time -->\r\n",
       "<g id=\"node8\" class=\"node\"><title>captive_time</title>\r\n",
       "<ellipse fill=\"none\" stroke=\"black\" cx=\"1362.5\" cy=\"-503.021\" rx=\"56.59\" ry=\"56.59\"/>\r\n",
       "<text text-anchor=\"middle\" x=\"1362.5\" y=\"-499.321\" font-family=\"Times New Roman,serif\" font-size=\"14.00\">captive_time</text>\r\n",
       "</g>\r\n",
       "<!-- captive_time&#45;&gt;sim -->\r\n",
       "<g id=\"edge8\" class=\"edge\"><title>captive_time&#45;&gt;sim</title>\r\n",
       "<path fill=\"none\" stroke=\"black\" d=\"M1380.87,-449.399C1391.48,-425.985 1407.04,-399.898 1428.5,-382.782 1478.19,-343.139 1553.75,-330.407 1596.99,-326.318\"/>\r\n",
       "<polygon fill=\"black\" stroke=\"black\" points=\"1597.32,-329.803 1606.99,-325.473 1596.73,-322.828 1597.32,-329.803\"/>\r\n",
       "</g>\r\n",
       "<!-- div_time -->\r\n",
       "<g id=\"node9\" class=\"node\"><title>div_time</title>\r\n",
       "<ellipse fill=\"none\" stroke=\"black\" cx=\"1479.5\" cy=\"-503.021\" rx=\"42.4939\" ry=\"42.4939\"/>\r\n",
       "<text text-anchor=\"middle\" x=\"1479.5\" y=\"-499.321\" font-family=\"Times New Roman,serif\" font-size=\"14.00\">div_time</text>\r\n",
       "</g>\r\n",
       "<!-- div_time&#45;&gt;sim -->\r\n",
       "<g id=\"edge9\" class=\"edge\"><title>div_time&#45;&gt;sim</title>\r\n",
       "<path fill=\"none\" stroke=\"black\" d=\"M1489.69,-461.721C1497.59,-436.775 1510.61,-405.316 1530.5,-382.782 1549.19,-361.608 1577.48,-346.087 1599.21,-336.391\"/>\r\n",
       "<polygon fill=\"black\" stroke=\"black\" points=\"1600.85,-339.495 1608.67,-332.346 1598.1,-333.058 1600.85,-339.495\"/>\r\n",
       "</g>\r\n",
       "<!-- mig_length_post_split -->\r\n",
       "<g id=\"node10\" class=\"node\"><title>mig_length_post_split</title>\r\n",
       "<ellipse fill=\"none\" stroke=\"black\" cx=\"1630.5\" cy=\"-503.021\" rx=\"90.9839\" ry=\"90.9839\"/>\r\n",
       "<text text-anchor=\"middle\" x=\"1630.5\" y=\"-499.321\" font-family=\"Times New Roman,serif\" font-size=\"14.00\">mig_length_post_split</text>\r\n",
       "</g>\r\n",
       "<!-- mig_length_post_split&#45;&gt;sim -->\r\n",
       "<g id=\"edge10\" class=\"edge\"><title>mig_length_post_split&#45;&gt;sim</title>\r\n",
       "<path fill=\"none\" stroke=\"black\" d=\"M1630.5,-411.902C1630.5,-392.224 1630.5,-372.632 1630.5,-356.989\"/>\r\n",
       "<polygon fill=\"black\" stroke=\"black\" points=\"1634,-356.838 1630.5,-346.838 1627,-356.838 1634,-356.838\"/>\r\n",
       "</g>\r\n",
       "<!-- mig_length_wild -->\r\n",
       "<g id=\"node11\" class=\"node\"><title>mig_length_wild</title>\r\n",
       "<ellipse fill=\"none\" stroke=\"black\" cx=\"1809.5\" cy=\"-503.021\" rx=\"70.3881\" ry=\"70.3881\"/>\r\n",
       "<text text-anchor=\"middle\" x=\"1809.5\" y=\"-499.321\" font-family=\"Times New Roman,serif\" font-size=\"14.00\">mig_length_wild</text>\r\n",
       "</g>\r\n",
       "<!-- mig_length_wild&#45;&gt;sim -->\r\n",
       "<g id=\"edge11\" class=\"edge\"><title>mig_length_wild&#45;&gt;sim</title>\r\n",
       "<path fill=\"none\" stroke=\"black\" d=\"M1776.58,-440.926C1763.91,-420.888 1748.18,-399.496 1730.5,-382.782 1710.1,-363.503 1682.2,-347.883 1661.06,-337.665\"/>\r\n",
       "<polygon fill=\"black\" stroke=\"black\" points=\"1662.41,-334.433 1651.87,-333.357 1659.44,-340.771 1662.41,-334.433\"/>\r\n",
       "</g>\r\n",
       "<!-- mig_rate_captive -->\r\n",
       "<g id=\"node12\" class=\"node\"><title>mig_rate_captive</title>\r\n",
       "<ellipse fill=\"none\" stroke=\"black\" cx=\"1970.5\" cy=\"-503.021\" rx=\"72.5877\" ry=\"72.5877\"/>\r\n",
       "<text text-anchor=\"middle\" x=\"1970.5\" y=\"-499.321\" font-family=\"Times New Roman,serif\" font-size=\"14.00\">mig_rate_captive</text>\r\n",
       "</g>\r\n",
       "<!-- mig_rate_captive&#45;&gt;sim -->\r\n",
       "<g id=\"edge12\" class=\"edge\"><title>mig_rate_captive&#45;&gt;sim</title>\r\n",
       "<path fill=\"none\" stroke=\"black\" d=\"M1938.44,-437.297C1925.5,-417.092 1908.78,-396.522 1888.5,-382.782 1818.78,-335.547 1716.57,-326.017 1664.18,-324.412\"/>\r\n",
       "<polygon fill=\"black\" stroke=\"black\" points=\"1664.17,-320.911 1654.09,-324.184 1664.01,-327.909 1664.17,-320.911\"/>\r\n",
       "</g>\r\n",
       "<!-- mig_rate_post_split -->\r\n",
       "<g id=\"node13\" class=\"node\"><title>mig_rate_post_split</title>\r\n",
       "<ellipse fill=\"none\" stroke=\"black\" cx=\"2144.5\" cy=\"-503.021\" rx=\"83.3857\" ry=\"83.3857\"/>\r\n",
       "<text text-anchor=\"middle\" x=\"2144.5\" y=\"-499.321\" font-family=\"Times New Roman,serif\" font-size=\"14.00\">mig_rate_post_split</text>\r\n",
       "</g>\r\n",
       "<!-- mig_rate_post_split&#45;&gt;sim -->\r\n",
       "<g id=\"edge13\" class=\"edge\"><title>mig_rate_post_split&#45;&gt;sim</title>\r\n",
       "<path fill=\"none\" stroke=\"black\" d=\"M2103.35,-430.279C2089.49,-412.023 2072.4,-394.326 2052.5,-382.782 1986.4,-344.444 1752.07,-329.949 1664.15,-325.784\"/>\r\n",
       "<polygon fill=\"black\" stroke=\"black\" points=\"1664.09,-322.278 1653.94,-325.316 1663.77,-329.271 1664.09,-322.278\"/>\r\n",
       "</g>\r\n",
       "<!-- mig_rate_wild -->\r\n",
       "<g id=\"node14\" class=\"node\"><title>mig_rate_wild</title>\r\n",
       "<ellipse fill=\"none\" stroke=\"black\" cx=\"2307.5\" cy=\"-503.021\" rx=\"61.99\" ry=\"61.99\"/>\r\n",
       "<text text-anchor=\"middle\" x=\"2307.5\" y=\"-499.321\" font-family=\"Times New Roman,serif\" font-size=\"14.00\">mig_rate_wild</text>\r\n",
       "</g>\r\n",
       "<!-- mig_rate_wild&#45;&gt;sim -->\r\n",
       "<g id=\"edge14\" class=\"edge\"><title>mig_rate_wild&#45;&gt;sim</title>\r\n",
       "<path fill=\"none\" stroke=\"black\" d=\"M2286.86,-444.683C2275.58,-421.637 2259.19,-397.163 2236.5,-382.782 2187.91,-351.99 1783.79,-331.34 1663.9,-325.848\"/>\r\n",
       "<polygon fill=\"black\" stroke=\"black\" points=\"1663.99,-322.348 1653.84,-325.392 1663.67,-329.341 1663.99,-322.348\"/>\r\n",
       "</g>\r\n",
       "<!-- pop_size_wild_1 -->\r\n",
       "<g id=\"node15\" class=\"node\"><title>pop_size_wild_1</title>\r\n",
       "<ellipse fill=\"none\" stroke=\"black\" cx=\"2460.5\" cy=\"-503.021\" rx=\"73.387\" ry=\"73.387\"/>\r\n",
       "<text text-anchor=\"middle\" x=\"2460.5\" y=\"-499.321\" font-family=\"Times New Roman,serif\" font-size=\"14.00\">pop_size_wild_1</text>\r\n",
       "</g>\r\n",
       "<!-- pop_size_wild_1&#45;&gt;sim -->\r\n",
       "<g id=\"edge15\" class=\"edge\"><title>pop_size_wild_1&#45;&gt;sim</title>\r\n",
       "<path fill=\"none\" stroke=\"black\" d=\"M2429.92,-436.195C2417.01,-415.648 2399.93,-395.146 2378.5,-382.782 2316.01,-346.745 1801.67,-329.35 1664.18,-325.317\"/>\r\n",
       "<polygon fill=\"black\" stroke=\"black\" points=\"1663.96,-321.809 1653.86,-325.018 1663.75,-328.806 1663.96,-321.809\"/>\r\n",
       "</g>\r\n",
       "<!-- pop_size_wild_2 -->\r\n",
       "<g id=\"node16\" class=\"node\"><title>pop_size_wild_2</title>\r\n",
       "<ellipse fill=\"none\" stroke=\"black\" cx=\"2625.5\" cy=\"-503.021\" rx=\"73.387\" ry=\"73.387\"/>\r\n",
       "<text text-anchor=\"middle\" x=\"2625.5\" y=\"-499.321\" font-family=\"Times New Roman,serif\" font-size=\"14.00\">pop_size_wild_2</text>\r\n",
       "</g>\r\n",
       "<!-- pop_size_wild_2&#45;&gt;sim -->\r\n",
       "<g id=\"edge16\" class=\"edge\"><title>pop_size_wild_2&#45;&gt;sim</title>\r\n",
       "<path fill=\"none\" stroke=\"black\" d=\"M2594.68,-436.323C2581.59,-415.655 2564.25,-395.044 2542.5,-382.782 2464.81,-338.984 1820.01,-327.072 1664.26,-324.822\"/>\r\n",
       "<polygon fill=\"black\" stroke=\"black\" points=\"1663.96,-321.318 1653.91,-324.676 1663.86,-328.317 1663.96,-321.318\"/>\r\n",
       "</g>\r\n",
       "<!-- pop_size_captive -->\r\n",
       "<g id=\"node17\" class=\"node\"><title>pop_size_captive</title>\r\n",
       "<ellipse fill=\"none\" stroke=\"black\" cx=\"2791.5\" cy=\"-503.021\" rx=\"74.9875\" ry=\"74.9875\"/>\r\n",
       "<text text-anchor=\"middle\" x=\"2791.5\" y=\"-499.321\" font-family=\"Times New Roman,serif\" font-size=\"14.00\">pop_size_captive</text>\r\n",
       "</g>\r\n",
       "<!-- pop_size_captive&#45;&gt;sim -->\r\n",
       "<g id=\"edge17\" class=\"edge\"><title>pop_size_captive&#45;&gt;sim</title>\r\n",
       "<path fill=\"none\" stroke=\"black\" d=\"M2759.61,-435.248C2746.43,-414.886 2729.1,-394.74 2707.5,-382.782 2614.33,-331.201 1836.29,-325.178 1664.13,-324.476\"/>\r\n",
       "<polygon fill=\"black\" stroke=\"black\" points=\"1664.14,-320.977 1654.13,-324.439 1664.12,-327.976 1664.14,-320.977\"/>\r\n",
       "</g>\r\n",
       "<!-- pop_size_domestic_1 -->\r\n",
       "<g id=\"node18\" class=\"node\"><title>pop_size_domestic_1</title>\r\n",
       "<ellipse fill=\"none\" stroke=\"black\" cx=\"2975.5\" cy=\"-503.021\" rx=\"90.9839\" ry=\"90.9839\"/>\r\n",
       "<text text-anchor=\"middle\" x=\"2975.5\" y=\"-499.321\" font-family=\"Times New Roman,serif\" font-size=\"14.00\">pop_size_domestic_1</text>\r\n",
       "</g>\r\n",
       "<!-- pop_size_domestic_1&#45;&gt;sim -->\r\n",
       "<g id=\"edge18\" class=\"edge\"><title>pop_size_domestic_1&#45;&gt;sim</title>\r\n",
       "<path fill=\"none\" stroke=\"black\" d=\"M2927.48,-425.584C2912.96,-408.576 2895.47,-392.675 2875.5,-382.782 2764.23,-327.666 1851.53,-324.439 1664.07,-324.36\"/>\r\n",
       "<polygon fill=\"black\" stroke=\"black\" points=\"1663.99,-320.86 1653.99,-324.359 1663.99,-327.86 1663.99,-320.86\"/>\r\n",
       "</g>\r\n",
       "<!-- pop_size_domestic_2 -->\r\n",
       "<g id=\"node19\" class=\"node\"><title>pop_size_domestic_2</title>\r\n",
       "<ellipse fill=\"none\" stroke=\"black\" cx=\"3175.5\" cy=\"-503.021\" rx=\"90.9839\" ry=\"90.9839\"/>\r\n",
       "<text text-anchor=\"middle\" x=\"3175.5\" y=\"-499.321\" font-family=\"Times New Roman,serif\" font-size=\"14.00\">pop_size_domestic_2</text>\r\n",
       "</g>\r\n",
       "<!-- pop_size_domestic_2&#45;&gt;sim -->\r\n",
       "<g id=\"edge19\" class=\"edge\"><title>pop_size_domestic_2&#45;&gt;sim</title>\r\n",
       "<path fill=\"none\" stroke=\"black\" d=\"M3127.53,-425.495C3113,-408.488 3095.5,-392.611 3075.5,-382.782 2945.09,-318.712 1869.04,-322.762 1664.13,-324.125\"/>\r\n",
       "<polygon fill=\"black\" stroke=\"black\" points=\"1663.95,-320.626 1653.98,-324.196 1664,-327.626 1663.95,-320.626\"/>\r\n",
       "</g>\r\n",
       "<!-- sum -->\r\n",
       "<g id=\"node21\" class=\"node\"><title>sum</title>\r\n",
       "<ellipse fill=\"#cccccc\" stroke=\"black\" cx=\"1630.5\" cy=\"-237.988\" rx=\"25.9954\" ry=\"25.9954\"/>\r\n",
       "<text text-anchor=\"middle\" x=\"1630.5\" y=\"-234.288\" font-family=\"Times New Roman,serif\" font-size=\"14.00\">sum</text>\r\n",
       "</g>\r\n",
       "<!-- sim&#45;&gt;sum -->\r\n",
       "<g id=\"edge20\" class=\"edge\"><title>sim&#45;&gt;sum</title>\r\n",
       "<path fill=\"none\" stroke=\"black\" d=\"M1630.5,-299.596C1630.5,-291.779 1630.5,-282.837 1630.5,-274.265\"/>\r\n",
       "<polygon fill=\"black\" stroke=\"black\" points=\"1634,-274.095 1630.5,-264.095 1627,-274.095 1634,-274.095\"/>\r\n",
       "</g>\r\n",
       "<!-- sum_scaler -->\r\n",
       "<g id=\"node22\" class=\"node\"><title>sum_scaler</title>\r\n",
       "<ellipse fill=\"none\" stroke=\"black\" cx=\"1630.5\" cy=\"-123.995\" rx=\"51.9908\" ry=\"51.9908\"/>\r\n",
       "<text text-anchor=\"middle\" x=\"1630.5\" y=\"-120.295\" font-family=\"Times New Roman,serif\" font-size=\"14.00\">sum_scaler</text>\r\n",
       "</g>\r\n",
       "<!-- sum&#45;&gt;sum_scaler -->\r\n",
       "<g id=\"edge21\" class=\"edge\"><title>sum&#45;&gt;sum_scaler</title>\r\n",
       "<path fill=\"none\" stroke=\"black\" d=\"M1630.5,-211.855C1630.5,-204.171 1630.5,-195.358 1630.5,-186.36\"/>\r\n",
       "<polygon fill=\"black\" stroke=\"black\" points=\"1634,-186.17 1630.5,-176.171 1627,-186.171 1634,-186.17\"/>\r\n",
       "</g>\r\n",
       "<!-- d -->\r\n",
       "<g id=\"node23\" class=\"node\"><title>d</title>\r\n",
       "<ellipse fill=\"none\" stroke=\"black\" cx=\"1630.5\" cy=\"-18\" rx=\"18\" ry=\"18\"/>\r\n",
       "<text text-anchor=\"middle\" x=\"1630.5\" y=\"-14.3\" font-family=\"Times New Roman,serif\" font-size=\"14.00\">d</text>\r\n",
       "</g>\r\n",
       "<!-- sum_scaler&#45;&gt;d -->\r\n",
       "<g id=\"edge22\" class=\"edge\"><title>sum_scaler&#45;&gt;d</title>\r\n",
       "<path fill=\"none\" stroke=\"black\" d=\"M1630.5,-71.9117C1630.5,-63.0123 1630.5,-54.0773 1630.5,-46.1497\"/>\r\n",
       "<polygon fill=\"black\" stroke=\"black\" points=\"1634,-46.0617 1630.5,-36.0617 1627,-46.0618 1634,-46.0617\"/>\r\n",
       "</g>\r\n",
       "</g>\r\n",
       "</svg>\r\n"
      ],
      "text/plain": [
       "<graphviz.dot.Digraph at 0x22195933a88>"
      ]
     },
     "execution_count": 17,
     "metadata": {},
     "output_type": "execute_result"
    }
   ],
   "source": [
    "elfi.draw(m)"
   ]
  },
  {
   "cell_type": "code",
   "execution_count": 15,
   "metadata": {},
   "outputs": [
    {
     "ename": "TimeoutError",
     "evalue": "Hub connection request timed out",
     "output_type": "error",
     "traceback": [
      "\u001b[1;31m---------------------------------------------------------------------------\u001b[0m",
      "\u001b[1;31mTimeoutError\u001b[0m                              Traceback (most recent call last)",
      "\u001b[1;32m<ipython-input-15-e0c2920b4149>\u001b[0m in \u001b[0;36m<module>\u001b[1;34m\u001b[0m\n\u001b[1;32m----> 1\u001b[1;33m \u001b[0mrej\u001b[0m \u001b[1;33m=\u001b[0m \u001b[0melfi\u001b[0m\u001b[1;33m.\u001b[0m\u001b[0mRejection\u001b[0m\u001b[1;33m(\u001b[0m\u001b[0mm\u001b[0m\u001b[1;33m[\u001b[0m\u001b[1;34m'd'\u001b[0m\u001b[1;33m]\u001b[0m\u001b[1;33m,\u001b[0m \u001b[0mbatch_size\u001b[0m\u001b[1;33m=\u001b[0m\u001b[1;36m1\u001b[0m\u001b[1;33m,\u001b[0m \u001b[0mseed\u001b[0m\u001b[1;33m=\u001b[0m\u001b[1;36m2\u001b[0m\u001b[1;33m)\u001b[0m\u001b[1;33m\u001b[0m\u001b[1;33m\u001b[0m\u001b[0m\n\u001b[0m\u001b[0;32m      2\u001b[0m \u001b[0mrej_res\u001b[0m \u001b[1;33m=\u001b[0m \u001b[0mrej\u001b[0m\u001b[1;33m.\u001b[0m\u001b[0msample\u001b[0m\u001b[1;33m(\u001b[0m\u001b[1;36m1\u001b[0m\u001b[1;33m,\u001b[0m \u001b[0mquantile\u001b[0m\u001b[1;33m=\u001b[0m\u001b[1;36m1\u001b[0m\u001b[1;33m,\u001b[0m \u001b[0mbar\u001b[0m\u001b[1;33m=\u001b[0m\u001b[1;32mTrue\u001b[0m\u001b[1;33m)\u001b[0m  \u001b[1;31m# Accept all\u001b[0m\u001b[1;33m\u001b[0m\u001b[1;33m\u001b[0m\u001b[0m\n",
      "\u001b[1;32m~\\miniconda3\\envs\\wildcats_summer_env\\lib\\site-packages\\elfi\\methods\\parameter_inference.py\u001b[0m in \u001b[0;36m__init__\u001b[1;34m(self, model, discrepancy_name, output_names, **kwargs)\u001b[0m\n\u001b[0;32m    447\u001b[0m         \u001b[0mmodel\u001b[0m\u001b[1;33m,\u001b[0m \u001b[0mdiscrepancy_name\u001b[0m \u001b[1;33m=\u001b[0m \u001b[0mself\u001b[0m\u001b[1;33m.\u001b[0m\u001b[0m_resolve_model\u001b[0m\u001b[1;33m(\u001b[0m\u001b[0mmodel\u001b[0m\u001b[1;33m,\u001b[0m \u001b[0mdiscrepancy_name\u001b[0m\u001b[1;33m)\u001b[0m\u001b[1;33m\u001b[0m\u001b[1;33m\u001b[0m\u001b[0m\n\u001b[0;32m    448\u001b[0m         \u001b[0moutput_names\u001b[0m \u001b[1;33m=\u001b[0m \u001b[1;33m[\u001b[0m\u001b[0mdiscrepancy_name\u001b[0m\u001b[1;33m]\u001b[0m \u001b[1;33m+\u001b[0m \u001b[0mmodel\u001b[0m\u001b[1;33m.\u001b[0m\u001b[0mparameter_names\u001b[0m \u001b[1;33m+\u001b[0m \u001b[1;33m(\u001b[0m\u001b[0moutput_names\u001b[0m \u001b[1;32mor\u001b[0m \u001b[1;33m[\u001b[0m\u001b[1;33m]\u001b[0m\u001b[1;33m)\u001b[0m\u001b[1;33m\u001b[0m\u001b[1;33m\u001b[0m\u001b[0m\n\u001b[1;32m--> 449\u001b[1;33m         \u001b[0msuper\u001b[0m\u001b[1;33m(\u001b[0m\u001b[0mRejection\u001b[0m\u001b[1;33m,\u001b[0m \u001b[0mself\u001b[0m\u001b[1;33m)\u001b[0m\u001b[1;33m.\u001b[0m\u001b[0m__init__\u001b[0m\u001b[1;33m(\u001b[0m\u001b[0mmodel\u001b[0m\u001b[1;33m,\u001b[0m \u001b[0moutput_names\u001b[0m\u001b[1;33m,\u001b[0m \u001b[1;33m**\u001b[0m\u001b[0mkwargs\u001b[0m\u001b[1;33m)\u001b[0m\u001b[1;33m\u001b[0m\u001b[1;33m\u001b[0m\u001b[0m\n\u001b[0m\u001b[0;32m    450\u001b[0m \u001b[1;33m\u001b[0m\u001b[0m\n\u001b[0;32m    451\u001b[0m         \u001b[0mself\u001b[0m\u001b[1;33m.\u001b[0m\u001b[0mdiscrepancy_name\u001b[0m \u001b[1;33m=\u001b[0m \u001b[0mdiscrepancy_name\u001b[0m\u001b[1;33m\u001b[0m\u001b[1;33m\u001b[0m\u001b[0m\n",
      "\u001b[1;32m~\\miniconda3\\envs\\wildcats_summer_env\\lib\\site-packages\\elfi\\methods\\parameter_inference.py\u001b[0m in \u001b[0;36m__init__\u001b[1;34m(self, model, output_names, batch_size, seed, pool, max_parallel_batches)\u001b[0m\n\u001b[0;32m     98\u001b[0m         \u001b[0mself\u001b[0m\u001b[1;33m.\u001b[0m\u001b[0moutput_names\u001b[0m \u001b[1;33m=\u001b[0m \u001b[0mself\u001b[0m\u001b[1;33m.\u001b[0m\u001b[0m_check_outputs\u001b[0m\u001b[1;33m(\u001b[0m\u001b[0moutput_names\u001b[0m\u001b[1;33m)\u001b[0m\u001b[1;33m\u001b[0m\u001b[1;33m\u001b[0m\u001b[0m\n\u001b[0;32m     99\u001b[0m \u001b[1;33m\u001b[0m\u001b[0m\n\u001b[1;32m--> 100\u001b[1;33m         \u001b[0mself\u001b[0m\u001b[1;33m.\u001b[0m\u001b[0mclient\u001b[0m \u001b[1;33m=\u001b[0m \u001b[0melfi\u001b[0m\u001b[1;33m.\u001b[0m\u001b[0mclient\u001b[0m\u001b[1;33m.\u001b[0m\u001b[0mget_client\u001b[0m\u001b[1;33m(\u001b[0m\u001b[1;33m)\u001b[0m\u001b[1;33m\u001b[0m\u001b[1;33m\u001b[0m\u001b[0m\n\u001b[0m\u001b[0;32m    101\u001b[0m \u001b[1;33m\u001b[0m\u001b[0m\n\u001b[0;32m    102\u001b[0m         \u001b[1;31m# Prepare the computation_context\u001b[0m\u001b[1;33m\u001b[0m\u001b[1;33m\u001b[0m\u001b[1;33m\u001b[0m\u001b[0m\n",
      "\u001b[1;32m~\\miniconda3\\envs\\wildcats_summer_env\\lib\\site-packages\\elfi\\client.py\u001b[0m in \u001b[0;36mget_client\u001b[1;34m()\u001b[0m\n\u001b[0;32m     25\u001b[0m         \u001b[1;32mif\u001b[0m \u001b[0m_default_class\u001b[0m \u001b[1;32mis\u001b[0m \u001b[1;32mNone\u001b[0m\u001b[1;33m:\u001b[0m\u001b[1;33m\u001b[0m\u001b[1;33m\u001b[0m\u001b[0m\n\u001b[0;32m     26\u001b[0m             \u001b[1;32mraise\u001b[0m \u001b[0mValueError\u001b[0m\u001b[1;33m(\u001b[0m\u001b[1;34m'Default client class is not defined'\u001b[0m\u001b[1;33m)\u001b[0m\u001b[1;33m\u001b[0m\u001b[1;33m\u001b[0m\u001b[0m\n\u001b[1;32m---> 27\u001b[1;33m         \u001b[0m_client\u001b[0m \u001b[1;33m=\u001b[0m \u001b[0m_default_class\u001b[0m\u001b[1;33m(\u001b[0m\u001b[1;33m)\u001b[0m\u001b[1;33m\u001b[0m\u001b[1;33m\u001b[0m\u001b[0m\n\u001b[0m\u001b[0;32m     28\u001b[0m     \u001b[1;32mreturn\u001b[0m \u001b[0m_client\u001b[0m\u001b[1;33m\u001b[0m\u001b[1;33m\u001b[0m\u001b[0m\n\u001b[0;32m     29\u001b[0m \u001b[1;33m\u001b[0m\u001b[0m\n",
      "\u001b[1;32m~\\miniconda3\\envs\\wildcats_summer_env\\lib\\site-packages\\elfi\\clients\\ipyparallel.py\u001b[0m in \u001b[0;36m__init__\u001b[1;34m(self, ipp_client, **kwargs)\u001b[0m\n\u001b[0;32m     35\u001b[0m \u001b[1;33m\u001b[0m\u001b[0m\n\u001b[0;32m     36\u001b[0m         \"\"\"\n\u001b[1;32m---> 37\u001b[1;33m         \u001b[0mself\u001b[0m\u001b[1;33m.\u001b[0m\u001b[0mipp_client\u001b[0m \u001b[1;33m=\u001b[0m \u001b[0mipp_client\u001b[0m \u001b[1;32mor\u001b[0m \u001b[0mipp\u001b[0m\u001b[1;33m.\u001b[0m\u001b[0mClient\u001b[0m\u001b[1;33m(\u001b[0m\u001b[1;33m**\u001b[0m\u001b[0mkwargs\u001b[0m\u001b[1;33m)\u001b[0m\u001b[1;33m\u001b[0m\u001b[1;33m\u001b[0m\u001b[0m\n\u001b[0m\u001b[0;32m     38\u001b[0m         \u001b[0mself\u001b[0m\u001b[1;33m.\u001b[0m\u001b[0mview\u001b[0m \u001b[1;33m=\u001b[0m \u001b[0mself\u001b[0m\u001b[1;33m.\u001b[0m\u001b[0mipp_client\u001b[0m\u001b[1;33m.\u001b[0m\u001b[0mload_balanced_view\u001b[0m\u001b[1;33m(\u001b[0m\u001b[1;33m)\u001b[0m\u001b[1;33m\u001b[0m\u001b[1;33m\u001b[0m\u001b[0m\n\u001b[0;32m     39\u001b[0m \u001b[1;33m\u001b[0m\u001b[0m\n",
      "\u001b[1;32m~\\miniconda3\\envs\\wildcats_summer_env\\lib\\site-packages\\ipyparallel\\client\\client.py\u001b[0m in \u001b[0;36m__init__\u001b[1;34m(self, url_file, profile, profile_dir, ipython_dir, context, debug, sshserver, sshkey, password, paramiko, timeout, cluster_id, **extra_args)\u001b[0m\n\u001b[0;32m    517\u001b[0m \u001b[1;33m\u001b[0m\u001b[0m\n\u001b[0;32m    518\u001b[0m         \u001b[1;32mtry\u001b[0m\u001b[1;33m:\u001b[0m\u001b[1;33m\u001b[0m\u001b[1;33m\u001b[0m\u001b[0m\n\u001b[1;32m--> 519\u001b[1;33m             \u001b[0mself\u001b[0m\u001b[1;33m.\u001b[0m\u001b[0m_connect\u001b[0m\u001b[1;33m(\u001b[0m\u001b[0msshserver\u001b[0m\u001b[1;33m,\u001b[0m \u001b[0mssh_kwargs\u001b[0m\u001b[1;33m,\u001b[0m \u001b[0mtimeout\u001b[0m\u001b[1;33m)\u001b[0m\u001b[1;33m\u001b[0m\u001b[1;33m\u001b[0m\u001b[0m\n\u001b[0m\u001b[0;32m    520\u001b[0m         \u001b[1;32mexcept\u001b[0m\u001b[1;33m:\u001b[0m\u001b[1;33m\u001b[0m\u001b[1;33m\u001b[0m\u001b[0m\n\u001b[0;32m    521\u001b[0m             \u001b[0mself\u001b[0m\u001b[1;33m.\u001b[0m\u001b[0mclose\u001b[0m\u001b[1;33m(\u001b[0m\u001b[0mlinger\u001b[0m\u001b[1;33m=\u001b[0m\u001b[1;36m0\u001b[0m\u001b[1;33m)\u001b[0m\u001b[1;33m\u001b[0m\u001b[1;33m\u001b[0m\u001b[0m\n",
      "\u001b[1;32m~\\miniconda3\\envs\\wildcats_summer_env\\lib\\site-packages\\ipyparallel\\client\\client.py\u001b[0m in \u001b[0;36m_connect\u001b[1;34m(self, sshserver, ssh_kwargs, timeout)\u001b[0m\n\u001b[0;32m    636\u001b[0m         \u001b[0mevts\u001b[0m \u001b[1;33m=\u001b[0m \u001b[0mpoller\u001b[0m\u001b[1;33m.\u001b[0m\u001b[0mpoll\u001b[0m\u001b[1;33m(\u001b[0m\u001b[0mtimeout\u001b[0m\u001b[1;33m*\u001b[0m\u001b[1;36m1000\u001b[0m\u001b[1;33m)\u001b[0m\u001b[1;33m\u001b[0m\u001b[1;33m\u001b[0m\u001b[0m\n\u001b[0;32m    637\u001b[0m         \u001b[1;32mif\u001b[0m \u001b[1;32mnot\u001b[0m \u001b[0mevts\u001b[0m\u001b[1;33m:\u001b[0m\u001b[1;33m\u001b[0m\u001b[1;33m\u001b[0m\u001b[0m\n\u001b[1;32m--> 638\u001b[1;33m             \u001b[1;32mraise\u001b[0m \u001b[0merror\u001b[0m\u001b[1;33m.\u001b[0m\u001b[0mTimeoutError\u001b[0m\u001b[1;33m(\u001b[0m\u001b[1;34m\"Hub connection request timed out\"\u001b[0m\u001b[1;33m)\u001b[0m\u001b[1;33m\u001b[0m\u001b[1;33m\u001b[0m\u001b[0m\n\u001b[0m\u001b[0;32m    639\u001b[0m         \u001b[0midents\u001b[0m\u001b[1;33m,\u001b[0m \u001b[0mmsg\u001b[0m \u001b[1;33m=\u001b[0m \u001b[0mself\u001b[0m\u001b[1;33m.\u001b[0m\u001b[0msession\u001b[0m\u001b[1;33m.\u001b[0m\u001b[0mrecv\u001b[0m\u001b[1;33m(\u001b[0m\u001b[0mself\u001b[0m\u001b[1;33m.\u001b[0m\u001b[0m_query_socket\u001b[0m\u001b[1;33m,\u001b[0m \u001b[0mmode\u001b[0m\u001b[1;33m=\u001b[0m\u001b[1;36m0\u001b[0m\u001b[1;33m)\u001b[0m\u001b[1;33m\u001b[0m\u001b[1;33m\u001b[0m\u001b[0m\n\u001b[0;32m    640\u001b[0m         \u001b[1;32mif\u001b[0m \u001b[0mself\u001b[0m\u001b[1;33m.\u001b[0m\u001b[0mdebug\u001b[0m\u001b[1;33m:\u001b[0m\u001b[1;33m\u001b[0m\u001b[1;33m\u001b[0m\u001b[0m\n",
      "\u001b[1;31mTimeoutError\u001b[0m: Hub connection request timed out"
     ]
    }
   ],
   "source": [
    "rej = elfi.Rejection(m['d'], batch_size=1, seed=2)\n",
    "rej_res = rej.sample(1, quantile=1, bar=True)  # Accept all"
   ]
  },
  {
   "cell_type": "code",
   "execution_count": 3,
   "metadata": {},
   "outputs": [],
   "source": [
    "with open (\"../output/priors.pkl\", \"rb\") as f:\n",
    "    priors = pickle.load(f)\n",
    "    \n",
    "with open (\"../data/e3_phased.pkl\", \"rb\") as f:\n",
    "    obs_sum = elfi_sum(np.atleast_2d(pickle.load(f)))"
   ]
  },
  {
   "cell_type": "markdown",
   "metadata": {},
   "source": [
    "### Set up elfi model"
   ]
  },
  {
   "cell_type": "code",
   "execution_count": 6,
   "metadata": {},
   "outputs": [
    {
     "data": {
      "text/plain": [
       "Distance(name='d')"
      ]
     },
     "execution_count": 6,
     "metadata": {},
     "output_type": "execute_result"
    }
   ],
   "source": [
    "elfi.new_model()\n",
    "m = elfi.ElfiModel(\"m\")\n",
    "\n",
    "elfi.Constant(int(5e6), name=\"length\", model=m)\n",
    "elfi.Constant(1.8e-8, name=\"recombination_rate\", model=m)\n",
    "elfi.Constant(6e-8, name=\"mutation_rate\", model=m)\n",
    "\n",
    "for prior_name, prior in priors.items():\n",
    "    elfi.Prior(prior.sampling, name=prior_name, model=m)\n",
    "\n",
    "prior_args = [m[name] for name in m.parameter_names]\n",
    "\n",
    "elfi.Simulator(elfi_sim, *prior_args, m[\"length\"], m[\"recombination_rate\"],\n",
    "               m[\"mutation_rate\"], priors, name=\"sim\", model=m)\n",
    "elfi.Summary(elfi_sum, m[\"sim\"], None, name=\"sum\", model=m, observed=obs_sum)\n",
    "elfi.Operation(elfi_sum_scaler, m[\"sum\"], None, name=\"sum_scaler\")  # Placeholder (no scaling)\n",
    "elfi.Distance('euclidean', m[\"sum_scaler\"], name='d', model=m)\n",
    "\n",
    "# m.observed = {\"sim_sum\": elfi_summary(np.atleast_2d(y_obs))}"
   ]
  },
  {
   "cell_type": "code",
   "execution_count": null,
   "metadata": {},
   "outputs": [],
   "source": [
    "import time\n",
    "elfi.set_client(\"native\")\n",
    "for client in [\"multiprocessing\", \"native\"]:\n",
    "    elfi.set_client(client)\n",
    "    results = []\n",
    "    for i in range(2):\n",
    "        start_time = time.time()\n",
    "        m[\"sim_sum\"].generate(2)\n",
    "        elapsed_time = time.time() - start_time\n",
    "        results.append(elapsed_time)\n",
    "    print(f\"With client {client} the mean elapsed time was {np.mean(results)}s\")\n"
   ]
  },
  {
   "cell_type": "code",
   "execution_count": null,
   "metadata": {},
   "outputs": [],
   "source": [
    "elfi.set_client(\"multiprocessing\")\n",
    "results = []\n",
    "for i in range(1):\n",
    "    start_time = time.time()\n",
    "    m[\"sim_sum\"].generate(4)\n",
    "    elapsed_time = time.time() - start_time\n",
    "    results.append(elapsed_time)\n",
    "print(f\"With client {client} the mean elapsed time was {np.mean(results)}s\")"
   ]
  },
  {
   "cell_type": "code",
   "execution_count": null,
   "metadata": {},
   "outputs": [],
   "source": [
    "elfi.draw(m)"
   ]
  },
  {
   "cell_type": "code",
   "execution_count": null,
   "metadata": {},
   "outputs": [],
   "source": [
    "%%time\n",
    "elfi.set_client(\"multiprocessing\")\n",
    "\n",
    "pool = elfi.OutputPool(['sim_sum'])\n",
    "rej = elfi.Rejection(m['d'], batch_size=1, seed=1, pool=pool)\n",
    "rej.sample(4, quantile=1, bar=True)  # Accept all\n",
    "store = pool.get_store('sim_sum')\n",
    "sum_stats = np.array(list(store.values()))\n",
    "sum_stats = sum_stats.reshape(-1, sum_stats.shape[2])  # Drop batches axis\n",
    "scaler = StandardScaler()\n",
    "scaler.fit(sum_stats)\n"
   ]
  },
  {
   "cell_type": "code",
   "execution_count": null,
   "metadata": {},
   "outputs": [],
   "source": []
  },
  {
   "cell_type": "markdown",
   "metadata": {},
   "source": [
    "### Generate summary stats to train scaler"
   ]
  },
  {
   "cell_type": "code",
   "execution_count": null,
   "metadata": {},
   "outputs": [],
   "source": [
    "sum_stats = m[\"sim_sum\"].generate(10)\n",
    "scaler = StandardScaler()\n",
    "scaler.fit(sum_stats)\n",
    "m[\"sum_scaler\"].become(elfi.Summary(elfi_sum_scaler, m[\"sim_sum\"], scaler, model=m))"
   ]
  },
  {
   "cell_type": "code",
   "execution_count": null,
   "metadata": {},
   "outputs": [],
   "source": [
    "test = m[\"sum_scaler\"].generate(1)\n",
    "print(f\"Sum stats generated have mean of {test.mean()} and a standard deviation of {test.std()}\")"
   ]
  },
  {
   "cell_type": "code",
   "execution_count": null,
   "metadata": {},
   "outputs": [],
   "source": []
  },
  {
   "cell_type": "code",
   "execution_count": null,
   "metadata": {},
   "outputs": [],
   "source": []
  },
  {
   "cell_type": "code",
   "execution_count": null,
   "metadata": {},
   "outputs": [],
   "source": []
  },
  {
   "cell_type": "markdown",
   "metadata": {},
   "source": [
    "### Carry out simulations to \"train\" sum stat scaler"
   ]
  },
  {
   "cell_type": "code",
   "execution_count": null,
   "metadata": {},
   "outputs": [],
   "source": [
    "seed = 1\n",
    "pool = elfi.OutputPool(['s'])\n",
    "rej = elfi.Rejection(m['d'], batch_size=4, seed=1, pool=pool)\n",
    "rej_res = rej.sample(3, quantile=1, bar=False)  # Accept all\n",
    "store = pool.get_store('s')\n",
    "sum_stats = np.array(list(store.values()))\n",
    "sum_stats = sum_stats.reshape(-1, sum_stats.shape[2])  # Drop batches axis\n",
    "scaler = StandardScaler()\n",
    "scaler.fit(sum_stats)\n",
    "m[\"s\"].become(elfi.Summary(elfi_summary, y, scaler, False, name='s_scaled', model=m))  # Scaler and quick_mode"
   ]
  },
  {
   "cell_type": "code",
   "execution_count": null,
   "metadata": {},
   "outputs": [],
   "source": []
  },
  {
   "cell_type": "code",
   "execution_count": null,
   "metadata": {},
   "outputs": [],
   "source": [
    "%%time\n",
    "d.generate(5)"
   ]
  },
  {
   "cell_type": "markdown",
   "metadata": {},
   "source": [
    "### SMC"
   ]
  },
  {
   "cell_type": "code",
   "execution_count": null,
   "metadata": {},
   "outputs": [],
   "source": [
    "dists = m['d'].generate(20)"
   ]
  },
  {
   "cell_type": "code",
   "execution_count": null,
   "metadata": {},
   "outputs": [],
   "source": [
    "dists"
   ]
  },
  {
   "cell_type": "code",
   "execution_count": null,
   "metadata": {},
   "outputs": [],
   "source": [
    "%%time\n",
    "logging.getLogger().setLevel(logging.INFO)\n",
    "smc = elfi.SMC(m['d'], batch_size=5, seed=1)\n",
    "N = 500\n",
    "schedule = [12, 11, 10, 9]\n",
    "result_smc = smc.sample(N, schedule)\n",
    "result_smc.summary(all=True)"
   ]
  },
  {
   "cell_type": "markdown",
   "metadata": {},
   "source": [
    "### Collect and write out results"
   ]
  },
  {
   "cell_type": "code",
   "execution_count": null,
   "metadata": {},
   "outputs": [],
   "source": [
    "samples = result_smc.samples_array\n",
    "weights = result_smc.weights"
   ]
  },
  {
   "cell_type": "code",
   "execution_count": null,
   "metadata": {},
   "outputs": [],
   "source": [
    "results = pd.DataFrame(samples, columns=sorted(priors.keys()))\n",
    "results[\"weights\"] = result_smc.weights\n",
    "\n",
    "# scale back up results\n",
    "for name, dist in scaled_priors.items():\n",
    "    results[name] = dist.scale_up_samples(results[name])\n",
    "    \n",
    "results.to_csv(\"../output/smc_posterior.csv\", index=False)"
   ]
  },
  {
   "cell_type": "code",
   "execution_count": null,
   "metadata": {},
   "outputs": [],
   "source": [
    "# Write out pdfs\n",
    "\n",
    "df_list = []\n",
    "\n",
    "for name, dist in priors.items():\n",
    "    if isinstance(dist, ScaledDist):\n",
    "        dist = dist.target\n",
    "    x_lims = dist.ppf([0.001, 0.999])\n",
    "    x = np.linspace(x_lims[0], x_lims[1], 1000)\n",
    "    y = dist.pdf(x)\n",
    "    df = pd.DataFrame({\"x\": x, \"parameter\": name, \"value\": y})\n",
    "    df_list.append(df)\n",
    "    \n",
    "pdf_df = pd.concat(df_list)\n",
    "pdf_df.to_csv(\"../output/prior_pdf.csv\", index=False)"
   ]
  }
 ],
 "metadata": {
  "kernelspec": {
   "display_name": "Python 3",
   "language": "python",
   "name": "python3"
  },
  "language_info": {
   "codemirror_mode": {
    "name": "ipython",
    "version": 3
   },
   "file_extension": ".py",
   "mimetype": "text/x-python",
   "name": "python",
   "nbconvert_exporter": "python",
   "pygments_lexer": "ipython3",
   "version": "3.7.7"
  }
 },
 "nbformat": 4,
 "nbformat_minor": 4
}
