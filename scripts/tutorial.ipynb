{
 "cells": [
  {
   "cell_type": "markdown",
   "metadata": {},
   "source": [
    "### Imports"
   ]
  },
  {
   "cell_type": "markdown",
   "metadata": {},
   "source": [
    "In order to use a package I have created, as well as other packages, we have to import them. If you haven't used a jupyter notebook before then you can press control enter to run the code blocks."
   ]
  },
  {
   "cell_type": "code",
   "execution_count": 1,
   "metadata": {},
   "outputs": [],
   "source": [
    "import logging  # Allows you to set levels of verbosity for printing information warnings and errors\n",
    "import elfi  # SMC / Liklihood free inference\n",
    "import numpy as np  # Matrices and linear algebra\n",
    "import scipy.stats  # Statistics\n",
    "import seaborn as sns  # Plotting\n",
    "import matplotlib.pyplot as plt  # Plotting\n",
    "from sklearn.preprocessing import StandardScaler  # Carries out standard scaling (x-mu)/sd\n",
    "import pandas as pd  # DataFrames\n",
    "import pickle  # Serializes objects\n",
    "\n",
    "# The sim package is my package (in the sim folder)\n",
    "from sim.model import WildcatModel\n",
    "from sim.utils import ScaledDist\n",
    "from sim.sum_stats import simple_sum\n",
    "\n",
    "# Set the logging level to info\n",
    "logging.basicConfig()\n",
    "logging.getLogger().setLevel(logging.INFO)"
   ]
  },
  {
   "cell_type": "markdown",
   "metadata": {},
   "source": [
    "### Run a simulation"
   ]
  },
  {
   "cell_type": "code",
   "execution_count": 2,
   "metadata": {},
   "outputs": [
    {
     "name": "stderr",
     "output_type": "stream",
     "text": [
      "INFO:root:Running command: slim -d pop_size_domestic_1=100 -d pop_size_wild_1=500 -d pop_size_captive=1000 -d mig_rate_captive=0.01 -d mig_length_wild=20 -d mig_rate_wild=0.01 -d captive_time=20 -d length=10000000 -d recombination_rate=1.8e-08  -d decap_trees_filename=\"decap_1.trees\" -s 1 slim_model.slim \n",
      " /home/dw16200/miniconda3/envs/wildcats_env/lib/python3.10/site-packages/msprime/ancestry.py:831: TimeUnitsMismatchWarning:The initial_state has time_units=ticks but time is measured in generations in msprime. This may lead to significant discrepancies between the timescales. If you wish to suppress this warning, you can use, e.g., warnings.simplefilter('ignore', msprime.TimeUnitsMismatchWarning)\n",
      "INFO:msprime.ancestry:Starting replicate 0\n",
      "INFO:msprime.ancestry:model[0] {'name': 'hudson'} started at time=499 nodes=8638 edges=22166\n",
      "INFO:msprime.ancestry:Running model {'name': 'hudson'} until max time: inf\n",
      "INFO:msprime.ancestry:Completed at time=48925.7 nodes=9284 edges=25391\n"
     ]
    },
    {
     "name": "stdout",
     "output_type": "stream",
     "text": [
      "CPU times: user 1.03 s, sys: 19.6 ms, total: 1.05 s\n",
      "Wall time: 1.37 s\n"
     ]
    }
   ],
   "source": [
    "%%time\n",
    "\n",
    "model = WildcatModel(seq_length=int(10e6), recombination_rate=1.8e-8, mutation_rate=6e-8)\n",
    "\n",
    "data = model.simulate(\n",
    "        bottleneck_strength_domestic=3000,\n",
    "        bottleneck_strength_wild=30000,\n",
    "        bottleneck_time_domestic=3000,\n",
    "        bottleneck_time_wild=4000,\n",
    "        captive_time=20,\n",
    "        div_time=40000,\n",
    "        mig_length_post_split=1000,\n",
    "        mig_length_wild=20,\n",
    "        mig_rate_captive=0.01,\n",
    "        mig_rate_post_split=0.1,\n",
    "        mig_rate_wild=0.01,\n",
    "        pop_size_captive=1000,\n",
    "        pop_size_domestic_1=100,\n",
    "        pop_size_domestic_2=100,\n",
    "        pop_size_wild_1=500,\n",
    "        pop_size_wild_2=500,\n",
    "        n_samples=[30, 30, 30],\n",
    "        seed=1) "
   ]
  },
  {
   "cell_type": "markdown",
   "metadata": {},
   "source": [
    "### Simulation results format"
   ]
  },
  {
   "cell_type": "markdown",
   "metadata": {},
   "source": [
    "`data` is an instance of a `GenotypeData` class, which I have defined in model.py. The attributes of the class have things you need for summary statistic calculation. For example, `pod.genotypes[\"domestic\"]` would give you an array of the domestic genotypes. `pod.positions` gives a 1d array of the mutation positions."
   ]
  },
  {
   "cell_type": "code",
   "execution_count": 3,
   "metadata": {},
   "outputs": [
    {
     "data": {
      "text/plain": [
       "(54935, 30, 2)"
      ]
     },
     "execution_count": 3,
     "metadata": {},
     "output_type": "execute_result"
    }
   ],
   "source": [
    "data.genotypes[\"domestic\"].shape  # dimensions = (number of SNPs/mutations, number of domestic individuals, ploidy)"
   ]
  },
  {
   "cell_type": "code",
   "execution_count": 4,
   "metadata": {},
   "outputs": [
    {
     "data": {
      "text/plain": [
       "(54935, 30, 2)"
      ]
     },
     "execution_count": 4,
     "metadata": {},
     "output_type": "execute_result"
    }
   ],
   "source": [
    "data.genotypes[\"wild\"].shape"
   ]
  },
  {
   "cell_type": "markdown",
   "metadata": {},
   "source": [
    "We can get the positions of the mutations with:"
   ]
  },
  {
   "cell_type": "code",
   "execution_count": 5,
   "metadata": {},
   "outputs": [
    {
     "data": {
      "text/plain": [
       "array([4.45658575e+02, 6.59191388e+02, 1.15303931e+03, ...,\n",
       "       9.99899755e+06, 9.99926861e+06, 9.99957108e+06])"
      ]
     },
     "execution_count": 5,
     "metadata": {},
     "output_type": "execute_result"
    }
   ],
   "source": [
    "data.positions"
   ]
  },
  {
   "cell_type": "markdown",
   "metadata": {},
   "source": [
    "Genotypes are given as 3 dimensional, where axis 0 is variants, axis 1 is individuals and axis 2 is ploidy. These arrays are numpy arrays, so if you wanted to do anything with them you can look at the numpy documentation."
   ]
  },
  {
   "cell_type": "markdown",
   "metadata": {},
   "source": [
    "### Calculating summary statistics"
   ]
  },
  {
   "cell_type": "markdown",
   "metadata": {},
   "source": [
    "All the summary statistics can be calculated with:"
   ]
  },
  {
   "cell_type": "code",
   "execution_count": 6,
   "metadata": {},
   "outputs": [
    {
     "data": {
      "text/plain": [
       "{'divergence_domestic_captive': 0.004616175534952378,\n",
       " 'divergence_domestic_wild': 0.003958777717487725,\n",
       " 'divergence_wild_captive': 0.00100889080076181,\n",
       " 'diversity_all_pops': 0.002347137019965724,\n",
       " 'diversity_captive': 0.0004130567050360616,\n",
       " 'diversity_domestic': 2.4088375484720746e-05,\n",
       " 'diversity_wild': 0.0014332158235023423,\n",
       " 'expected_heterozygosity_all_pops': 0.42484635826627876,\n",
       " 'expected_heterozygosity_captive': 0.07393045316181752,\n",
       " 'expected_heterozygosity_domestic': 0.0043114286581111,\n",
       " 'expected_heterozygosity_wild': 0.2565223951538686,\n",
       " 'f2_domestic_captive': 0.800440307900263,\n",
       " 'f2_domestic_wild': 0.5879390994013298,\n",
       " 'f2_wild_captive': 0.015608818639799777,\n",
       " 'f3_captive': 1.5170216315469216,\n",
       " 'f3_domestic': 156.5480013581124,\n",
       " 'f3_wild': -0.3773761154694017,\n",
       " 'fst_domestic_captive': 0.952650730327428,\n",
       " 'fst_domestic_wild': 0.8159401331691991,\n",
       " 'fst_wild_captive': 0.08499882884040101,\n",
       " 'monomorphic_sites_captive': 2183,\n",
       " 'monomorphic_sites_domestic': 53712,\n",
       " 'monomorphic_sites_wild': 2339,\n",
       " 'observed_heterozygosity_all_pops': 0.11115318103212886,\n",
       " 'observed_heterozygosity_captive': 0.07678347137526167,\n",
       " 'observed_heterozygosity_domestic': 0.0043512029368041015,\n",
       " 'observed_heterozygosity_wild': 0.25232486878432087,\n",
       " 'pc1_iqr_all_pops': 96.75883197784424,\n",
       " 'pc1_iqr_captive': 1.3630189895629883,\n",
       " 'pc1_iqr_domestic': 0.8740234375,\n",
       " 'pc1_iqr_wild': 22.968379259109497,\n",
       " 'pc1_median_all_pops': 24.112051010131836,\n",
       " 'pc1_median_captive': 39.09315490722656,\n",
       " 'pc1_median_dist_domestic_captive': 97.40075,\n",
       " 'pc1_median_dist_domestic_wild': 85.27353,\n",
       " 'pc1_median_dist_wild_captive': 12.127224,\n",
       " 'pc1_median_domestic': -58.307594299316406,\n",
       " 'pc1_median_wild': 26.965930938720703,\n",
       " 'pc2_iqr_all_pops': 10.789738297462463,\n",
       " 'pc2_iqr_captive': 26.186105489730835,\n",
       " 'pc2_iqr_domestic': 0.2728300094604492,\n",
       " 'pc2_iqr_wild': 11.624259978532791,\n",
       " 'pc2_median_all_pops': 0.9026025533676147,\n",
       " 'pc2_median_captive': 0.7436593770980835,\n",
       " 'pc2_median_dist_domestic_captive': 0.3333987,\n",
       " 'pc2_median_dist_domestic_wild': 9.823602,\n",
       " 'pc2_median_dist_wild_captive': 9.490203,\n",
       " 'pc2_median_domestic': 1.0770580768585205,\n",
       " 'pc2_median_wild': -8.746543884277344,\n",
       " 'r2_all_pops_0.5_1e6': 0.94854573488843,\n",
       " 'r2_all_pops_0_0.5mb': 0.9744897959183666,\n",
       " 'r2_all_pops_1_2mb': 0.889619387341776,\n",
       " 'r2_all_pops_2_4mb': 0.8300333928979563,\n",
       " 'r2_captive_0.5_1e6': 0.9999999999999991,\n",
       " 'r2_captive_0_0.5mb': 1.0,\n",
       " 'r2_captive_1_2mb': 0.6428571428571431,\n",
       " 'r2_captive_2_4mb': 0.310344827586207,\n",
       " 'r2_domestic_0.5_1e6': 0.02073874094980981,\n",
       " 'r2_domestic_0_0.5mb': 0.02298850574712643,\n",
       " 'r2_domestic_1_2mb': 0.0170940170940171,\n",
       " 'r2_domestic_2_4mb': 0.014423076923076917,\n",
       " 'r2_wild_0.5_1e6': 0.5813204508856683,\n",
       " 'r2_wild_0_0.5mb': 0.8214285714285713,\n",
       " 'r2_wild_1_2mb': 0.3590062111801243,\n",
       " 'r2_wild_2_4mb': 0.1860465116279068,\n",
       " 'roh_all_pops_iqr': 337.0,\n",
       " 'roh_all_pops_mean': 1624.2633546182276,\n",
       " 'roh_captive_iqr': 842.0,\n",
       " 'roh_captive_mean': 2367.817065267218,\n",
       " 'roh_domestic_iqr': 35090.0,\n",
       " 'roh_domestic_mean': 40944.50857620974,\n",
       " 'roh_wild_iqr': 275.0,\n",
       " 'roh_wild_mean': 719.94537216953,\n",
       " 'segregating_sites': 54935,\n",
       " 'sfs_mean_all_pops_0_18': 344.6666666666667,\n",
       " 'sfs_mean_all_pops_18_36': 56.5,\n",
       " 'sfs_mean_all_pops_36_54': 36.888888888888886,\n",
       " 'sfs_mean_all_pops_54_72': 1427.388888888889,\n",
       " 'sfs_mean_all_pops_72_90': 1186.5,\n",
       " 'sfs_mean_captive_0_6': 8322.833333333334,\n",
       " 'sfs_mean_captive_12_18': 113.5,\n",
       " 'sfs_mean_captive_18_24': 96.5,\n",
       " 'sfs_mean_captive_24_30': 86.33333333333333,\n",
       " 'sfs_mean_captive_6_12': 172.83333333333334,\n",
       " 'sfs_mean_domestic_0_6': 127.16666666666667,\n",
       " 'sfs_mean_domestic_12_18': 17.5,\n",
       " 'sfs_mean_domestic_18_24': 9.333333333333334,\n",
       " 'sfs_mean_domestic_24_30': 25.166666666666668,\n",
       " 'sfs_mean_domestic_6_12': 24.666666666666668,\n",
       " 'sfs_mean_wild_0_6': 2365.5,\n",
       " 'sfs_mean_wild_12_18': 1916.0,\n",
       " 'sfs_mean_wild_18_24': 106.5,\n",
       " 'sfs_mean_wild_24_30': 85.16666666666667,\n",
       " 'sfs_mean_wild_6_12': 4292.833333333333,\n",
       " 'tajimas_d_all_pops': 4.772940942600195,\n",
       " 'tajimas_d_captive': -2.2815604474984843,\n",
       " 'tajimas_d_domestic': -0.29247312935736214,\n",
       " 'tajimas_d_wild': 0.972390943243069,\n",
       " 'wattersons_theta_all_pops': 0.0009525934394202803,\n",
       " 'wattersons_theta_captive': 0.0011313382719580268,\n",
       " 'wattersons_theta_domestic': 2.622889571209938e-05,\n",
       " 'wattersons_theta_wild': 0.0011279926401255758}"
      ]
     },
     "execution_count": 6,
     "metadata": {},
     "output_type": "execute_result"
    }
   ],
   "source": [
    "summary_stats = simple_sum(data)\n",
    "summary_stats"
   ]
  },
  {
   "cell_type": "markdown",
   "metadata": {},
   "source": [
    "These will almost certainly need pruning in some way prior to inference, as they may be too high-dimensional and highly correlated."
   ]
  },
  {
   "cell_type": "markdown",
   "metadata": {},
   "source": [
    "## Plotting a PCA"
   ]
  },
  {
   "cell_type": "code",
   "execution_count": 7,
   "metadata": {},
   "outputs": [
    {
     "data": {
      "text/plain": [
       "<matplotlib.legend.Legend at 0x7f726467b550>"
      ]
     },
     "execution_count": 7,
     "metadata": {},
     "output_type": "execute_result"
    },
    {
     "data": {
      "image/png": "[encoded data removed]",
      "text/plain": [
       "<Figure size 640x480 with 1 Axes>"
      ]
     },
     "metadata": {},
     "output_type": "display_data"
    }
   ],
   "source": [
    "from sim.sum_stats import pca\n",
    "data.allelify()  # convert from numpy to scikit allel equivilents\n",
    "pca_data = pca(data.genotypes[\"all_pops\"].to_n_alt(), data.subpops)  # to_n_alt converts to 012 format\n",
    "sns.scatterplot(x=pca_data[\"pc1\"], y=pca_data[\"pc2\"], hue=pca_data[\"population\"])\n",
    "plt.legend(bbox_to_anchor=(1.05, 1))"
   ]
  },
  {
   "cell_type": "markdown",
   "metadata": {},
   "source": [
    "## Real data"
   ]
  },
  {
   "attachments": {},
   "cell_type": "markdown",
   "metadata": {},
   "source": [
    "The way I got the real data into the same format as the results from the simulations (i.e. an instance of the `GenotypeData` class) is shown below."
   ]
  },
  {
   "cell_type": "code",
   "execution_count": null,
   "metadata": {},
   "outputs": [],
   "source": [
    "import allel\n",
    "from sim.model import GenotypeData\n",
    "callset = allel.read_vcf(\"../data/e3_phased.vcf\")\n",
    "pop = pd.read_csv(\"../data/e3_sample_info.csv\", usecols=[\"SOURCE\"])[\"SOURCE\"].str.lower().to_numpy().ravel()\n",
    "\n",
    "subpops = {}\n",
    "for pop_name in np.unique(pop):\n",
    "    subpops[pop_name] = np.where(pop == pop_name)[0]\n",
    "\n",
    "subpops[\"all_pops\"] = np.arange(len(pop))\n",
    "\n",
    "y_obs = GenotypeData(callset=callset, subpops=subpops, seq_length=44648284)\n",
    "\n",
    "with open(\"../data/e3_phased.pkl\", \"wb\") as f:\n",
    "    pickle.dump(y_obs, f)\n"
   ]
  },
  {
   "cell_type": "markdown",
   "metadata": {},
   "source": [
    "Note this will automatically converts the data to biallelic matrices. It also saves the object created using pickle."
   ]
  },
  {
   "cell_type": "code",
   "execution_count": null,
   "metadata": {},
   "outputs": [],
   "source": [
    "import allel\n",
    "from sim.model import GenotypeData\n",
    "import pandas as pd\n",
    "import numpy as np\n",
    "import pickle\n",
    "\n",
    "callset = allel.read_vcf(\"../data/e2_phased.vcf\")  # Genotype data\n",
    "pop = np.genfromtxt(\"../data/e2_sample_info.txt\", dtype=\"str\", usecols=1)  # populations\n",
    "pop = np.where(pop == \"dom\", \"domestic\", pop)\n",
    "pop = np.where(pop == \"cap\", \"captive\", pop)\n",
    "\n",
    "subpops = {}\n",
    "for pop_name in np.unique(pop):\n",
    "    subpops[pop_name] = np.where(pop == pop_name)[0]\n",
    "\n",
    "subpops[\"all_pops\"] = np.arange(len(pop))\n",
    "\n",
    "y_obs = GenotypeData(callset=callset, subpops=subpops, seq_length=64340295)\n",
    "\n",
    "with open(\"../data/e2_phased.pkl\", \"wb\") as f:\n",
    "    pickle.dump(y_obs, f)"
   ]
  },
  {
   "cell_type": "markdown",
   "metadata": {},
   "source": [
    "### Calculate observed statistics"
   ]
  },
  {
   "cell_type": "code",
   "execution_count": null,
   "metadata": {},
   "outputs": [],
   "source": [
    "with open(\"../data/e2_phased.pkl\", \"rb\") as f:\n",
    "     test = pickle.load(f)\n",
    "\n",
    "from sim.sum_stats import simple_sum\n",
    "observed_sum_stats = simple_sum(y_obs)\n",
    "observed_sum_stats = {k: [v] for k, v in observed_sum_stats.items()}\n",
    "observed_sum_stats = pd.DataFrame.from_dict(observed_sum_stats)\n",
    "observed_sum_stats.to_csv(\"../output/observed_summary_stats_e2.csv\", index = False)"
   ]
  }
 ],
 "metadata": {
  "kernelspec": {
   "display_name": "wildcats_env",
   "language": "python",
   "name": "python3"
  },
  "language_info": {
   "codemirror_mode": {
    "name": "ipython",
    "version": 3
   },
   "file_extension": ".py",
   "mimetype": "text/x-python",
   "name": "python",
   "nbconvert_exporter": "python",
   "pygments_lexer": "ipython3",
   "version": "3.10.8"
  },
  "vscode": {
   "interpreter": {
    "hash": "3aa9df91d1d95da21ea5614eae94cac82870ac63054bb4688b92ef8f81cb7aa8"
   }
  }
 },
 "nbformat": 4,
 "nbformat_minor": 4
}
