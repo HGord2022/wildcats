{
 "cells": [
  {
   "cell_type": "markdown",
   "metadata": {},
   "source": [
    "### Imports"
   ]
  },
  {
   "cell_type": "markdown",
   "metadata": {},
   "source": [
    "In order to use a package I have created, as well as other packages, we have to import them. If you haven't used a jupyter notebook before then you can press control enter to run the code blocks."
   ]
  },
  {
   "cell_type": "code",
   "execution_count": 1,
   "metadata": {},
   "outputs": [],
   "source": [
    "import logging  # Allows you to set levels of verbosity for printing information warnings and errors\n",
    "import elfi  # SMC / Liklihood free inference\n",
    "import numpy as np  # Matrices and linear algebra\n",
    "import scipy.stats  # Statistics\n",
    "import seaborn as sns  # Plotting\n",
    "import matplotlib.pyplot as plt  # Plotting\n",
    "from sklearn.preprocessing import StandardScaler  # Carries out standard scaling (x-mu)/sd\n",
    "import pandas as pd  # DataFrames\n",
    "import pickle  # Serializes objects\n",
    "\n",
    "# The sim package is my package (in the sim folder)\n",
    "from sim.utils import ScaledDist\n",
    "from sim.model import simple_sim\n",
    "from sim.sum_stats import simple_sum\n",
    "\n",
    "# Set the logging level to info\n",
    "logging.basicConfig()\n",
    "logging.getLogger().setLevel(logging.INFO)"
   ]
  },
  {
   "cell_type": "markdown",
   "metadata": {},
   "source": [
    "### Run a simulation"
   ]
  },
  {
   "cell_type": "code",
   "execution_count": 2,
   "metadata": {},
   "outputs": [
    {
     "name": "stderr",
     "output_type": "stream",
     "text": [
      "INFO:root:Param bottleneck_strength_domestic = 3000\n",
      "INFO:root:Param bottleneck_strength_wild = 30000\n",
      "INFO:root:Param bottleneck_time_domestic = 3000\n",
      "INFO:root:Param bottleneck_time_wild = 4000\n",
      "INFO:root:Param captive_time = 20\n",
      "INFO:root:Param div_time = 40000\n",
      "INFO:root:Param mig_length_post_split = 1000\n",
      "INFO:root:Param mig_length_wild = 20\n",
      "INFO:root:Param mig_rate_captive = 0.01\n",
      "INFO:root:Param mig_rate_post_split = 0.1\n",
      "INFO:root:Param mig_rate_wild = 0.01\n",
      "INFO:root:Param pop_size_captive = 1000\n",
      "INFO:root:Param pop_size_domestic_1 = 100\n",
      "INFO:root:Param pop_size_domestic_2 = 100\n",
      "INFO:root:Param pop_size_wild_1 = 500\n",
      "INFO:root:Param pop_size_wild_2 = 500\n",
      "INFO:root:Running command: slim -d captive_time=20 -d mig_length_wild=20 -d mig_rate_captive=0.01 -d mig_rate_wild=0.01 -d pop_size_captive=1000 -d pop_size_domestic_1=100 -d pop_size_wild_1=500 -d length=10000000 -d recombination_rate=1.8e-08  -d decap_trees_filename='\"decap_1.trees\"' -s 40 slim_model.slim\n"
     ]
    },
    {
     "name": "stdout",
     "output_type": "stream",
     "text": [
      "CPU times: user 956 ms, sys: 14.2 ms, total: 970 ms\n",
      "Wall time: 1.38 s\n"
     ]
    }
   ],
   "source": [
    "%%time\n",
    "data = simple_sim(\n",
    "        bottleneck_strength_domestic=3000,\n",
    "        bottleneck_strength_wild=30000,\n",
    "        bottleneck_time_domestic=3000,\n",
    "        bottleneck_time_wild=4000,\n",
    "        captive_time=20,\n",
    "        div_time=40000,\n",
    "        mig_length_post_split=1000,\n",
    "        mig_length_wild=20,\n",
    "        mig_rate_captive=0.01,\n",
    "        mig_rate_post_split=0.1,\n",
    "        mig_rate_wild=0.01,\n",
    "        pop_size_captive=1000,\n",
    "        pop_size_domestic_1=100,\n",
    "        pop_size_domestic_2=100,\n",
    "        pop_size_wild_1=500,\n",
    "        pop_size_wild_2=500,\n",
    "        length=int(10e6),\n",
    "        recombination_rate=1.8e-8,\n",
    "        mutation_rate=6e-8,\n",
    "        seed=1) "
   ]
  },
  {
   "cell_type": "markdown",
   "metadata": {},
   "source": [
    "### Simulation results format"
   ]
  },
  {
   "cell_type": "markdown",
   "metadata": {},
   "source": [
    "`data` is an instance of a `GenotypeData` class, which I have defined in model.py. The attributes of the class have things you need for summary statistic calculation. For example, `pod.genotypes[\"domestic\"]` would give you an array of the domestic genotypes. `pod.positions` gives a 1d array of the mutation positions."
   ]
  },
  {
   "cell_type": "code",
   "execution_count": 8,
   "metadata": {},
   "outputs": [
    {
     "data": {
      "text/plain": [
       "(53183, 5, 2)"
      ]
     },
     "execution_count": 8,
     "metadata": {},
     "output_type": "execute_result"
    }
   ],
   "source": [
    "data.genotypes[\"domestic\"].shape  # dimensions = (number of SNPs/mutations, number of domestic individuals, ploidy)"
   ]
  },
  {
   "cell_type": "code",
   "execution_count": 5,
   "metadata": {},
   "outputs": [
    {
     "data": {
      "text/plain": [
       "(53104, 30, 2)"
      ]
     },
     "execution_count": 5,
     "metadata": {},
     "output_type": "execute_result"
    }
   ],
   "source": [
    "data.genotypes[\"wild\"].shape"
   ]
  },
  {
   "cell_type": "markdown",
   "metadata": {},
   "source": [
    "We can get the positions of the mutations with:"
   ]
  },
  {
   "cell_type": "code",
   "execution_count": 6,
   "metadata": {},
   "outputs": [
    {
     "data": {
      "text/plain": [
       "array([2.55052157e+02, 2.96959610e+02, 3.55844972e+02, ...,\n",
       "       9.99934330e+06, 9.99939051e+06, 9.99950952e+06])"
      ]
     },
     "execution_count": 6,
     "metadata": {},
     "output_type": "execute_result"
    }
   ],
   "source": [
    "data.positions"
   ]
  },
  {
   "cell_type": "markdown",
   "metadata": {},
   "source": [
    "Genotypes are given as 3 dimensional, where axis 0 is variants, axis 1 is individuals and axis 2 is ploidy. These arrays are numpy arrays, so if you wanted to do anything with them you can look at the numpy documentation."
   ]
  },
  {
   "cell_type": "markdown",
   "metadata": {},
   "source": [
    "### Calculating summary statistics"
   ]
  },
  {
   "cell_type": "markdown",
   "metadata": {},
   "source": [
    "All the summary statistics can be calculated with:"
   ]
  },
  {
   "cell_type": "code",
   "execution_count": 10,
   "metadata": {},
   "outputs": [
    {
     "data": {
      "text/plain": [
       "{'divergence_domestic_captive': 0.004758133475316503,\n",
       " 'divergence_domestic_wild': 0.0034761167145486113,\n",
       " 'divergence_wild_captive': 0.0014057732912594455,\n",
       " 'diversity_all_pops': 0.0020640867329327485,\n",
       " 'diversity_captive': 0.00015611382425721385,\n",
       " 'diversity_domestic': 3.0153868681409182e-05,\n",
       " 'diversity_wild': 0.0019838554471143075,\n",
       " 'expected_heterozygosity_all_pops': 0.38379109819507445,\n",
       " 'expected_heterozygosity_captive': 0.02788588458718012,\n",
       " 'expected_heterozygosity_domestic': 0.005102758400240677,\n",
       " 'expected_heterozygosity_wild': 0.3668007738479505,\n",
       " 'f2_domestic_captive': 0.8771443519578707,\n",
       " 'f2_domestic_wild': 0.464258921147544,\n",
       " 'f2_wild_captive': 0.06313722317717947,\n",
       " 'f3_captive': 8.108430626870435,\n",
       " 'f3_domestic': 112.72721092195444,\n",
       " 'f3_wild': -0.46880908569433094,\n",
       " 'fst_domestic_captive': 0.9804263905263572,\n",
       " 'fst_domestic_wild': 0.7103075815368236,\n",
       " 'fst_wild_captive': 0.23886401716513528,\n",
       " 'monomorphic_sites_captive': 45572,\n",
       " 'monomorphic_sites_domestic': 52440,\n",
       " 'monomorphic_sites_wild': 904,\n",
       " 'observed_heterozygosity_all_pops': 0.24576357942283142,\n",
       " 'observed_heterozygosity_captive': 0.02847714495233439,\n",
       " 'observed_heterozygosity_domestic': 0.005945508903220954,\n",
       " 'observed_heterozygosity_wild': 0.35816206933293215,\n",
       " 'pc1_iqr_all_pops': 49.48455810546875,\n",
       " 'pc1_iqr_captive': 1.024505615234375,\n",
       " 'pc1_iqr_domestic': 1.1732711791992188,\n",
       " 'pc1_iqr_wild': 40.18403625488281,\n",
       " 'pc1_median_all_pops': 14.049691200256348,\n",
       " 'pc1_median_captive': 30.936294555664062,\n",
       " 'pc1_median_dist_domestic_captive': 103.316,\n",
       " 'pc1_median_dist_domestic_wild': 78.93519,\n",
       " 'pc1_median_dist_wild_captive': 24.380814,\n",
       " 'pc1_median_domestic': -72.37970733642578,\n",
       " 'pc1_median_wild': 6.55548095703125,\n",
       " 'pc2_iqr_all_pops': 10.546831130981445,\n",
       " 'pc2_iqr_captive': 7.25730562210083,\n",
       " 'pc2_iqr_domestic': 0.012940049171447754,\n",
       " 'pc2_iqr_wild': 15.68287181854248,\n",
       " 'pc2_median_all_pops': -1.2055870294570923,\n",
       " 'pc2_median_captive': -2.20381498336792,\n",
       " 'pc2_median_dist_domestic_captive': 1.8406141,\n",
       " 'pc2_median_dist_domestic_wild': 2.6944668,\n",
       " 'pc2_median_dist_wild_captive': 0.85385275,\n",
       " 'pc2_median_domestic': -0.36320096254348755,\n",
       " 'pc2_median_wild': -3.0576677322387695,\n",
       " 'r2_all_pops_0.5_1e6': 0.8597228532485239,\n",
       " 'r2_all_pops_0_0.5mb': 0.9255421912002995,\n",
       " 'r2_all_pops_1_2mb': 0.7416859957018084,\n",
       " 'r2_all_pops_2_4mb': 0.5552384592251014,\n",
       " 'r2_captive_0.5_1e6': 0.06249999999999996,\n",
       " 'r2_captive_0_0.5mb': 0.09356725146198826,\n",
       " 'r2_captive_1_2mb': 0.058441558441558385,\n",
       " 'r2_captive_2_4mb': 0.06172839506172843,\n",
       " 'r2_domestic_0.5_1e6': 0.28571428571428575,\n",
       " 'r2_domestic_0_0.5mb': 0.4166666666666665,\n",
       " 'r2_domestic_1_2mb': 0.16666666666666666,\n",
       " 'r2_domestic_2_4mb': 0.16666666666666663,\n",
       " 'r2_wild_0.5_1e6': 0.7077185630036074,\n",
       " 'r2_wild_0_0.5mb': 0.8729338842975213,\n",
       " 'r2_wild_1_2mb': 0.48731620285872507,\n",
       " 'r2_wild_2_4mb': 0.2569670582732131,\n",
       " 'roh_all_pops_iqr': 266.0,\n",
       " 'roh_all_pops_mean': 759.7961765570992,\n",
       " 'roh_captive_iqr': 6198.0,\n",
       " 'roh_captive_mean': 6575.923539121823,\n",
       " 'roh_domestic_iqr': 25048.0,\n",
       " 'roh_domestic_mean': 30507.866540164454,\n",
       " 'roh_wild_iqr': 252.0,\n",
       " 'roh_wild_mean': 523.3441773780045,\n",
       " 'segregating_sites': 53183,\n",
       " 'sfs_mean_all_pops_0_9': 470.3333333333333,\n",
       " 'sfs_mean_all_pops_18_27': 3725.6666666666665,\n",
       " 'sfs_mean_all_pops_27_36': 1556.7777777777778,\n",
       " 'sfs_mean_all_pops_36_45': 47.22222222222222,\n",
       " 'sfs_mean_all_pops_9_18': 109.22222222222223,\n",
       " 'sfs_mean_captive_0_2': 2632.0,\n",
       " 'sfs_mean_captive_2_4': 375.0,\n",
       " 'sfs_mean_captive_4_6': 356.0,\n",
       " 'sfs_mean_captive_6_8': 279.5,\n",
       " 'sfs_mean_captive_8_10': 163.0,\n",
       " 'sfs_mean_domestic_0_1': 156.0,\n",
       " 'sfs_mean_domestic_1_2': 163.0,\n",
       " 'sfs_mean_domestic_2_3': 218.0,\n",
       " 'sfs_mean_domestic_3_4': 171.0,\n",
       " 'sfs_mean_domestic_4_5': 35.0,\n",
       " 'sfs_mean_wild_0_6': 553.5,\n",
       " 'sfs_mean_wild_12_18': 6040.0,\n",
       " 'sfs_mean_wild_18_24': 1883.0,\n",
       " 'sfs_mean_wild_24_30': 76.33333333333333,\n",
       " 'sfs_mean_wild_6_12': 160.33333333333334,\n",
       " 'tajimas_d_all_pops': 3.3420101243383638,\n",
       " 'tajimas_d_captive': -1.1428357115489174,\n",
       " 'tajimas_d_domestic': 0.7426768897850877,\n",
       " 'tajimas_d_wild': 2.7654034142053914,\n",
       " 'wattersons_theta_all_pops': 0.001048691097855628,\n",
       " 'wattersons_theta_captive': 0.0002145347703806633,\n",
       " 'wattersons_theta_domestic': 2.6264458440725643e-05,\n",
       " 'wattersons_theta_wild': 0.0011211161042033247}"
      ]
     },
     "execution_count": 10,
     "metadata": {},
     "output_type": "execute_result"
    }
   ],
   "source": [
    "summary_stats = simple_sum(data)\n",
    "summary_stats"
   ]
  },
  {
   "cell_type": "markdown",
   "metadata": {},
   "source": [
    "These will almost certainly need pruning in some way prior to inference, as they may be too high-dimensional and highly correlated."
   ]
  },
  {
   "cell_type": "markdown",
   "metadata": {},
   "source": [
    "## Plotting a PCA"
   ]
  },
  {
   "cell_type": "code",
   "execution_count": 4,
   "metadata": {},
   "outputs": [
    {
     "data": {
      "text/plain": [
       "<matplotlib.legend.Legend at 0x7fda47ac5ca0>"
      ]
     },
     "execution_count": 4,
     "metadata": {},
     "output_type": "execute_result"
    },
    {
     "data": {
      "image/png": "[encoded data removed]",
      "text/plain": [
       "<Figure size 432x288 with 1 Axes>"
      ]
     },
     "metadata": {
      "needs_background": "light"
     },
     "output_type": "display_data"
    }
   ],
   "source": [
    "from sim.sum_stats import pca\n",
    "data.allelify()  # convert from numpy to scikit allel equivilents\n",
    "pca_data = pca(data.genotypes[\"all_pops\"].to_n_alt(), data.subpops)  # to_n_alt converts to 012 format\n",
    "sns.scatterplot(x=pca_data[\"pc1\"], y=pca_data[\"pc2\"], hue=pca_data[\"population\"])\n",
    "plt.legend(bbox_to_anchor=(1.05, 1))"
   ]
  },
  {
   "cell_type": "markdown",
   "metadata": {},
   "source": [
    "# Using elfi"
   ]
  },
  {
   "cell_type": "markdown",
   "metadata": {},
   "source": [
    "### Priors"
   ]
  },
  {
   "cell_type": "markdown",
   "metadata": {},
   "source": [
    "In elfi, SMC, kicks up a fuss if parameters are badly scaled. To overcome this priors are defined using a class ScaledDist (from sim.utils.py)."
   ]
  },
  {
   "cell_type": "code",
   "execution_count": 9,
   "metadata": {},
   "outputs": [],
   "source": [
    "from sim.utils import ScaledDist\n",
    "fake_prior = ScaledDist(sampling=scipy.stats.lognorm(s=0.4, loc=0, scale=1),  # elfi will sample and infer from this distribution\n",
    "                        target=scipy.stats.lognorm(s=0.4, loc=1, scale=np.exp(2.7)))  # elfi will scale up to this distribution in the simulator"
   ]
  },
  {
   "cell_type": "markdown",
   "metadata": {},
   "source": [
    "The first distribution doesn't really matter, apart from it should be a standardish scale, and it's shape should match the target distribution so it can be scaled up. The second distribution is our actual prior. This means that the only thing that should change in between the distributions are the `loc` and `scale` parameters. To ensure that scaling works as expected, you can plot the target distribution against a scaled set of samples from the sampling distribution, and check the distributions match:"
   ]
  },
  {
   "cell_type": "code",
   "execution_count": 10,
   "metadata": {},
   "outputs": [
    {
     "data": {
      "text/plain": [
       "[]"
      ]
     },
     "execution_count": 10,
     "metadata": {},
     "output_type": "execute_result"
    },
    {
     "data": {
      "image/png": "[encoded data removed]",
      "text/plain": [
       "<Figure size 432x288 with 1 Axes>"
      ]
     },
     "metadata": {
      "needs_background": "light"
     },
     "output_type": "display_data"
    }
   ],
   "source": [
    "fake_prior.plot(show_scaled_kde=True)"
   ]
  },
  {
   "cell_type": "markdown",
   "metadata": {},
   "source": [
    "If you haven't run `priors.py`, run it and then you should be able to load the priors with:"
   ]
  },
  {
   "cell_type": "code",
   "execution_count": 19,
   "metadata": {},
   "outputs": [],
   "source": [
    "with open (\"../output/priors.pkl\", \"rb\") as f:\n",
    "    priors = pickle.load(f)"
   ]
  },
  {
   "cell_type": "code",
   "execution_count": 20,
   "metadata": {},
   "outputs": [
    {
     "data": {
      "text/plain": [
       "[]"
      ]
     },
     "execution_count": 20,
     "metadata": {},
     "output_type": "execute_result"
    },
    {
     "data": {
      "image/png": "[encoded data removed]",
      "text/plain": [
       "<Figure size 432x288 with 1 Axes>"
      ]
     },
     "metadata": {
      "needs_background": "light"
     },
     "output_type": "display_data"
    }
   ],
   "source": [
    "priors[\"div_time\"].plot()"
   ]
  },
  {
   "cell_type": "markdown",
   "metadata": {},
   "source": [
    "## Real data"
   ]
  },
  {
   "cell_type": "markdown",
   "metadata": {},
   "source": [
    "The way I got the real data into the same format as the results from the simulations (i.e. an instance of the `GenotypeData` class) is shown below. I thought that although I have done it for the phased data you have given me, in case you want to do it for a different chromosome, or using phasing by a different method, then it may be helpful."
   ]
  },
  {
   "cell_type": "code",
   "execution_count": null,
   "metadata": {},
   "outputs": [],
   "source": [
    "import allel\n",
    "from sim.model import GenotypeData\n",
    "callset = allel.read_vcf(\"../data/e3_phased.vcf\")  #  This is the vcf file you have given me\n",
    "pop = pd.read_csv(\"../data/e3_sample_info.csv\", usecols=[\"SOURCE\"])[\"SOURCE\"].str.lower().to_numpy().ravel()\n",
    "\n",
    "subpops = {}\n",
    "for pop_name in np.unique(pop):\n",
    "    subpops[pop_name] = np.where(pop == pop_name)[0]\n",
    "\n",
    "subpops[\"all_pops\"] = np.arange(len(pop))\n",
    "\n",
    "y_obs = GenotypeData(callset=callset, subpops=subpops, seq_length=44648284)\n",
    "\n",
    "with open(\"../data/e3_phased.pkl\", \"wb\") as f:\n",
    "    pickle.dump(y_obs, f)\n"
   ]
  },
  {
   "cell_type": "markdown",
   "metadata": {},
   "source": [
    "Note this will automatically converts the data to biallelic matrices. It also saves the object created using pickle."
   ]
  },
  {
   "cell_type": "code",
   "execution_count": 42,
   "metadata": {},
   "outputs": [],
   "source": [
    "import allel\n",
    "from sim.model import GenotypeData\n",
    "import pandas as pd\n",
    "import numpy as np\n",
    "import pickle\n",
    "callset = allel.read_vcf(\"../data/e2_phased.vcf\")  #  This is the vcf file you have given me\n",
    "pop = np.genfromtxt(\"../data/e2_sample_info.txt\", dtype=\"str\", usecols=1)\n",
    "\n",
    "pop = np.where(pop == \"dom\", \"domestic\", pop)\n",
    "pop = np.where(pop == \"cap\", \"captive\", pop)\n",
    "\n",
    "subpops = {}\n",
    "for pop_name in np.unique(pop):\n",
    "    subpops[pop_name] = np.where(pop == pop_name)[0]\n",
    "\n",
    "subpops[\"all_pops\"] = np.arange(len(pop))\n",
    "\n",
    "y_obs = GenotypeData(callset=callset, subpops=subpops, seq_length=64340295)\n",
    "\n",
    "with open(\"../data/e2_phased.pkl\", \"wb\") as f:\n",
    "    pickle.dump(y_obs, f)"
   ]
  },
  {
   "cell_type": "markdown",
   "metadata": {},
   "source": [
    "### Calculate observed statistics"
   ]
  },
  {
   "cell_type": "code",
   "execution_count": null,
   "metadata": {},
   "outputs": [],
   "source": [
    "with open(\"../data/e2_phased.pkl\", \"rb\") as f:\n",
    "     test = pickle.load(f)\n",
    "\n",
    "from sim.sum_stats import simple_sum\n",
    "observed_sum_stats = simple_sum(y_obs)\n",
    "observed_sum_stats = {k: [v] for k, v in observed_sum_stats.items()}\n",
    "observed_sum_stats = pd.DataFrame.from_dict(observed_sum_stats)\n",
    "observed_sum_stats.to_csv(\"../output/observed_summary_stats_e2.csv\", index = False)"
   ]
  }
 ],
 "metadata": {
  "kernelspec": {
   "display_name": "Python 3",
   "language": "python",
   "name": "python3"
  },
  "language_info": {
   "codemirror_mode": {
    "name": "ipython",
    "version": 3
   },
   "file_extension": ".py",
   "mimetype": "text/x-python",
   "name": "python",
   "nbconvert_exporter": "python",
   "pygments_lexer": "ipython3",
   "version": "3.8.5"
  }
 },
 "nbformat": 4,
 "nbformat_minor": 4
}
