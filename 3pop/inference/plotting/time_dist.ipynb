{
 "cells": [
  {
   "cell_type": "code",
   "execution_count": 1,
   "id": "ef1778ca-cbc8-4687-a811-602b543c4d12",
   "metadata": {},
   "outputs": [
    {
     "data": {
      "text/plain": [
       "81"
      ]
     },
     "execution_count": 1,
     "metadata": {},
     "output_type": "execute_result"
    }
   ],
   "source": [
    "import pandas as pd\n",
    "import matplotlib.pyplot as plt\n",
    "import numpy as np\n",
    "times = pd.read_csv(\"./times_01.csv\", sep=\",\")\n",
    "len(times)"
   ]
  },
  {
   "cell_type": "code",
   "execution_count": 21,
   "id": "0c7f25d3-9e1a-4f3d-86c0-c8feec2cdc8c",
   "metadata": {},
   "outputs": [
    {
     "data": {
      "text/plain": [
       "57"
      ]
     },
     "execution_count": 21,
     "metadata": {},
     "output_type": "execute_result"
    }
   ],
   "source": [
    "len(times.loc[times[\"0\"] > 4000])"
   ]
  },
  {
   "cell_type": "code",
   "execution_count": 5,
   "id": "89245189-d970-4661-8753-2ca4fdd43593",
   "metadata": {},
   "outputs": [
    {
     "data": {
      "image/png": "[encoded data removed]",
      "text/plain": [
       "<Figure size 640x480 with 1 Axes>"
      ]
     },
     "metadata": {},
     "output_type": "display_data"
    }
   ],
   "source": [
    "plt.hist(times[\"0\"],\n",
    "         alpha=0.5,\n",
    "         label='prior', bins=10)\n",
    "\n",
    "plt.legend(loc='upper right')\n",
    "plt.yticks([])\n",
    "plt.xlim([0, 1000])\n",
    "plt.show()"
   ]
  },
  {
   "cell_type": "code",
   "execution_count": null,
   "id": "16137271-d747-4e7a-96d9-cfd32f7e78ec",
   "metadata": {},
   "outputs": [],
   "source": []
  }
 ],
 "metadata": {
  "kernelspec": {
   "display_name": "myenv",
   "language": "python",
   "name": "myenv"
  },
  "language_info": {
   "codemirror_mode": {
    "name": "ipython",
    "version": 3
   },
   "file_extension": ".py",
   "mimetype": "text/x-python",
   "name": "python",
   "nbconvert_exporter": "python",
   "pygments_lexer": "ipython3",
   "version": "3.10.10"
  }
 },
 "nbformat": 4,
 "nbformat_minor": 5
}
