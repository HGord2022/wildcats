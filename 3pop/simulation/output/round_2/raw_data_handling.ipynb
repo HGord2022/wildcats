{
 "cells": [
  {
   "cell_type": "code",
   "execution_count": 1,
   "metadata": {},
   "outputs": [],
   "source": [
    "import pandas as pd\n",
    "import numpy as np"
   ]
  },
  {
   "cell_type": "code",
   "execution_count": 2,
   "metadata": {},
   "outputs": [
    {
     "name": "stdout",
     "output_type": "stream",
     "text": [
      "(8526, 44)\n",
      "(8526, 18)\n",
      "(1442, 44)\n",
      "(1442, 18)\n"
     ]
    }
   ],
   "source": [
    "x1 = pd.read_csv('summary_stats_r2.csv')\n",
    "t1 = pd.read_csv('thetas_r2.csv')\n",
    "\n",
    "x2 = pd.read_csv('summary_stats_r2x.csv')\n",
    "t2 = pd.read_csv('thetas_r2x.csv')\n",
    "print(np.shape(x1))\n",
    "print(np.shape(t1))\n",
    "print(np.shape(x2))\n",
    "print(np.shape(t2))"
   ]
  },
  {
   "cell_type": "code",
   "execution_count": 3,
   "metadata": {},
   "outputs": [
    {
     "name": "stdout",
     "output_type": "stream",
     "text": [
      "(9968, 44)\n",
      "(9968, 18)\n"
     ]
    }
   ],
   "source": [
    "x = pd.concat([x1, x2], ignore_index=True)\n",
    "t = pd.concat([t1, t2], ignore_index=True)\n",
    "print(np.shape(x))\n",
    "print(np.shape(t))"
   ]
  },
  {
   "cell_type": "code",
   "execution_count": null,
   "metadata": {},
   "outputs": [],
   "source": [
    "#x_15k = x[0:15000]\n",
    "#x_15k.to_csv('summary_stats_r1_15k.csv', index=False)\n",
    "x_10k = x[0:9968]\n",
    "x_10k.to_csv('summary_stats_r2_10k.csv', index=False)"
   ]
  },
  {
   "cell_type": "code",
   "execution_count": null,
   "metadata": {},
   "outputs": [],
   "source": [
    "#t_15k = t[0:15000]\n",
    "#t_15k.to_csv('thetas_r1_15k.csv', index=False)\n",
    "t_10k = t[0:9968]\n",
    "t_10k.to_csv('thetas_r2_10k.csv', index=False)"
   ]
  },
  {
   "cell_type": "code",
   "execution_count": 7,
   "metadata": {},
   "outputs": [
    {
     "name": "stdout",
     "output_type": "stream",
     "text": [
      "(8526, 1)\n",
      "(1442, 1)\n"
     ]
    }
   ],
   "source": [
    "import pandas as pd\n",
    "import numpy as np\n",
    "times1 = pd.read_csv('times_r2.csv')\n",
    "times2 = pd.read_csv('times_r2x.csv')\n",
    "print(np.shape(times1))\n",
    "print(np.shape(times2))"
   ]
  },
  {
   "cell_type": "code",
   "execution_count": 8,
   "metadata": {},
   "outputs": [
    {
     "name": "stdout",
     "output_type": "stream",
     "text": [
      "(9968, 1)\n"
     ]
    }
   ],
   "source": [
    "times = pd.concat([times1, times2], ignore_index=True)\n",
    "print(np.shape(times))"
   ]
  },
  {
   "cell_type": "code",
   "execution_count": 9,
   "metadata": {},
   "outputs": [],
   "source": [
    "times_10k = times[0:9968]\n",
    "times_10k.to_csv('times_r1_10k.csv', index=False)"
   ]
  },
  {
   "cell_type": "code",
   "execution_count": null,
   "metadata": {},
   "outputs": [],
   "source": [
    "x = pd.read_csv('summary_stats_r2_15k.csv')\n",
    "theta = pd.read_csv('thetas_r2_15k.csv')"
   ]
  },
  {
   "cell_type": "code",
   "execution_count": 8,
   "metadata": {},
   "outputs": [],
   "source": [
    "dummy_x_o = x.iloc[[14998]]  # Select the 14999th row (index 14998)\n",
    "dummy_x_o.to_csv('dummy_x_o.csv', index=False)"
   ]
  },
  {
   "cell_type": "code",
   "execution_count": 10,
   "metadata": {},
   "outputs": [],
   "source": [
    "dummy_theta = theta.iloc[[14998]]  # Select the 14999th row (index 14998)\n",
    "dummy_theta.to_csv('dummy_theta.csv', index=False)"
   ]
  },
  {
   "cell_type": "code",
   "execution_count": null,
   "metadata": {},
   "outputs": [],
   "source": []
  }
 ],
 "metadata": {
  "kernelspec": {
   "display_name": "wildcats",
   "language": "python",
   "name": "python3"
  },
  "language_info": {
   "codemirror_mode": {
    "name": "ipython",
    "version": 3
   },
   "file_extension": ".py",
   "mimetype": "text/x-python",
   "name": "python",
   "nbconvert_exporter": "python",
   "pygments_lexer": "ipython3",
   "version": "3.11.5"
  }
 },
 "nbformat": 4,
 "nbformat_minor": 2
}
