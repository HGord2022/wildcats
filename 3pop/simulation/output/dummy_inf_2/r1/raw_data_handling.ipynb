{
 "cells": [
  {
   "cell_type": "code",
   "execution_count": 1,
   "metadata": {},
   "outputs": [],
   "source": [
    "import pandas as pd\n",
    "import numpy as np"
   ]
  },
  {
   "cell_type": "code",
   "execution_count": 3,
   "metadata": {},
   "outputs": [
    {
     "name": "stdout",
     "output_type": "stream",
     "text": [
      "(5252, 44)\n",
      "(5252, 16)\n",
      "(5254, 44)\n",
      "(5254, 16)\n"
     ]
    }
   ],
   "source": [
    "x1 = pd.read_csv('summary_stats_r1.csv')\n",
    "t1 = pd.read_csv('thetas_r1.csv')\n",
    "\n",
    "x2 = pd.read_csv('summary_stats_r1x.csv')\n",
    "t2 = pd.read_csv('thetas_r1x.csv')\n",
    "print(np.shape(x1))\n",
    "print(np.shape(t1))\n",
    "print(np.shape(x2))\n",
    "print(np.shape(t2))"
   ]
  },
  {
   "cell_type": "code",
   "execution_count": 4,
   "metadata": {},
   "outputs": [
    {
     "name": "stdout",
     "output_type": "stream",
     "text": [
      "(10506, 44)\n",
      "(10506, 16)\n"
     ]
    }
   ],
   "source": [
    "x = pd.concat([x1, x2], ignore_index=True)\n",
    "t = pd.concat([t1, t2], ignore_index=True)\n",
    "print(np.shape(x))\n",
    "print(np.shape(t))"
   ]
  },
  {
   "cell_type": "code",
   "execution_count": 5,
   "metadata": {},
   "outputs": [],
   "source": [
    "x_10k = x[0:10000]\n",
    "x_10k.to_csv('summary_stats_r2_10k.csv', index=False)\n",
    "t_10k = t[0:10000]\n",
    "t_10k.to_csv('thetas_r2_10k.csv', index=False)"
   ]
  },
  {
   "cell_type": "code",
   "execution_count": null,
   "metadata": {},
   "outputs": [],
   "source": [
    "x_15k = x[0:15000]\n",
    "x_15k.to_csv('summary_stats_r1_15k.csv', index=False)\n",
    "t_15k = t[0:15000]\n",
    "t_15k.to_csv('thetas_r1_15k.csv', index=False)"
   ]
  },
  {
   "cell_type": "code",
   "execution_count": 3,
   "metadata": {},
   "outputs": [
    {
     "name": "stdout",
     "output_type": "stream",
     "text": [
      "(9244, 1)\n",
      "(9295, 1)\n"
     ]
    }
   ],
   "source": [
    "import pandas as pd\n",
    "import numpy as np\n",
    "times1 = pd.read_csv('times_r1.csv')\n",
    "times2 = pd.read_csv('times_r1x.csv')\n",
    "print(np.shape(times1))\n",
    "print(np.shape(times2))"
   ]
  },
  {
   "cell_type": "code",
   "execution_count": 4,
   "metadata": {},
   "outputs": [
    {
     "name": "stdout",
     "output_type": "stream",
     "text": [
      "(18539, 1)\n"
     ]
    }
   ],
   "source": [
    "times = pd.concat([times1, times2], ignore_index=True)\n",
    "print(np.shape(times))"
   ]
  },
  {
   "cell_type": "code",
   "execution_count": 5,
   "metadata": {},
   "outputs": [],
   "source": [
    "times_10k = times[0:10000]\n",
    "times_10k.to_csv('times_r1_10k.csv', index=False)"
   ]
  },
  {
   "cell_type": "code",
   "execution_count": 7,
   "metadata": {},
   "outputs": [],
   "source": [
    "x = pd.read_csv('summary_stats_r1_15k.csv')\n",
    "theta = pd.read_csv('thetas_r1_15k.csv')"
   ]
  }
 ],
 "metadata": {
  "kernelspec": {
   "display_name": "wildcats",
   "language": "python",
   "name": "python3"
  },
  "language_info": {
   "codemirror_mode": {
    "name": "ipython",
    "version": 3
   },
   "file_extension": ".py",
   "mimetype": "text/x-python",
   "name": "python",
   "nbconvert_exporter": "python",
   "pygments_lexer": "ipython3",
   "version": "3.11.5"
  }
 },
 "nbformat": 4,
 "nbformat_minor": 2
}
