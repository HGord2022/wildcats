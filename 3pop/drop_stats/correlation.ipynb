{
 "cells": [
  {
   "cell_type": "code",
   "execution_count": 1,
   "id": "c9c239e0-f52f-43af-8e63-f5178a2fce2b",
   "metadata": {
    "tags": []
   },
   "outputs": [],
   "source": [
    "import numpy as np\n",
    "import pandas as pd"
   ]
  },
  {
   "cell_type": "code",
   "execution_count": 2,
   "id": "1b8f263a-b21c-4280-a52f-b09ed1ea22fb",
   "metadata": {},
   "outputs": [],
   "source": [
    "pd.set_option('display.max_rows', 500)"
   ]
  },
  {
   "cell_type": "code",
   "execution_count": 21,
   "id": "60434d89-28e9-43a4-9b4b-83405d591553",
   "metadata": {
    "tags": []
   },
   "outputs": [],
   "source": [
    "#simulated data\n",
    "filename = \"./noise_method/summary_stats_r1.csv\"\n",
    "x = pd.read_csv(filename)"
   ]
  },
  {
   "cell_type": "code",
   "execution_count": 22,
   "id": "9992c4e6-0e4e-4113-87a9-5b6fada3b6c2",
   "metadata": {
    "tags": []
   },
   "outputs": [],
   "source": [
    "to_drop = [\n",
    "    \"diversity_domestic\",\n",
    "    \"relatedness_domestic_captive\"\n",
    "          ]\n",
    "\n",
    "### all correlations < 0.99"
   ]
  },
  {
   "cell_type": "code",
   "execution_count": 23,
   "id": "61ffb122-0c27-439f-a487-a2abc944ecf6",
   "metadata": {},
   "outputs": [
    {
     "data": {
      "text/plain": [
       "(9244, 42)"
      ]
     },
     "execution_count": 23,
     "metadata": {},
     "output_type": "execute_result"
    }
   ],
   "source": [
    "x = x.drop(columns=to_drop)\n",
    "np.shape(x)"
   ]
  },
  {
   "cell_type": "code",
   "execution_count": 24,
   "id": "6e9a76fe-5329-44a4-b6dc-722c4abc1fcc",
   "metadata": {},
   "outputs": [
    {
     "data": {
      "text/plain": [
       "(1764,)"
      ]
     },
     "execution_count": 24,
     "metadata": {},
     "output_type": "execute_result"
    }
   ],
   "source": [
    "df = x.corr().abs()\n",
    "s = df.unstack()\n",
    "so = s.sort_values(kind=\"quicksort\", ascending=False)\n",
    "np.shape(so)"
   ]
  },
  {
   "cell_type": "code",
   "execution_count": 25,
   "id": "f4fdd68d-6495-4273-8864-74bca7421dab",
   "metadata": {},
   "outputs": [
    {
     "name": "stdout",
     "output_type": "stream",
     "text": [
      "segregating_sites_domestic   segregating_sites_domestic     1.000000\n",
      "pc2_dist_scot_captive        pc2_dist_scot_captive          1.000000\n",
      "y2_domestic_captive          f2_domestic_captive            0.989935\n",
      "f2_domestic_captive          y2_domestic_captive            0.989935\n",
      "fst_scot_captive             relatedness_scot_captive       0.987876\n",
      "relatedness_scot_captive     fst_scot_captive               0.987876\n",
      "fst_domestic_scot            relatedness_domestic_scot      0.983237\n",
      "relatedness_domestic_scot    fst_domestic_scot              0.983237\n",
      "                             f2_domestic_scot               0.979631\n",
      "f2_domestic_scot             relatedness_domestic_scot      0.979631\n",
      "f3_domestic_scot_captive     y3_domestic_scot_captive       0.979362\n",
      "y3_domestic_scot_captive     f3_domestic_scot_captive       0.979362\n",
      "relatedness_scot_captive     f2_scot_captive                0.976372\n",
      "f2_scot_captive              relatedness_scot_captive       0.976372\n",
      "                             fst_scot_captive               0.966646\n",
      "fst_scot_captive             f2_scot_captive                0.966646\n",
      "f2_domestic_scot             y2_domestic_scot               0.965425\n",
      "y2_domestic_scot             f2_domestic_scot               0.965425\n",
      "y3_domestic_scot_captive     divergence_domestic_scot       0.964911\n",
      "divergence_domestic_scot     y3_domestic_scot_captive       0.964911\n",
      "f3_domestic_scot_captive     f2_domestic_scot               0.964078\n",
      "f2_domestic_scot             f3_domestic_scot_captive       0.964078\n",
      "divergence_domestic_captive  y2_domestic_captive            0.962209\n",
      "y2_domestic_captive          divergence_domestic_captive    0.962209\n",
      "f2_domestic_scot             fst_domestic_scot              0.961898\n",
      "fst_domestic_scot            f2_domestic_scot               0.961898\n",
      "y2_domestic_scot             y3_domestic_scot_captive       0.961590\n",
      "y3_domestic_scot_captive     y2_domestic_scot               0.961590\n",
      "y2_domestic_scot             divergence_domestic_scot       0.953341\n",
      "divergence_domestic_scot     y2_domestic_scot               0.953341\n",
      "fst_domestic_captive         f2_domestic_captive            0.950887\n",
      "f2_domestic_captive          fst_domestic_captive           0.950887\n",
      "                             divergence_domestic_captive    0.947932\n",
      "divergence_domestic_captive  f2_domestic_captive            0.947932\n",
      "y3_domestic_scot_captive     f2_domestic_scot               0.946849\n",
      "f2_domestic_scot             y3_domestic_scot_captive       0.946849\n",
      "fst_domestic_scot            f3_domestic_scot_captive       0.941234\n",
      "f3_domestic_scot_captive     fst_domestic_scot              0.941234\n",
      "relatedness_domestic_scot    f3_domestic_scot_captive       0.937944\n",
      "f3_domestic_scot_captive     relatedness_domestic_scot      0.937944\n",
      "y2_domestic_scot             relatedness_domestic_scot      0.932102\n",
      "relatedness_domestic_scot    y2_domestic_scot               0.932102\n",
      "f3_domestic_scot_captive     y2_domestic_scot               0.925454\n",
      "y2_domestic_scot             f3_domestic_scot_captive       0.925454\n",
      "f3_domestic_scot_captive     divergence_domestic_scot       0.923140\n",
      "divergence_domestic_scot     f3_domestic_scot_captive       0.923140\n",
      "y2_domestic_captive          fst_domestic_captive           0.920978\n",
      "fst_domestic_captive         y2_domestic_captive            0.920978\n",
      "divergence_domestic_scot     f2_domestic_scot               0.910911\n",
      "f2_domestic_scot             divergence_domestic_scot       0.910911\n",
      "relatedness_domestic_scot    y3_domestic_scot_captive       0.910450\n",
      "y3_domestic_scot_captive     relatedness_domestic_scot      0.910450\n",
      "                             fst_domestic_scot              0.894891\n",
      "fst_domestic_scot            y3_domestic_scot_captive       0.894891\n",
      "y2_domestic_scot             fst_domestic_scot              0.890288\n",
      "fst_domestic_scot            y2_domestic_scot               0.890288\n",
      "pc2_median_captive           pc2_dist_scot_captive          0.888969\n",
      "pc2_dist_scot_captive        pc2_median_captive             0.888969\n",
      "segregating_sites_captive    segregating_sites_scot         0.888820\n",
      "segregating_sites_scot       segregating_sites_captive      0.888820\n",
      "divergence_scot_captive      y2_scot_captive                0.886050\n",
      "y2_scot_captive              divergence_scot_captive        0.886050\n",
      "pc2_dist_domestic_scot       pc2_median_domestic            0.873728\n",
      "pc2_median_domestic          pc2_dist_domestic_scot         0.873728\n",
      "tajimas_d_scot               diversity_scot                 0.871291\n",
      "diversity_scot               tajimas_d_scot                 0.871291\n",
      "pc2_dist_domestic_captive    pc2_median_domestic            0.870397\n",
      "pc2_median_domestic          pc2_dist_domestic_captive      0.870397\n",
      "f2_domestic_captive          f3_domestic_scot_captive       0.864775\n",
      "f3_domestic_scot_captive     f2_domestic_captive            0.864775\n",
      "y2_domestic_captive          y3_domestic_scot_captive       0.860423\n",
      "y3_domestic_scot_captive     y2_domestic_captive            0.860423\n",
      "relatedness_domestic_scot    divergence_domestic_scot       0.859722\n",
      "divergence_domestic_scot     relatedness_domestic_scot      0.859722\n",
      "y2_domestic_captive          f3_domestic_scot_captive       0.856426\n",
      "f3_domestic_scot_captive     y2_domestic_captive            0.856426\n",
      "divergence_domestic_scot     fst_domestic_scot              0.850279\n",
      "fst_domestic_scot            divergence_domestic_scot       0.850279\n",
      "divergence_domestic_captive  fst_domestic_captive           0.844322\n",
      "fst_domestic_captive         divergence_domestic_captive    0.844322\n",
      "diversity_captive            tajimas_d_captive              0.843190\n",
      "tajimas_d_captive            diversity_captive              0.843190\n",
      "f2_domestic_captive          y3_domestic_scot_captive       0.839984\n",
      "y3_domestic_scot_captive     f2_domestic_captive            0.839984\n",
      "segregating_sites_domestic   tajimas_d_domestic             0.828909\n",
      "tajimas_d_domestic           segregating_sites_domestic     0.828909\n",
      "fst_domestic_captive         f3_domestic_scot_captive       0.828390\n",
      "f3_domestic_scot_captive     fst_domestic_captive           0.828390\n",
      "y2_scot_captive              divergence_domestic_captive    0.827139\n",
      "divergence_domestic_captive  y2_scot_captive                0.827139\n",
      "pc1_median_captive           pc1_median_domestic            0.825339\n",
      "pc1_median_domestic          pc1_median_captive             0.825339\n",
      "divergence_domestic_scot     diversity_scot                 0.822113\n",
      "diversity_scot               divergence_domestic_scot       0.822113\n",
      "y2_scot_captive              f2_scot_captive                0.815653\n",
      "f2_scot_captive              y2_scot_captive                0.815653\n",
      "divergence_domestic_captive  y3_domestic_scot_captive       0.807202\n",
      "y3_domestic_scot_captive     divergence_domestic_captive    0.807202\n",
      "pc2_dist_domestic_captive    pc2_median_captive             0.803837\n",
      "pc2_median_captive           pc2_dist_domestic_captive      0.803837\n",
      "f3_domestic_scot_captive     divergence_domestic_captive    0.796793\n",
      "divergence_domestic_captive  f3_domestic_scot_captive       0.796793\n",
      "pc2_dist_domestic_scot       pc2_dist_domestic_captive      0.789057\n",
      "pc2_dist_domestic_captive    pc2_dist_domestic_scot         0.789057\n",
      "fst_domestic_captive         y3_domestic_scot_captive       0.775847\n",
      "y3_domestic_scot_captive     fst_domestic_captive           0.775847\n",
      "divergence_domestic_scot     y2_domestic_captive            0.774138\n",
      "y2_domestic_captive          divergence_domestic_scot       0.774138\n",
      "divergence_domestic_captive  divergence_domestic_scot       0.771092\n",
      "divergence_domestic_scot     divergence_domestic_captive    0.771092\n",
      "diversity_scot               divergence_domestic_captive    0.771092\n",
      "divergence_domestic_captive  diversity_scot                 0.771092\n",
      "pc1_dist_scot_captive        pc1_dist_domestic_captive      0.762425\n",
      "pc1_dist_domestic_captive    pc1_dist_scot_captive          0.762425\n",
      "y2_scot_captive              y2_domestic_captive            0.757829\n",
      "y2_domestic_captive          y2_scot_captive                0.757829\n",
      "pc2_iqr_domestic             pc1_iqr_domestic               0.757645\n",
      "pc1_iqr_domestic             pc2_iqr_domestic               0.757645\n",
      "fst_domestic_scot            fst_domestic_captive           0.754944\n",
      "fst_domestic_captive         fst_domestic_scot              0.754944\n",
      "relatedness_scot_captive     y2_scot_captive                0.747977\n",
      "y2_scot_captive              relatedness_scot_captive       0.747977\n",
      "divergence_domestic_scot     tajimas_d_scot                 0.747320\n",
      "tajimas_d_scot               divergence_domestic_scot       0.747320\n",
      "y2_scot_captive              f2_domestic_captive            0.742792\n",
      "f2_domestic_captive          y2_scot_captive                0.742792\n",
      "divergence_domestic_scot     f2_domestic_captive            0.739627\n",
      "f2_domestic_captive          divergence_domestic_scot       0.739627\n",
      "                             f2_domestic_scot               0.724883\n",
      "f2_domestic_scot             f2_domestic_captive            0.724883\n",
      "pc1_median_captive           pc1_median_scot                0.724243\n",
      "pc1_median_scot              pc1_median_captive             0.724243\n",
      "fst_scot_captive             y2_scot_captive                0.719765\n",
      "y2_scot_captive              fst_scot_captive               0.719765\n",
      "f2_domestic_scot             y2_domestic_captive            0.717832\n",
      "y2_domestic_captive          f2_domestic_scot               0.717832\n",
      "pc1_dist_domestic_scot       pc1_dist_domestic_captive      0.714764\n",
      "pc1_dist_domestic_captive    pc1_dist_domestic_scot         0.714764\n",
      "y3_domestic_scot_captive     diversity_scot                 0.714626\n",
      "diversity_scot               y3_domestic_scot_captive       0.714626\n",
      "fst_domestic_scot            f2_domestic_captive            0.714039\n",
      "f2_domestic_captive          fst_domestic_scot              0.714039\n",
      "y2_domestic_scot             y2_domestic_captive            0.713838\n",
      "y2_domestic_captive          y2_domestic_scot               0.713838\n",
      "segregating_sites_captive    diversity_captive              0.713553\n",
      "diversity_captive            segregating_sites_captive      0.713553\n",
      "pc2_dist_domestic_captive    pc2_iqr_scot                   0.712908\n",
      "pc2_iqr_scot                 pc2_dist_domestic_captive      0.712908\n",
      "relatedness_domestic_scot    fst_domestic_captive           0.712117\n",
      "fst_domestic_captive         relatedness_domestic_scot      0.712117\n",
      "pc2_dist_scot_captive        pc2_median_scot                0.710554\n",
      "pc2_median_scot              pc2_dist_scot_captive          0.710554\n",
      "pc1_iqr_scot                 pc1_dist_domestic_scot         0.707735\n",
      "pc1_dist_domestic_scot       pc1_iqr_scot                   0.707735\n",
      "pc2_dist_domestic_scot       pc2_iqr_scot                   0.704518\n",
      "pc2_iqr_scot                 pc2_dist_domestic_scot         0.704518\n",
      "fst_domestic_scot            pc2_dist_domestic_scot         0.697644\n",
      "pc2_dist_domestic_scot       fst_domestic_scot              0.697644\n",
      "f2_domestic_scot             fst_domestic_captive           0.696748\n",
      "fst_domestic_captive         f2_domestic_scot               0.696748\n",
      "pc2_median_domestic          pc2_iqr_scot                   0.695396\n",
      "pc2_iqr_scot                 pc2_median_domestic            0.695396\n",
      "f2_domestic_captive          relatedness_domestic_scot      0.691721\n",
      "relatedness_domestic_scot    f2_domestic_captive            0.691721\n",
      "f3_domestic_scot_captive     tajimas_d_scot                 0.689821\n",
      "tajimas_d_scot               f3_domestic_scot_captive       0.689821\n",
      "y3_domestic_scot_captive     tajimas_d_scot                 0.686948\n",
      "tajimas_d_scot               y3_domestic_scot_captive       0.686948\n",
      "y2_domestic_captive          fst_domestic_scot              0.686485\n",
      "fst_domestic_scot            y2_domestic_captive            0.686485\n",
      "divergence_scot_captive      f2_scot_captive                0.683961\n",
      "f2_scot_captive              divergence_scot_captive        0.683961\n",
      "y2_domestic_scot             f2_domestic_captive            0.683733\n",
      "f2_domestic_captive          y2_domestic_scot               0.683733\n",
      "relatedness_domestic_scot    pc2_dist_domestic_scot         0.683053\n",
      "pc2_dist_domestic_scot       relatedness_domestic_scot      0.683053\n",
      "pc2_dist_domestic_captive    pc2_dist_scot_captive          0.682623\n",
      "pc2_dist_scot_captive        pc2_dist_domestic_captive      0.682623\n",
      "diversity_scot               y2_domestic_captive            0.682027\n",
      "y2_domestic_captive          diversity_scot                 0.682027\n",
      "dtype: float64\n"
     ]
    }
   ],
   "source": [
    "print(so[40:220])"
   ]
  },
  {
   "cell_type": "code",
   "execution_count": null,
   "id": "75fd8353-6cb8-4836-a016-747b2cda5833",
   "metadata": {},
   "outputs": [],
   "source": []
  }
 ],
 "metadata": {
  "kernelspec": {
   "display_name": "wildcats",
   "language": "python",
   "name": "python3"
  },
  "language_info": {
   "codemirror_mode": {
    "name": "ipython",
    "version": 3
   },
   "file_extension": ".py",
   "mimetype": "text/x-python",
   "name": "python",
   "nbconvert_exporter": "python",
   "pygments_lexer": "ipython3",
   "version": "3.12.2"
  }
 },
 "nbformat": 4,
 "nbformat_minor": 5
}
