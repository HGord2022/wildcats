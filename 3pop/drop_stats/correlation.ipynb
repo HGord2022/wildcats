{
 "cells": [
  {
   "cell_type": "code",
   "execution_count": 1,
   "id": "c9c239e0-f52f-43af-8e63-f5178a2fce2b",
   "metadata": {
    "tags": []
   },
   "outputs": [],
   "source": [
    "import numpy as np\n",
    "import pandas as pd"
   ]
  },
  {
   "cell_type": "code",
   "execution_count": 2,
   "id": "1b8f263a-b21c-4280-a52f-b09ed1ea22fb",
   "metadata": {},
   "outputs": [],
   "source": [
    "pd.set_option('display.max_rows', 500)"
   ]
  },
  {
   "cell_type": "code",
   "execution_count": 15,
   "id": "60434d89-28e9-43a4-9b4b-83405d591553",
   "metadata": {
    "tags": []
   },
   "outputs": [],
   "source": [
    "#simulated data\n",
    "filename = \"../simulation/output/round_1/summary_stats_r1.csv\"\n",
    "x = pd.read_csv(filename)"
   ]
  },
  {
   "cell_type": "code",
   "execution_count": 16,
   "id": "9992c4e6-0e4e-4113-87a9-5b6fada3b6c2",
   "metadata": {
    "tags": []
   },
   "outputs": [],
   "source": [
    "to_drop = [\n",
    "    \"diversity_domestic\",\n",
    "    \"relatedness_domestic_captive\",\n",
    "    \"y2_domestic_captive\",\n",
    "    \"segregating_sites_captive\"\n",
    "          ]\n",
    "\n",
    "### all correlations < 0.99"
   ]
  },
  {
   "cell_type": "code",
   "execution_count": 17,
   "id": "61ffb122-0c27-439f-a487-a2abc944ecf6",
   "metadata": {},
   "outputs": [
    {
     "data": {
      "text/plain": [
       "(9289, 40)"
      ]
     },
     "execution_count": 17,
     "metadata": {},
     "output_type": "execute_result"
    }
   ],
   "source": [
    "x = x.drop(columns=to_drop)\n",
    "np.shape(x)"
   ]
  },
  {
   "cell_type": "code",
   "execution_count": 18,
   "id": "6e9a76fe-5329-44a4-b6dc-722c4abc1fcc",
   "metadata": {},
   "outputs": [
    {
     "data": {
      "text/plain": [
       "(1600,)"
      ]
     },
     "execution_count": 18,
     "metadata": {},
     "output_type": "execute_result"
    }
   ],
   "source": [
    "df = x.corr().abs()\n",
    "s = df.unstack()\n",
    "so = s.sort_values(kind=\"quicksort\", ascending=False)\n",
    "np.shape(so)"
   ]
  },
  {
   "cell_type": "code",
   "execution_count": 20,
   "id": "f4fdd68d-6495-4273-8864-74bca7421dab",
   "metadata": {},
   "outputs": [
    {
     "name": "stdout",
     "output_type": "stream",
     "text": [
      "pc2_median_domestic          pc2_median_domestic            1.000000\n",
      "pc1_median_captive           pc1_median_captive             1.000000\n",
      "pc1_median_scot              pc1_median_scot                1.000000\n",
      "segregating_sites_domestic   segregating_sites_domestic     1.000000\n",
      "pc2_dist_scot_captive        pc2_dist_scot_captive          1.000000\n",
      "fst_scot_captive             relatedness_scot_captive       0.987638\n",
      "relatedness_scot_captive     fst_scot_captive               0.987638\n",
      "relatedness_domestic_scot    fst_domestic_scot              0.983232\n",
      "fst_domestic_scot            relatedness_domestic_scot      0.983232\n",
      "y3_domestic_scot_captive     f3_domestic_scot_captive       0.979991\n",
      "f3_domestic_scot_captive     y3_domestic_scot_captive       0.979991\n",
      "y2_domestic_scot             y3_domestic_scot_captive       0.979236\n",
      "y3_domestic_scot_captive     y2_domestic_scot               0.979236\n",
      "segregating_sites_scot       divergence_scot_captive        0.974206\n",
      "divergence_scot_captive      segregating_sites_scot         0.974206\n",
      "y3_domestic_scot_captive     divergence_domestic_scot       0.973983\n",
      "divergence_domestic_scot     y3_domestic_scot_captive       0.973983\n",
      "y2_scot_captive              divergence_scot_captive        0.973872\n",
      "divergence_scot_captive      y2_scot_captive                0.973872\n",
      "y2_scot_captive              divergence_domestic_captive    0.973678\n",
      "divergence_domestic_captive  y2_scot_captive                0.973678\n",
      "f2_domestic_scot             f3_domestic_scot_captive       0.966305\n",
      "f3_domestic_scot_captive     f2_domestic_scot               0.966305\n",
      "divergence_domestic_captive  diversity_scot                 0.963054\n",
      "diversity_scot               divergence_domestic_captive    0.963054\n",
      "                             divergence_domestic_scot       0.960887\n",
      "divergence_domestic_scot     diversity_scot                 0.960887\n",
      "                             y2_domestic_scot               0.959446\n",
      "y2_domestic_scot             divergence_domestic_scot       0.959446\n",
      "divergence_domestic_captive  divergence_scot_captive        0.957019\n",
      "divergence_scot_captive      divergence_domestic_captive    0.957019\n",
      "diversity_scot               segregating_sites_scot         0.955639\n",
      "segregating_sites_scot       diversity_scot                 0.955639\n",
      "f3_domestic_scot_captive     y2_domestic_scot               0.955355\n",
      "y2_domestic_scot             f3_domestic_scot_captive       0.955355\n",
      "                             f2_domestic_scot               0.954755\n",
      "f2_domestic_scot             y2_domestic_scot               0.954755\n",
      "f2_domestic_captive          divergence_domestic_captive    0.949244\n",
      "divergence_domestic_captive  f2_domestic_captive            0.949244\n",
      "diversity_scot               divergence_scot_captive        0.946129\n",
      "divergence_scot_captive      diversity_scot                 0.946129\n",
      "divergence_domestic_scot     divergence_domestic_captive    0.945018\n",
      "divergence_domestic_captive  divergence_domestic_scot       0.945018\n",
      "segregating_sites_scot       divergence_domestic_captive    0.945007\n",
      "divergence_domestic_captive  segregating_sites_scot         0.945007\n",
      "segregating_sites_scot       diversity_captive              0.943776\n",
      "diversity_captive            segregating_sites_scot         0.943776\n",
      "divergence_scot_captive      diversity_captive              0.936874\n",
      "diversity_captive            divergence_scot_captive        0.936874\n",
      "f2_domestic_captive          y3_domestic_scot_captive       0.936764\n",
      "y3_domestic_scot_captive     f2_domestic_captive            0.936764\n",
      "diversity_scot               y2_scot_captive                0.932234\n",
      "y2_scot_captive              diversity_scot                 0.932234\n",
      "y3_domestic_scot_captive     f2_domestic_scot               0.930734\n",
      "f2_domestic_scot             y3_domestic_scot_captive       0.930734\n",
      "y2_scot_captive              segregating_sites_scot         0.928575\n",
      "segregating_sites_scot       y2_scot_captive                0.928575\n",
      "f2_domestic_captive          f3_domestic_scot_captive       0.925455\n",
      "f3_domestic_scot_captive     f2_domestic_captive            0.925455\n",
      "divergence_domestic_scot     f3_domestic_scot_captive       0.924747\n",
      "f3_domestic_scot_captive     divergence_domestic_scot       0.924747\n",
      "divergence_domestic_captive  y3_domestic_scot_captive       0.912568\n",
      "y3_domestic_scot_captive     divergence_domestic_captive    0.912568\n",
      "y2_scot_captive              f2_domestic_captive            0.911517\n",
      "f2_domestic_captive          y2_scot_captive                0.911517\n",
      "pc1_dist_domestic_captive    f2_domestic_captive            0.904020\n",
      "f2_domestic_captive          pc1_dist_domestic_captive      0.904020\n",
      "divergence_domestic_scot     f2_domestic_captive            0.901815\n",
      "f2_domestic_captive          divergence_domestic_scot       0.901815\n",
      "pc1_dist_domestic_scot       f2_domestic_scot               0.898642\n",
      "f2_domestic_scot             pc1_dist_domestic_scot         0.898642\n",
      "pc2_dist_domestic_captive    pc2_dist_scot_captive          0.898273\n",
      "pc2_dist_scot_captive        pc2_dist_domestic_captive      0.898273\n",
      "segregating_sites_scot       divergence_domestic_scot       0.897632\n",
      "divergence_domestic_scot     segregating_sites_scot         0.897632\n",
      "pc1_dist_domestic_captive    divergence_domestic_captive    0.893094\n",
      "divergence_domestic_captive  pc1_dist_domestic_captive      0.893094\n",
      "y3_domestic_scot_captive     diversity_scot                 0.891920\n",
      "diversity_scot               y3_domestic_scot_captive       0.891920\n",
      "f2_domestic_captive          diversity_scot                 0.873852\n",
      "diversity_scot               f2_domestic_captive            0.873852\n",
      "pc1_median_domestic          pc1_median_captive             0.871454\n",
      "pc1_median_captive           pc1_median_domestic            0.871454\n",
      "diversity_captive            diversity_scot                 0.869737\n",
      "diversity_scot               diversity_captive              0.869737\n",
      "f2_domestic_scot             divergence_domestic_scot       0.868817\n",
      "divergence_domestic_scot     f2_domestic_scot               0.868817\n",
      "f3_domestic_scot_captive     pc1_dist_domestic_scot         0.864714\n",
      "pc1_dist_domestic_scot       f3_domestic_scot_captive       0.864714\n",
      "y2_scot_captive              divergence_domestic_scot       0.863961\n",
      "divergence_domestic_scot     y2_scot_captive                0.863961\n",
      "f2_scot_captive              y2_scot_captive                0.863754\n",
      "y2_scot_captive              f2_scot_captive                0.863754\n",
      "y3_domestic_scot_captive     pc1_dist_domestic_captive      0.863467\n",
      "pc1_dist_domestic_captive    y3_domestic_scot_captive       0.863467\n",
      "segregating_sites_domestic   segregating_sites_scot         0.862854\n",
      "segregating_sites_scot       segregating_sites_domestic     0.862854\n",
      "divergence_scot_captive      divergence_domestic_scot       0.860197\n",
      "divergence_domestic_scot     divergence_scot_captive        0.860197\n",
      "f2_domestic_captive          y2_domestic_scot               0.857803\n",
      "y2_domestic_scot             f2_domestic_captive            0.857803\n",
      "pc1_dist_scot_captive        f2_scot_captive                0.856151\n",
      "f2_scot_captive              pc1_dist_scot_captive          0.856151\n",
      "pc1_dist_domestic_scot       y2_domestic_scot               0.854363\n",
      "y2_domestic_scot             pc1_dist_domestic_scot         0.854363\n",
      "f3_domestic_scot_captive     divergence_domestic_captive    0.852474\n",
      "divergence_domestic_captive  f3_domestic_scot_captive       0.852474\n",
      "                             y2_domestic_scot               0.850713\n",
      "y2_domestic_scot             divergence_domestic_captive    0.850713\n",
      "pc1_dist_domestic_captive    divergence_domestic_scot       0.849711\n",
      "divergence_domestic_scot     pc1_dist_domestic_captive      0.849711\n",
      "pc1_dist_domestic_captive    y2_scot_captive                0.846812\n",
      "y2_scot_captive              pc1_dist_domestic_captive      0.846812\n",
      "y2_domestic_scot             diversity_scot                 0.843851\n",
      "diversity_scot               y2_domestic_scot               0.843851\n",
      "f3_domestic_scot_captive     pc1_dist_domestic_captive      0.842366\n",
      "pc1_dist_domestic_captive    f3_domestic_scot_captive       0.842366\n",
      "diversity_captive            y2_scot_captive                0.832987\n",
      "y2_scot_captive              diversity_captive              0.832987\n",
      "diversity_captive            divergence_domestic_captive    0.832455\n",
      "divergence_domestic_captive  diversity_captive              0.832455\n",
      "divergence_scot_captive      f2_domestic_captive            0.831841\n",
      "f2_domestic_captive          divergence_scot_captive        0.831841\n",
      "y3_domestic_scot_captive     pc1_dist_domestic_scot         0.830683\n",
      "pc1_dist_domestic_scot       y3_domestic_scot_captive       0.830683\n",
      "pc1_iqr_scot                 diversity_scot                 0.827488\n",
      "diversity_scot               pc1_iqr_scot                   0.827488\n",
      "pc1_iqr_scot                 divergence_domestic_scot       0.823387\n",
      "divergence_domestic_scot     pc1_iqr_scot                   0.823387\n",
      "pc1_iqr_scot                 pc1_dist_domestic_captive      0.823163\n",
      "pc1_dist_domestic_captive    pc1_iqr_scot                   0.823163\n",
      "diversity_scot               pc1_dist_domestic_captive      0.821937\n",
      "pc1_dist_domestic_captive    diversity_scot                 0.821937\n",
      "f3_domestic_scot_captive     diversity_scot                 0.821663\n",
      "diversity_scot               f3_domestic_scot_captive       0.821663\n",
      "divergence_scot_captive      segregating_sites_domestic     0.815711\n",
      "segregating_sites_domestic   divergence_scot_captive        0.815711\n",
      "y2_scot_captive              y3_domestic_scot_captive       0.813394\n",
      "y3_domestic_scot_captive     y2_scot_captive                0.813394\n",
      "f2_domestic_captive          f2_domestic_scot               0.810949\n",
      "f2_domestic_scot             f2_domestic_captive            0.810949\n",
      "pc1_dist_domestic_captive    y2_domestic_scot               0.809694\n",
      "y2_domestic_scot             pc1_dist_domestic_captive      0.809694\n",
      "y3_domestic_scot_captive     segregating_sites_scot         0.804189\n",
      "segregating_sites_scot       y3_domestic_scot_captive       0.804189\n",
      "divergence_scot_captive      pc1_dist_domestic_captive      0.803961\n",
      "pc1_dist_domestic_captive    divergence_scot_captive        0.803961\n",
      "f2_domestic_captive          segregating_sites_scot         0.803913\n",
      "segregating_sites_scot       f2_domestic_captive            0.803913\n",
      "diversity_captive            segregating_sites_domestic     0.802026\n",
      "segregating_sites_domestic   diversity_captive              0.802026\n",
      "diversity_scot               segregating_sites_domestic     0.800412\n",
      "segregating_sites_domestic   diversity_scot                 0.800412\n",
      "y3_domestic_scot_captive     pc1_iqr_scot                   0.796331\n",
      "pc1_iqr_scot                 y3_domestic_scot_captive       0.796331\n",
      "                             divergence_domestic_captive    0.790978\n",
      "divergence_domestic_captive  pc1_iqr_scot                   0.790978\n",
      "f2_scot_captive              divergence_scot_captive        0.787916\n",
      "divergence_scot_captive      f2_scot_captive                0.787916\n",
      "pc1_dist_domestic_captive    segregating_sites_scot         0.783624\n",
      "segregating_sites_scot       pc1_dist_domestic_captive      0.783624\n",
      "divergence_domestic_scot     pc1_dist_domestic_scot         0.781284\n",
      "pc1_dist_domestic_scot       divergence_domestic_scot       0.781284\n",
      "pc1_iqr_scot                 f3_domestic_scot_captive       0.777307\n",
      "f3_domestic_scot_captive     pc1_iqr_scot                   0.777307\n",
      "pc1_dist_scot_captive        y2_scot_captive                0.776921\n",
      "y2_scot_captive              pc1_dist_scot_captive          0.776921\n",
      "divergence_domestic_captive  segregating_sites_domestic     0.774115\n",
      "segregating_sites_domestic   divergence_domestic_captive    0.774115\n",
      "y2_scot_captive              segregating_sites_domestic     0.769843\n",
      "segregating_sites_domestic   y2_scot_captive                0.769843\n",
      "pc1_iqr_scot                 f2_domestic_captive            0.769764\n",
      "f2_domestic_captive          pc1_iqr_scot                   0.769764\n",
      "y3_domestic_scot_captive     divergence_scot_captive        0.769397\n",
      "divergence_scot_captive      y3_domestic_scot_captive       0.769397\n",
      "segregating_sites_scot       y2_domestic_scot               0.766448\n",
      "y2_domestic_scot             segregating_sites_scot         0.766448\n",
      "diversity_captive            divergence_domestic_scot       0.765495\n",
      "divergence_domestic_scot     diversity_captive              0.765495\n",
      "f2_scot_captive              divergence_domestic_captive    0.763929\n",
      "divergence_domestic_captive  f2_scot_captive                0.763929\n",
      "segregating_sites_domestic   divergence_domestic_scot       0.761043\n",
      "divergence_domestic_scot     segregating_sites_domestic     0.761043\n",
      "pc1_dist_domestic_captive    pc1_dist_domestic_scot         0.757385\n",
      "pc1_dist_domestic_scot       pc1_dist_domestic_captive      0.757385\n",
      "dtype: float64\n"
     ]
    }
   ],
   "source": [
    "print(so[35:220])"
   ]
  },
  {
   "cell_type": "code",
   "execution_count": null,
   "id": "75fd8353-6cb8-4836-a016-747b2cda5833",
   "metadata": {},
   "outputs": [],
   "source": []
  }
 ],
 "metadata": {
  "kernelspec": {
   "display_name": "wildcats",
   "language": "python",
   "name": "python3"
  },
  "language_info": {
   "codemirror_mode": {
    "name": "ipython",
    "version": 3
   },
   "file_extension": ".py",
   "mimetype": "text/x-python",
   "name": "python",
   "nbconvert_exporter": "python",
   "pygments_lexer": "ipython3",
   "version": "3.11.5"
  }
 },
 "nbformat": 4,
 "nbformat_minor": 5
}
