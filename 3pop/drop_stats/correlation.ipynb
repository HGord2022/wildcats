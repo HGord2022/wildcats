{
 "cells": [
  {
   "cell_type": "code",
   "execution_count": 1,
   "id": "c9c239e0-f52f-43af-8e63-f5178a2fce2b",
   "metadata": {
    "tags": []
   },
   "outputs": [],
   "source": [
    "import numpy as np\n",
    "import pandas as pd"
   ]
  },
  {
   "cell_type": "code",
   "execution_count": 2,
   "id": "1b8f263a-b21c-4280-a52f-b09ed1ea22fb",
   "metadata": {},
   "outputs": [],
   "source": [
    "pd.set_option('display.max_rows', 500)"
   ]
  },
  {
   "cell_type": "code",
   "execution_count": 3,
   "id": "60434d89-28e9-43a4-9b4b-83405d591553",
   "metadata": {
    "tags": []
   },
   "outputs": [],
   "source": [
    "#simulated data\n",
    "filename = \"../simulation/output/round_1_point_mu/summary_stats_r1.csv\"\n",
    "x = pd.read_csv(filename)"
   ]
  },
  {
   "cell_type": "code",
   "execution_count": null,
   "id": "9992c4e6-0e4e-4113-87a9-5b6fada3b6c2",
   "metadata": {
    "tags": []
   },
   "outputs": [],
   "source": [
    "# for point mu and recomb dummy inference:\n",
    "\n",
    "to_drop = [\n",
    "    \"diversity_domestic\",\n",
    "    \"relatedness_domestic_captive\",\n",
    "    \"y2_domestic_captive\",\n",
    "    \"relatedness_domestic_captive\"\n",
    "          ]\n",
    "\n",
    "### all correlations < 0.99"
   ]
  },
  {
   "cell_type": "code",
   "execution_count": 17,
   "id": "61ffb122-0c27-439f-a487-a2abc944ecf6",
   "metadata": {},
   "outputs": [
    {
     "data": {
      "text/plain": [
       "(9289, 40)"
      ]
     },
     "execution_count": 17,
     "metadata": {},
     "output_type": "execute_result"
    }
   ],
   "source": [
    "x = x.drop(columns=to_drop)\n",
    "np.shape(x)"
   ]
  },
  {
   "cell_type": "code",
   "execution_count": 4,
   "id": "6e9a76fe-5329-44a4-b6dc-722c4abc1fcc",
   "metadata": {},
   "outputs": [
    {
     "data": {
      "text/plain": [
       "(1936,)"
      ]
     },
     "execution_count": 4,
     "metadata": {},
     "output_type": "execute_result"
    }
   ],
   "source": [
    "df = x.corr().abs()\n",
    "s = df.unstack()\n",
    "so = s.sort_values(kind=\"quicksort\", ascending=False)\n",
    "np.shape(so)"
   ]
  },
  {
   "cell_type": "code",
   "execution_count": 5,
   "id": "f4fdd68d-6495-4273-8864-74bca7421dab",
   "metadata": {},
   "outputs": [
    {
     "name": "stdout",
     "output_type": "stream",
     "text": [
      "pc2_median_captive            pc2_median_captive              1.000000\n",
      "pc2_median_scot               pc2_median_scot                 1.000000\n",
      "pc2_median_domestic           pc2_median_domestic             1.000000\n",
      "pc1_median_captive            pc1_median_captive              1.000000\n",
      "pc1_median_scot               pc1_median_scot                 1.000000\n",
      "pc1_median_domestic           pc1_median_domestic             1.000000\n",
      "y3_domestic_scot_captive      y3_domestic_scot_captive        1.000000\n",
      "diversity_captive             diversity_captive               1.000000\n",
      "pc2_dist_scot_captive         pc2_dist_scot_captive           1.000000\n",
      "segregating_sites_domestic    diversity_domestic              0.997878\n",
      "diversity_domestic            segregating_sites_domestic      0.997878\n",
      "fst_domestic_captive          relatedness_domestic_captive    0.992101\n",
      "relatedness_domestic_captive  fst_domestic_captive            0.992101\n",
      "y2_domestic_captive           f2_domestic_captive             0.989701\n",
      "f2_domestic_captive           y2_domestic_captive             0.989701\n",
      "relatedness_scot_captive      fst_scot_captive                0.987863\n",
      "fst_scot_captive              relatedness_scot_captive        0.987863\n",
      "fst_domestic_scot             relatedness_domestic_scot       0.983192\n",
      "relatedness_domestic_scot     fst_domestic_scot               0.983192\n",
      "y3_domestic_scot_captive      f3_domestic_scot_captive        0.978356\n",
      "f3_domestic_scot_captive      y3_domestic_scot_captive        0.978356\n",
      "f2_domestic_scot              relatedness_domestic_scot       0.978125\n",
      "relatedness_domestic_scot     f2_domestic_scot                0.978125\n",
      "f2_scot_captive               relatedness_scot_captive        0.975785\n",
      "relatedness_scot_captive      f2_scot_captive                 0.975785\n",
      "f2_scot_captive               fst_scot_captive                0.965401\n",
      "fst_scot_captive              f2_scot_captive                 0.965401\n",
      "y3_domestic_scot_captive      divergence_domestic_scot        0.964351\n",
      "divergence_domestic_scot      y3_domestic_scot_captive        0.964351\n",
      "f2_domestic_scot              y2_domestic_scot                0.963349\n",
      "y2_domestic_scot              f2_domestic_scot                0.963349\n",
      "y2_domestic_captive           divergence_domestic_captive     0.962279\n",
      "divergence_domestic_captive   y2_domestic_captive             0.962279\n",
      "f3_domestic_scot_captive      f2_domestic_scot                0.962015\n",
      "f2_domestic_scot              f3_domestic_scot_captive        0.962015\n",
      "y3_domestic_scot_captive      y2_domestic_scot                0.960087\n",
      "y2_domestic_scot              y3_domestic_scot_captive        0.960087\n",
      "fst_domestic_scot             f2_domestic_scot                0.959980\n",
      "f2_domestic_scot              fst_domestic_scot               0.959980\n",
      "fst_domestic_scot             pc1_dist_domestic_scot          0.959310\n",
      "pc1_dist_domestic_scot        fst_domestic_scot               0.959310\n",
      "relatedness_domestic_captive  f2_domestic_captive             0.957660\n",
      "f2_domestic_captive           relatedness_domestic_captive    0.957660\n",
      "pc1_dist_domestic_scot        f2_domestic_scot                0.956898\n",
      "f2_domestic_scot              pc1_dist_domestic_scot          0.956898\n",
      "divergence_domestic_scot      y2_domestic_scot                0.952682\n",
      "y2_domestic_scot              divergence_domestic_scot        0.952682\n",
      "fst_domestic_captive          f2_domestic_captive             0.949627\n",
      "f2_domestic_captive           fst_domestic_captive            0.949627\n",
      "divergence_domestic_captive   f2_domestic_captive             0.947656\n",
      "f2_domestic_captive           divergence_domestic_captive     0.947656\n",
      "pc1_dist_domestic_scot        relatedness_domestic_scot       0.944826\n",
      "relatedness_domestic_scot     pc1_dist_domestic_scot          0.944826\n",
      "y3_domestic_scot_captive      f2_domestic_scot                0.943193\n",
      "f2_domestic_scot              y3_domestic_scot_captive        0.943193\n",
      "pc1_dist_domestic_scot        f3_domestic_scot_captive        0.941117\n",
      "f3_domestic_scot_captive      pc1_dist_domestic_scot          0.941117\n",
      "fst_domestic_scot             f3_domestic_scot_captive        0.937214\n",
      "f3_domestic_scot_captive      fst_domestic_scot               0.937214\n",
      "pc1_dist_domestic_captive     f2_domestic_captive             0.936045\n",
      "f2_domestic_captive           pc1_dist_domestic_captive       0.936045\n",
      "f3_domestic_scot_captive      relatedness_domestic_scot       0.934382\n",
      "relatedness_domestic_scot     f3_domestic_scot_captive        0.934382\n",
      "pc1_dist_domestic_captive     divergence_domestic_captive     0.931424\n",
      "divergence_domestic_captive   pc1_dist_domestic_captive       0.931424\n",
      "relatedness_domestic_captive  y2_domestic_captive             0.929968\n",
      "y2_domestic_captive           relatedness_domestic_captive    0.929968\n",
      "pc1_dist_domestic_captive     y2_domestic_captive             0.927947\n",
      "y2_domestic_captive           pc1_dist_domestic_captive       0.927947\n",
      "pc1_dist_domestic_scot        y2_domestic_scot                0.927241\n",
      "y2_domestic_scot              pc1_dist_domestic_scot          0.927241\n",
      "pc1_dist_domestic_scot        y3_domestic_scot_captive        0.927188\n",
      "y3_domestic_scot_captive      pc1_dist_domestic_scot          0.927188\n",
      "y2_domestic_scot              relatedness_domestic_scot       0.926819\n",
      "relatedness_domestic_scot     y2_domestic_scot                0.926819\n",
      "divergence_domestic_scot      pc1_dist_domestic_scot          0.926420\n",
      "pc1_dist_domestic_scot        divergence_domestic_scot        0.926420\n",
      "f3_domestic_scot_captive      y2_domestic_scot                0.922638\n",
      "y2_domestic_scot              f3_domestic_scot_captive        0.922638\n",
      "f3_domestic_scot_captive      divergence_domestic_scot        0.921566\n",
      "divergence_domestic_scot      f3_domestic_scot_captive        0.921566\n",
      "y2_domestic_captive           fst_domestic_captive            0.918983\n",
      "fst_domestic_captive          y2_domestic_captive             0.918983\n",
      "                              pc1_dist_domestic_captive       0.911367\n",
      "pc1_dist_domestic_captive     fst_domestic_captive            0.911367\n",
      "divergence_domestic_scot      f2_domestic_scot                0.908120\n",
      "f2_domestic_scot              divergence_domestic_scot        0.908120\n",
      "y3_domestic_scot_captive      relatedness_domestic_scot       0.904069\n",
      "relatedness_domestic_scot     y3_domestic_scot_captive        0.904069\n",
      "segregating_sites_captive     segregating_sites_scot          0.903741\n",
      "segregating_sites_scot        segregating_sites_captive       0.903741\n",
      "relatedness_domestic_captive  pc1_dist_domestic_captive       0.899757\n",
      "pc1_dist_domestic_captive     relatedness_domestic_captive    0.899757\n",
      "divergence_scot_captive       y2_scot_captive                 0.889858\n",
      "y2_scot_captive               divergence_scot_captive         0.889858\n",
      "fst_domestic_scot             y3_domestic_scot_captive        0.887584\n",
      "y3_domestic_scot_captive      fst_domestic_scot               0.887584\n",
      "f2_scot_captive               pc1_dist_scot_captive           0.886392\n",
      "pc1_dist_scot_captive         f2_scot_captive                 0.886392\n",
      "                              fst_scot_captive                0.885176\n",
      "fst_scot_captive              pc1_dist_scot_captive           0.885176\n",
      "pc1_median_captive            pc1_median_domestic             0.884319\n",
      "pc1_median_domestic           pc1_median_captive              0.884319\n",
      "fst_domestic_scot             y2_domestic_scot                0.884006\n",
      "y2_domestic_scot              fst_domestic_scot               0.884006\n",
      "pc1_dist_scot_captive         relatedness_scot_captive        0.875830\n",
      "relatedness_scot_captive      pc1_dist_scot_captive           0.875830\n",
      "tajimas_d_scot                diversity_scot                  0.871727\n",
      "diversity_scot                tajimas_d_scot                  0.871727\n",
      "f3_domestic_scot_captive      f2_domestic_captive             0.864175\n",
      "f2_domestic_captive           f3_domestic_scot_captive        0.864175\n",
      "y3_domestic_scot_captive      y2_domestic_captive             0.861393\n",
      "y2_domestic_captive           y3_domestic_scot_captive        0.861393\n",
      "pc2_dist_domestic_captive     pc2_dist_scot_captive           0.859122\n",
      "pc2_dist_scot_captive         pc2_dist_domestic_captive       0.859122\n",
      "f3_domestic_scot_captive      y2_domestic_captive             0.855376\n",
      "y2_domestic_captive           f3_domestic_scot_captive        0.855376\n",
      "relatedness_domestic_scot     divergence_domestic_scot        0.854189\n",
      "divergence_domestic_scot      relatedness_domestic_scot       0.854189\n",
      "tajimas_d_domestic            diversity_domestic              0.852775\n",
      "diversity_domestic            tajimas_d_domestic              0.852775\n",
      "divergence_domestic_captive   relatedness_domestic_captive    0.849355\n",
      "relatedness_domestic_captive  divergence_domestic_captive     0.849355\n",
      "fst_domestic_scot             divergence_domestic_scot        0.843991\n",
      "divergence_domestic_scot      fst_domestic_scot               0.843991\n",
      "fst_domestic_captive          divergence_domestic_captive     0.842899\n",
      "divergence_domestic_captive   fst_domestic_captive            0.842899\n",
      "diversity_captive             tajimas_d_captive               0.842093\n",
      "tajimas_d_captive             diversity_captive               0.842093\n",
      "divergence_domestic_captive   y2_scot_captive                 0.842078\n",
      "y2_scot_captive               divergence_domestic_captive     0.842078\n",
      "y3_domestic_scot_captive      f2_domestic_captive             0.840361\n",
      "f2_domestic_captive           y3_domestic_scot_captive        0.840361\n",
      "diversity_scot                divergence_domestic_scot        0.833396\n",
      "divergence_domestic_scot      diversity_scot                  0.833396\n",
      "relatedness_domestic_captive  f3_domestic_scot_captive        0.831096\n",
      "f3_domestic_scot_captive      relatedness_domestic_captive    0.831096\n",
      "segregating_sites_domestic    tajimas_d_domestic              0.831016\n",
      "tajimas_d_domestic            segregating_sites_domestic      0.831016\n",
      "f3_domestic_scot_captive      fst_domestic_captive            0.828169\n",
      "fst_domestic_captive          f3_domestic_scot_captive        0.828169\n",
      "f2_scot_captive               y2_scot_captive                 0.813066\n",
      "y2_scot_captive               f2_scot_captive                 0.813066\n",
      "y3_domestic_scot_captive      divergence_domestic_captive     0.809521\n",
      "divergence_domestic_captive   y3_domestic_scot_captive        0.809521\n",
      "                              f3_domestic_scot_captive        0.796780\n",
      "f3_domestic_scot_captive      divergence_domestic_captive     0.796780\n",
      "                              pc1_dist_domestic_captive       0.795741\n",
      "pc1_dist_domestic_captive     f3_domestic_scot_captive        0.795741\n",
      "relatedness_domestic_captive  y3_domestic_scot_captive        0.782533\n",
      "y3_domestic_scot_captive      relatedness_domestic_captive    0.782533\n",
      "divergence_domestic_captive   diversity_scot                  0.780908\n",
      "diversity_scot                divergence_domestic_captive     0.780908\n",
      "y3_domestic_scot_captive      pc1_dist_domestic_captive       0.775741\n",
      "pc1_dist_domestic_captive     y3_domestic_scot_captive        0.775741\n",
      "fst_domestic_captive          y3_domestic_scot_captive        0.775398\n",
      "y3_domestic_scot_captive      fst_domestic_captive            0.775398\n",
      "y2_domestic_captive           y2_scot_captive                 0.775236\n",
      "y2_scot_captive               y2_domestic_captive             0.775236\n",
      "divergence_domestic_scot      y2_domestic_captive             0.774517\n",
      "y2_domestic_captive           divergence_domestic_scot        0.774517\n",
      "divergence_domestic_scot      divergence_domestic_captive     0.773982\n",
      "divergence_domestic_captive   divergence_domestic_scot        0.773982\n",
      "pc1_iqr_scot                  diversity_scot                  0.765393\n",
      "diversity_scot                pc1_iqr_scot                    0.765393\n",
      "relatedness_domestic_scot     pc1_median_domestic             0.761856\n",
      "pc1_median_domestic           relatedness_domestic_scot       0.761856\n",
      "y2_scot_captive               f2_domestic_captive             0.759997\n",
      "f2_domestic_captive           y2_scot_captive                 0.759997\n",
      "pc1_median_domestic           f2_domestic_scot                0.758510\n",
      "f2_domestic_scot              pc1_median_domestic             0.758510\n",
      "divergence_domestic_scot      tajimas_d_scot                  0.753201\n",
      "tajimas_d_scot                divergence_domestic_scot        0.753201\n",
      "                              pc1_iqr_scot                    0.750654\n",
      "pc1_iqr_scot                  tajimas_d_scot                  0.750654\n",
      "fst_domestic_captive          fst_domestic_scot               0.749894\n",
      "fst_domestic_scot             fst_domestic_captive            0.749894\n",
      "pc1_median_domestic           y2_domestic_scot                0.744831\n",
      "y2_domestic_scot              pc1_median_domestic             0.744831\n",
      "relatedness_scot_captive      y2_scot_captive                 0.743871\n",
      "y2_scot_captive               relatedness_scot_captive        0.743871\n",
      "                              pc1_dist_domestic_captive       0.743773\n",
      "pc1_dist_domestic_captive     y2_scot_captive                 0.743773\n",
      "divergence_domestic_scot      f2_domestic_captive             0.739366\n",
      "f2_domestic_captive           divergence_domestic_scot        0.739366\n",
      "dtype: float64\n"
     ]
    }
   ],
   "source": [
    "print(so[35:220])"
   ]
  },
  {
   "cell_type": "code",
   "execution_count": null,
   "id": "75fd8353-6cb8-4836-a016-747b2cda5833",
   "metadata": {},
   "outputs": [],
   "source": []
  }
 ],
 "metadata": {
  "kernelspec": {
   "display_name": "wildcats",
   "language": "python",
   "name": "python3"
  },
  "language_info": {
   "codemirror_mode": {
    "name": "ipython",
    "version": 3
   },
   "file_extension": ".py",
   "mimetype": "text/x-python",
   "name": "python",
   "nbconvert_exporter": "python",
   "pygments_lexer": "ipython3",
   "version": "3.11.5"
  }
 },
 "nbformat": 4,
 "nbformat_minor": 5
}
