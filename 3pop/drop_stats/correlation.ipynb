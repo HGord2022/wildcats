{
 "cells": [
  {
   "cell_type": "code",
   "execution_count": 3,
   "id": "c9c239e0-f52f-43af-8e63-f5178a2fce2b",
   "metadata": {
    "tags": []
   },
   "outputs": [],
   "source": [
    "import matplotlib.pyplot as plt\n",
    "import numpy as np\n",
    "import pandas as pd\n",
    "import pickle\n",
    "import scipy"
   ]
  },
  {
   "cell_type": "code",
   "execution_count": 21,
   "id": "1b8f263a-b21c-4280-a52f-b09ed1ea22fb",
   "metadata": {},
   "outputs": [],
   "source": [
    "pd.set_option('display.max_rows', 500)"
   ]
  },
  {
   "cell_type": "code",
   "execution_count": 155,
   "id": "60434d89-28e9-43a4-9b4b-83405d591553",
   "metadata": {
    "tags": []
   },
   "outputs": [],
   "source": [
    "#simulated data\n",
    "filename = \"./summary_stats_r1.csv\"\n",
    "x = pd.read_csv(filename)"
   ]
  },
  {
   "cell_type": "code",
   "execution_count": 156,
   "id": "9992c4e6-0e4e-4113-87a9-5b6fada3b6c2",
   "metadata": {
    "tags": []
   },
   "outputs": [],
   "source": [
    "to_drop = [\"y1_domestic\",\n",
    "           \"y1_scot\",\n",
    "           \"y1_captive\",\n",
    "           \"y1_eu\",\n",
    "           \"y1_lyb\",\n",
    "           \"y3_domestic_captive_lyb\",\n",
    "           \"divergence_domestic_eu\",\n",
    "           \"y3_domestic_scot_lyb\",\n",
    "           \"y3_domestic_eu_lyb\",\n",
    "           \"divergence_captive_lyb\",\n",
    "           \"segregating_sites_lyb\",\n",
    "           \"segregating_sites_eu\",\n",
    "           \"divergence_scot_lyb\",\n",
    "           \"f4_domestic_scot_captive_lyb\",\n",
    "           \"f4_domestic_captive_eu_lyb\",\n",
    "           \"f4_domestic_scot_eu_lyb\",\n",
    "           \"diversity_domestic\",\n",
    "           \"y3_domestic_scot_captive\",\n",
    "           \"y3_scot_captive_eu\",\n",
    "           \"f2_domestic_eu\",\n",
    "           \"y2_domestic_lyb\",\n",
    "           \"y3_scot_captive_lyb\",\n",
    "           \"divergence_captive_eu\",\n",
    "           \"pc1_dist_domestic_eu\"\n",
    "          ]"
   ]
  },
  {
   "cell_type": "code",
   "execution_count": 157,
   "id": "61ffb122-0c27-439f-a487-a2abc944ecf6",
   "metadata": {},
   "outputs": [
    {
     "data": {
      "text/plain": [
       "(10000, 111)"
      ]
     },
     "execution_count": 157,
     "metadata": {},
     "output_type": "execute_result"
    }
   ],
   "source": [
    "x = x.drop(columns=to_drop)\n",
    "np.shape(x)"
   ]
  },
  {
   "cell_type": "code",
   "execution_count": 153,
   "id": "6e9a76fe-5329-44a4-b6dc-722c4abc1fcc",
   "metadata": {},
   "outputs": [],
   "source": [
    "df = x.corr().abs()\n",
    "s = df.unstack()\n",
    "so = s.sort_values(kind=\"quicksort\", ascending=False)"
   ]
  },
  {
   "cell_type": "code",
   "execution_count": 154,
   "id": "f4fdd68d-6495-4273-8864-74bca7421dab",
   "metadata": {},
   "outputs": [
    {
     "name": "stdout",
     "output_type": "stream",
     "text": [
      "pc2_dist_eu_lyb               pc2_dist_eu_lyb                 1.000000\n",
      "pc1_dist_captive_lyb          pc1_dist_domestic_captive       0.988551\n",
      "pc1_dist_domestic_captive     pc1_dist_captive_lyb            0.988551\n",
      "y2_scot_captive               divergence_scot_captive         0.987369\n",
      "divergence_scot_captive       y2_scot_captive                 0.987369\n",
      "pc1_median_lyb                pc1_median_domestic             0.987345\n",
      "pc1_median_domestic           pc1_median_lyb                  0.987345\n",
      "divergence_scot_eu            divergence_eu_lyb               0.987276\n",
      "divergence_eu_lyb             divergence_scot_eu              0.987276\n",
      "divergence_domestic_scot      y3_domestic_scot_eu             0.987205\n",
      "y3_domestic_scot_eu           divergence_domestic_scot        0.987205\n",
      "divergence_domestic_lyb       segregating_sites_domestic      0.986763\n",
      "segregating_sites_domestic    divergence_domestic_lyb         0.986763\n",
      "y2_domestic_scot              y3_domestic_scot_eu             0.985370\n",
      "y3_domestic_scot_eu           y2_domestic_scot                0.985370\n",
      "y2_scot_eu                    divergence_scot_eu              0.984966\n",
      "divergence_scot_eu            y2_scot_eu                      0.984966\n",
      "y2_domestic_eu                divergence_eu_lyb               0.984599\n",
      "divergence_eu_lyb             y2_domestic_eu                  0.984599\n",
      "y3_domestic_captive_eu        divergence_domestic_captive     0.984077\n",
      "divergence_domestic_captive   y3_domestic_captive_eu          0.984077\n",
      "pc1_dist_scot_lyb             pc1_dist_domestic_scot          0.983460\n",
      "pc1_dist_domestic_scot        pc1_dist_scot_lyb               0.983460\n",
      "y3_domestic_captive_eu        y2_domestic_captive             0.983327\n",
      "y2_domestic_captive           y3_domestic_captive_eu          0.983327\n",
      "divergence_domestic_lyb       diversity_lyb                   0.982609\n",
      "diversity_lyb                 divergence_domestic_lyb         0.982609\n",
      "divergence_scot_captive       diversity_captive               0.981702\n",
      "diversity_captive             divergence_scot_captive         0.981702\n",
      "divergence_eu_lyb             y2_eu_lyb                       0.981408\n",
      "y2_eu_lyb                     divergence_eu_lyb               0.981408\n",
      "y2_scot_eu                    y2_captive_eu                   0.981405\n",
      "y2_captive_eu                 y2_scot_eu                      0.981405\n",
      "y3_scot_eu_lyb                y3_captive_eu_lyb               0.981377\n",
      "y3_captive_eu_lyb             y3_scot_eu_lyb                  0.981377\n",
      "y2_domestic_scot              divergence_domestic_scot        0.981260\n",
      "divergence_domestic_scot      y2_domestic_scot                0.981260\n",
      "y3_domestic_scot_eu           y2_scot_lyb                     0.980540\n",
      "y2_scot_lyb                   y3_domestic_scot_eu             0.980540\n",
      "divergence_domestic_scot      y2_scot_lyb                     0.979720\n",
      "y2_scot_lyb                   divergence_domestic_scot        0.979720\n",
      "divergence_scot_captive       diversity_scot                  0.979055\n",
      "diversity_scot                divergence_scot_captive         0.979055\n",
      "divergence_domestic_captive   y2_captive_lyb                  0.978738\n",
      "y2_captive_lyb                divergence_domestic_captive     0.978738\n",
      "f3_domestic_scot_captive      f2_domestic_scot                0.978451\n",
      "f2_domestic_scot              f3_domestic_scot_captive        0.978451\n",
      "y2_domestic_eu                y2_scot_eu                      0.976629\n",
      "y2_scot_eu                    y2_domestic_eu                  0.976629\n",
      "relatedness_eu_lyb            fst_eu_lyb                      0.976280\n",
      "fst_eu_lyb                    relatedness_eu_lyb              0.976280\n",
      "segregating_sites_captive     diversity_captive               0.976279\n",
      "diversity_captive             segregating_sites_captive       0.976279\n",
      "y2_captive_eu                 divergence_scot_eu              0.975863\n",
      "divergence_scot_eu            y2_captive_eu                   0.975863\n",
      "diversity_scot                y3_scot_eu_lyb                  0.975856\n",
      "y3_scot_eu_lyb                diversity_scot                  0.975856\n",
      "divergence_domestic_scot      divergence_domestic_captive     0.975772\n",
      "divergence_domestic_captive   divergence_domestic_scot        0.975772\n",
      "y2_captive_lyb                y3_domestic_captive_eu          0.975707\n",
      "y3_domestic_captive_eu        y2_captive_lyb                  0.975707\n",
      "fst_domestic_captive          relatedness_domestic_captive    0.975216\n",
      "relatedness_domestic_captive  fst_domestic_captive            0.975216\n",
      "fst_domestic_scot             relatedness_domestic_scot       0.974894\n",
      "relatedness_domestic_scot     fst_domestic_scot               0.974894\n",
      "divergence_domestic_scot      diversity_scot                  0.974763\n",
      "diversity_scot                divergence_domestic_scot        0.974763\n",
      "diversity_lyb                 segregating_sites_domestic      0.974132\n",
      "segregating_sites_domestic    diversity_lyb                   0.974132\n",
      "y2_domestic_captive           divergence_domestic_captive     0.972884\n",
      "divergence_domestic_captive   y2_domestic_captive             0.972884\n",
      "relatedness_domestic_captive  relatedness_captive_lyb         0.972683\n",
      "relatedness_captive_lyb       relatedness_domestic_captive    0.972683\n",
      "y3_scot_eu_lyb                divergence_domestic_scot        0.972445\n",
      "divergence_domestic_scot      y3_scot_eu_lyb                  0.972445\n",
      "fst_captive_lyb               relatedness_captive_lyb         0.972119\n",
      "relatedness_captive_lyb       fst_captive_lyb                 0.972119\n",
      "segregating_sites_scot        segregating_sites_captive       0.971726\n",
      "segregating_sites_captive     segregating_sites_scot          0.971726\n",
      "f2_captive_lyb                f2_domestic_captive             0.971557\n",
      "f2_domestic_captive           f2_captive_lyb                  0.971557\n",
      "divergence_domestic_captive   y2_scot_captive                 0.971282\n",
      "y2_scot_captive               divergence_domestic_captive     0.971282\n",
      "y2_scot_eu                    divergence_eu_lyb               0.970993\n",
      "divergence_eu_lyb             y2_scot_eu                      0.970993\n",
      "divergence_domestic_lyb       y3_scot_eu_lyb                  0.970753\n",
      "y3_scot_eu_lyb                divergence_domestic_lyb         0.970753\n",
      "divergence_scot_captive       divergence_domestic_captive     0.969461\n",
      "divergence_domestic_captive   divergence_scot_captive         0.969461\n",
      "y2_eu_lyb                     y2_domestic_eu                  0.968739\n",
      "y2_domestic_eu                y2_eu_lyb                       0.968739\n",
      "y2_domestic_scot              y2_scot_lyb                     0.968591\n",
      "y2_scot_lyb                   y2_domestic_scot                0.968591\n",
      "diversity_scot                y3_captive_eu_lyb               0.966735\n",
      "y3_captive_eu_lyb             diversity_scot                  0.966735\n",
      "fst_domestic_eu               relatedness_domestic_eu         0.966492\n",
      "relatedness_domestic_eu       fst_domestic_eu                 0.966492\n",
      "divergence_domestic_captive   diversity_scot                  0.966234\n",
      "diversity_scot                divergence_domestic_captive     0.966234\n",
      "y3_captive_eu_lyb             divergence_scot_captive         0.965933\n",
      "divergence_scot_captive       y3_captive_eu_lyb               0.965933\n",
      "y3_domestic_scot_eu           divergence_domestic_captive     0.965063\n",
      "divergence_domestic_captive   y3_domestic_scot_eu             0.965063\n",
      "y2_domestic_eu                divergence_scot_eu              0.964998\n",
      "divergence_scot_eu            y2_domestic_eu                  0.964998\n",
      "y2_eu_lyb                     divergence_scot_eu              0.964585\n",
      "divergence_scot_eu            y2_eu_lyb                       0.964585\n",
      "diversity_scot                y2_scot_captive                 0.964497\n",
      "y2_scot_captive               diversity_scot                  0.964497\n",
      "diversity_scot                diversity_captive               0.963776\n",
      "dtype: float64\n"
     ]
    }
   ],
   "source": [
    "print(so[110:220])"
   ]
  },
  {
   "cell_type": "code",
   "execution_count": null,
   "id": "75fd8353-6cb8-4836-a016-747b2cda5833",
   "metadata": {},
   "outputs": [],
   "source": []
  }
 ],
 "metadata": {
  "kernelspec": {
   "display_name": "wildcats",
   "language": "python",
   "name": "wildcats"
  },
  "language_info": {
   "codemirror_mode": {
    "name": "ipython",
    "version": 3
   },
   "file_extension": ".py",
   "mimetype": "text/x-python",
   "name": "python",
   "nbconvert_exporter": "python",
   "pygments_lexer": "ipython3",
   "version": "3.12.2"
  }
 },
 "nbformat": 4,
 "nbformat_minor": 5
}
