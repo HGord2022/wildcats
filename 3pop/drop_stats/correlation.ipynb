{
 "cells": [
  {
   "cell_type": "code",
   "execution_count": 1,
   "id": "c9c239e0-f52f-43af-8e63-f5178a2fce2b",
   "metadata": {
    "tags": []
   },
   "outputs": [],
   "source": [
    "import numpy as np\n",
    "import pandas as pd"
   ]
  },
  {
   "cell_type": "code",
   "execution_count": 15,
   "id": "1b8f263a-b21c-4280-a52f-b09ed1ea22fb",
   "metadata": {},
   "outputs": [],
   "source": [
    "pd.set_option('display.max_rows', 500)"
   ]
  },
  {
   "cell_type": "code",
   "execution_count": 32,
   "id": "60434d89-28e9-43a4-9b4b-83405d591553",
   "metadata": {
    "tags": []
   },
   "outputs": [],
   "source": [
    "#simulated data\n",
    "filename = \"./noise_method/summary_stats_r1.csv\"\n",
    "x = pd.read_csv(filename)"
   ]
  },
  {
   "cell_type": "code",
   "execution_count": 31,
   "id": "9992c4e6-0e4e-4113-87a9-5b6fada3b6c2",
   "metadata": {
    "tags": []
   },
   "outputs": [],
   "source": [
    "to_drop = [\"y1_domestic\",\n",
    "           \"y1_scot\",\n",
    "           \"y1_captive\",\n",
    "           \"y1_eu\",\n",
    "           \"y1_lyb\",\n",
    "           \"y3_domestic_captive_lyb\",\n",
    "           \"divergence_domestic_eu\",\n",
    "           \"y3_domestic_scot_lyb\",\n",
    "           \"divergence_domestic_captive\",\n",
    "           \"y3_domestic_eu_lyb\"\n",
    "          ]"
   ]
  },
  {
   "cell_type": "code",
   "execution_count": null,
   "id": "071ff1c4",
   "metadata": {},
   "outputs": [],
   "source": [
    "           \"y3_domestic_eu_lyb\",\n",
    "           \"divergence_captive_lyb\",\n",
    "           \"segregating_sites_lyb\",\n",
    "           \"segregating_sites_eu\",\n",
    "           \"divergence_scot_lyb\",\n",
    "           \"f4_domestic_scot_captive_lyb\",\n",
    "           \"f4_domestic_captive_eu_lyb\",\n",
    "           \"f4_domestic_scot_eu_lyb\",\n",
    "           \"diversity_domestic\",\n",
    "           \"y3_domestic_scot_captive\",\n",
    "           \"y3_scot_captive_eu\",\n",
    "           \"f2_domestic_eu\",\n",
    "           \"y2_domestic_lyb\",\n",
    "           \"y3_scot_captive_lyb\",\n",
    "           \"divergence_captive_eu\",\n",
    "           \"pc1_dist_domestic_eu\""
   ]
  },
  {
   "cell_type": "code",
   "execution_count": 33,
   "id": "61ffb122-0c27-439f-a487-a2abc944ecf6",
   "metadata": {},
   "outputs": [
    {
     "data": {
      "text/plain": [
       "(9214, 125)"
      ]
     },
     "execution_count": 33,
     "metadata": {},
     "output_type": "execute_result"
    }
   ],
   "source": [
    "x = x.drop(columns=to_drop)\n",
    "np.shape(x)"
   ]
  },
  {
   "cell_type": "code",
   "execution_count": 34,
   "id": "6e9a76fe-5329-44a4-b6dc-722c4abc1fcc",
   "metadata": {},
   "outputs": [],
   "source": [
    "df = x.corr().abs()\n",
    "s = df.unstack()\n",
    "so = s.sort_values(kind=\"quicksort\", ascending=False)"
   ]
  },
  {
   "cell_type": "code",
   "execution_count": 35,
   "id": "f4fdd68d-6495-4273-8864-74bca7421dab",
   "metadata": {},
   "outputs": [
    {
     "name": "stdout",
     "output_type": "stream",
     "text": [
      "pc2_median_scot               pc2_median_scot                 1.000000\n",
      "pc2_median_captive            pc2_median_captive              1.000000\n",
      "diversity_captive             diversity_captive               1.000000\n",
      "f3_captive_eu_lyb             f3_captive_eu_lyb               1.000000\n",
      "pc2_dist_eu_lyb               pc2_dist_eu_lyb                 1.000000\n",
      "divergence_domestic_scot      divergence_scot_lyb             0.998910\n",
      "divergence_scot_lyb           divergence_domestic_scot        0.998910\n",
      "diversity_lyb                 segregating_sites_lyb           0.998669\n",
      "segregating_sites_lyb         diversity_lyb                   0.998669\n",
      "diversity_eu                  segregating_sites_eu            0.998422\n",
      "segregating_sites_eu          diversity_eu                    0.998422\n",
      "f4_domestic_scot_captive_lyb  f3_domestic_scot_captive        0.997985\n",
      "f3_domestic_scot_captive      f4_domestic_scot_captive_lyb    0.997985\n",
      "divergence_domestic_lyb       diversity_domestic              0.997670\n",
      "diversity_domestic            divergence_domestic_lyb         0.997670\n",
      "f3_domestic_scot_eu           f4_domestic_scot_eu_lyb         0.997182\n",
      "f4_domestic_scot_eu_lyb       f3_domestic_scot_eu             0.997182\n",
      "f4_domestic_captive_eu_lyb    f3_domestic_captive_eu          0.996872\n",
      "f3_domestic_captive_eu        f4_domestic_captive_eu_lyb      0.996872\n",
      "pc2_dist_scot_lyb             pc2_median_lyb                  0.995559\n",
      "pc2_median_lyb                pc2_dist_scot_lyb               0.995559\n",
      "y2_domestic_scot              y3_domestic_scot_captive        0.995516\n",
      "y3_domestic_scot_captive      y2_domestic_scot                0.995516\n",
      "diversity_domestic            segregating_sites_domestic      0.993869\n",
      "segregating_sites_domestic    diversity_domestic              0.993869\n",
      "divergence_captive_eu         divergence_scot_eu              0.993489\n",
      "divergence_scot_eu            divergence_captive_eu           0.993489\n",
      "divergence_scot_captive       y3_scot_captive_eu              0.992219\n",
      "y3_scot_captive_eu            divergence_scot_captive         0.992219\n",
      "y3_scot_captive_lyb           diversity_scot                  0.992130\n",
      "diversity_scot                y3_scot_captive_lyb             0.992130\n",
      "y3_scot_captive_eu            y2_scot_captive                 0.992085\n",
      "y2_scot_captive               y3_scot_captive_eu              0.992085\n",
      "f2_domestic_eu                f2_eu_lyb                       0.990699\n",
      "f2_eu_lyb                     f2_domestic_eu                  0.990699\n",
      "divergence_domestic_lyb       y2_domestic_lyb                 0.990268\n",
      "y2_domestic_lyb               divergence_domestic_lyb         0.990268\n",
      "y3_domestic_scot_captive      y3_domestic_scot_eu             0.988458\n",
      "y3_domestic_scot_eu           y3_domestic_scot_captive        0.988458\n",
      "divergence_eu_lyb             divergence_scot_eu              0.988393\n",
      "divergence_scot_eu            divergence_eu_lyb               0.988393\n",
      "divergence_scot_captive       y2_scot_captive                 0.988266\n",
      "y2_scot_captive               divergence_scot_captive         0.988266\n",
      "divergence_domestic_scot      y3_domestic_scot_eu             0.988055\n",
      "y3_domestic_scot_eu           divergence_domestic_scot        0.988055\n",
      "divergence_domestic_lyb       segregating_sites_domestic      0.987942\n",
      "segregating_sites_domestic    divergence_domestic_lyb         0.987942\n",
      "y3_captive_eu_lyb             y3_scot_eu_lyb                  0.986824\n",
      "y3_scot_eu_lyb                y3_captive_eu_lyb               0.986824\n",
      "y2_captive_eu                 y2_scot_eu                      0.986314\n",
      "y2_scot_eu                    y2_captive_eu                   0.986314\n",
      "y2_domestic_scot              y3_domestic_scot_eu             0.985885\n",
      "y3_domestic_scot_eu           y2_domestic_scot                0.985885\n",
      "                              divergence_scot_lyb             0.985752\n",
      "divergence_scot_lyb           y3_domestic_scot_eu             0.985752\n",
      "divergence_scot_captive       diversity_scot                  0.985413\n",
      "diversity_scot                divergence_scot_captive         0.985413\n",
      "y2_scot_lyb                   divergence_scot_lyb             0.984778\n",
      "divergence_scot_lyb           y2_scot_lyb                     0.984778\n",
      "divergence_captive_lyb        divergence_scot_lyb             0.984185\n",
      "divergence_scot_lyb           divergence_captive_lyb          0.984185\n",
      "diversity_domestic            y2_domestic_lyb                 0.984139\n",
      "y2_domestic_lyb               diversity_domestic              0.984139\n",
      "divergence_domestic_lyb       y3_scot_eu_lyb                  0.983863\n",
      "y3_scot_eu_lyb                divergence_domestic_lyb         0.983863\n",
      "divergence_scot_eu            y2_scot_eu                      0.983759\n",
      "y2_scot_eu                    divergence_scot_eu              0.983759\n",
      "divergence_captive_eu         y2_captive_eu                   0.983407\n",
      "y2_captive_eu                 divergence_captive_eu           0.983407\n",
      "y2_domestic_eu                divergence_eu_lyb               0.983371\n",
      "divergence_eu_lyb             y2_domestic_eu                  0.983371\n",
      "y2_scot_lyb                   y3_domestic_scot_eu             0.983228\n",
      "y3_domestic_scot_eu           y2_scot_lyb                     0.983228\n",
      "diversity_lyb                 diversity_domestic              0.982950\n",
      "diversity_domestic            diversity_lyb                   0.982950\n",
      "y2_domestic_scot              divergence_domestic_scot        0.982754\n",
      "divergence_domestic_scot      y2_domestic_scot                0.982754\n",
      "divergence_captive_lyb        divergence_domestic_scot        0.982650\n",
      "divergence_domestic_scot      divergence_captive_lyb          0.982650\n",
      "diversity_captive             divergence_scot_captive         0.982566\n",
      "divergence_scot_captive       diversity_captive               0.982566\n",
      "y2_scot_lyb                   divergence_domestic_scot        0.982489\n",
      "divergence_domestic_scot      y2_scot_lyb                     0.982489\n",
      "y3_domestic_captive_eu        y2_domestic_captive             0.982062\n",
      "y2_domestic_captive           y3_domestic_captive_eu          0.982062\n",
      "divergence_captive_lyb        y2_captive_lyb                  0.982028\n",
      "y2_captive_lyb                divergence_captive_lyb          0.982028\n",
      "divergence_eu_lyb             y2_eu_lyb                       0.981616\n",
      "y2_eu_lyb                     divergence_eu_lyb               0.981616\n",
      "divergence_captive_lyb        y3_domestic_captive_eu          0.980855\n",
      "y3_domestic_captive_eu        divergence_captive_lyb          0.980855\n",
      "y3_scot_eu_lyb                diversity_domestic              0.980819\n",
      "diversity_domestic            y3_scot_eu_lyb                  0.980819\n",
      "divergence_scot_lyb           y3_scot_eu_lyb                  0.980816\n",
      "y3_scot_eu_lyb                divergence_scot_lyb             0.980816\n",
      "divergence_scot_lyb           y2_domestic_scot                0.980387\n",
      "y2_domestic_scot              divergence_scot_lyb             0.980387\n",
      "y3_scot_eu_lyb                y3_scot_captive_lyb             0.980153\n",
      "y3_scot_captive_lyb           y3_scot_eu_lyb                  0.980153\n",
      "diversity_lyb                 divergence_domestic_lyb         0.979733\n",
      "dtype: float64\n"
     ]
    }
   ],
   "source": [
    "print(so[120:220])"
   ]
  },
  {
   "cell_type": "code",
   "execution_count": null,
   "id": "75fd8353-6cb8-4836-a016-747b2cda5833",
   "metadata": {},
   "outputs": [],
   "source": []
  }
 ],
 "metadata": {
  "kernelspec": {
   "display_name": "wildcats",
   "language": "python",
   "name": "python3"
  },
  "language_info": {
   "codemirror_mode": {
    "name": "ipython",
    "version": 3
   },
   "file_extension": ".py",
   "mimetype": "text/x-python",
   "name": "python",
   "nbconvert_exporter": "python",
   "pygments_lexer": "ipython3",
   "version": "3.12.2"
  }
 },
 "nbformat": 4,
 "nbformat_minor": 5
}
