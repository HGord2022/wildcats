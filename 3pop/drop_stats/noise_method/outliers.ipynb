{
 "cells": [
  {
   "cell_type": "code",
   "execution_count": 34,
   "id": "c9c239e0-f52f-43af-8e63-f5178a2fce2b",
   "metadata": {
    "tags": []
   },
   "outputs": [],
   "source": [
    "from flowjax.train.data_fit import fit_to_data\n",
    "from flowjax.train.losses import ContrastiveLoss\n",
    "from flowjax.flows import masked_autoregressive_flow as MaskedAutoregressiveFlow\n",
    "from flowjax.distributions import Normal, Laplace\n",
    "import jax.numpy as jnp\n",
    "import jax.random as jr\n",
    "import matplotlib.pyplot as plt\n",
    "import numpy as np\n",
    "from sklearn.preprocessing import StandardScaler\n",
    "from jax import vmap\n",
    "import pandas as pd\n",
    "from flowjax.train.losses import MaximumLikelihoodLoss\n",
    "from flowjax.bijections import Affine, Invert\n",
    "from jax import vmap\n",
    "import jax"
   ]
  },
  {
   "cell_type": "code",
   "execution_count": 2,
   "id": "60434d89-28e9-43a4-9b4b-83405d591553",
   "metadata": {
    "tags": []
   },
   "outputs": [],
   "source": [
    "#observed data\n",
    "filename = \"./observed_stats_3pop.csv\"\n",
    "x_o = pd.read_csv(filename)\n",
    "#simulated data\n",
    "filename2 = \"./summary_stats_r1.csv\"\n",
    "x = pd.read_csv(filename2)"
   ]
  },
  {
   "cell_type": "code",
   "execution_count": 3,
   "id": "f83fd145-4749-411c-873f-14722261beaa",
   "metadata": {},
   "outputs": [],
   "source": [
    "to_drop = [#correlation >0.99\n",
    "    \"diversity_domestic\",\n",
    "    \"relatedness_domestic_captive\"\n",
    "    ]"
   ]
  },
  {
   "cell_type": "code",
   "execution_count": 4,
   "id": "8ecbeeb4-8a5c-496b-b394-26d8ac065bfa",
   "metadata": {
    "tags": []
   },
   "outputs": [
    {
     "data": {
      "text/plain": [
       "(10001, 42)"
      ]
     },
     "execution_count": 4,
     "metadata": {},
     "output_type": "execute_result"
    }
   ],
   "source": [
    "combined_x = pd.concat([x, x_o], ignore_index=True)\n",
    "combined_x = combined_x.drop(columns=to_drop)\n",
    "stats = combined_x.columns\n",
    "combined_x = combined_x.to_numpy(dtype=np.float32)\n",
    "np.shape(combined_x)"
   ]
  },
  {
   "cell_type": "code",
   "execution_count": 29,
   "id": "131a05f8",
   "metadata": {},
   "outputs": [],
   "source": [
    "preprocess_x = Affine(-combined_x.mean(axis=0)/combined_x.std(axis=0), 1/combined_x.std(axis=0))"
   ]
  },
  {
   "cell_type": "code",
   "execution_count": 35,
   "id": "3d6454da",
   "metadata": {},
   "outputs": [
    {
     "name": "stdout",
     "output_type": "stream",
     "text": [
      "combined_x shape (10001, 42)\n",
      "x_t shape (10000, 42)\n",
      "x_o_t shape (1, 42)\n"
     ]
    }
   ],
   "source": [
    "print(\"combined_x shape\", np.shape(combined_x))\n",
    "combined_x_t = jax.vmap(preprocess_x.transform)(combined_x)\n",
    "x_t = np.float32(combined_x_t[0:10000])\n",
    "x_o_t = np.float32(combined_x_t[10000])\n",
    "x_o_t = np.reshape(x_o_t, (1,-1))\n",
    "print(\"x_t shape\", np.shape(x_t))\n",
    "print(\"x_o_t shape\", np.shape(x_o_t))"
   ]
  },
  {
   "cell_type": "code",
   "execution_count": 36,
   "id": "e89e92ac-c0bf-4e5a-aaa9-016d00cfb10b",
   "metadata": {
    "tags": []
   },
   "outputs": [],
   "source": [
    "key, subkey = jr.split(jr.PRNGKey(2))\n",
    "#define prior\n",
    "n_summaries = 42\n",
    "\n",
    "unbounded_prior = Normal(jnp.zeros((n_summaries,)))"
   ]
  },
  {
   "cell_type": "code",
   "execution_count": 37,
   "id": "edfb817f-b1d0-4737-aea1-04be7c7d557f",
   "metadata": {
    "tags": []
   },
   "outputs": [],
   "source": [
    "flow = MaskedAutoregressiveFlow(\n",
    "    subkey,\n",
    "    base_dist=Normal(jnp.zeros((n_summaries,))),\n",
    ")"
   ]
  },
  {
   "cell_type": "code",
   "execution_count": 38,
   "id": "dd0f4828-1e73-420b-8353-aa4ababaa061",
   "metadata": {},
   "outputs": [],
   "source": [
    "import optax\n",
    "optimizer = optax.chain(\n",
    "        optax.clip_by_global_norm(1),\n",
    "        optax.adam(5e-4),\n",
    "    )"
   ]
  },
  {
   "cell_type": "code",
   "execution_count": 39,
   "id": "b3bdedb4",
   "metadata": {},
   "outputs": [],
   "source": [
    "loss_fn = MaximumLikelihoodLoss()"
   ]
  },
  {
   "cell_type": "code",
   "execution_count": 40,
   "id": "0cf93e07-3ee1-40b5-b0b4-a395ec3bf7f5",
   "metadata": {
    "tags": []
   },
   "outputs": [
    {
     "name": "stderr",
     "output_type": "stream",
     "text": [
      " 24%|██▎       | 353/1500 [01:23<04:31,  4.22it/s, train=-153.40799, val=-150.11592 (Max patience reached)]\n"
     ]
    }
   ],
   "source": [
    "\n",
    "fitted_flow, losses_r = fit_to_data(\n",
    "    key=subkey,\n",
    "    dist=flow,\n",
    "    loss_fn=loss_fn,\n",
    "    x=x_t,\n",
    "    optimizer = optimizer,\n",
    "    max_epochs=1500,\n",
    "    batch_size = 100,\n",
    "    max_patience = 30\n",
    ")"
   ]
  },
  {
   "cell_type": "code",
   "execution_count": 41,
   "id": "ec09792d-64a8-40bb-9e9a-22cdf3bb4b9d",
   "metadata": {
    "tags": []
   },
   "outputs": [
    {
     "data": {
      "text/plain": [
       "<matplotlib.legend.Legend at 0x227e6b753a0>"
      ]
     },
     "execution_count": 41,
     "metadata": {},
     "output_type": "execute_result"
    },
    {
     "data": {
      "image/png": "[encoded data removed]",
      "text/plain": [
       "<Figure size 640x480 with 1 Axes>"
      ]
     },
     "metadata": {},
     "output_type": "display_data"
    }
   ],
   "source": [
    "for k, v in losses_r.items():\n",
    "    plt.plot(v, label=k)\n",
    "plt.legend()"
   ]
  },
  {
   "cell_type": "code",
   "execution_count": 42,
   "id": "7a379ff3-8d47-47c2-9d7b-a71d765e6f8c",
   "metadata": {},
   "outputs": [
    {
     "data": {
      "text/plain": [
       "Array([-inf], dtype=float32)"
      ]
     },
     "execution_count": 42,
     "metadata": {},
     "output_type": "execute_result"
    }
   ],
   "source": [
    "posterior = fitted_flow\n",
    "posterior.log_prob(x_o_t)"
   ]
  },
  {
   "cell_type": "code",
   "execution_count": null,
   "id": "9c0086d3-fba6-4dfc-a99f-ae35fbafd61b",
   "metadata": {},
   "outputs": [],
   "source": [
    "Array([142.24509], dtype=float32)"
   ]
  },
  {
   "cell_type": "markdown",
   "id": "666f931d-6cb8-408a-96b6-46909e5c57da",
   "metadata": {},
   "source": [
    "#### Stat + error method"
   ]
  },
  {
   "cell_type": "code",
   "execution_count": 43,
   "id": "fb074a49-7d06-40be-83e3-65fce5da9994",
   "metadata": {
    "tags": []
   },
   "outputs": [],
   "source": [
    "from flowjax.experimental.numpyro import sample\n",
    "\n",
    "\n",
    "def model(obs=None):  # This is a numpyro probabilistic program\n",
    "    noise_prior = Laplace(jnp.zeros((n_summaries, )), 1)\n",
    "    error = sample(\"noise\", noise_prior)\n",
    "    denoised_obs = obs - error\n",
    "    sample(\"x\", flow, obs=denoised_obs)"
   ]
  },
  {
   "cell_type": "code",
   "execution_count": 44,
   "id": "ab3f702f-21f4-41f0-aa03-ffd1e264e223",
   "metadata": {},
   "outputs": [
    {
     "ename": "RuntimeError",
     "evalue": "Cannot find valid initial parameters. Please check your model again.",
     "output_type": "error",
     "traceback": [
      "\u001b[1;31m---------------------------------------------------------------------------\u001b[0m",
      "\u001b[1;31mRuntimeError\u001b[0m                              Traceback (most recent call last)",
      "Cell \u001b[1;32mIn[44], line 4\u001b[0m\n\u001b[0;32m      2\u001b[0m mcmc \u001b[38;5;241m=\u001b[39m MCMC(NUTS(model), num_warmup\u001b[38;5;241m=\u001b[39m\u001b[38;5;241m1000\u001b[39m, num_samples\u001b[38;5;241m=\u001b[39m\u001b[38;5;241m5000\u001b[39m)\n\u001b[0;32m      3\u001b[0m key, subkey \u001b[38;5;241m=\u001b[39m jr\u001b[38;5;241m.\u001b[39msplit(key)\n\u001b[1;32m----> 4\u001b[0m \u001b[43mmcmc\u001b[49m\u001b[38;5;241;43m.\u001b[39;49m\u001b[43mrun\u001b[49m\u001b[43m(\u001b[49m\u001b[43msubkey\u001b[49m\u001b[43m,\u001b[49m\u001b[43m \u001b[49m\u001b[43mobs\u001b[49m\u001b[38;5;241;43m=\u001b[39;49m\u001b[43mx_o_t\u001b[49m\u001b[43m)\u001b[49m\n",
      "File \u001b[1;32mc:\\Users\\harrg\\AppData\\Local\\anaconda3\\envs\\wildcats\\Lib\\site-packages\\numpyro\\infer\\mcmc.py:644\u001b[0m, in \u001b[0;36mMCMC.run\u001b[1;34m(self, rng_key, extra_fields, init_params, *args, **kwargs)\u001b[0m\n\u001b[0;32m    642\u001b[0m map_args \u001b[38;5;241m=\u001b[39m (rng_key, init_state, init_params)\n\u001b[0;32m    643\u001b[0m \u001b[38;5;28;01mif\u001b[39;00m \u001b[38;5;28mself\u001b[39m\u001b[38;5;241m.\u001b[39mnum_chains \u001b[38;5;241m==\u001b[39m \u001b[38;5;241m1\u001b[39m:\n\u001b[1;32m--> 644\u001b[0m     states_flat, last_state \u001b[38;5;241m=\u001b[39m \u001b[43mpartial_map_fn\u001b[49m\u001b[43m(\u001b[49m\u001b[43mmap_args\u001b[49m\u001b[43m)\u001b[49m\n\u001b[0;32m    645\u001b[0m     states \u001b[38;5;241m=\u001b[39m tree_map(\u001b[38;5;28;01mlambda\u001b[39;00m x: x[jnp\u001b[38;5;241m.\u001b[39mnewaxis, \u001b[38;5;241m.\u001b[39m\u001b[38;5;241m.\u001b[39m\u001b[38;5;241m.\u001b[39m], states_flat)\n\u001b[0;32m    646\u001b[0m \u001b[38;5;28;01melse\u001b[39;00m:\n",
      "File \u001b[1;32mc:\\Users\\harrg\\AppData\\Local\\anaconda3\\envs\\wildcats\\Lib\\site-packages\\numpyro\\infer\\mcmc.py:426\u001b[0m, in \u001b[0;36mMCMC._single_chain_mcmc\u001b[1;34m(self, init, args, kwargs, collect_fields)\u001b[0m\n\u001b[0;32m    424\u001b[0m \u001b[38;5;66;03m# Check if _sample_fn is None, then we need to initialize the sampler.\u001b[39;00m\n\u001b[0;32m    425\u001b[0m \u001b[38;5;28;01mif\u001b[39;00m init_state \u001b[38;5;129;01mis\u001b[39;00m \u001b[38;5;28;01mNone\u001b[39;00m \u001b[38;5;129;01mor\u001b[39;00m (\u001b[38;5;28mgetattr\u001b[39m(\u001b[38;5;28mself\u001b[39m\u001b[38;5;241m.\u001b[39msampler, \u001b[38;5;124m\"\u001b[39m\u001b[38;5;124m_sample_fn\u001b[39m\u001b[38;5;124m\"\u001b[39m, \u001b[38;5;28;01mNone\u001b[39;00m) \u001b[38;5;129;01mis\u001b[39;00m \u001b[38;5;28;01mNone\u001b[39;00m):\n\u001b[1;32m--> 426\u001b[0m     new_init_state \u001b[38;5;241m=\u001b[39m \u001b[38;5;28;43mself\u001b[39;49m\u001b[38;5;241;43m.\u001b[39;49m\u001b[43msampler\u001b[49m\u001b[38;5;241;43m.\u001b[39;49m\u001b[43minit\u001b[49m\u001b[43m(\u001b[49m\n\u001b[0;32m    427\u001b[0m \u001b[43m        \u001b[49m\u001b[43mrng_key\u001b[49m\u001b[43m,\u001b[49m\n\u001b[0;32m    428\u001b[0m \u001b[43m        \u001b[49m\u001b[38;5;28;43mself\u001b[39;49m\u001b[38;5;241;43m.\u001b[39;49m\u001b[43mnum_warmup\u001b[49m\u001b[43m,\u001b[49m\n\u001b[0;32m    429\u001b[0m \u001b[43m        \u001b[49m\u001b[43minit_params\u001b[49m\u001b[43m,\u001b[49m\n\u001b[0;32m    430\u001b[0m \u001b[43m        \u001b[49m\u001b[43mmodel_args\u001b[49m\u001b[38;5;241;43m=\u001b[39;49m\u001b[43margs\u001b[49m\u001b[43m,\u001b[49m\n\u001b[0;32m    431\u001b[0m \u001b[43m        \u001b[49m\u001b[43mmodel_kwargs\u001b[49m\u001b[38;5;241;43m=\u001b[39;49m\u001b[43mkwargs\u001b[49m\u001b[43m,\u001b[49m\n\u001b[0;32m    432\u001b[0m \u001b[43m    \u001b[49m\u001b[43m)\u001b[49m\n\u001b[0;32m    433\u001b[0m     init_state \u001b[38;5;241m=\u001b[39m new_init_state \u001b[38;5;28;01mif\u001b[39;00m init_state \u001b[38;5;129;01mis\u001b[39;00m \u001b[38;5;28;01mNone\u001b[39;00m \u001b[38;5;28;01melse\u001b[39;00m init_state\n\u001b[0;32m    434\u001b[0m sample_fn, postprocess_fn \u001b[38;5;241m=\u001b[39m \u001b[38;5;28mself\u001b[39m\u001b[38;5;241m.\u001b[39m_get_cached_fns()\n",
      "File \u001b[1;32mc:\\Users\\harrg\\AppData\\Local\\anaconda3\\envs\\wildcats\\Lib\\site-packages\\numpyro\\infer\\hmc.py:743\u001b[0m, in \u001b[0;36mHMC.init\u001b[1;34m(self, rng_key, num_warmup, init_params, model_args, model_kwargs)\u001b[0m\n\u001b[0;32m    738\u001b[0m \u001b[38;5;66;03m# vectorized\u001b[39;00m\n\u001b[0;32m    739\u001b[0m \u001b[38;5;28;01melse\u001b[39;00m:\n\u001b[0;32m    740\u001b[0m     rng_key, rng_key_init_model \u001b[38;5;241m=\u001b[39m jnp\u001b[38;5;241m.\u001b[39mswapaxes(\n\u001b[0;32m    741\u001b[0m         vmap(random\u001b[38;5;241m.\u001b[39msplit)(rng_key), \u001b[38;5;241m0\u001b[39m, \u001b[38;5;241m1\u001b[39m\n\u001b[0;32m    742\u001b[0m     )\n\u001b[1;32m--> 743\u001b[0m init_params \u001b[38;5;241m=\u001b[39m \u001b[38;5;28;43mself\u001b[39;49m\u001b[38;5;241;43m.\u001b[39;49m\u001b[43m_init_state\u001b[49m\u001b[43m(\u001b[49m\n\u001b[0;32m    744\u001b[0m \u001b[43m    \u001b[49m\u001b[43mrng_key_init_model\u001b[49m\u001b[43m,\u001b[49m\u001b[43m \u001b[49m\u001b[43mmodel_args\u001b[49m\u001b[43m,\u001b[49m\u001b[43m \u001b[49m\u001b[43mmodel_kwargs\u001b[49m\u001b[43m,\u001b[49m\u001b[43m \u001b[49m\u001b[43minit_params\u001b[49m\n\u001b[0;32m    745\u001b[0m \u001b[43m\u001b[49m\u001b[43m)\u001b[49m\n\u001b[0;32m    746\u001b[0m \u001b[38;5;28;01mif\u001b[39;00m \u001b[38;5;28mself\u001b[39m\u001b[38;5;241m.\u001b[39m_potential_fn \u001b[38;5;129;01mand\u001b[39;00m init_params \u001b[38;5;129;01mis\u001b[39;00m \u001b[38;5;28;01mNone\u001b[39;00m:\n\u001b[0;32m    747\u001b[0m     \u001b[38;5;28;01mraise\u001b[39;00m \u001b[38;5;167;01mValueError\u001b[39;00m(\n\u001b[0;32m    748\u001b[0m         \u001b[38;5;124m\"\u001b[39m\u001b[38;5;124mValid value of `init_params` must be provided with\u001b[39m\u001b[38;5;124m\"\u001b[39m \u001b[38;5;124m\"\u001b[39m\u001b[38;5;124m `potential_fn`.\u001b[39m\u001b[38;5;124m\"\u001b[39m\n\u001b[0;32m    749\u001b[0m     )\n",
      "File \u001b[1;32mc:\\Users\\harrg\\AppData\\Local\\anaconda3\\envs\\wildcats\\Lib\\site-packages\\numpyro\\infer\\hmc.py:687\u001b[0m, in \u001b[0;36mHMC._init_state\u001b[1;34m(self, rng_key, model_args, model_kwargs, init_params)\u001b[0m\n\u001b[0;32m    680\u001b[0m \u001b[38;5;28;01mdef\u001b[39;00m \u001b[38;5;21m_init_state\u001b[39m(\u001b[38;5;28mself\u001b[39m, rng_key, model_args, model_kwargs, init_params):\n\u001b[0;32m    681\u001b[0m     \u001b[38;5;28;01mif\u001b[39;00m \u001b[38;5;28mself\u001b[39m\u001b[38;5;241m.\u001b[39m_model \u001b[38;5;129;01mis\u001b[39;00m \u001b[38;5;129;01mnot\u001b[39;00m \u001b[38;5;28;01mNone\u001b[39;00m:\n\u001b[0;32m    682\u001b[0m         (\n\u001b[0;32m    683\u001b[0m             new_init_params,\n\u001b[0;32m    684\u001b[0m             potential_fn,\n\u001b[0;32m    685\u001b[0m             postprocess_fn,\n\u001b[0;32m    686\u001b[0m             model_trace,\n\u001b[1;32m--> 687\u001b[0m         ) \u001b[38;5;241m=\u001b[39m \u001b[43minitialize_model\u001b[49m\u001b[43m(\u001b[49m\n\u001b[0;32m    688\u001b[0m \u001b[43m            \u001b[49m\u001b[43mrng_key\u001b[49m\u001b[43m,\u001b[49m\n\u001b[0;32m    689\u001b[0m \u001b[43m            \u001b[49m\u001b[38;5;28;43mself\u001b[39;49m\u001b[38;5;241;43m.\u001b[39;49m\u001b[43m_model\u001b[49m\u001b[43m,\u001b[49m\n\u001b[0;32m    690\u001b[0m \u001b[43m            \u001b[49m\u001b[43mdynamic_args\u001b[49m\u001b[38;5;241;43m=\u001b[39;49m\u001b[38;5;28;43;01mTrue\u001b[39;49;00m\u001b[43m,\u001b[49m\n\u001b[0;32m    691\u001b[0m \u001b[43m            \u001b[49m\u001b[43minit_strategy\u001b[49m\u001b[38;5;241;43m=\u001b[39;49m\u001b[38;5;28;43mself\u001b[39;49m\u001b[38;5;241;43m.\u001b[39;49m\u001b[43m_init_strategy\u001b[49m\u001b[43m,\u001b[49m\n\u001b[0;32m    692\u001b[0m \u001b[43m            \u001b[49m\u001b[43mmodel_args\u001b[49m\u001b[38;5;241;43m=\u001b[39;49m\u001b[43mmodel_args\u001b[49m\u001b[43m,\u001b[49m\n\u001b[0;32m    693\u001b[0m \u001b[43m            \u001b[49m\u001b[43mmodel_kwargs\u001b[49m\u001b[38;5;241;43m=\u001b[39;49m\u001b[43mmodel_kwargs\u001b[49m\u001b[43m,\u001b[49m\n\u001b[0;32m    694\u001b[0m \u001b[43m            \u001b[49m\u001b[43mforward_mode_differentiation\u001b[49m\u001b[38;5;241;43m=\u001b[39;49m\u001b[38;5;28;43mself\u001b[39;49m\u001b[38;5;241;43m.\u001b[39;49m\u001b[43m_forward_mode_differentiation\u001b[49m\u001b[43m,\u001b[49m\n\u001b[0;32m    695\u001b[0m \u001b[43m        \u001b[49m\u001b[43m)\u001b[49m\n\u001b[0;32m    696\u001b[0m         \u001b[38;5;28;01mif\u001b[39;00m init_params \u001b[38;5;129;01mis\u001b[39;00m \u001b[38;5;28;01mNone\u001b[39;00m:\n\u001b[0;32m    697\u001b[0m             init_params \u001b[38;5;241m=\u001b[39m new_init_params\n",
      "File \u001b[1;32mc:\\Users\\harrg\\AppData\\Local\\anaconda3\\envs\\wildcats\\Lib\\site-packages\\numpyro\\infer\\util.py:748\u001b[0m, in \u001b[0;36minitialize_model\u001b[1;34m(rng_key, model, init_strategy, dynamic_args, model_args, model_kwargs, forward_mode_differentiation, validate_grad)\u001b[0m\n\u001b[0;32m    735\u001b[0m                             w\u001b[38;5;241m.\u001b[39mmessage\u001b[38;5;241m.\u001b[39margs \u001b[38;5;241m=\u001b[39m (\n\u001b[0;32m    736\u001b[0m                                 \u001b[38;5;124m\"\u001b[39m\u001b[38;5;124mSite \u001b[39m\u001b[38;5;132;01m{}\u001b[39;00m\u001b[38;5;124m: \u001b[39m\u001b[38;5;132;01m{}\u001b[39;00m\u001b[38;5;124m\"\u001b[39m\u001b[38;5;241m.\u001b[39mformat(\n\u001b[0;32m    737\u001b[0m                                     site[\u001b[38;5;124m\"\u001b[39m\u001b[38;5;124mname\u001b[39m\u001b[38;5;124m\"\u001b[39m], w\u001b[38;5;241m.\u001b[39mmessage\u001b[38;5;241m.\u001b[39margs[\u001b[38;5;241m0\u001b[39m]\n\u001b[0;32m    738\u001b[0m                                 ),\n\u001b[0;32m    739\u001b[0m                             ) \u001b[38;5;241m+\u001b[39m w\u001b[38;5;241m.\u001b[39mmessage\u001b[38;5;241m.\u001b[39margs[\u001b[38;5;241m1\u001b[39m:]\n\u001b[0;32m    740\u001b[0m                             warnings\u001b[38;5;241m.\u001b[39mshowwarning(\n\u001b[0;32m    741\u001b[0m                                 w\u001b[38;5;241m.\u001b[39mmessage,\n\u001b[0;32m    742\u001b[0m                                 w\u001b[38;5;241m.\u001b[39mcategory,\n\u001b[1;32m   (...)\u001b[0m\n\u001b[0;32m    746\u001b[0m                                 line\u001b[38;5;241m=\u001b[39mw\u001b[38;5;241m.\u001b[39mline,\n\u001b[0;32m    747\u001b[0m                             )\n\u001b[1;32m--> 748\u001b[0m         \u001b[38;5;28;01mraise\u001b[39;00m \u001b[38;5;167;01mRuntimeError\u001b[39;00m(\n\u001b[0;32m    749\u001b[0m             \u001b[38;5;124m\"\u001b[39m\u001b[38;5;124mCannot find valid initial parameters. Please check your model again.\u001b[39m\u001b[38;5;124m\"\u001b[39m\n\u001b[0;32m    750\u001b[0m         )\n\u001b[0;32m    751\u001b[0m \u001b[38;5;28;01mreturn\u001b[39;00m ModelInfo(\n\u001b[0;32m    752\u001b[0m     ParamInfo(init_params, pe, grad), potential_fn, postprocess_fn, model_trace\n\u001b[0;32m    753\u001b[0m )\n",
      "\u001b[1;31mRuntimeError\u001b[0m: Cannot find valid initial parameters. Please check your model again."
     ]
    }
   ],
   "source": [
    "from numpyro.infer import MCMC, NUTS\n",
    "mcmc = MCMC(NUTS(model), num_warmup=1000, num_samples=5000)\n",
    "key, subkey = jr.split(key)\n",
    "mcmc.run(subkey, obs=x_o_t)"
   ]
  },
  {
   "cell_type": "code",
   "execution_count": 16,
   "id": "927d7735-7a5e-481b-a85d-50629d83ac99",
   "metadata": {},
   "outputs": [
    {
     "data": {
      "text/plain": [
       "([], [])"
      ]
     },
     "execution_count": 16,
     "metadata": {},
     "output_type": "execute_result"
    },
    {
     "data": {
      "image/png": "[encoded data removed]",
      "text/plain": [
       "<Figure size 640x480 with 1 Axes>"
      ]
     },
     "metadata": {},
     "output_type": "display_data"
    }
   ],
   "source": [
    "inferred_errors = mcmc.get_samples()[\"noise\"]\n",
    "\n",
    "mean_abs_error = jnp.abs(inferred_errors).mean(axis=0)\n",
    "plt.bar(x=[f\"s{i}\" for i in range(n_summaries)], height=mean_abs_error)\n",
    "plt.ylabel(\"mean absolute noise (from posterior over noise)\")\n",
    "plt.xlabel(\"summary statistics\")\n",
    "plt.xticks([])"
   ]
  },
  {
   "cell_type": "code",
   "execution_count": 17,
   "id": "40d488e2-03b5-4553-b6c6-2a5668e04591",
   "metadata": {},
   "outputs": [],
   "source": [
    "error = mean_abs_error.tolist()\n",
    "error_dict = dict(zip(stats, error))"
   ]
  },
  {
   "cell_type": "code",
   "execution_count": 18,
   "id": "8ebde4f9-5a1a-4b89-b98b-41b05f14e9c9",
   "metadata": {},
   "outputs": [
    {
     "data": {
      "text/plain": [
       "{'tajimas_d_domestic': 1.2412948608398438,\n",
       " 'tajimas_d_captive': 1.4359326362609863,\n",
       " 'relatedness_domestic_scot': 1.0423351526260376,\n",
       " 'fst_domestic_captive': 1.1570831537246704,\n",
       " 'f3_domestic_scot_captive': 1.160003900527954}"
      ]
     },
     "execution_count": 18,
     "metadata": {},
     "output_type": "execute_result"
    }
   ],
   "source": [
    "misspecified = {k: v for k, v in error_dict.items() if v > 1\n",
    "               }\n",
    "misspecified"
   ]
  },
  {
   "cell_type": "code",
   "execution_count": 19,
   "id": "d8a618d1-55fe-4a35-af90-c9a289a82c8e",
   "metadata": {},
   "outputs": [
    {
     "data": {
      "text/plain": [
       "dict_keys(['tajimas_d_domestic', 'tajimas_d_captive', 'relatedness_domestic_scot', 'fst_domestic_captive', 'f3_domestic_scot_captive'])"
      ]
     },
     "execution_count": 19,
     "metadata": {},
     "output_type": "execute_result"
    }
   ],
   "source": [
    "misspecified.keys()"
   ]
  },
  {
   "cell_type": "code",
   "execution_count": null,
   "id": "54b5a418-e003-4ee1-899c-87e131ba4bd8",
   "metadata": {},
   "outputs": [],
   "source": [
    "# iter 1 (>1)\n",
    "{'tajimas_d_domestic': 1.2412948608398438,\n",
    " 'tajimas_d_captive': 1.4359326362609863,\n",
    " 'relatedness_domestic_scot': 1.0423351526260376,\n",
    " 'fst_domestic_captive': 1.1570831537246704,\n",
    " 'f3_domestic_scot_captive': 1.160003900527954}"
   ]
  }
 ],
 "metadata": {
  "kernelspec": {
   "display_name": "wildcats",
   "language": "python",
   "name": "python3"
  },
  "language_info": {
   "codemirror_mode": {
    "name": "ipython",
    "version": 3
   },
   "file_extension": ".py",
   "mimetype": "text/x-python",
   "name": "python",
   "nbconvert_exporter": "python",
   "pygments_lexer": "ipython3",
   "version": "3.12.2"
  }
 },
 "nbformat": 4,
 "nbformat_minor": 5
}
