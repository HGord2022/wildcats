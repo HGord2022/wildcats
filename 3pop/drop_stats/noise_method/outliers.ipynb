{
 "cells": [
  {
   "cell_type": "code",
   "execution_count": 1,
   "id": "c9c239e0-f52f-43af-8e63-f5178a2fce2b",
   "metadata": {
    "tags": []
   },
   "outputs": [],
   "source": [
    "from flowjax.train.data_fit import fit_to_data\n",
    "from flowjax.train.losses import ContrastiveLoss\n",
    "from flowjax.flows import masked_autoregressive_flow as MaskedAutoregressiveFlow\n",
    "from flowjax.distributions import Normal, Laplace\n",
    "import jax.numpy as jnp\n",
    "import jax.random as jr\n",
    "import matplotlib.pyplot as plt\n",
    "import numpy as np\n",
    "from sklearn.preprocessing import StandardScaler\n",
    "from jax import vmap\n",
    "import pandas as pd"
   ]
  },
  {
   "cell_type": "code",
   "execution_count": 3,
   "id": "60434d89-28e9-43a4-9b4b-83405d591553",
   "metadata": {
    "tags": []
   },
   "outputs": [],
   "source": [
    "#observed data\n",
    "filename = \"./observed_stats.csv\"\n",
    "x_o = pd.read_csv(filename)\n",
    "#simulated data\n",
    "filename2 = \"./summary_stats_r1.csv\"\n",
    "x = pd.read_csv(filename2)"
   ]
  },
  {
   "cell_type": "code",
   "execution_count": 6,
   "id": "f83fd145-4749-411c-873f-14722261beaa",
   "metadata": {},
   "outputs": [],
   "source": [
    "to_drop = [#correlation >0.99\n",
    "    \"y1_domestic\",\n",
    "    \"y1_scot\",\n",
    "    \"y1_captive\",\n",
    "    \"y1_eu\",\n",
    "    \"y1_lyb\",\n",
    "    \"y3_domestic_captive_lyb\",\n",
    "    \"divergence_domestic_eu\",\n",
    "    \"y3_domestic_scot_lyb\",\n",
    "    \"y3_domestic_eu_lyb\",\n",
    "    \"divergence_captive_lyb\",\n",
    "    \"segregating_sites_lyb\",\n",
    "    \"segregating_sites_eu\",\n",
    "    \"divergence_scot_lyb\",\n",
    "    \"f4_domestic_scot_captive_lyb\",\n",
    "    \"f4_domestic_captive_eu_lyb\",\n",
    "    \"f4_domestic_scot_eu_lyb\",\n",
    "    \"diversity_domestic\",\n",
    "    \"y3_domestic_scot_captive\",\n",
    "    \"y3_scot_captive_eu\",\n",
    "    \"f2_domestic_eu\",\n",
    "    \"y2_domestic_lyb\",\n",
    "    \"y3_scot_captive_lyb\",\n",
    "    \"divergence_captive_eu\",\n",
    "    \"pc1_dist_domestic_eu\"]"
   ]
  },
  {
   "cell_type": "code",
   "execution_count": 3,
   "id": "a13f5f6f-1150-418f-aa5b-fb7ae90d4798",
   "metadata": {},
   "outputs": [],
   "source": [
    "to_drop = [#correlation >0.99\n",
    "    \"y1_domestic\",\n",
    "    \"y1_scot\",\n",
    "    \"y1_captive\",\n",
    "    \"y1_eu\",\n",
    "    \"y1_lyb\",\n",
    "    \"y3_domestic_captive_lyb\",\n",
    "    \"divergence_domestic_eu\",\n",
    "    \"y3_domestic_scot_lyb\",\n",
    "    \"y3_domestic_eu_lyb\",\n",
    "    \"divergence_captive_lyb\",\n",
    "    \"segregating_sites_lyb\",\n",
    "    \"segregating_sites_eu\",\n",
    "    \"divergence_scot_lyb\",\n",
    "    \"f4_domestic_scot_captive_lyb\",\n",
    "    \"f4_domestic_captive_eu_lyb\",\n",
    "    \"f4_domestic_scot_eu_lyb\",\n",
    "    \"diversity_domestic\",\n",
    "    \"y3_domestic_scot_captive\",\n",
    "    \"y3_scot_captive_eu\",\n",
    "    \"f2_domestic_eu\",\n",
    "    \"y2_domestic_lyb\",\n",
    "    \"y3_scot_captive_lyb\",\n",
    "    \"divergence_captive_eu\",\n",
    "    \"pc1_dist_domestic_eu\",\n",
    "    # outlier noise model method r1 (>1)\n",
    "    'tajimas_d_eu',\n",
    "    'relatedness_domestic_lyb',\n",
    "    'pc1_iqr_domestic',\n",
    "    'pc1_iqr_eu',\n",
    "    'pc1_iqr_lyb',\n",
    "    'pc2_iqr_domestic',\n",
    "    'pc2_iqr_lyb',\n",
    "    # outlier noise model method r2 (>0.8)\n",
    "    'relatedness_captive_lyb',\n",
    "    'pc1_median_eu',\n",
    "    'pc2_dist_domestic_lyb']\n",
    "\n",
    "{'tajimas_d_eu': 2.924356698989868,\n",
    " 'relatedness_domestic_lyb': 1.0065529346466064,\n",
    " 'pc1_median_eu': 0.8109098672866821,\n",
    " 'pc2_median_lyb': 0.8232396245002747,\n",
    " 'pc1_iqr_domestic': 2.226839542388916,\n",
    " 'pc1_iqr_eu': 5.434721946716309,\n",
    " 'pc1_iqr_lyb': 2.033045768737793,\n",
    " 'pc2_iqr_domestic': 2.554408073425293,\n",
    " 'pc2_iqr_lyb': 9.832843780517578}\n",
    "\n",
    "{'tajimas_d_eu': 2.9451754093170166,\n",
    " 'relatedness_domestic_lyb': 1.0059717893600464,\n",
    " 'pc1_median_eu': 0.8189070820808411,\n",
    " 'pc2_median_lyb': 0.8371109962463379,\n",
    " 'pc1_iqr_domestic': 2.2041139602661133,\n",
    " 'pc1_iqr_eu': 5.41973352432251,\n",
    " 'pc1_iqr_lyb': 1.970677137374878,\n",
    " 'pc2_iqr_domestic': 2.5619406700134277,\n",
    " 'pc2_iqr_lyb': 9.789983749389648}"
   ]
  },
  {
   "cell_type": "code",
   "execution_count": null,
   "id": "8ecbeeb4-8a5c-496b-b394-26d8ac065bfa",
   "metadata": {
    "tags": []
   },
   "outputs": [
    {
     "data": {
      "text/plain": [
       "(9215, 135)"
      ]
     },
     "execution_count": 4,
     "metadata": {},
     "output_type": "execute_result"
    }
   ],
   "source": [
    "combined_x = pd.concat([x, x_o], ignore_index=True)\n",
    "combined_x = combined_x.drop(columns=to_drop)\n",
    "stats = combined_x.columns\n",
    "combined_x = combined_x.to_numpy(dtype=np.float32)\n",
    "np.shape(combined_x)"
   ]
  },
  {
   "cell_type": "code",
   "execution_count": 7,
   "id": "0007e58a-5a6f-481e-8347-26ea991e1d0f",
   "metadata": {
    "tags": []
   },
   "outputs": [
    {
     "name": "stdout",
     "output_type": "stream",
     "text": [
      "combined_x shape (9215, 135)\n",
      "x_t shape (9214, 135)\n",
      "x_o_t shape (1, 135)\n"
     ]
    }
   ],
   "source": [
    "#normalise data\n",
    "x_scaler = StandardScaler()\n",
    "print(\"combined_x shape\", np.shape(combined_x))\n",
    "combined_x_t = x_scaler.fit_transform(combined_x)\n",
    "x_t = np.float32(combined_x_t[0:9214])\n",
    "x_o_t = np.float32(combined_x_t[9214])\n",
    "x_o_t = np.reshape(x_o_t, (1,-1))\n",
    "print(\"x_t shape\", np.shape(x_t))\n",
    "print(\"x_o_t shape\", np.shape(x_o_t))"
   ]
  },
  {
   "cell_type": "code",
   "execution_count": 8,
   "id": "e89e92ac-c0bf-4e5a-aaa9-016d00cfb10b",
   "metadata": {
    "tags": []
   },
   "outputs": [],
   "source": [
    "key, subkey = jr.split(jr.PRNGKey(2))\n",
    "#define prior\n",
    "n_summaries = 135\n",
    "\n",
    "unbounded_prior = Normal(jnp.zeros((n_summaries,)))"
   ]
  },
  {
   "cell_type": "code",
   "execution_count": 9,
   "id": "edfb817f-b1d0-4737-aea1-04be7c7d557f",
   "metadata": {
    "tags": []
   },
   "outputs": [],
   "source": [
    "flow = MaskedAutoregressiveFlow(\n",
    "    subkey,\n",
    "    base_dist=Normal(jnp.zeros((n_summaries,))),\n",
    ")"
   ]
  },
  {
   "cell_type": "code",
   "execution_count": 10,
   "id": "dd0f4828-1e73-420b-8353-aa4ababaa061",
   "metadata": {},
   "outputs": [],
   "source": [
    "import optax\n",
    "optimizer = optax.chain(\n",
    "        optax.clip_by_global_norm(1),\n",
    "        optax.adam(5e-4),\n",
    "    )"
   ]
  },
  {
   "cell_type": "code",
   "execution_count": 11,
   "id": "0cf93e07-3ee1-40b5-b0b4-a395ec3bf7f5",
   "metadata": {
    "tags": []
   },
   "outputs": [
    {
     "name": "stderr",
     "output_type": "stream",
     "text": [
      " 18%|█▊        | 265/1500 [08:25<39:17,  1.91s/it, train=-534.3127, val=-530.2864 (Max patience reached)]\n"
     ]
    }
   ],
   "source": [
    "\n",
    "fitted_flow, losses_r = fit_to_data(\n",
    "    key=subkey,\n",
    "    dist=flow,\n",
    "    x=x_t,\n",
    "    optimizer = optimizer,\n",
    "    max_epochs=1500,\n",
    "    batch_size = 50,\n",
    "    max_patience = 20\n",
    ")"
   ]
  },
  {
   "cell_type": "code",
   "execution_count": 12,
   "id": "ec09792d-64a8-40bb-9e9a-22cdf3bb4b9d",
   "metadata": {
    "tags": []
   },
   "outputs": [
    {
     "data": {
      "text/plain": [
       "<matplotlib.legend.Legend at 0x1e5e39d96a0>"
      ]
     },
     "execution_count": 12,
     "metadata": {},
     "output_type": "execute_result"
    },
    {
     "data": {
      "image/png": "[encoded data removed]",
      "text/plain": [
       "<Figure size 640x480 with 1 Axes>"
      ]
     },
     "metadata": {},
     "output_type": "display_data"
    }
   ],
   "source": [
    "for k, v in losses_r.items():\n",
    "    plt.plot(v, label=k)\n",
    "plt.legend()"
   ]
  },
  {
   "cell_type": "code",
   "execution_count": 13,
   "id": "7a379ff3-8d47-47c2-9d7b-a71d765e6f8c",
   "metadata": {},
   "outputs": [
    {
     "data": {
      "text/plain": [
       "Array([-inf], dtype=float32)"
      ]
     },
     "execution_count": 13,
     "metadata": {},
     "output_type": "execute_result"
    }
   ],
   "source": [
    "posterior = fitted_flow\n",
    "posterior.log_prob(x_o_t)"
   ]
  },
  {
   "cell_type": "code",
   "execution_count": null,
   "id": "9c0086d3-fba6-4dfc-a99f-ae35fbafd61b",
   "metadata": {},
   "outputs": [],
   "source": [
    "Array([-2893.844], dtype=float32)"
   ]
  },
  {
   "cell_type": "code",
   "execution_count": null,
   "id": "69f6f16b-cf93-4b22-9dca-c27f6183b590",
   "metadata": {},
   "outputs": [],
   "source": [
    "Array([-6476.0303], dtype=float32)"
   ]
  },
  {
   "cell_type": "markdown",
   "id": "666f931d-6cb8-408a-96b6-46909e5c57da",
   "metadata": {},
   "source": [
    "#### Stat + error method"
   ]
  },
  {
   "cell_type": "code",
   "execution_count": 14,
   "id": "fb074a49-7d06-40be-83e3-65fce5da9994",
   "metadata": {
    "tags": []
   },
   "outputs": [],
   "source": [
    "from flowjax.experimental.numpyro import sample\n",
    "\n",
    "\n",
    "def model(obs=None):  # This is a numpyro probabilistic program\n",
    "    noise_prior = Laplace(jnp.zeros((n_summaries, )), 1)\n",
    "    error = sample(\"noise\", noise_prior)\n",
    "    denoised_obs = obs - error\n",
    "    sample(\"x\", flow, obs=denoised_obs)"
   ]
  },
  {
   "cell_type": "code",
   "execution_count": 15,
   "id": "ab3f702f-21f4-41f0-aa03-ffd1e264e223",
   "metadata": {},
   "outputs": [
    {
     "name": "stderr",
     "output_type": "stream",
     "text": [
      "sample: 100%|██████████| 6000/6000 [01:17<00:00, 77.00it/s, 3 steps of size 3.02e-19. acc. prob=0.92]\n"
     ]
    }
   ],
   "source": [
    "from numpyro.infer import MCMC, NUTS\n",
    "mcmc = MCMC(NUTS(model), num_warmup=1000, num_samples=5000)\n",
    "key, subkey = jr.split(key)\n",
    "mcmc.run(subkey, obs=x_o_t)"
   ]
  },
  {
   "cell_type": "code",
   "execution_count": 16,
   "id": "927d7735-7a5e-481b-a85d-50629d83ac99",
   "metadata": {},
   "outputs": [
    {
     "data": {
      "text/plain": [
       "([], [])"
      ]
     },
     "execution_count": 16,
     "metadata": {},
     "output_type": "execute_result"
    },
    {
     "data": {
      "image/png": "[encoded data removed]",
      "text/plain": [
       "<Figure size 640x480 with 1 Axes>"
      ]
     },
     "metadata": {},
     "output_type": "display_data"
    }
   ],
   "source": [
    "inferred_errors = mcmc.get_samples()[\"noise\"]\n",
    "\n",
    "mean_abs_error = jnp.abs(inferred_errors).mean(axis=0)\n",
    "plt.bar(x=[f\"s{i}\" for i in range(n_summaries)], height=mean_abs_error)\n",
    "plt.ylabel(\"mean absolute noise (from posterior over noise)\")\n",
    "plt.xlabel(\"summary statistics\")\n",
    "plt.xticks([])"
   ]
  },
  {
   "cell_type": "code",
   "execution_count": 31,
   "id": "40d488e2-03b5-4553-b6c6-2a5668e04591",
   "metadata": {},
   "outputs": [],
   "source": [
    "error = mean_abs_error.tolist()\n",
    "error_dict = dict(zip(stats, error))"
   ]
  },
  {
   "cell_type": "code",
   "execution_count": 32,
   "id": "8ebde4f9-5a1a-4b89-b98b-41b05f14e9c9",
   "metadata": {},
   "outputs": [
    {
     "data": {
      "text/plain": [
       "{'tajimas_d_eu': 2.9451754093170166,\n",
       " 'relatedness_domestic_lyb': 1.0059717893600464,\n",
       " 'pc1_median_eu': 0.8189070820808411,\n",
       " 'pc2_median_lyb': 0.8371109962463379,\n",
       " 'pc1_iqr_domestic': 2.2041139602661133,\n",
       " 'pc1_iqr_eu': 5.41973352432251,\n",
       " 'pc1_iqr_lyb': 1.970677137374878,\n",
       " 'pc2_iqr_domestic': 2.5619406700134277,\n",
       " 'pc2_iqr_lyb': 9.789983749389648}"
      ]
     },
     "execution_count": 32,
     "metadata": {},
     "output_type": "execute_result"
    }
   ],
   "source": [
    "misspecified = {k: v for k, v in error_dict.items() if v > 0.8\n",
    "               }\n",
    "misspecified"
   ]
  },
  {
   "cell_type": "code",
   "execution_count": 43,
   "id": "d8a618d1-55fe-4a35-af90-c9a289a82c8e",
   "metadata": {},
   "outputs": [
    {
     "data": {
      "text/plain": [
       "dict_keys(['relatedness_captive_lyb', 'pc1_median_eu', 'pc2_dist_domestic_lyb'])"
      ]
     },
     "execution_count": 43,
     "metadata": {},
     "output_type": "execute_result"
    }
   ],
   "source": [
    "misspecified.keys()"
   ]
  },
  {
   "cell_type": "code",
   "execution_count": null,
   "id": "170bac14-af98-44e7-8abb-77fa6cb609ca",
   "metadata": {},
   "outputs": [],
   "source": [
    "{'tajimas_d_eu': 2.924356698989868,\n",
    " 'relatedness_domestic_lyb': 1.0065529346466064,\n",
    " 'pc1_iqr_domestic': 2.226839542388916,\n",
    " 'pc1_iqr_eu': 5.434721946716309,\n",
    " 'pc1_iqr_lyb': 2.033045768737793,\n",
    " 'pc2_iqr_domestic': 2.554408073425293,\n",
    " 'pc2_iqr_lyb': 9.832843780517578}"
   ]
  },
  {
   "cell_type": "code",
   "execution_count": null,
   "id": "54b5a418-e003-4ee1-899c-87e131ba4bd8",
   "metadata": {},
   "outputs": [],
   "source": [
    "# iter 1.1 (1)\n",
    "{'tajimas_d_eu': 2.7469213008880615,\n",
    " 'pc1_iqr_domestic': 2.56209135055542,\n",
    " 'pc1_iqr_eu': 4.763359069824219,\n",
    " 'pc1_iqr_lyb': 2.1821603775024414,\n",
    " 'pc2_iqr_domestic': 2.159055709838867,\n",
    " 'pc2_iqr_lyb': 9.031184196472168}"
   ]
  },
  {
   "cell_type": "code",
   "execution_count": null,
   "id": "b54e380b-9fc4-462e-b02e-c946154c2a87",
   "metadata": {},
   "outputs": [],
   "source": [
    "# iter 1.2 (0.7)\n",
    "{'relatedness_domestic_lyb': 0.823789656162262,\n",
    " 'fst_domestic_lyb': 0.8101553320884705}"
   ]
  },
  {
   "cell_type": "code",
   "execution_count": null,
   "id": "7496f779-f46e-483e-be24-1801529313e3",
   "metadata": {},
   "outputs": [],
   "source": [
    "# iter 1\n",
    "{'relatedness_captive_lyb': 1.1016290187835693,\n",
    " 'fst_scot_lyb': 1.277429461479187,\n",
    " 'pc2_dist_domestic_lyb': 1.1340640783309937,\n",
    " 'pc2_dist_scot_lyb': 1.3770017623901367}"
   ]
  },
  {
   "cell_type": "code",
   "execution_count": null,
   "id": "223a239e-3809-468d-9f34-ef1b622802de",
   "metadata": {},
   "outputs": [],
   "source": [
    "# iter 2\n",
    "{'relatedness_scot_lyb': 1.4759607315063477}"
   ]
  },
  {
   "cell_type": "code",
   "execution_count": null,
   "id": "aaa03286-c8c6-4b4d-b02b-75780076e163",
   "metadata": {
    "tags": []
   },
   "outputs": [],
   "source": [
    "misspecified_stats\n",
    " \n",
    "pc1_iqr_domestic\n",
    "pc1_iqr_eu\n",
    "pc1_iqr_lyb\n",
    "pc2_iqr_domestic\n",
    "pc2_iqr_lyb\n"
   ]
  }
 ],
 "metadata": {
  "kernelspec": {
   "display_name": "wildcats",
   "language": "python",
   "name": "python3"
  },
  "language_info": {
   "codemirror_mode": {
    "name": "ipython",
    "version": 3
   },
   "file_extension": ".py",
   "mimetype": "text/x-python",
   "name": "python",
   "nbconvert_exporter": "python",
   "pygments_lexer": "ipython3",
   "version": "3.12.2"
  }
 },
 "nbformat": 4,
 "nbformat_minor": 5
}
