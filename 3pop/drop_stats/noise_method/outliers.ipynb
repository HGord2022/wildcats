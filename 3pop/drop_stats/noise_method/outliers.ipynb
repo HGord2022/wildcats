{
 "cells": [
  {
   "cell_type": "code",
   "execution_count": 23,
   "id": "c9c239e0-f52f-43af-8e63-f5178a2fce2b",
   "metadata": {
    "tags": []
   },
   "outputs": [],
   "source": [
    "from flowjax.train import fit_to_data\n",
    "from flowjax.train.losses import ContrastiveLoss\n",
    "from flowjax.flows import masked_autoregressive_flow as MaskedAutoregressiveFlow\n",
    "from flowjax.distributions import Normal, Laplace\n",
    "import jax.numpy as jnp\n",
    "import jax.random as jr\n",
    "import matplotlib.pyplot as plt\n",
    "import numpy as np\n",
    "from sklearn.preprocessing import StandardScaler\n",
    "from jax import vmap\n",
    "import pandas as pd\n",
    "from flowjax.train.losses import MaximumLikelihoodLoss\n",
    "from flowjax.bijections import Affine, Invert\n",
    "from jax import vmap\n",
    "import jax"
   ]
  },
  {
   "cell_type": "code",
   "execution_count": 24,
   "id": "60434d89-28e9-43a4-9b4b-83405d591553",
   "metadata": {
    "tags": []
   },
   "outputs": [],
   "source": [
    "#observed data\n",
    "filename = \"../../simulation/observed_data/observed_stats_3pop.csv\"\n",
    "x_o = pd.read_csv(filename)\n",
    "#simulated data\n",
    "filename2 = \"../../simulation/output/round_1/summary_stats_r1.csv\"\n",
    "x = pd.read_csv(filename2)"
   ]
  },
  {
   "cell_type": "code",
   "execution_count": null,
   "id": "f83fd145-4749-411c-873f-14722261beaa",
   "metadata": {},
   "outputs": [],
   "source": [
    "to_drop = [ #correlation >0.99\n",
    "    \"diversity_domestic\",\n",
    "    \"relatedness_domestic_captive\",\n",
    "    \"y2_domestic_captive\",\n",
    "    \"segregating_sites_captive\",\n",
    "    ### outlier method >1\n",
    "    'segregating_sites_domestic',\n",
    "    'divergence_domestic_scot',\n",
    "    'y3_domestic_scot_captive',\n",
    "    'pc2_median_domestic',\n",
    "    'pc2_median_scot',\n",
    "    'pc1_iqr_domestic',\n",
    "    'pc2_iqr_domestic',\n",
    "    'pc1_dist_domestic_captive',\n",
    "    'pc2_dist_domestic_scot',\n",
    "    'pc2_dist_domestic_captive',\n",
    "    ### outlier method >0.9\n",
    "    'y2_domestic_scot',\n",
    "    'pc2_dist_scot_captive'\n",
    "          ]"
   ]
  },
  {
   "cell_type": "code",
   "execution_count": 26,
   "id": "8ecbeeb4-8a5c-496b-b394-26d8ac065bfa",
   "metadata": {
    "tags": []
   },
   "outputs": [
    {
     "data": {
      "text/plain": [
       "(9290, 30)"
      ]
     },
     "execution_count": 26,
     "metadata": {},
     "output_type": "execute_result"
    }
   ],
   "source": [
    "combined_x = pd.concat([x, x_o], ignore_index=True)\n",
    "combined_x = combined_x.drop(columns=to_drop)\n",
    "stats = combined_x.columns\n",
    "combined_x = combined_x.to_numpy(dtype=np.float32)\n",
    "np.shape(combined_x)"
   ]
  },
  {
   "cell_type": "code",
   "execution_count": 27,
   "id": "131a05f8",
   "metadata": {},
   "outputs": [],
   "source": [
    "preprocess_x = Affine(-combined_x.mean(axis=0)/combined_x.std(axis=0), 1/combined_x.std(axis=0))"
   ]
  },
  {
   "cell_type": "code",
   "execution_count": 28,
   "id": "3d6454da",
   "metadata": {},
   "outputs": [
    {
     "name": "stdout",
     "output_type": "stream",
     "text": [
      "combined_x shape (9290, 30)\n",
      "x_t shape (9289, 30)\n",
      "x_o_t shape (1, 30)\n"
     ]
    }
   ],
   "source": [
    "print(\"combined_x shape\", np.shape(combined_x))\n",
    "combined_x_t = jax.vmap(preprocess_x.transform)(combined_x)\n",
    "x_t = np.float32(combined_x_t[0:9289])\n",
    "x_o_t = np.float32(combined_x_t[9289])\n",
    "x_o_t = np.reshape(x_o_t, (1,-1))\n",
    "print(\"x_t shape\", np.shape(x_t))\n",
    "print(\"x_o_t shape\", np.shape(x_o_t))"
   ]
  },
  {
   "cell_type": "code",
   "execution_count": 30,
   "id": "e89e92ac-c0bf-4e5a-aaa9-016d00cfb10b",
   "metadata": {
    "tags": []
   },
   "outputs": [],
   "source": [
    "key, subkey = jr.split(jr.PRNGKey(2))\n",
    "#define prior\n",
    "n_summaries = 30\n",
    "\n",
    "unbounded_prior = Normal(jnp.zeros((n_summaries,)))"
   ]
  },
  {
   "cell_type": "code",
   "execution_count": 31,
   "id": "edfb817f-b1d0-4737-aea1-04be7c7d557f",
   "metadata": {
    "tags": []
   },
   "outputs": [],
   "source": [
    "flow = MaskedAutoregressiveFlow(\n",
    "    subkey,\n",
    "    base_dist=Normal(jnp.zeros((n_summaries,))),\n",
    ")"
   ]
  },
  {
   "cell_type": "code",
   "execution_count": 32,
   "id": "dd0f4828-1e73-420b-8353-aa4ababaa061",
   "metadata": {},
   "outputs": [],
   "source": [
    "import optax\n",
    "optimizer = optax.chain(\n",
    "        optax.clip_by_global_norm(1),\n",
    "        optax.adam(5e-4),\n",
    "    )"
   ]
  },
  {
   "cell_type": "code",
   "execution_count": 33,
   "id": "b3bdedb4",
   "metadata": {},
   "outputs": [],
   "source": [
    "loss_fn = MaximumLikelihoodLoss()"
   ]
  },
  {
   "cell_type": "code",
   "execution_count": 34,
   "id": "0cf93e07-3ee1-40b5-b0b4-a395ec3bf7f5",
   "metadata": {
    "tags": []
   },
   "outputs": [
    {
     "name": "stderr",
     "output_type": "stream",
     "text": [
      " 23%|██▎       | 342/1500 [00:37<02:06,  9.14it/s, train=-54.5, val=-51.9 (Max patience reached)]\n"
     ]
    }
   ],
   "source": [
    "\n",
    "fitted_flow, losses_r = fit_to_data(\n",
    "    key=subkey,\n",
    "    dist=flow,\n",
    "    loss_fn=loss_fn,\n",
    "    x=x_t,\n",
    "    optimizer = optimizer,\n",
    "    max_epochs=1500,\n",
    "    batch_size = 100,\n",
    "    max_patience = 30\n",
    ")"
   ]
  },
  {
   "cell_type": "code",
   "execution_count": 35,
   "id": "ec09792d-64a8-40bb-9e9a-22cdf3bb4b9d",
   "metadata": {
    "tags": []
   },
   "outputs": [
    {
     "data": {
      "text/plain": [
       "<matplotlib.legend.Legend at 0x36e7f1d50>"
      ]
     },
     "execution_count": 35,
     "metadata": {},
     "output_type": "execute_result"
    },
    {
     "data": {
      "image/png": "[encoded data removed]",
      "text/plain": [
       "<Figure size 640x480 with 1 Axes>"
      ]
     },
     "metadata": {},
     "output_type": "display_data"
    }
   ],
   "source": [
    "for k, v in losses_r.items():\n",
    "    plt.plot(v, label=k)\n",
    "plt.legend()"
   ]
  },
  {
   "cell_type": "code",
   "execution_count": 36,
   "id": "7a379ff3-8d47-47c2-9d7b-a71d765e6f8c",
   "metadata": {},
   "outputs": [
    {
     "data": {
      "text/plain": [
       "Array([-2844.0256], dtype=float32)"
      ]
     },
     "execution_count": 36,
     "metadata": {},
     "output_type": "execute_result"
    }
   ],
   "source": [
    "posterior = fitted_flow\n",
    "posterior.log_prob(x_o_t)"
   ]
  },
  {
   "cell_type": "markdown",
   "id": "9c0086d3-fba6-4dfc-a99f-ae35fbafd61b",
   "metadata": {},
   "source": [
    "round 1: Array([-2.75994e+08], dtype=float32)\n",
    "round 2: "
   ]
  },
  {
   "cell_type": "markdown",
   "id": "666f931d-6cb8-408a-96b6-46909e5c57da",
   "metadata": {},
   "source": [
    "#### Stat + error method"
   ]
  },
  {
   "cell_type": "code",
   "execution_count": 37,
   "id": "fb074a49-7d06-40be-83e3-65fce5da9994",
   "metadata": {
    "tags": []
   },
   "outputs": [],
   "source": [
    "from flowjax.experimental.numpyro import sample\n",
    "\n",
    "\n",
    "def model(obs=None):  # This is a numpyro probabilistic program\n",
    "    noise_prior = Laplace(jnp.zeros((n_summaries, )), 1)\n",
    "    error = sample(\"noise\", noise_prior)\n",
    "    denoised_obs = obs - error\n",
    "    sample(\"x\", flow, obs=denoised_obs)"
   ]
  },
  {
   "cell_type": "code",
   "execution_count": 38,
   "id": "ab3f702f-21f4-41f0-aa03-ffd1e264e223",
   "metadata": {},
   "outputs": [
    {
     "name": "stderr",
     "output_type": "stream",
     "text": [
      "sample: 100%|██████████| 6000/6000 [00:06<00:00, 910.70it/s, 15 steps of size 2.34e-01. acc. prob=0.80] \n"
     ]
    }
   ],
   "source": [
    "from numpyro.infer import MCMC, NUTS\n",
    "mcmc = MCMC(NUTS(model), num_warmup=1000, num_samples=5000)\n",
    "key, subkey = jr.split(key)\n",
    "mcmc.run(subkey, obs=x_o_t)"
   ]
  },
  {
   "cell_type": "code",
   "execution_count": 39,
   "id": "927d7735-7a5e-481b-a85d-50629d83ac99",
   "metadata": {},
   "outputs": [
    {
     "data": {
      "text/plain": [
       "([], [])"
      ]
     },
     "execution_count": 39,
     "metadata": {},
     "output_type": "execute_result"
    },
    {
     "data": {
      "image/png": "[encoded data removed]",
      "text/plain": [
       "<Figure size 640x480 with 1 Axes>"
      ]
     },
     "metadata": {},
     "output_type": "display_data"
    }
   ],
   "source": [
    "inferred_errors = mcmc.get_samples()[\"noise\"]\n",
    "\n",
    "mean_abs_error = jnp.abs(inferred_errors).mean(axis=0)\n",
    "plt.bar(x=[f\"s{i}\" for i in range(n_summaries)], height=mean_abs_error)\n",
    "plt.ylabel(\"mean absolute noise (from posterior over noise)\")\n",
    "plt.xlabel(\"summary statistics\")\n",
    "plt.xticks([])"
   ]
  },
  {
   "cell_type": "code",
   "execution_count": 40,
   "id": "40d488e2-03b5-4553-b6c6-2a5668e04591",
   "metadata": {},
   "outputs": [],
   "source": [
    "error = mean_abs_error.tolist()\n",
    "error_dict = dict(zip(stats, error))"
   ]
  },
  {
   "cell_type": "code",
   "execution_count": 42,
   "id": "8ebde4f9-5a1a-4b89-b98b-41b05f14e9c9",
   "metadata": {},
   "outputs": [
    {
     "data": {
      "text/plain": [
       "{'y2_domestic_scot': 0.9671251773834229,\n",
       " 'pc2_dist_scot_captive': 0.9506582021713257}"
      ]
     },
     "execution_count": 42,
     "metadata": {},
     "output_type": "execute_result"
    }
   ],
   "source": [
    "misspecified = {k: v for k, v in error_dict.items() if v > 0.9\n",
    "               }\n",
    "misspecified"
   ]
  },
  {
   "cell_type": "code",
   "execution_count": 19,
   "id": "d8a618d1-55fe-4a35-af90-c9a289a82c8e",
   "metadata": {},
   "outputs": [
    {
     "data": {
      "text/plain": [
       "dict_keys(['tajimas_d_domestic', 'tajimas_d_captive', 'relatedness_domestic_scot', 'fst_domestic_captive', 'f3_domestic_scot_captive'])"
      ]
     },
     "execution_count": 19,
     "metadata": {},
     "output_type": "execute_result"
    }
   ],
   "source": [
    "misspecified.keys()"
   ]
  },
  {
   "cell_type": "code",
   "execution_count": null,
   "id": "54b5a418-e003-4ee1-899c-87e131ba4bd8",
   "metadata": {},
   "outputs": [],
   "source": [
    "# iter 1 (>1)\n",
    "{'segregating_sites_domestic': 2.6293013095855713,\n",
    " 'divergence_domestic_scot': 1.0941779613494873,\n",
    " 'y3_domestic_scot_captive': 1.138970136642456,\n",
    " 'pc2_median_domestic': 5.104488849639893,\n",
    " 'pc2_median_scot': 1.2560690641403198,\n",
    " 'pc1_iqr_domestic': 84.52836608886719,\n",
    " 'pc2_iqr_domestic': 37.193138122558594,\n",
    " 'pc1_dist_domestic_captive': 1.1826246976852417,\n",
    " 'pc2_dist_domestic_scot': 3.8781538009643555,\n",
    " 'pc2_dist_domestic_captive': 2.9655535221099854}"
   ]
  }
 ],
 "metadata": {
  "kernelspec": {
   "display_name": "wildcats",
   "language": "python",
   "name": "python3"
  },
  "language_info": {
   "codemirror_mode": {
    "name": "ipython",
    "version": 3
   },
   "file_extension": ".py",
   "mimetype": "text/x-python",
   "name": "python",
   "nbconvert_exporter": "python",
   "pygments_lexer": "ipython3",
   "version": "3.11.5"
  }
 },
 "nbformat": 4,
 "nbformat_minor": 5
}
