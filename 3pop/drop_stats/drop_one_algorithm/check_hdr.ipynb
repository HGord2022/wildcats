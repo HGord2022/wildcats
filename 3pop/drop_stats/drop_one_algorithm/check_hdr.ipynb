{
 "cells": [
  {
   "cell_type": "code",
   "execution_count": 1,
   "metadata": {},
   "outputs": [],
   "source": [
    "from flowjax.train.data_fit import fit_to_data\n",
    "from flowjax.flows import masked_autoregressive_flow as MaskedAutoregressiveFlow\n",
    "from flowjax.distributions import Normal\n",
    "from flowjax.bijections import Affine, Invert\n",
    "import jax.numpy as jnp\n",
    "import jax.random as jr\n",
    "import matplotlib.pyplot as plt\n",
    "import numpy as np\n",
    "from jax import vmap\n",
    "import pandas as pd\n",
    "import jax\n",
    "from tqdm import tqdm_notebook"
   ]
  },
  {
   "cell_type": "code",
   "execution_count": 2,
   "metadata": {},
   "outputs": [
    {
     "name": "stdout",
     "output_type": "stream",
     "text": [
      "observed shape (1, 44)\n",
      "simulated shape (15000, 44)\n"
     ]
    }
   ],
   "source": [
    "#observed data\n",
    "filename = \"../noise_method/observed_stats_3pop.csv\"\n",
    "x_o = pd.read_csv(filename)\n",
    "print(\"observed shape\", np.shape(x_o))\n",
    "#simulated data\n",
    "filename2 = \"./summary_stats_r1_15k.csv\"\n",
    "x = pd.read_csv(filename2)\n",
    "print(\"simulated shape\", np.shape(x))"
   ]
  },
  {
   "cell_type": "code",
   "execution_count": 3,
   "metadata": {},
   "outputs": [],
   "source": [
    "to_drop = [#correlation >0.99\n",
    "    \"diversity_domestic\",\n",
    "    \"relatedness_domestic_captive\"\n",
    "    ]"
   ]
  },
  {
   "cell_type": "code",
   "execution_count": 4,
   "metadata": {},
   "outputs": [
    {
     "data": {
      "text/plain": [
       "(15001, 42)"
      ]
     },
     "execution_count": 4,
     "metadata": {},
     "output_type": "execute_result"
    }
   ],
   "source": [
    "combined_x = pd.concat([x, x_o], ignore_index=True)\n",
    "combined_x = combined_x.drop(columns=to_drop)\n",
    "statnames = combined_x.columns\n",
    "combined_x = combined_x.to_numpy(dtype=np.float32)\n",
    "np.shape(combined_x)"
   ]
  },
  {
   "cell_type": "code",
   "execution_count": 5,
   "metadata": {},
   "outputs": [
    {
     "name": "stdout",
     "output_type": "stream",
     "text": [
      "combined_x shape (15001, 42)\n",
      "x_t shape (10000, 42)\n",
      "x_o_t shape (1, 42)\n",
      "x_t_test shape (5000, 42)\n"
     ]
    }
   ],
   "source": [
    "preprocess_x = Affine(-combined_x.mean(axis=0)/combined_x.std(axis=0), 1/combined_x.std(axis=0))\n",
    "print(\"combined_x shape\", np.shape(combined_x))\n",
    "combined_x_t = jax.vmap(preprocess_x.transform)(combined_x)\n",
    "x_t = np.float32(combined_x_t[0:10000])\n",
    "x_t_test = np.float32(combined_x_t[10000:15000])\n",
    "x_o_t = np.float32(combined_x_t[15000])\n",
    "x_o_t = np.reshape(x_o_t, (1,-1))\n",
    "print(\"x_t shape\", np.shape(x_t))\n",
    "print(\"x_o_t shape\", np.shape(x_o_t))\n",
    "print(\"x_t_test shape\", np.shape(x_t_test))"
   ]
  },
  {
   "cell_type": "code",
   "execution_count": 6,
   "metadata": {},
   "outputs": [],
   "source": [
    "key, subkey = jr.split(jr.PRNGKey(2))\n",
    "#define prior\n",
    "n_summaries = len(statnames)\n",
    "unbounded_prior = Normal(jnp.zeros((n_summaries,)))\n",
    "\n",
    "flow = MaskedAutoregressiveFlow(\n",
    "    subkey,\n",
    "    base_dist=Normal(jnp.zeros((n_summaries,))),\n",
    ")\n",
    "\n",
    "import optax\n",
    "optimizer = optax.chain(\n",
    "        optax.clip_by_global_norm(1),\n",
    "        optax.adam(5e-5),\n",
    "    )"
   ]
  },
  {
   "cell_type": "code",
   "execution_count": null,
   "metadata": {},
   "outputs": [],
   "source": [
    "##loss_fn = MaximumLikelihoodLoss() ???"
   ]
  },
  {
   "cell_type": "code",
   "execution_count": null,
   "metadata": {},
   "outputs": [
    {
     "name": "stdout",
     "output_type": "stream",
     "text": [
      "fitting flow\n"
     ]
    },
    {
     "name": "stderr",
     "output_type": "stream",
     "text": [
      " 44%|████▍     | 878/2000 [13:42<17:30,  1.07it/s, train=-160.86092, val=-160.46545 (Max patience reached)]\n"
     ]
    }
   ],
   "source": [
    "\n",
    "print(\"fitting flow\")\n",
    "fitted_flow, losses_r = fit_to_data(\n",
    "    key=subkey,\n",
    "    dist=flow,\n",
    "    x=x_t,\n",
    "    optimizer = optimizer,\n",
    "    max_epochs=2000,\n",
    "    show_progress=True,\n",
    "    max_patience=20,\n",
    "    batch_size=25\n",
    ")"
   ]
  },
  {
   "cell_type": "code",
   "execution_count": 8,
   "metadata": {},
   "outputs": [
    {
     "name": "stdout",
     "output_type": "stream",
     "text": [
      "calculating log prob of observed\n",
      "calculating log prob of 5000 thetas from posterior\n"
     ]
    },
    {
     "name": "stderr",
     "output_type": "stream",
     "text": [
      "C:\\Users\\harrg\\AppData\\Local\\Temp\\ipykernel_17192\\2892161874.py:10: TqdmDeprecationWarning: This function will be removed in tqdm==5.0.0\n",
      "Please use `tqdm.notebook.tqdm` instead of `tqdm.tqdm_notebook`\n",
      "  for i in tqdm_notebook(range(len(samples))):\n"
     ]
    },
    {
     "data": {
      "application/vnd.jupyter.widget-view+json": {
       "model_id": "7c9ad1f0a6c0425da774cb5ed2ea1fa4",
       "version_major": 2,
       "version_minor": 0
      },
      "text/plain": [
       "  0%|          | 0/5000 [00:00<?, ?it/s]"
      ]
     },
     "metadata": {},
     "output_type": "display_data"
    }
   ],
   "source": [
    "# log prob of observation\n",
    "print(\"calculating log prob of observed\")\n",
    "posterior = fitted_flow\n",
    "obs = posterior.log_prob(x_o_t)\n",
    "\n",
    "#sample from the posterior and find log probs\n",
    "print(\"calculating log prob of 5000 thetas from posterior\")\n",
    "samples = x_t_test\n",
    "log_probs = []\n",
    "for i in tqdm_notebook(range(len(samples))):\n",
    "    log_probs.append(posterior.log_prob(samples[i]))"
   ]
  },
  {
   "cell_type": "code",
   "execution_count": 9,
   "metadata": {},
   "outputs": [
    {
     "name": "stdout",
     "output_type": "stream",
     "text": [
      "calculating percentile\n",
      "Percentile is  1.0\n"
     ]
    }
   ],
   "source": [
    "# calculate percentile\n",
    "print(\"calculating percentile\")\n",
    "num = int(0)\n",
    "for prob in log_probs:\n",
    "    if obs < prob:\n",
    "        num += 1\n",
    "\n",
    "percentile = num/5000\n",
    "\n",
    "print(\"Percentile is \", percentile)"
   ]
  },
  {
   "cell_type": "code",
   "execution_count": null,
   "metadata": {},
   "outputs": [],
   "source": []
  }
 ],
 "metadata": {
  "kernelspec": {
   "display_name": "wildcats",
   "language": "python",
   "name": "python3"
  },
  "language_info": {
   "codemirror_mode": {
    "name": "ipython",
    "version": 3
   },
   "file_extension": ".py",
   "mimetype": "text/x-python",
   "name": "python",
   "nbconvert_exporter": "python",
   "pygments_lexer": "ipython3",
   "version": "3.12.2"
  }
 },
 "nbformat": 4,
 "nbformat_minor": 2
}
